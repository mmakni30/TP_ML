{
 "cells": [
  {
   "cell_type": "markdown",
   "metadata": {},
   "source": [
    "# TP1 : Linear regression"
   ]
  },
  {
   "cell_type": "markdown",
   "metadata": {},
   "source": [
    "The purpose of this work is to implement least square linear regression to medical data. The problem is based on an example described in the book by Hastie & Tibshirani (2009) pp. 3-4 & 49-63. Data come from a study published by Stamey et al. (1989). This study aims at the prediction of the level of prostate specific antigen, denoted by `lpsa` below, from the\n",
    "results of clinical exams. These exams are carried out before a possible\n",
    "prostatectomy.\n",
    "\n",
    "The measurements are log cancer volume `lcavol`, log prostate \n",
    "weight `lweight`, age of the patient `age`, log of benign prostatic \n",
    "hyperplasia amount `lbph`, seminal vesicle invasion `svi`, log of capsular \n",
    "penetration `lcp`, Gleason score `gleason`, and percent of Gleason scores 4 or \n",
    "5 `pgg45`. The variables `svi` and `gleason` are categorical, others are\n",
    "quantitative. There are `p=8` entries.\n",
    "The work is decomposed in the following tasks:\n",
    "\n",
    "* read and format the data : extraction of the training and test sets,\n",
    "* apply least square regression method to predict `lpsa` from the entries,\n",
    "* study the estimated error on the test set (validation),\n",
    "* identify the most significant entries by using a rejection test,\n",
    "* apply regularized least square regression method (ridge regression),\n",
    "* search for an optimal regularization parameter thanks to\n",
    "cross-validation."
   ]
  },
  {
   "cell_type": "code",
   "execution_count": 221,
   "metadata": {},
   "outputs": [],
   "source": [
    "import csv\n",
    "# import os\n",
    "from pylab import *\n",
    "import numpy as np\n",
    "from numpy import linalg as la\n",
    "\n",
    "import pandas as pd\n",
    "import seaborn as sns"
   ]
  },
  {
   "cell_type": "markdown",
   "metadata": {},
   "source": [
    "## Read & Normalize data\n",
    "Data are stored in ASCII format: \n",
    "\n",
    "* the first column enumerates the data from 1 à 97 (97 male subjects). \n",
    "* columns 2 to 9 contain the entries themselves. \n",
    "* column 10 contains target values. \n",
    "* column 11 contains label 1 for the training set, \n",
    "and 2 for the test set."
   ]
  },
  {
   "cell_type": "code",
   "execution_count": 222,
   "metadata": {},
   "outputs": [],
   "source": [
    "#%% To read data from spaced separated float numbers\n",
    "# x, y = np.loadtxt(c, delimiter=',', usecols=(0, 2), unpack=True)\n",
    "\n",
    "data_init = np.loadtxt('prostate_data_sansheader.txt')\n",
    "\n",
    "data = data_init[:,1:]   # we get rid of the indices (1 to 97)\n",
    "\n",
    "#%% Extraction of training/test sets\n",
    "Itrain = np.nonzero(data[:,-1]==1)\n",
    "data_train=data[Itrain]   # original data\n",
    "\n",
    "Itest = np.nonzero(data[:,-1]==0)\n",
    "data_test = data[Itest]   # original data"
   ]
  },
  {
   "cell_type": "markdown",
   "metadata": {},
   "source": [
    "**Normalization of the data** *with respect to the mean and standard deviation of the training set*."
   ]
  },
  {
   "cell_type": "code",
   "execution_count": 223,
   "metadata": {},
   "outputs": [
    {
     "name": "stdout",
     "output_type": "stream",
     "text": [
      "[ 1.23328245  0.47303067  7.44601122  1.45269103  0.41684299  1.39024269\n",
      "  0.70355366 29.08227243]\n"
     ]
    }
   ],
   "source": [
    "M_train = data_train\n",
    "M_test = data_test \n",
    "moy = np.zeros((8,))\n",
    "sigma = np.zeros((8,))\n",
    "\n",
    "# With a FOR loop :\n",
    "for k in range(8): # 8 columns of entries\n",
    "    moy[k]=np.mean(data_train[:,k])\n",
    "    sigma[k] = np.std(data_train[:,k], ddof=0)\n",
    "    M_train[:,k] = (data_train[:,k]-moy[k])/sigma[k] # normalized: centered, variance 1\n",
    "    M_test[:,k] = (data_test[:,k]-moy[k])/sigma[k]   # same normalization for test set\n",
    "\n",
    "print(sigma)"
   ]
  },
  {
   "cell_type": "code",
   "execution_count": 224,
   "metadata": {},
   "outputs": [],
   "source": [
    "# Alternative WITHOUT FOR\n",
    "normalize = lambda vec: (vec-np.mean(vec))/np.std(vec)    # inline function \n",
    "M_train = np.array( [ normalize(vec) for vec in data_train[:,0:8].T ] ).T  # iterate on vec direct / ARRAY not LIST\n",
    "moy = np.array( [ np.mean(vec) for vec in data_train[:,0:8].T ] )\n",
    "sigma = np.array( [ np.std(vec, ddof=0) for vec in data_train[:,0:8].T ] )\n",
    "\n",
    "M_test = np.array([ (data_test[:,k]-moy[k])/sigma[k] for k in range(M_train.shape[1]) ] ).T"
   ]
  },
  {
   "cell_type": "markdown",
   "metadata": {},
   "source": [
    "<span style=\"color:MidnightBlue\">\n",
    "Other scaling methods could also be used, depending on our data and the model that is going to be used:\n",
    "\n",
    "Here, we implemented a standard scaling, but we could also normalize (x = (x -x_min)/(x_max - x_min)). However the latter doesn't keep the same data distribution, and may fail if we have outliers (even extreme outliers) in a column, and put all values in a smaller range than $[0, 1]$.\n",
    "</span>"
   ]
  },
  {
   "cell_type": "code",
   "execution_count": 225,
   "metadata": {},
   "outputs": [
    {
     "data": {
      "image/png": "[encoded data removed]",
      "text/plain": [
       "<Figure size 720x576 with 1 Axes>"
      ]
     },
     "metadata": {
      "needs_background": "light"
     },
     "output_type": "display_data"
    }
   ],
   "source": [
    "plt.figure(figsize=(10, 8)) \n",
    "plt.boxplot(data_train[:, 1:-1], labels=[\"lcavol\", \"lweight\", \"age\", \"lbph\", \"svi\", \"lcp\", \"gleason\", \"pgg45\"])\n",
    "plt.title(\"Box plot of the original data\")\n",
    "plt.show()"
   ]
  },
  {
   "cell_type": "code",
   "execution_count": 226,
   "metadata": {},
   "outputs": [
    {
     "data": {
      "image/png": "[encoded data removed]",
      "text/plain": [
       "<Figure size 720x576 with 1 Axes>"
      ]
     },
     "metadata": {
      "needs_background": "light"
     },
     "output_type": "display_data"
    }
   ],
   "source": [
    "plt.figure(figsize=(10, 8)) \n",
    "plt.boxplot(M_train, labels=[\"lcavol\", \"lweight\", \"age\", \"lbph\", \"svi\", \"lcp\", \"gleason\", \"pgg45\"])\n",
    "plt.title(\"Box plot of normalized data\")\n",
    "plt.show()"
   ]
  },
  {
   "cell_type": "markdown",
   "metadata": {},
   "source": [
    "<span style=\"color:MidnightBlue\">\n",
    "We noticed that the normalization solved some outlier problems, for lcavol and lcp features. The outliers at lweight, age and svi are still present. The rest of the feature don't show the the presence of any outlier.\n",
    "</span>"
   ]
  },
  {
   "cell_type": "markdown",
   "metadata": {},
   "source": [
    "<span style=\"color:MidnightBlue\">\n",
    "We can also note the distribution of certain features. For instance, lcp, pgg45 features are not symetrical, values are well scattered lower the median for lcp, than above it. svi and gleason are categorical, so it's correct to plot the histogram than the boxplot\n",
    "</span>"
   ]
  },
  {
   "cell_type": "code",
   "execution_count": 227,
   "metadata": {},
   "outputs": [
    {
     "data": {
      "text/plain": [
       "Text(0.5, 1.0, 'Gleason distribution)')"
      ]
     },
     "execution_count": 227,
     "metadata": {},
     "output_type": "execute_result"
    },
    {
     "data": {
      "image/png": "[encoded data removed]",
      "text/plain": [
       "<Figure size 864x360 with 2 Axes>"
      ]
     },
     "metadata": {
      "needs_background": "light"
     },
     "output_type": "display_data"
    }
   ],
   "source": [
    "fig, (ax1, ax2) = plt.subplots(1, 2)\n",
    "fig.set_figwidth(12)\n",
    "fig.set_figheight(5)\n",
    "\n",
    "ax1.hist(data_train[:,4])\n",
    "ax1.set_title('SVI distribution')\n",
    "ax2.hist(data_train[:,6])\n",
    "ax2.set_title('Gleason distribution)')"
   ]
  },
  {
   "cell_type": "markdown",
   "metadata": {},
   "source": [
    "<span style=\"color:MidnightBlue\">\n",
    "Both features are highly imbalanced, which explains the \"outliers\" we have in the boxplot.\n",
    "</span>"
   ]
  },
  {
   "cell_type": "markdown",
   "metadata": {},
   "source": [
    "# Part 1 : simple least square regression"
   ]
  },
  {
   "cell_type": "markdown",
   "metadata": {},
   "source": [
    "## Preliminary questions\n",
    " \n",
    " * Compute the autocovariance matrix from the training set.\n",
    " * Observe carefully & Comment. What kind of information can you get ? "
   ]
  },
  {
   "cell_type": "code",
   "execution_count": 228,
   "metadata": {},
   "outputs": [
    {
     "data": {
      "text/plain": [
       "Text(0.5, 1.0, 'covariance heatmap')"
      ]
     },
     "execution_count": 228,
     "metadata": {},
     "output_type": "execute_result"
    },
    {
     "data": {
      "image/png": "[encoded data removed]",
      "text/plain": [
       "<Figure size 576x432 with 2 Axes>"
      ]
     },
     "metadata": {
      "needs_background": "light"
     },
     "output_type": "display_data"
    }
   ],
   "source": [
    "# Preliminary questions\n",
    "\n",
    "# Calculate the covariance matrix without the target\n",
    "\n",
    "y_train = data_train[:, 8]\n",
    "y_test = data_test[:, 8]\n",
    "feature_names = [\"lcavol\", \"lweight\", \"age\", \"lbph\", \"svi\", \"lcp\", \"gleason\", \"pgg45\"] # Features' names\n",
    "\n",
    "cov_matrix = np.cov(M_train.T) # Covariance matrix\n",
    "\n",
    "plt.figure(figsize=(8, 6))\n",
    "ax = sns.heatmap(cov_matrix, xticklabels=feature_names, yticklabels=feature_names)\n",
    "plt.title(\"covariance heatmap\") # Add title to the plot"
   ]
  },
  {
   "cell_type": "markdown",
   "metadata": {},
   "source": [
    "### Comments:\n",
    "\n",
    "* \"lbph\" is independant of \"lcavol\", \"svi\", \"lcp\", \"gleason\", \"pgg45\".\n",
    "* \"pgg45\" is usually related to older age, which is not shown in the matrix. However, the matrix illustrates the relationship between this feature and higher \"gleason\" scores. These two features could bring some redundancy to the problem and we may have to drop one of them. \n",
    "* the features \"age\" and \"lweights\" are not correlated with the rest.\n",
    "* we can also note the correlation between \"svi\", \"lcp\" and \"lcavol\".\n"
   ]
  },
  {
   "cell_type": "code",
   "execution_count": 229,
   "metadata": {},
   "outputs": [
    {
     "data": {
      "text/plain": [
       "Text(0.5, 1.0, 'covariance heatmap with the target')"
      ]
     },
     "execution_count": 229,
     "metadata": {},
     "output_type": "execute_result"
    },
    {
     "data": {
      "image/png": "[encoded data removed]",
      "text/plain": [
       "<Figure size 576x432 with 2 Axes>"
      ]
     },
     "metadata": {
      "needs_background": "light"
     },
     "output_type": "display_data"
    }
   ],
   "source": [
    "# Calculate the covariance matrix with the target\n",
    "\n",
    "feature_names = [\"lcavol\", \"lweight\", \"age\", \"lbph\", \"svi\", \"lcp\", \"gleason\", \"pgg45\", \"target\"] # Features' names\n",
    "cov_matrix = np.cov(M_train.T, y_train.T) # Covariance Matrix\n",
    "plt.figure(figsize=(8, 6))\n",
    "ax = sns.heatmap(cov_matrix, xticklabels=feature_names, yticklabels=feature_names)\n",
    "plt.title(\"covariance heatmap with the target\")"
   ]
  },
  {
   "cell_type": "markdown",
   "metadata": {},
   "source": [
    "### Comments:\n",
    "\n",
    "* The target here is not normalized, which is why we don't have the same value in the diagonal\n",
    "* \"Age\", \"lbph\" and \"gleason\" are not correlated with the target (< 0.3).\n",
    "* \"pgg45\" and \"lcp\" are correlated with the target (between 0.3 and 0.6).\n",
    "* \"lcavol\", \"svi\" and \"lweight\" are very correlated with the target (> 0.6).\n",
    "* The goal is to have features that are not correlated with eachother (independant), but correlated with the target and we can expect lcavol, lweight and svi to be of high importance in the problem.\n"
   ]
  },
  {
   "cell_type": "markdown",
   "metadata": {},
   "source": [
    "Quelques rappels à propos de la notion de covariance : https://fr.wikipedia.org/wiki/Covariance"
   ]
  },
  {
   "cell_type": "markdown",
   "metadata": {},
   "source": [
    "## Exercise 1 : least square regression \n",
    " * Build the matrix of features `X_train` for the training set, the first column is made of ones.\n",
    " * Estimate the regression vector `beta_hat` (estimates= `X*beta_hat`)\n",
    " _Indication: you may either use the function `inv` or another more efficient way to compute $A^{-1}B$ (think of `A\\B`)._ \n",
    " * What is the value of the first coefficient `beta_hat[0]` ? What does it correspond to ?\n",
    " * Estimate the prediction error (quadratic error) from the test set.\n",
    "\n",
    "\n",
    "*Indication: be careful of using `X_test` defined above, normalized w.r.t. the training data set. You can estimate this error by using:*"
   ]
  },
  {
   "cell_type": "code",
   "execution_count": 230,
   "metadata": {},
   "outputs": [],
   "source": [
    "t_test = data_test[:,8]   # target column\n",
    "N_test = data_test.shape[0]\n",
    "X_test = np.concatenate((np.ones((N_test,1)), M_test[:,0:8]), axis=1) \n",
    "# don't forget the 1st column of ones and normalization !"
   ]
  },
  {
   "cell_type": "code",
   "execution_count": 231,
   "metadata": {},
   "outputs": [
    {
     "name": "stdout",
     "output_type": "stream",
     "text": [
      "Regression vector, beta_hat: \n",
      "  [ 2.45234509  0.71104059  0.29045029 -0.14148182  0.21041951  0.30730025\n",
      " -0.28684075 -0.02075686  0.27526843]\n"
     ]
    }
   ],
   "source": [
    "# Exercise 1\n",
    "N_train = data_train.shape[0]\n",
    "X_train = np.concatenate((np.ones((N_train,1)), M_train[:,0:8]), axis=1)\n",
    "\n",
    "pseudo_inverse = np.dot(np.linalg.inv(np.dot(X_train.T ,X_train)), X_train.T) \n",
    "\n",
    "beta_hat = np.dot(pseudo_inverse, y_train)\n",
    "\n",
    "print(\"Regression vector, beta_hat: \\n \", beta_hat) #beta_hat[0] = bias"
   ]
  },
  {
   "cell_type": "markdown",
   "metadata": {},
   "source": [
    "The first value in beta_hat corresponds to the bias i.e the mean of the target."
   ]
  },
  {
   "cell_type": "code",
   "execution_count": 232,
   "metadata": {},
   "outputs": [
    {
     "name": "stdout",
     "output_type": "stream",
     "text": [
      "Train error:  0.4392\n",
      "Test error:  0.5213\n"
     ]
    }
   ],
   "source": [
    "def estimate_target(X, beta):\n",
    "    \n",
    "    \"\"\"Calculates the target\n",
    "    \n",
    "    Inputs:\n",
    "        - X: the training set\n",
    "        - beta: model parameters\n",
    "    Output:\n",
    "        - The predicted target \"\"\"\n",
    "    \n",
    "    return np.dot(X, beta)\n",
    "\n",
    "def error_quadratic(X, y, beta):\n",
    "    \"\"\"Defines the mean quadratic error given a set of parameters\n",
    "    \n",
    "    Inputs:\n",
    "        - X: the training set\n",
    "        - y: the real target data\n",
    "        - beta: model parameters\n",
    "    Output:\n",
    "        - the quatratic error \"\"\"\n",
    "    \n",
    "    N = X.shape[0]\n",
    "    y_pred = estimate_target(X, beta)\n",
    "    return (1/N)*np.dot((y - y_pred).T,(y - y_pred))\n",
    "\n",
    "print(\"Train error: \", round(error_quadratic(X_train, y_train, beta_hat), 4))\n",
    "print(\"Test error: \", round(error_quadratic(X_test, y_test, beta_hat), 4))"
   ]
  },
  {
   "cell_type": "markdown",
   "metadata": {},
   "source": [
    "<span style=\"color:MidnightBlue\"> The training error is smaller than on the test set, as expected (because we have more observations than features). In a highly-dimensional problem (i.e p>>1), it will be complicated to apply this algorithm, especially when calculating the inverse matrix of $X^TX$. In this case, we could reduce the dimensions by applying a PCA for example, or feature selection methods.</span>"
   ]
  },
  {
   "cell_type": "markdown",
   "metadata": {},
   "source": [
    "## Rejection test, computation of Z-scores\n",
    "Now we turn to the selection of the most significant entries so that our predictor be more robust. The essential idea is that our estimates will be more robust if only the most significant entries are taken into account. As a consequence, note that we will *reduce the dimension* of the problem from |p=8| to some smaller dimension. The present approach uses a statistical test to decide whether the regression coefficient corresponding to some entry is significantly non-zero. Then we can decide either to put non significant coefficients to zero, or to select the significant entries only and estimate the new reduced regression vector.\n",
    "\n",
    "Let's assume that target values are noisy due to some white Gaussian\n",
    "noise with variance $\\sigma^2$ (see Hastie & Tibshirani p. 47). One can show that the estimated regression vector |beta_hat| is also Gaussian with variance\n",
    "\n",
    "$$ var (\\widehat{\\beta}) = (X^TX)^{-1}\\sigma^2.$$  \n",
    "\n",
    "One can also show that the estimator of the variance (from the training set)\n",
    "\n",
    "$$\\widehat{\\sigma^2}=\\frac{1}{(N-p-1)}\\sum (t_n-\\widehat{t}_n)^2$$\n",
    "\n",
    "obeys a Chi-2 distribution. As a consequence a Chi-square statistical test can be used to determine whether some coefficient $\\beta_j$ is\n",
    "significantly non-zero. To this aim, one defines the variables $z_j$\n",
    "named Z-scores which in turn obey a Fisher law, also called\n",
    "$t$-distribution, which are often used in statistics:\n",
    "\n",
    "$$ z_j = \\frac{\\beta_j}{\\widehat{\\sigma}\\sqrt{v_j}} $$\n",
    "\n",
    "where $v_j$ is the $j$-th diagonal element of the matrix $(X^TX)^{-1}$.\n",
    "For sake of simplicity, we will consider that the null hypothesis of\n",
    "$\\beta_j$ is rejected with probability 95% if the Z-score is greater than 2."
   ]
  },
  {
   "cell_type": "markdown",
   "metadata": {},
   "source": [
    "## Exercise 2\n",
    "1. Compute the Z-scores and select the most significant entries.\n",
    "2. Estimate the prediction error over the test set if only these significant \n",
    "entries are taken into account for regression by putting other regression \n",
    "coefficients to zero.\n",
    "3. Estimate the new regression vector when only the significant features\n",
    "are taken into account.\n",
    "4. Compare to previous results (Exercise 1).\n",
    "\n",
    "*Indication 1 : to sort a vector `Z` in descending order*\n",
    "`val = np.sort(np.abs(Z))[-1:0:-1]`\n",
    "\n",
    "\n",
    "*Indication 2 :* to extract the diagonal of a matrix,\n",
    "`vXX = np.diag(inv(X.T.dot(X),k=0)`"
   ]
  },
  {
   "cell_type": "code",
   "execution_count": 233,
   "metadata": {},
   "outputs": [
    {
     "name": "stdout",
     "output_type": "stream",
     "text": [
      "z_score (without bias): \n",
      " [5.366, 2.751, -1.396, 2.056, 2.469, -1.867, -0.147, 1.738]\n",
      "\n",
      "The index of the selected features are [0 1 3 4] which corresponds to these features\n",
      "   * lcavol\n",
      "   * lweight\n",
      "   * lbph\n",
      "   * svi\n"
     ]
    }
   ],
   "source": [
    "# Exercise 2\n",
    "N = y_train.shape[0]\n",
    "P = X_train.shape[1] - 1\n",
    "vXX = np.diag(inv(X_train.T.dot(X_train)), k=0) # using train to prevent any data leakage\n",
    "\n",
    "# Determine the estimator of the variance\n",
    "t_predicted = np.dot(X_train, beta_hat)\n",
    "var_hat = np.sqrt((1/(N-P-1)) * np.dot((y_train - t_predicted).T,(y_train - t_predicted)))\n",
    "\n",
    "# Calculate the z_scores list\n",
    "z_scores = list(map(lambda x,y: round(x/(var_hat*np.sqrt(y)), 3), beta_hat[1:], vXX[1:]))\n",
    "print(\"z_score (without bias): \\n\", z_scores)\n",
    "\n",
    "# Get indexes z_score is greater than 2 \n",
    "selected_index = np.argwhere(np.abs(z_scores)>2)\n",
    "selected_index = np.squeeze(selected_index)\n",
    "print(f\"\\nThe index of the selected features are {selected_index} which corresponds to these features\")\n",
    "for i in selected_index:\n",
    "    print(f\"   * {feature_names[i]}\")"
   ]
  },
  {
   "cell_type": "markdown",
   "metadata": {},
   "source": [
    "<span style=\"color:MidnightBlue\">\n",
    "We will select these columns and add the bias column to construct our new_X_test\n",
    "</span>"
   ]
  },
  {
   "cell_type": "code",
   "execution_count": 234,
   "metadata": {},
   "outputs": [
    {
     "name": "stdout",
     "output_type": "stream",
     "text": [
      "new error with only selected entries:  0.4522\n",
      "old test error: 0.5213\n"
     ]
    }
   ],
   "source": [
    "new_beta_hat = [beta_hat[0]]+[x*int(i in selected_index) for i, x in enumerate(beta_hat[1:])]\n",
    "print(\"new error with only selected entries: \", round(error_quadratic(X_test, y_test, new_beta_hat), 4))\n",
    "print(\"old test error:\", round(error_quadratic(X_test, y_test, beta_hat), 4))"
   ]
  },
  {
   "cell_type": "markdown",
   "metadata": {},
   "source": [
    "<span style=\"color:MidnightBlue\">\n",
    "This feature selection indeed improved the results, which suggested that the information in \"age\", \"lcp\", \"gleason\", \"pgg45\" wasn't helpful for the prediction model. Going back to the covariance matrix, we can see that \"lcavol\", \"lweight\" and \"svi\" had the heighest correlation with the target, and this confirms our findings.\n",
    "It is however interesting to see that \"lcp\" and \"pgg45\" weren't selected, their Z-scores were close to 2 (1.9 and 1.77), and \"gleason\" as well.\n",
    "</span>"
   ]
  },
  {
   "cell_type": "markdown",
   "metadata": {},
   "source": [
    "<span style=\"color:MidnightBlue\">\n",
    "This test only looks at the features that were already important, and remove the others, it may not always work as the features may bring some information even if it is not significant and helps the model generalize better. That was the case when we added the feature \"age\", given how the studies show $[1, 2]$ the link between this feature and the probability to have a prostate:\n",
    "</span>"
   ]
  },
  {
   "cell_type": "code",
   "execution_count": 235,
   "metadata": {},
   "outputs": [
    {
     "name": "stdout",
     "output_type": "stream",
     "text": [
      "new error with only selected entries:  0.4064\n",
      "old test error: 0.5213\n"
     ]
    }
   ],
   "source": [
    "new_beta_hat_exp = [beta_hat[0]]+[x*int(i in [0, 1, 2, 3, 4]) for i, x in enumerate(beta_hat[1:])]\n",
    "print(\"new error with only selected entries: \", round(error_quadratic(X_test, y_test, new_beta_hat_exp), 4))\n",
    "print(\"old test error:\", round(error_quadratic(X_test, y_test, beta_hat), 4))"
   ]
  },
  {
   "cell_type": "markdown",
   "metadata": {},
   "source": [
    "[1] https://www.cancer-environnement.fr/fiches/cancers/cancer-de-la-prostate/#:~:text=L'%C3%A2ge%20est%20le%20principal,%C3%A0%20partir%20de%2080%20ans\n",
    "\n",
    "[2] https://www.cancerresearchuk.org/health-professional/cancer-statistics/statistics-by-cancer-type/prostate-cancer/incidence"
   ]
  },
  {
   "cell_type": "markdown",
   "metadata": {},
   "source": [
    "# Part 2: Regularized least squares\n",
    "This part deals with regularized least square regression. We denote\n",
    "by `beta_hat_reg` the resulting coefficients. This approach is an alternative to the selection based on statistical tests above. The idea is now to penalize large values of regression coefficients, *except for the bias*.\n",
    "\n",
    "We use the result:\n",
    "\n",
    "$$\\hat{\\beta} = (\\lambda I_p + X_c^T X_c)^{-1} X_c^T t_c$$\n",
    "\n",
    "where $X_c$ contains the normalized entries of the training data set with \n",
    "no column of ones (the bias should no be penalized and is processed). \n",
    "The targets `t_c` are therefore also centered, `t_c=t-mean(t)`.\n",
    " \n",
    "First, we estimate the bias $t_0$ to center the targets which yields the coefficient $\\beta_0$, that is `beta_hat_reg[0]` in Python.\n",
    "\n",
    "*Remark : the bias is estimated as the empirical average of targets.\n",
    "For tests, entries should be normalized with respect to the means and\n",
    "variances of the training data set (see exercise 3.5 p. 95 in Hastie & Tibshirani). Then work on the vector of entries with no column of ones.*"
   ]
  },
  {
   "cell_type": "markdown",
   "metadata": {},
   "source": [
    "## Exercise 3\n",
    "1. Use _ridge regression_ for penalty `lambda = 25` to estimate the regression vector. \n",
    "2. Estimate the prediction error from the test set.\n",
    "3. Compare the results (coefficients $\\beta$, error...) to previous ones.\n",
    "4. You may also compare these results to the result of best subset selection below:\n",
    "\n",
    "`beta_best = [2.477 0.74 0.316 0 0 0 0 0 0]`.\n",
    "\n",
    "*Indication : a simple way to obtain predictions for the test data set is the code below:*"
   ]
  },
  {
   "cell_type": "code",
   "execution_count": 236,
   "metadata": {},
   "outputs": [],
   "source": [
    "t = data_train[:,8]   # column of targets\n",
    "t0 = np.mean(t)\n",
    "\n",
    "N_test = data_test.shape[0]\n",
    "X_test = np.hstack((np.ones((N_test,1)), M_test[:,0:8]))  \n",
    "# Here the 1st column of X_test is a column of ones.\n",
    "# t_hat_reg = X_test.dot(beta_hat_reg)"
   ]
  },
  {
   "cell_type": "code",
   "execution_count": 237,
   "metadata": {
    "scrolled": true
   },
   "outputs": [
    {
     "name": "stdout",
     "output_type": "stream",
     "text": [
      "beta before regularisation:  [ 2.45234509  0.71104059  0.29045029 -0.14148182  0.21041951  0.30730025\n",
      " -0.28684075 -0.02075686  0.27526843]\n",
      "beta after regularisation:  [ 2.45234509  0.4221092   0.24879171 -0.04226499  0.16575364  0.23091485\n",
      "  0.01066329  0.04306017  0.13151316]\n"
     ]
    }
   ],
   "source": [
    "# Exercise 3\n",
    "lambda_v = 25\n",
    "X_train_reg = M_train[:,0:8]\n",
    "pseudo_inverse = np.dot(np.linalg.inv(lambda_v*np.eye(8) +np.dot(X_train_reg.T ,X_train_reg)), X_train_reg.T)\n",
    "t0 = np.mean(y_train)\n",
    "t_c = y_train - t0\n",
    "beta_hat_reg = np.dot(pseudo_inverse, t_c)\n",
    "\n",
    "beta_hat_reg = np.insert(beta_hat_reg, 0, t0) # Add beta[0]\n",
    "print(\"beta before regularisation: \", beta_hat)\n",
    "print(\"beta after regularisation: \", beta_hat_reg)"
   ]
  },
  {
   "cell_type": "markdown",
   "metadata": {},
   "source": [
    "<span style=\"color:MidnightBlue\">\n",
    "The regularisation lessened the impact of the features, which may increase the training error but would help the generalization aspect (i.e better test error), this is illustrated in the cell below where we compare the previous training error with the new one:\n",
    "</span>"
   ]
  },
  {
   "cell_type": "code",
   "execution_count": 238,
   "metadata": {},
   "outputs": [
    {
     "name": "stdout",
     "output_type": "stream",
     "text": [
      "\n",
      "Previous train error:  0.4392\n",
      "\n",
      "New train error:  0.5043\n"
     ]
    }
   ],
   "source": [
    "print(\"\\nPrevious train error: \", round(error_quadratic(X_train, y_train, beta_hat), 4))\n",
    "print(\"\\nNew train error: \", round(error_quadratic(X_train, y_train, beta_hat_reg), 4))"
   ]
  },
  {
   "cell_type": "code",
   "execution_count": 239,
   "metadata": {},
   "outputs": [
    {
     "name": "stdout",
     "output_type": "stream",
     "text": [
      "\n",
      "The previous test error = 0.5213\n",
      "\n",
      "The new test error using beta_hat reg :  0.4939\n",
      "\n",
      "The test error with the best beta hat:  0.4937\n"
     ]
    }
   ],
   "source": [
    "print(\"\\nThe previous test error = 0.5213\")\n",
    "print(\"\\nThe new test error using beta_hat reg : \", round(error_quadratic(X_test, y_test, beta_hat_reg),4))\n",
    "beta_best = [2.477, 0.74, 0.316, 0, 0, 0, 0, 0, 0]\n",
    "print(\"\\nThe test error with the best beta hat: \", round(error_quadratic(X_test, y_test, beta_best), 4))"
   ]
  },
  {
   "cell_type": "markdown",
   "metadata": {},
   "source": [
    "<span style=\"color:MidnightBlue\">\n",
    "\n",
    "The performance on the test set did improve, but was further improved when we silenced few features (using beta best).\n",
    "</span>"
   ]
  },
  {
   "cell_type": "markdown",
   "metadata": {},
   "source": [
    "<span style=\"color:MidnightBlue\">\n",
    "This indicates that some of the features weren't entirely beneficial to the decision process. However, going back to the rejection test, our error was even lower, and that could stem from the fact that in beta_best we may have silenced some important features, (like lbph and svi and age).\n",
    "</span>"
   ]
  },
  {
   "cell_type": "markdown",
   "metadata": {},
   "source": [
    "# Part 3: Cross-Validation \n",
    "\n",
    "## How to choose lambda from the training data set only ? \n",
    "\n",
    "The idea is to decompose the training set in 2 subsets: one subset for\n",
    "linear regression (say 9/10 of the data), the other to estimate the prediction error (say 1/10 of the data).\n",
    "\n",
    "We can repeat this operation 10 times over the 10 possible couples of\n",
    "subsets to estimate the average prediction error. We will choose the\n",
    "value of `lambda` which minimizes this error. The algorithm goes as\n",
    "follows:\n",
    "\n",
    "For the 10 cross-validation cases\n",
    "    \n",
    "    Extraction of test & training subsets `testset` & `trainset`\n",
    "    \n",
    "    For lambda in 0:40\n",
    "        Estimate `beta_hat` from normalized `trainset` (mean=0, var=1)\n",
    "        Estimate the error from  `testset`\n",
    "    EndFor lambda\n",
    "\n",
    "EndFor 10 cases\n",
    "\n",
    "Compute the average error for each lambda\n",
    "\n",
    "Choose `lambda` which minimizes the error \n"
   ]
  },
  {
   "cell_type": "markdown",
   "metadata": {},
   "source": [
    "## Exercise 4\n",
    "* Use 6-fold cross-validation in the present study to optimize the choice of `lambda`. \n",
    "Try values of `lambda` ranging from 0 to 40 for instance (0:40).\n",
    "* Plot the estimated error as a function of `lambda`.\n",
    "* Propose a well chosen value of `lambda` and give the estimated corresponding\n",
    "error on the test set.\n",
    "* Comment on your results.\n",
    "\n",
    "*Indication 1 : think of shuffling the dataset first.*\n",
    "\n",
    "*Indication 2 : you can build 6 training and test subsets by using the code below*"
   ]
  },
  {
   "cell_type": "code",
   "execution_count": 240,
   "metadata": {},
   "outputs": [],
   "source": [
    "lmax = 40 - 1\n",
    "lambda_pos = arange(0,lmax+1) \n",
    "\n",
    "N_test = 10\n",
    "m = np.zeros(8)\n",
    "s = np.zeros(8)\n",
    "X_traink = np.zeros((X_train.shape[0]-N_test,8))\n",
    "X_testk = np.zeros((N_test,8))\n",
    "erreur = np.zeros((6,lmax+1))\n",
    "erreur_rel = np.zeros((6,lmax+1))"
   ]
  },
  {
   "cell_type": "code",
   "execution_count": 246,
   "metadata": {},
   "outputs": [],
   "source": [
    "# Exercise 4 \n",
    "import random\n",
    "random.seed(10)\n",
    "for p in range(6):   # loop on test subsets\n",
    "    \n",
    "    #we shuffle the data before splitting into batches\n",
    "    shuffled_data = np.take(data_train,np.random.rand(data_train.shape[0]).argsort(),axis=0)\n",
    "    \n",
    "    # Extraction of trainset\n",
    "    trainset = shuffled_data[hstack((arange(p*N_test),arange((p+1)*N_test,data_train.shape[0]))),0:9] \n",
    "    \n",
    "    # Extraction of testset\n",
    "    testset  = shuffled_data[arange(p*N_test,(p+1)*N_test),0:9] \n",
    "    \n",
    "    #normalize the data\n",
    "    M_train_cv = trainset\n",
    "    M_test_cv = testset \n",
    "    moy = np.zeros((8,))\n",
    "    sigma = np.zeros((8,))\n",
    "    for k in range(8): \n",
    "        moy[k]=np.mean(trainset[:,k])\n",
    "        sigma[k] = np.std(trainset[:,k], ddof=0)\n",
    "        M_train_cv[:,k] = (trainset[:,k]-moy[k])/sigma[k] \n",
    "        M_test_cv[:,k] = (testset[:,k]-moy[k])/sigma[k]   # same normalization for test set  \n",
    "        \n",
    "    # y_train and y_test\n",
    "    y_train = trainset[:, 8]\n",
    "    y_test_cv = testset[:, 8]\n",
    "        \n",
    "    # iterate over different lambda\n",
    "    for Lambda in range(0,40):\n",
    "        # Add one column\n",
    "        N_train = M_train_cv.shape[0]\n",
    "        X_train = np.concatenate((np.ones((N_train,1)), M_train_cv[:,0:8]), axis=1)\n",
    "        N_test_cv = M_test_cv.shape[0]\n",
    "        X_test_cv = np.concatenate((np.ones((N_test,1)), M_test_cv[:,0:8]), axis=1)\n",
    "        X_train_reg = M_train_cv[:,0:8]\n",
    "\n",
    "        # Estimate beta_hat with/out regualization\n",
    "        pseudo_inverse = np.dot(np.linalg.inv(Lambda*np.eye(8) +np.dot(X_train_reg.T ,X_train_reg)), X_train_reg.T)\n",
    "        t0 = np.mean(y_train)\n",
    "        t_c = y_train - t0\n",
    "        beta_hat_reg = np.dot(pseudo_inverse, t_c)\n",
    "        beta_hat_reg = np.insert(beta_hat_reg, 0, t0)\n",
    "        \n",
    "        # calculate the error\n",
    "        erreur[p, Lambda] = error_quadratic(X_test_cv, y_test_cv, beta_hat_reg)\n",
    "        "
   ]
  },
  {
   "cell_type": "code",
   "execution_count": 247,
   "metadata": {},
   "outputs": [
    {
     "data": {
      "text/plain": [
       "0.027001136320035465"
      ]
     },
     "execution_count": 247,
     "metadata": {},
     "output_type": "execute_result"
    }
   ],
   "source": [
    "# Calculate the mean error\n",
    "mean_error = np.mean(erreur, axis=0)\n",
    "standard_deviation = np.std(mean_error)\n",
    "standard_deviation"
   ]
  },
  {
   "cell_type": "code",
   "execution_count": 248,
   "metadata": {},
   "outputs": [
    {
     "data": {
      "text/plain": [
       "Text(0.5, 1.0, 'Mean error w.r.t Lambda')"
      ]
     },
     "execution_count": 248,
     "metadata": {},
     "output_type": "execute_result"
    },
    {
     "data": {
      "image/png": "[encoded data removed]",
      "text/plain": [
       "<Figure size 432x288 with 1 Axes>"
      ]
     },
     "metadata": {
      "needs_background": "light"
     },
     "output_type": "display_data"
    }
   ],
   "source": [
    "x_axes = np.arange(0, 40)\n",
    "plt.plot(x_axes, mean_error)\n",
    "x_min = list(mean_error[1:]).index(min(mean_error[1:]))\n",
    "plt.scatter(y = min(mean_error[1:]), x=x_min)\n",
    "plt.ylabel(\"mean error\")\n",
    "plt.xlabel(\"Lambda\")\n",
    "plt.title(\"Mean error w.r.t Lambda\")"
   ]
  },
  {
   "cell_type": "markdown",
   "metadata": {},
   "source": [
    "<span style=\"color:MidnightBlue\">\n",
    "We can see that the errors are scattered around a certain value, that changes within each execution. The data set changes because of the shuffling each time, so this suggests that the model is not robust enough as the order of the observations may have an impact on the results. \n",
    "The cross validation allows to have a better and more realistic perspective of the performance and the fact that the error doesn't change a lot (a standard deviation of 0.01) makes sure that the model is not biased.\n",
    "</span>"
   ]
  },
  {
   "cell_type": "markdown",
   "metadata": {},
   "source": [
    "<span style=\"color:MidnightBlue\">\n",
    "Given the outliers and imbalanced categorical features highlighted in the first part, we may counter some problems where the test set contains only the minority category (or the outliers). While we could use a stratified method for the split, we can not solve the outlier problem had it occured. We shuffle our data at each step so as to reduce the probability to have outlier problem (test fold containing a lot of outliers) in all the cross validation process.\n",
    "</span>"
   ]
  },
  {
   "cell_type": "code",
   "execution_count": 249,
   "metadata": {},
   "outputs": [
    {
     "name": "stdout",
     "output_type": "stream",
     "text": [
      "The lambda that has minimum error is 5 with an error = 0.4823 .\n"
     ]
    }
   ],
   "source": [
    "print(f\"The lambda that has minimum error is {list(mean_error[1:]).index(min(mean_error[1:]))} with an error = {round(min(mean_error[1:]), 4)} .\") "
   ]
  },
  {
   "cell_type": "markdown",
   "metadata": {},
   "source": [
    "<span style=\"color:MidnightBlue\">\n",
    "After getting the Lambda value that minimizes the mean error from each cross validation step, we calculate the new beta hat regularized and test the model on the test set (from data_test). The mean quadratic error dropped to 0.4867 thanks to this experiment and it is the best result we have got so far, with all the features.\n",
    "</span>"
   ]
  },
  {
   "cell_type": "code",
   "execution_count": 250,
   "metadata": {},
   "outputs": [
    {
     "name": "stdout",
     "output_type": "stream",
     "text": [
      "error with the best Lambda found: 0.4867\n"
     ]
    }
   ],
   "source": [
    "best_lambda = list(mean_error[1:]).index(min(mean_error[1:]))\n",
    "pseudo_inverse = np.dot(np.linalg.inv(best_lambda*np.eye(8) +np.dot(X_train_reg.T ,X_train_reg)), X_train_reg.T)\n",
    "t0 = np.mean(y_train)\n",
    "t_c = y_train - t0\n",
    "beta_hat_reg = np.dot(pseudo_inverse, t_c)\n",
    "beta_hat_reg = np.insert(beta_hat_reg, 0, t0)\n",
    "print(f\"error with the best Lambda found: {round(error_quadratic(X_test, y_test, beta_hat_reg), 4)}\")"
   ]
  },
  {
   "cell_type": "markdown",
   "metadata": {},
   "source": [
    "<span style=\"color:MidnightBlue\">\n",
    "We started by scaling the data to put it in the right form, this part could have taken more steps for data set with missing values, more categorical features which could be one hot encoded. In this case, the model needed a data scaling so that some features don't get a high importance only because they contained higher values. In other models, like tree models (Decision trees, random forest, Extreme Gradient Boosting) this part could then be ommitted. \n",
    "</span>"
   ]
  },
  {
   "cell_type": "markdown",
   "metadata": {},
   "source": [
    "<span style=\"color:MidnightBlue\">\n",
    "We took a look at the covariance matrix to predict the importance of the features, and those that we can remove if they are highly correlated with other features as they bring no new information. The data distribution plots gave us an overview of how each feature look like.\n",
    "</span>"
   ]
  },
  {
   "cell_type": "markdown",
   "metadata": {},
   "source": [
    "<span style=\"color:MidnightBlue\">\n",
    "In this problem, the parameters to find are stored in the beta vector, we first implement our model with all the features, then we reduced the dimensionality by removing those that weren't significantly non-zero, thus not as relevant to the decision as the others but it seems that even these features brought information even if small. In order to improve our generalization power, we add a constant Lambda that acts like a penalty and with a grid search cross validation with 6 folds and 41 values of Lambda, we were able to fine tune our model and retest it.\n",
    "</span>"
   ]
  },
  {
   "cell_type": "markdown",
   "metadata": {},
   "source": [
    "<span style=\"color:MidnightBlue\">\n",
    "Further work could be implemented in the data exploration to understand more the behavior of the model, as well as the feature selection method. If we try to perturb the data in a certain feature and fit the model on it, if the prediction is not that different from the original one, can we assume that the feature is not important? \n",
    "</span>"
   ]
  }
 ],
 "metadata": {
  "kernelspec": {
   "display_name": "Python 3",
   "language": "python",
   "name": "python3"
  },
  "language_info": {
   "codemirror_mode": {
    "name": "ipython",
    "version": 3
   },
   "file_extension": ".py",
   "mimetype": "text/x-python",
   "name": "python",
   "nbconvert_exporter": "python",
   "pygments_lexer": "ipython3",
   "version": "3.7.4"
  },
  "vscode": {
   "interpreter": {
    "hash": "10382f3fd6f8cacbe2067c9c3b5f4adbcf5acb32408ae0cfde6b82b878899343"
   }
  }
 },
 "nbformat": 4,
 "nbformat_minor": 2
}
