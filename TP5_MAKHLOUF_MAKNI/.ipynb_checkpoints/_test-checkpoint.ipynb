{
 "cells": [
  {
   "cell_type": "markdown",
   "metadata": {},
   "source": [
    "# TP4: Decision trees & random forests\n",
    "The aim of this tutorial is to get familiar with the use of decision trees and their generalizations on simple examples using `scikit-learn` tools."
   ]
  },
  {
   "cell_type": "markdown",
   "metadata": {},
   "source": [
    "## Completing your installation first\n",
    "You will need to install packages `python-graphviz` first. If needed, uncomment the `conda` command below:"
   ]
  },
  {
   "cell_type": "code",
   "execution_count": 1,
   "metadata": {},
   "outputs": [],
   "source": [
    "# If needed, uncomment the line below:\n",
    "\n",
    "# pip install graphviz"
   ]
  },
  {
   "cell_type": "code",
   "execution_count": 2,
   "metadata": {},
   "outputs": [],
   "source": [
    "from pylab import *\n",
    "import seaborn as sns\n",
    "import numpy as np\n",
    "#import matplotlib.pyplot as plt\n",
    "\n",
    "# Load the library with the iris dataset\n",
    "from sklearn.datasets import load_iris, load_wine\n",
    "\n",
    "\n",
    "\n",
    "# Load scikit's decision tree classifier\n",
    "from sklearn import tree\n",
    "\n",
    "# Load scikit's random forest classifier library\n",
    "from sklearn.ensemble import RandomForestClassifier, RandomForestRegressor\n",
    "\n",
    "from sklearn import metrics\n",
    "\n",
    "# To visualize trees\n",
    "import graphviz \n",
    "\n",
    "\n",
    "# Load pandas to manipulate data frames (Excel like)\n",
    "import pandas as pd\n",
    "from sklearn.metrics import confusion_matrix\n",
    "\n",
    "from mlxtend.plotting import plot_decision_regions\n",
    "import matplotlib.pyplot as plt\n",
    "\n",
    "import warnings\n",
    "from sklearn.tree import export_graphviz\n",
    "\n",
    "\n",
    "# Load numpy\n",
    "#import numpy as np\n",
    "\n",
    "# Set random seed\n",
    "np.random.seed(0)"
   ]
  },
  {
   "cell_type": "markdown",
   "metadata": {},
   "source": [
    "The data for this tutorial is famous. Called, **the iris dataset**, it contains four variables measuring various parts of iris flowers of three related species, and then a fourth variable with the species name. The reason it is so famous in machine learning and statistics communities is because the data requires very little preprocessing (i.e. no missing values, all features are floating numbers, etc.)."
   ]
  },
  {
   "cell_type": "code",
   "execution_count": 3,
   "metadata": {},
   "outputs": [],
   "source": [
    "iris = load_iris()"
   ]
  },
  {
   "cell_type": "markdown",
   "metadata": {},
   "source": [
    "## Step 1: explore the data set\n",
    "1. What is the structure of the object `iris` ?\n",
    "\n",
    "2. Plot this dataset in a well chosen set of representations to explore the data."
   ]
  },
  {
   "cell_type": "markdown",
   "metadata": {},
   "source": [
    "## Using `pandas` to manipulate the data\n",
    "Pandas is great to manipulate data in a Microsoft Excel like way."
   ]
  },
  {
   "cell_type": "code",
   "execution_count": 4,
   "metadata": {},
   "outputs": [
    {
     "data": {
      "text/html": [
       "<div>\n",
       "<style scoped>\n",
       "    .dataframe tbody tr th:only-of-type {\n",
       "        vertical-align: middle;\n",
       "    }\n",
       "\n",
       "    .dataframe tbody tr th {\n",
       "        vertical-align: top;\n",
       "    }\n",
       "\n",
       "    .dataframe thead th {\n",
       "        text-align: right;\n",
       "    }\n",
       "</style>\n",
       "<table border=\"1\" class=\"dataframe\">\n",
       "  <thead>\n",
       "    <tr style=\"text-align: right;\">\n",
       "      <th></th>\n",
       "      <th>sepal length (cm)</th>\n",
       "      <th>sepal width (cm)</th>\n",
       "      <th>petal length (cm)</th>\n",
       "      <th>petal width (cm)</th>\n",
       "    </tr>\n",
       "  </thead>\n",
       "  <tbody>\n",
       "    <tr>\n",
       "      <th>0</th>\n",
       "      <td>5.1</td>\n",
       "      <td>3.5</td>\n",
       "      <td>1.4</td>\n",
       "      <td>0.2</td>\n",
       "    </tr>\n",
       "    <tr>\n",
       "      <th>1</th>\n",
       "      <td>4.9</td>\n",
       "      <td>3.0</td>\n",
       "      <td>1.4</td>\n",
       "      <td>0.2</td>\n",
       "    </tr>\n",
       "    <tr>\n",
       "      <th>2</th>\n",
       "      <td>4.7</td>\n",
       "      <td>3.2</td>\n",
       "      <td>1.3</td>\n",
       "      <td>0.2</td>\n",
       "    </tr>\n",
       "    <tr>\n",
       "      <th>3</th>\n",
       "      <td>4.6</td>\n",
       "      <td>3.1</td>\n",
       "      <td>1.5</td>\n",
       "      <td>0.2</td>\n",
       "    </tr>\n",
       "    <tr>\n",
       "      <th>4</th>\n",
       "      <td>5.0</td>\n",
       "      <td>3.6</td>\n",
       "      <td>1.4</td>\n",
       "      <td>0.2</td>\n",
       "    </tr>\n",
       "  </tbody>\n",
       "</table>\n",
       "</div>"
      ],
      "text/plain": [
       "   sepal length (cm)  sepal width (cm)  petal length (cm)  petal width (cm)\n",
       "0                5.1               3.5                1.4               0.2\n",
       "1                4.9               3.0                1.4               0.2\n",
       "2                4.7               3.2                1.3               0.2\n",
       "3                4.6               3.1                1.5               0.2\n",
       "4                5.0               3.6                1.4               0.2"
      ]
     },
     "execution_count": 4,
     "metadata": {},
     "output_type": "execute_result"
    }
   ],
   "source": [
    "import pandas as pd\n",
    "\n",
    "# Create a dataframe with the four feature variables\n",
    "df = pd.DataFrame(iris.data, columns=iris.feature_names)\n",
    "\n",
    "# View the top 5 rows\n",
    "df.head()"
   ]
  },
  {
   "cell_type": "code",
   "execution_count": 5,
   "metadata": {
    "scrolled": true
   },
   "outputs": [
    {
     "data": {
      "text/html": [
       "<div>\n",
       "<style scoped>\n",
       "    .dataframe tbody tr th:only-of-type {\n",
       "        vertical-align: middle;\n",
       "    }\n",
       "\n",
       "    .dataframe tbody tr th {\n",
       "        vertical-align: top;\n",
       "    }\n",
       "\n",
       "    .dataframe thead th {\n",
       "        text-align: right;\n",
       "    }\n",
       "</style>\n",
       "<table border=\"1\" class=\"dataframe\">\n",
       "  <thead>\n",
       "    <tr style=\"text-align: right;\">\n",
       "      <th></th>\n",
       "      <th>sepal length (cm)</th>\n",
       "      <th>sepal width (cm)</th>\n",
       "      <th>petal length (cm)</th>\n",
       "      <th>petal width (cm)</th>\n",
       "      <th>species</th>\n",
       "    </tr>\n",
       "  </thead>\n",
       "  <tbody>\n",
       "    <tr>\n",
       "      <th>0</th>\n",
       "      <td>5.1</td>\n",
       "      <td>3.5</td>\n",
       "      <td>1.4</td>\n",
       "      <td>0.2</td>\n",
       "      <td>setosa</td>\n",
       "    </tr>\n",
       "    <tr>\n",
       "      <th>1</th>\n",
       "      <td>4.9</td>\n",
       "      <td>3.0</td>\n",
       "      <td>1.4</td>\n",
       "      <td>0.2</td>\n",
       "      <td>setosa</td>\n",
       "    </tr>\n",
       "    <tr>\n",
       "      <th>2</th>\n",
       "      <td>4.7</td>\n",
       "      <td>3.2</td>\n",
       "      <td>1.3</td>\n",
       "      <td>0.2</td>\n",
       "      <td>setosa</td>\n",
       "    </tr>\n",
       "    <tr>\n",
       "      <th>3</th>\n",
       "      <td>4.6</td>\n",
       "      <td>3.1</td>\n",
       "      <td>1.5</td>\n",
       "      <td>0.2</td>\n",
       "      <td>setosa</td>\n",
       "    </tr>\n",
       "    <tr>\n",
       "      <th>4</th>\n",
       "      <td>5.0</td>\n",
       "      <td>3.6</td>\n",
       "      <td>1.4</td>\n",
       "      <td>0.2</td>\n",
       "      <td>setosa</td>\n",
       "    </tr>\n",
       "  </tbody>\n",
       "</table>\n",
       "</div>"
      ],
      "text/plain": [
       "   sepal length (cm)  sepal width (cm)  petal length (cm)  petal width (cm)  \\\n",
       "0                5.1               3.5                1.4               0.2   \n",
       "1                4.9               3.0                1.4               0.2   \n",
       "2                4.7               3.2                1.3               0.2   \n",
       "3                4.6               3.1                1.5               0.2   \n",
       "4                5.0               3.6                1.4               0.2   \n",
       "\n",
       "  species  \n",
       "0  setosa  \n",
       "1  setosa  \n",
       "2  setosa  \n",
       "3  setosa  \n",
       "4  setosa  "
      ]
     },
     "execution_count": 5,
     "metadata": {},
     "output_type": "execute_result"
    }
   ],
   "source": [
    "# Add a new column with the species names, this is what we are going to try to predict\n",
    "df['species'] = pd.Categorical.from_codes(iris.target, iris.target_names)\n",
    "\n",
    "# View the top 5 rows\n",
    "df.head()"
   ]
  },
  {
   "cell_type": "markdown",
   "metadata": {},
   "source": [
    "Before creating the training and the test sets, we should have a look on our data"
   ]
  },
  {
   "cell_type": "code",
   "execution_count": 6,
   "metadata": {},
   "outputs": [
    {
     "data": {
      "text/plain": [
       "sepal length (cm)    0\n",
       "sepal width (cm)     0\n",
       "petal length (cm)    0\n",
       "petal width (cm)     0\n",
       "species              0\n",
       "dtype: int64"
      ]
     },
     "execution_count": 6,
     "metadata": {},
     "output_type": "execute_result"
    }
   ],
   "source": [
    "df.isna().sum()"
   ]
  },
  {
   "cell_type": "code",
   "execution_count": 7,
   "metadata": {},
   "outputs": [
    {
     "data": {
      "text/plain": [
       "['setosa', 'versicolor', 'virginica']\n",
       "Categories (3, object): ['setosa', 'versicolor', 'virginica']"
      ]
     },
     "execution_count": 7,
     "metadata": {},
     "output_type": "execute_result"
    }
   ],
   "source": [
    "df.species.unique()"
   ]
  },
  {
   "cell_type": "code",
   "execution_count": 8,
   "metadata": {},
   "outputs": [
    {
     "data": {
      "text/plain": [
       "Index(['sepal length (cm)', 'sepal width (cm)', 'petal length (cm)',\n",
       "       'petal width (cm)', 'species'],\n",
       "      dtype='object')"
      ]
     },
     "execution_count": 8,
     "metadata": {},
     "output_type": "execute_result"
    }
   ],
   "source": [
    "df.columns"
   ]
  },
  {
   "cell_type": "code",
   "execution_count": 9,
   "metadata": {},
   "outputs": [
    {
     "data": {
      "image/png": "[encoded data removed]",
      "text/plain": [
       "<Figure size 432x288 with 6 Axes>"
      ]
     },
     "metadata": {
      "needs_background": "light"
     },
     "output_type": "display_data"
    }
   ],
   "source": [
    "columns = ['sepal length (cm)', 'sepal width (cm)', 'petal length (cm)',\n",
    "       'petal width (cm)']\n",
    "for indices, attributs in enumerate([[0, 1], [0, 2], [0, 3], [1, 2], [1, 3], [2, 3]]):\n",
    "\n",
    "    X = df.iloc[:, attributs]\n",
    "    col1 = columns[attributs[0]]\n",
    "    col2 = columns[attributs[1]]\n",
    "    \n",
    "    X = np.array(X)\n",
    "    ax = plt.subplot(2, 3, indices + 1)\n",
    "    plt.tight_layout(h_pad=0.5, w_pad=0.5, pad=2.5)\n",
    "    \n",
    "    for i, color in zip(['setosa', 'versicolor', 'virginica'], \"ryb\"):\n",
    "        idx = np.where(df.species == i)\n",
    "        plt.scatter(X[idx, 0],X[idx, 1],c=color,label=i,cmap=plt.cm.RdYlBu,edgecolor=\"black\",s=15)\n",
    "    plt.xlabel(col1)\n",
    "    plt.ylabel(col2)"
   ]
  },
  {
   "cell_type": "markdown",
   "metadata": {},
   "source": [
    "There are not null values in our dataset"
   ]
  },
  {
   "cell_type": "code",
   "execution_count": 10,
   "metadata": {
    "scrolled": true
   },
   "outputs": [
    {
     "data": {
      "text/html": [
       "<div>\n",
       "<style scoped>\n",
       "    .dataframe tbody tr th:only-of-type {\n",
       "        vertical-align: middle;\n",
       "    }\n",
       "\n",
       "    .dataframe tbody tr th {\n",
       "        vertical-align: top;\n",
       "    }\n",
       "\n",
       "    .dataframe thead th {\n",
       "        text-align: right;\n",
       "    }\n",
       "</style>\n",
       "<table border=\"1\" class=\"dataframe\">\n",
       "  <thead>\n",
       "    <tr style=\"text-align: right;\">\n",
       "      <th></th>\n",
       "      <th>sepal length (cm)</th>\n",
       "      <th>sepal width (cm)</th>\n",
       "      <th>petal length (cm)</th>\n",
       "      <th>petal width (cm)</th>\n",
       "    </tr>\n",
       "  </thead>\n",
       "  <tbody>\n",
       "    <tr>\n",
       "      <th>count</th>\n",
       "      <td>150.000000</td>\n",
       "      <td>150.000000</td>\n",
       "      <td>150.000000</td>\n",
       "      <td>150.000000</td>\n",
       "    </tr>\n",
       "    <tr>\n",
       "      <th>mean</th>\n",
       "      <td>5.843333</td>\n",
       "      <td>3.057333</td>\n",
       "      <td>3.758000</td>\n",
       "      <td>1.199333</td>\n",
       "    </tr>\n",
       "    <tr>\n",
       "      <th>std</th>\n",
       "      <td>0.828066</td>\n",
       "      <td>0.435866</td>\n",
       "      <td>1.765298</td>\n",
       "      <td>0.762238</td>\n",
       "    </tr>\n",
       "    <tr>\n",
       "      <th>min</th>\n",
       "      <td>4.300000</td>\n",
       "      <td>2.000000</td>\n",
       "      <td>1.000000</td>\n",
       "      <td>0.100000</td>\n",
       "    </tr>\n",
       "    <tr>\n",
       "      <th>25%</th>\n",
       "      <td>5.100000</td>\n",
       "      <td>2.800000</td>\n",
       "      <td>1.600000</td>\n",
       "      <td>0.300000</td>\n",
       "    </tr>\n",
       "    <tr>\n",
       "      <th>50%</th>\n",
       "      <td>5.800000</td>\n",
       "      <td>3.000000</td>\n",
       "      <td>4.350000</td>\n",
       "      <td>1.300000</td>\n",
       "    </tr>\n",
       "    <tr>\n",
       "      <th>75%</th>\n",
       "      <td>6.400000</td>\n",
       "      <td>3.300000</td>\n",
       "      <td>5.100000</td>\n",
       "      <td>1.800000</td>\n",
       "    </tr>\n",
       "    <tr>\n",
       "      <th>max</th>\n",
       "      <td>7.900000</td>\n",
       "      <td>4.400000</td>\n",
       "      <td>6.900000</td>\n",
       "      <td>2.500000</td>\n",
       "    </tr>\n",
       "  </tbody>\n",
       "</table>\n",
       "</div>"
      ],
      "text/plain": [
       "       sepal length (cm)  sepal width (cm)  petal length (cm)  \\\n",
       "count         150.000000        150.000000         150.000000   \n",
       "mean            5.843333          3.057333           3.758000   \n",
       "std             0.828066          0.435866           1.765298   \n",
       "min             4.300000          2.000000           1.000000   \n",
       "25%             5.100000          2.800000           1.600000   \n",
       "50%             5.800000          3.000000           4.350000   \n",
       "75%             6.400000          3.300000           5.100000   \n",
       "max             7.900000          4.400000           6.900000   \n",
       "\n",
       "       petal width (cm)  \n",
       "count        150.000000  \n",
       "mean           1.199333  \n",
       "std            0.762238  \n",
       "min            0.100000  \n",
       "25%            0.300000  \n",
       "50%            1.300000  \n",
       "75%            1.800000  \n",
       "max            2.500000  "
      ]
     },
     "execution_count": 10,
     "metadata": {},
     "output_type": "execute_result"
    }
   ],
   "source": [
    "df.describe()"
   ]
  },
  {
   "cell_type": "code",
   "execution_count": 11,
   "metadata": {
    "scrolled": true
   },
   "outputs": [
    {
     "data": {
      "image/png": "[encoded data removed]",
      "text/plain": [
       "<Figure size 576x432 with 2 Axes>"
      ]
     },
     "metadata": {
      "needs_background": "light"
     },
     "output_type": "display_data"
    }
   ],
   "source": [
    "corr_df = df.corr(method='pearson')\n",
    "\n",
    "plt.figure(figsize=(8, 6))\n",
    "sns.heatmap(corr_df, annot=True)\n",
    "plt.show()"
   ]
  },
  {
   "cell_type": "markdown",
   "metadata": {},
   "source": [
    "We notice that sepal width is not correlated with other features, but all the other features are correlated."
   ]
  },
  {
   "cell_type": "markdown",
   "metadata": {},
   "source": [
    "## Step 2: create training and test sets"
   ]
  },
  {
   "cell_type": "markdown",
   "metadata": {},
   "source": [
    "Create a new column that for each row, generates a random number between 0 and 1, and if that value is less than or equal to .75, then sets the value of that cell as True and false otherwise. This is a quick and dirty way of randomly assigning some rows to be used as the training data and some as the test data."
   ]
  },
  {
   "cell_type": "code",
   "execution_count": 12,
   "metadata": {},
   "outputs": [
    {
     "data": {
      "text/html": [
       "<div>\n",
       "<style scoped>\n",
       "    .dataframe tbody tr th:only-of-type {\n",
       "        vertical-align: middle;\n",
       "    }\n",
       "\n",
       "    .dataframe tbody tr th {\n",
       "        vertical-align: top;\n",
       "    }\n",
       "\n",
       "    .dataframe thead th {\n",
       "        text-align: right;\n",
       "    }\n",
       "</style>\n",
       "<table border=\"1\" class=\"dataframe\">\n",
       "  <thead>\n",
       "    <tr style=\"text-align: right;\">\n",
       "      <th></th>\n",
       "      <th>sepal length (cm)</th>\n",
       "      <th>sepal width (cm)</th>\n",
       "      <th>petal length (cm)</th>\n",
       "      <th>petal width (cm)</th>\n",
       "      <th>species</th>\n",
       "      <th>is_train</th>\n",
       "    </tr>\n",
       "  </thead>\n",
       "  <tbody>\n",
       "    <tr>\n",
       "      <th>0</th>\n",
       "      <td>5.1</td>\n",
       "      <td>3.5</td>\n",
       "      <td>1.4</td>\n",
       "      <td>0.2</td>\n",
       "      <td>setosa</td>\n",
       "      <td>True</td>\n",
       "    </tr>\n",
       "    <tr>\n",
       "      <th>1</th>\n",
       "      <td>4.9</td>\n",
       "      <td>3.0</td>\n",
       "      <td>1.4</td>\n",
       "      <td>0.2</td>\n",
       "      <td>setosa</td>\n",
       "      <td>True</td>\n",
       "    </tr>\n",
       "    <tr>\n",
       "      <th>2</th>\n",
       "      <td>4.7</td>\n",
       "      <td>3.2</td>\n",
       "      <td>1.3</td>\n",
       "      <td>0.2</td>\n",
       "      <td>setosa</td>\n",
       "      <td>True</td>\n",
       "    </tr>\n",
       "    <tr>\n",
       "      <th>3</th>\n",
       "      <td>4.6</td>\n",
       "      <td>3.1</td>\n",
       "      <td>1.5</td>\n",
       "      <td>0.2</td>\n",
       "      <td>setosa</td>\n",
       "      <td>True</td>\n",
       "    </tr>\n",
       "    <tr>\n",
       "      <th>4</th>\n",
       "      <td>5.0</td>\n",
       "      <td>3.6</td>\n",
       "      <td>1.4</td>\n",
       "      <td>0.2</td>\n",
       "      <td>setosa</td>\n",
       "      <td>True</td>\n",
       "    </tr>\n",
       "  </tbody>\n",
       "</table>\n",
       "</div>"
      ],
      "text/plain": [
       "   sepal length (cm)  sepal width (cm)  petal length (cm)  petal width (cm)  \\\n",
       "0                5.1               3.5                1.4               0.2   \n",
       "1                4.9               3.0                1.4               0.2   \n",
       "2                4.7               3.2                1.3               0.2   \n",
       "3                4.6               3.1                1.5               0.2   \n",
       "4                5.0               3.6                1.4               0.2   \n",
       "\n",
       "  species  is_train  \n",
       "0  setosa      True  \n",
       "1  setosa      True  \n",
       "2  setosa      True  \n",
       "3  setosa      True  \n",
       "4  setosa      True  "
      ]
     },
     "execution_count": 12,
     "metadata": {},
     "output_type": "execute_result"
    }
   ],
   "source": [
    "df['is_train'] = np.random.uniform(0, 1, len(df)) <= .75\n",
    "\n",
    "# View the top 5 rows\n",
    "df.head()"
   ]
  },
  {
   "cell_type": "code",
   "execution_count": 13,
   "metadata": {},
   "outputs": [],
   "source": [
    "# Create two new dataframes, one with the training rows, one with the test rows\n",
    "train, test = df[df['is_train']==True], df[df['is_train']==False]"
   ]
  },
  {
   "cell_type": "code",
   "execution_count": 14,
   "metadata": {},
   "outputs": [
    {
     "name": "stdout",
     "output_type": "stream",
     "text": [
      "Number of observations in the training data: 118 , it represents 78.67% of data\n",
      "Number of observations in the test data: 32 , it represents 21.33% of data\n"
     ]
    }
   ],
   "source": [
    "# Show the number of observations for the test and training dataframes\n",
    "print('Number of observations in the training data:', len(train), f', it represents {round(len(train)/df.shape[0]*100, 2)}% of data')\n",
    "print('Number of observations in the test data:',len(test), f', it represents {round(len(test)/df.shape[0]*100, 2)}% of data')"
   ]
  },
  {
   "cell_type": "code",
   "execution_count": 15,
   "metadata": {},
   "outputs": [
    {
     "data": {
      "text/plain": [
       "Index(['sepal length (cm)', 'sepal width (cm)', 'petal length (cm)',\n",
       "       'petal width (cm)'],\n",
       "      dtype='object')"
      ]
     },
     "execution_count": 15,
     "metadata": {},
     "output_type": "execute_result"
    }
   ],
   "source": [
    "# Create a list of the feature column's names\n",
    "features = df.columns[:4]\n",
    "\n",
    "# View features\n",
    "features"
   ]
  },
  {
   "cell_type": "markdown",
   "metadata": {},
   "source": [
    "train['species'] contains the actual species names. Before we can use it, we need to convert each species name into a digit. So, in this case there are three species, which have been coded as 0, 1, or 2."
   ]
  },
  {
   "cell_type": "code",
   "execution_count": 16,
   "metadata": {},
   "outputs": [],
   "source": [
    "y_train = pd.factorize(train['species'])[0]\n",
    "y_test = pd.factorize(test['species'])[0]"
   ]
  },
  {
   "cell_type": "markdown",
   "metadata": {},
   "source": [
    "## Step 3: decision trees for the iris dataset\n",
    "The method `tree.DecisionTreeClassifier()` from `scikit-learn` builds decision trees objects as follows:"
   ]
  },
  {
   "cell_type": "code",
   "execution_count": 17,
   "metadata": {},
   "outputs": [],
   "source": [
    "clf = tree.DecisionTreeClassifier()\n",
    "clf = clf.fit(train[features], y_train)\n",
    "\n",
    "y_pred = clf.predict(test[features])\n",
    "# Using the hwole dataset you may use directly:\n",
    "#clf = clf.fit(iris.data, iris.target)"
   ]
  },
  {
   "cell_type": "code",
   "execution_count": 18,
   "metadata": {},
   "outputs": [
    {
     "name": "stdout",
     "output_type": "stream",
     "text": [
      "Accuracy: 0.9375\n"
     ]
    }
   ],
   "source": [
    "# Model Accuracy, how often is the classifier correct?\n",
    "print(\"Accuracy:\",metrics.accuracy_score(y_test, y_pred))"
   ]
  },
  {
   "cell_type": "markdown",
   "metadata": {},
   "source": [
    "The `export_graphviz` exporter supports a variety of aesthetic options, including coloring nodes by their class (or value for regression) and using explicit variable and class names if desired. Jupyter notebooks also render these plots inline automatically:"
   ]
  },
  {
   "cell_type": "code",
   "execution_count": 19,
   "metadata": {},
   "outputs": [],
   "source": [
    "#import os\n",
    "#os.environ[\"PATH\"] += os.pathsep + r'C:\\Program Files (x86)\\Graphviz\\bin'"
   ]
  },
  {
   "cell_type": "code",
   "execution_count": 20,
   "metadata": {
    "scrolled": true
   },
   "outputs": [
    {
     "data": {
      "image/svg+xml": [
       "<?xml version=\"1.0\" encoding=\"UTF-8\" standalone=\"no\"?>\n",
       "<!DOCTYPE svg PUBLIC \"-//W3C//DTD SVG 1.1//EN\"\n",
       " \"http://www.w3.org/Graphics/SVG/1.1/DTD/svg11.dtd\">\n",
       "<!-- Generated by graphviz version 7.0.3 (20221126.0506)\n",
       " -->\n",
       "<!-- Title: Tree Pages: 1 -->\n",
       "<svg width=\"670pt\" height=\"790pt\"\n",
       " viewBox=\"0.00 0.00 669.50 790.00\" xmlns=\"http://www.w3.org/2000/svg\" xmlns:xlink=\"http://www.w3.org/1999/xlink\">\n",
       "<g id=\"graph0\" class=\"graph\" transform=\"scale(1 1) rotate(0) translate(4 786)\">\n",
       "<title>Tree</title>\n",
       "<polygon fill=\"white\" stroke=\"none\" points=\"-4,4 -4,-786 665.5,-786 665.5,4 -4,4\"/>\n",
       "<!-- 0 -->\n",
       "<g id=\"node1\" class=\"node\">\n",
       "<title>0</title>\n",
       "<path fill=\"#f3fdf7\" stroke=\"black\" d=\"M269,-782C269,-782 142,-782 142,-782 136,-782 130,-776 130,-770 130,-770 130,-711 130,-711 130,-705 136,-699 142,-699 142,-699 269,-699 269,-699 275,-699 281,-705 281,-711 281,-711 281,-770 281,-770 281,-776 275,-782 269,-782\"/>\n",
       "<text text-anchor=\"start\" x=\"138\" y=\"-766.8\" font-family=\"Helvetica,sans-Serif\" font-size=\"14.00\">petal width (cm) ≤ 0.8</text>\n",
       "<text text-anchor=\"start\" x=\"168\" y=\"-751.8\" font-family=\"Helvetica,sans-Serif\" font-size=\"14.00\">gini = 0.665</text>\n",
       "<text text-anchor=\"start\" x=\"158\" y=\"-736.8\" font-family=\"Helvetica,sans-Serif\" font-size=\"14.00\">samples = 118</text>\n",
       "<text text-anchor=\"start\" x=\"145\" y=\"-721.8\" font-family=\"Helvetica,sans-Serif\" font-size=\"14.00\">value = [37, 43, 38]</text>\n",
       "<text text-anchor=\"start\" x=\"150\" y=\"-706.8\" font-family=\"Helvetica,sans-Serif\" font-size=\"14.00\">class = versicolor</text>\n",
       "</g>\n",
       "<!-- 1 -->\n",
       "<g id=\"node2\" class=\"node\">\n",
       "<title>1</title>\n",
       "<path fill=\"#e58139\" stroke=\"black\" d=\"M174,-655.5C174,-655.5 77,-655.5 77,-655.5 71,-655.5 65,-649.5 65,-643.5 65,-643.5 65,-599.5 65,-599.5 65,-593.5 71,-587.5 77,-587.5 77,-587.5 174,-587.5 174,-587.5 180,-587.5 186,-593.5 186,-599.5 186,-599.5 186,-643.5 186,-643.5 186,-649.5 180,-655.5 174,-655.5\"/>\n",
       "<text text-anchor=\"start\" x=\"96.5\" y=\"-640.3\" font-family=\"Helvetica,sans-Serif\" font-size=\"14.00\">gini = 0.0</text>\n",
       "<text text-anchor=\"start\" x=\"82\" y=\"-625.3\" font-family=\"Helvetica,sans-Serif\" font-size=\"14.00\">samples = 37</text>\n",
       "<text text-anchor=\"start\" x=\"73\" y=\"-610.3\" font-family=\"Helvetica,sans-Serif\" font-size=\"14.00\">value = [37, 0, 0]</text>\n",
       "<text text-anchor=\"start\" x=\"79.5\" y=\"-595.3\" font-family=\"Helvetica,sans-Serif\" font-size=\"14.00\">class = setosa</text>\n",
       "</g>\n",
       "<!-- 0&#45;&gt;1 -->\n",
       "<g id=\"edge1\" class=\"edge\">\n",
       "<title>0&#45;&gt;1</title>\n",
       "<path fill=\"none\" stroke=\"black\" d=\"M177.52,-698.58C170.13,-687.77 162.14,-676.09 154.69,-665.19\"/>\n",
       "<polygon fill=\"black\" stroke=\"black\" points=\"157.7,-663.39 149.17,-657.11 151.92,-667.34 157.7,-663.39\"/>\n",
       "<text text-anchor=\"middle\" x=\"143.7\" y=\"-676.73\" font-family=\"Helvetica,sans-Serif\" font-size=\"14.00\">True</text>\n",
       "</g>\n",
       "<!-- 2 -->\n",
       "<g id=\"node3\" class=\"node\">\n",
       "<title>2</title>\n",
       "<path fill=\"#e8fcf0\" stroke=\"black\" d=\"M357,-663C357,-663 216,-663 216,-663 210,-663 204,-657 204,-651 204,-651 204,-592 204,-592 204,-586 210,-580 216,-580 216,-580 357,-580 357,-580 363,-580 369,-586 369,-592 369,-592 369,-651 369,-651 369,-657 363,-663 357,-663\"/>\n",
       "<text text-anchor=\"start\" x=\"212\" y=\"-647.8\" font-family=\"Helvetica,sans-Serif\" font-size=\"14.00\">petal length (cm) ≤ 4.75</text>\n",
       "<text text-anchor=\"start\" x=\"249\" y=\"-632.8\" font-family=\"Helvetica,sans-Serif\" font-size=\"14.00\">gini = 0.498</text>\n",
       "<text text-anchor=\"start\" x=\"243\" y=\"-617.8\" font-family=\"Helvetica,sans-Serif\" font-size=\"14.00\">samples = 81</text>\n",
       "<text text-anchor=\"start\" x=\"230\" y=\"-602.8\" font-family=\"Helvetica,sans-Serif\" font-size=\"14.00\">value = [0, 43, 38]</text>\n",
       "<text text-anchor=\"start\" x=\"231\" y=\"-587.8\" font-family=\"Helvetica,sans-Serif\" font-size=\"14.00\">class = versicolor</text>\n",
       "</g>\n",
       "<!-- 0&#45;&gt;2 -->\n",
       "<g id=\"edge2\" class=\"edge\">\n",
       "<title>0&#45;&gt;2</title>\n",
       "<path fill=\"none\" stroke=\"black\" d=\"M233.83,-698.58C239.66,-690.16 245.86,-681.2 251.88,-672.5\"/>\n",
       "<polygon fill=\"black\" stroke=\"black\" points=\"254.65,-674.66 257.46,-664.44 248.89,-670.67 254.65,-674.66\"/>\n",
       "<text text-anchor=\"middle\" x=\"262.8\" y=\"-684.1\" font-family=\"Helvetica,sans-Serif\" font-size=\"14.00\">False</text>\n",
       "</g>\n",
       "<!-- 3 -->\n",
       "<g id=\"node4\" class=\"node\">\n",
       "<title>3</title>\n",
       "<path fill=\"#3ee684\" stroke=\"black\" d=\"M266,-544C266,-544 131,-544 131,-544 125,-544 119,-538 119,-532 119,-532 119,-473 119,-473 119,-467 125,-461 131,-461 131,-461 266,-461 266,-461 272,-461 278,-467 278,-473 278,-473 278,-532 278,-532 278,-538 272,-544 266,-544\"/>\n",
       "<text text-anchor=\"start\" x=\"127\" y=\"-528.8\" font-family=\"Helvetica,sans-Serif\" font-size=\"14.00\">petal width (cm) ≤ 1.65</text>\n",
       "<text text-anchor=\"start\" x=\"161\" y=\"-513.8\" font-family=\"Helvetica,sans-Serif\" font-size=\"14.00\">gini = 0.048</text>\n",
       "<text text-anchor=\"start\" x=\"155\" y=\"-498.8\" font-family=\"Helvetica,sans-Serif\" font-size=\"14.00\">samples = 41</text>\n",
       "<text text-anchor=\"start\" x=\"146\" y=\"-483.8\" font-family=\"Helvetica,sans-Serif\" font-size=\"14.00\">value = [0, 40, 1]</text>\n",
       "<text text-anchor=\"start\" x=\"143\" y=\"-468.8\" font-family=\"Helvetica,sans-Serif\" font-size=\"14.00\">class = versicolor</text>\n",
       "</g>\n",
       "<!-- 2&#45;&gt;3 -->\n",
       "<g id=\"edge3\" class=\"edge\">\n",
       "<title>2&#45;&gt;3</title>\n",
       "<path fill=\"none\" stroke=\"black\" d=\"M255.72,-579.58C249.32,-571.07 242.51,-562.01 235.9,-553.23\"/>\n",
       "<polygon fill=\"black\" stroke=\"black\" points=\"238.83,-551.3 230.02,-545.41 233.24,-555.51 238.83,-551.3\"/>\n",
       "</g>\n",
       "<!-- 6 -->\n",
       "<g id=\"node7\" class=\"node\">\n",
       "<title>6</title>\n",
       "<path fill=\"#8b49e7\" stroke=\"black\" d=\"M443,-544C443,-544 308,-544 308,-544 302,-544 296,-538 296,-532 296,-532 296,-473 296,-473 296,-467 302,-461 308,-461 308,-461 443,-461 443,-461 449,-461 455,-467 455,-473 455,-473 455,-532 455,-532 455,-538 449,-544 443,-544\"/>\n",
       "<text text-anchor=\"start\" x=\"304\" y=\"-528.8\" font-family=\"Helvetica,sans-Serif\" font-size=\"14.00\">petal width (cm) ≤ 1.75</text>\n",
       "<text text-anchor=\"start\" x=\"338\" y=\"-513.8\" font-family=\"Helvetica,sans-Serif\" font-size=\"14.00\">gini = 0.139</text>\n",
       "<text text-anchor=\"start\" x=\"332\" y=\"-498.8\" font-family=\"Helvetica,sans-Serif\" font-size=\"14.00\">samples = 40</text>\n",
       "<text text-anchor=\"start\" x=\"323\" y=\"-483.8\" font-family=\"Helvetica,sans-Serif\" font-size=\"14.00\">value = [0, 3, 37]</text>\n",
       "<text text-anchor=\"start\" x=\"325.5\" y=\"-468.8\" font-family=\"Helvetica,sans-Serif\" font-size=\"14.00\">class = virginica</text>\n",
       "</g>\n",
       "<!-- 2&#45;&gt;6 -->\n",
       "<g id=\"edge6\" class=\"edge\">\n",
       "<title>2&#45;&gt;6</title>\n",
       "<path fill=\"none\" stroke=\"black\" d=\"M317.63,-579.58C324.1,-571.07 330.99,-562.01 337.67,-553.23\"/>\n",
       "<polygon fill=\"black\" stroke=\"black\" points=\"340.35,-555.48 343.62,-545.4 334.78,-551.24 340.35,-555.48\"/>\n",
       "</g>\n",
       "<!-- 4 -->\n",
       "<g id=\"node5\" class=\"node\">\n",
       "<title>4</title>\n",
       "<path fill=\"#39e581\" stroke=\"black\" d=\"M115,-417.5C115,-417.5 12,-417.5 12,-417.5 6,-417.5 0,-411.5 0,-405.5 0,-405.5 0,-361.5 0,-361.5 0,-355.5 6,-349.5 12,-349.5 12,-349.5 115,-349.5 115,-349.5 121,-349.5 127,-355.5 127,-361.5 127,-361.5 127,-405.5 127,-405.5 127,-411.5 121,-417.5 115,-417.5\"/>\n",
       "<text text-anchor=\"start\" x=\"34.5\" y=\"-402.3\" font-family=\"Helvetica,sans-Serif\" font-size=\"14.00\">gini = 0.0</text>\n",
       "<text text-anchor=\"start\" x=\"20\" y=\"-387.3\" font-family=\"Helvetica,sans-Serif\" font-size=\"14.00\">samples = 40</text>\n",
       "<text text-anchor=\"start\" x=\"11\" y=\"-372.3\" font-family=\"Helvetica,sans-Serif\" font-size=\"14.00\">value = [0, 40, 0]</text>\n",
       "<text text-anchor=\"start\" x=\"8\" y=\"-357.3\" font-family=\"Helvetica,sans-Serif\" font-size=\"14.00\">class = versicolor</text>\n",
       "</g>\n",
       "<!-- 3&#45;&gt;4 -->\n",
       "<g id=\"edge4\" class=\"edge\">\n",
       "<title>3&#45;&gt;4</title>\n",
       "<path fill=\"none\" stroke=\"black\" d=\"M151.28,-460.58C138.06,-449.12 123.69,-436.67 110.48,-425.22\"/>\n",
       "<polygon fill=\"black\" stroke=\"black\" points=\"112.99,-422.76 103.14,-418.85 108.4,-428.05 112.99,-422.76\"/>\n",
       "</g>\n",
       "<!-- 5 -->\n",
       "<g id=\"node6\" class=\"node\">\n",
       "<title>5</title>\n",
       "<path fill=\"#8139e5\" stroke=\"black\" d=\"M249.5,-417.5C249.5,-417.5 157.5,-417.5 157.5,-417.5 151.5,-417.5 145.5,-411.5 145.5,-405.5 145.5,-405.5 145.5,-361.5 145.5,-361.5 145.5,-355.5 151.5,-349.5 157.5,-349.5 157.5,-349.5 249.5,-349.5 249.5,-349.5 255.5,-349.5 261.5,-355.5 261.5,-361.5 261.5,-361.5 261.5,-405.5 261.5,-405.5 261.5,-411.5 255.5,-417.5 249.5,-417.5\"/>\n",
       "<text text-anchor=\"start\" x=\"174.5\" y=\"-402.3\" font-family=\"Helvetica,sans-Serif\" font-size=\"14.00\">gini = 0.0</text>\n",
       "<text text-anchor=\"start\" x=\"164\" y=\"-387.3\" font-family=\"Helvetica,sans-Serif\" font-size=\"14.00\">samples = 1</text>\n",
       "<text text-anchor=\"start\" x=\"155\" y=\"-372.3\" font-family=\"Helvetica,sans-Serif\" font-size=\"14.00\">value = [0, 0, 1]</text>\n",
       "<text text-anchor=\"start\" x=\"153.5\" y=\"-357.3\" font-family=\"Helvetica,sans-Serif\" font-size=\"14.00\">class = virginica</text>\n",
       "</g>\n",
       "<!-- 3&#45;&gt;5 -->\n",
       "<g id=\"edge5\" class=\"edge\">\n",
       "<title>3&#45;&gt;5</title>\n",
       "<path fill=\"none\" stroke=\"black\" d=\"M200.25,-460.58C200.68,-450.43 201.15,-439.5 201.59,-429.18\"/>\n",
       "<polygon fill=\"black\" stroke=\"black\" points=\"205.08,-429.51 202.01,-419.37 198.09,-429.21 205.08,-429.51\"/>\n",
       "</g>\n",
       "<!-- 7 -->\n",
       "<g id=\"node8\" class=\"node\">\n",
       "<title>7</title>\n",
       "<path fill=\"#e0cef8\" stroke=\"black\" d=\"M440,-425C440,-425 301,-425 301,-425 295,-425 289,-419 289,-413 289,-413 289,-354 289,-354 289,-348 295,-342 301,-342 301,-342 440,-342 440,-342 446,-342 452,-348 452,-354 452,-354 452,-413 452,-413 452,-419 446,-425 440,-425\"/>\n",
       "<text text-anchor=\"start\" x=\"297\" y=\"-409.8\" font-family=\"Helvetica,sans-Serif\" font-size=\"14.00\">sepal width (cm) ≤ 2.65</text>\n",
       "<text text-anchor=\"start\" x=\"337\" y=\"-394.8\" font-family=\"Helvetica,sans-Serif\" font-size=\"14.00\">gini = 0.49</text>\n",
       "<text text-anchor=\"start\" x=\"331\" y=\"-379.8\" font-family=\"Helvetica,sans-Serif\" font-size=\"14.00\">samples = 7</text>\n",
       "<text text-anchor=\"start\" x=\"322\" y=\"-364.8\" font-family=\"Helvetica,sans-Serif\" font-size=\"14.00\">value = [0, 3, 4]</text>\n",
       "<text text-anchor=\"start\" x=\"320.5\" y=\"-349.8\" font-family=\"Helvetica,sans-Serif\" font-size=\"14.00\">class = virginica</text>\n",
       "</g>\n",
       "<!-- 6&#45;&gt;7 -->\n",
       "<g id=\"edge7\" class=\"edge\">\n",
       "<title>6&#45;&gt;7</title>\n",
       "<path fill=\"none\" stroke=\"black\" d=\"M373.75,-460.58C373.42,-452.79 373.07,-444.53 372.72,-436.45\"/>\n",
       "<polygon fill=\"black\" stroke=\"black\" points=\"376.23,-436.55 372.3,-426.71 369.23,-436.85 376.23,-436.55\"/>\n",
       "</g>\n",
       "<!-- 14 -->\n",
       "<g id=\"node15\" class=\"node\">\n",
       "<title>14</title>\n",
       "<path fill=\"#8139e5\" stroke=\"black\" d=\"M579,-417.5C579,-417.5 482,-417.5 482,-417.5 476,-417.5 470,-411.5 470,-405.5 470,-405.5 470,-361.5 470,-361.5 470,-355.5 476,-349.5 482,-349.5 482,-349.5 579,-349.5 579,-349.5 585,-349.5 591,-355.5 591,-361.5 591,-361.5 591,-405.5 591,-405.5 591,-411.5 585,-417.5 579,-417.5\"/>\n",
       "<text text-anchor=\"start\" x=\"501.5\" y=\"-402.3\" font-family=\"Helvetica,sans-Serif\" font-size=\"14.00\">gini = 0.0</text>\n",
       "<text text-anchor=\"start\" x=\"487\" y=\"-387.3\" font-family=\"Helvetica,sans-Serif\" font-size=\"14.00\">samples = 33</text>\n",
       "<text text-anchor=\"start\" x=\"478\" y=\"-372.3\" font-family=\"Helvetica,sans-Serif\" font-size=\"14.00\">value = [0, 0, 33]</text>\n",
       "<text text-anchor=\"start\" x=\"480.5\" y=\"-357.3\" font-family=\"Helvetica,sans-Serif\" font-size=\"14.00\">class = virginica</text>\n",
       "</g>\n",
       "<!-- 6&#45;&gt;14 -->\n",
       "<g id=\"edge14\" class=\"edge\">\n",
       "<title>6&#45;&gt;14</title>\n",
       "<path fill=\"none\" stroke=\"black\" d=\"M429.71,-460.58C445.18,-448.9 462.02,-436.19 477.42,-424.57\"/>\n",
       "<polygon fill=\"black\" stroke=\"black\" points=\"479.22,-427.59 485.1,-418.77 475.01,-422 479.22,-427.59\"/>\n",
       "</g>\n",
       "<!-- 8 -->\n",
       "<g id=\"node9\" class=\"node\">\n",
       "<title>8</title>\n",
       "<path fill=\"#8139e5\" stroke=\"black\" d=\"M337.5,-298.5C337.5,-298.5 245.5,-298.5 245.5,-298.5 239.5,-298.5 233.5,-292.5 233.5,-286.5 233.5,-286.5 233.5,-242.5 233.5,-242.5 233.5,-236.5 239.5,-230.5 245.5,-230.5 245.5,-230.5 337.5,-230.5 337.5,-230.5 343.5,-230.5 349.5,-236.5 349.5,-242.5 349.5,-242.5 349.5,-286.5 349.5,-286.5 349.5,-292.5 343.5,-298.5 337.5,-298.5\"/>\n",
       "<text text-anchor=\"start\" x=\"262.5\" y=\"-283.3\" font-family=\"Helvetica,sans-Serif\" font-size=\"14.00\">gini = 0.0</text>\n",
       "<text text-anchor=\"start\" x=\"252\" y=\"-268.3\" font-family=\"Helvetica,sans-Serif\" font-size=\"14.00\">samples = 2</text>\n",
       "<text text-anchor=\"start\" x=\"243\" y=\"-253.3\" font-family=\"Helvetica,sans-Serif\" font-size=\"14.00\">value = [0, 0, 2]</text>\n",
       "<text text-anchor=\"start\" x=\"241.5\" y=\"-238.3\" font-family=\"Helvetica,sans-Serif\" font-size=\"14.00\">class = virginica</text>\n",
       "</g>\n",
       "<!-- 7&#45;&gt;8 -->\n",
       "<g id=\"edge8\" class=\"edge\">\n",
       "<title>7&#45;&gt;8</title>\n",
       "<path fill=\"none\" stroke=\"black\" d=\"M342.87,-341.58C335.57,-330.77 327.68,-319.09 320.33,-308.19\"/>\n",
       "<polygon fill=\"black\" stroke=\"black\" points=\"323.37,-306.44 314.87,-300.12 317.57,-310.36 323.37,-306.44\"/>\n",
       "</g>\n",
       "<!-- 9 -->\n",
       "<g id=\"node10\" class=\"node\">\n",
       "<title>9</title>\n",
       "<path fill=\"#bdf6d5\" stroke=\"black\" d=\"M521,-306C521,-306 380,-306 380,-306 374,-306 368,-300 368,-294 368,-294 368,-235 368,-235 368,-229 374,-223 380,-223 380,-223 521,-223 521,-223 527,-223 533,-229 533,-235 533,-235 533,-294 533,-294 533,-300 527,-306 521,-306\"/>\n",
       "<text text-anchor=\"start\" x=\"376\" y=\"-290.8\" font-family=\"Helvetica,sans-Serif\" font-size=\"14.00\">petal length (cm) ≤ 5.05</text>\n",
       "<text text-anchor=\"start\" x=\"417\" y=\"-275.8\" font-family=\"Helvetica,sans-Serif\" font-size=\"14.00\">gini = 0.48</text>\n",
       "<text text-anchor=\"start\" x=\"411\" y=\"-260.8\" font-family=\"Helvetica,sans-Serif\" font-size=\"14.00\">samples = 5</text>\n",
       "<text text-anchor=\"start\" x=\"402\" y=\"-245.8\" font-family=\"Helvetica,sans-Serif\" font-size=\"14.00\">value = [0, 3, 2]</text>\n",
       "<text text-anchor=\"start\" x=\"395\" y=\"-230.8\" font-family=\"Helvetica,sans-Serif\" font-size=\"14.00\">class = versicolor</text>\n",
       "</g>\n",
       "<!-- 7&#45;&gt;9 -->\n",
       "<g id=\"edge9\" class=\"edge\">\n",
       "<title>7&#45;&gt;9</title>\n",
       "<path fill=\"none\" stroke=\"black\" d=\"M398.48,-341.58C404.24,-333.16 410.36,-324.2 416.31,-315.5\"/>\n",
       "<polygon fill=\"black\" stroke=\"black\" points=\"419.06,-317.68 421.82,-307.45 413.28,-313.73 419.06,-317.68\"/>\n",
       "</g>\n",
       "<!-- 10 -->\n",
       "<g id=\"node11\" class=\"node\">\n",
       "<title>10</title>\n",
       "<path fill=\"#39e581\" stroke=\"black\" d=\"M419,-179.5C419,-179.5 316,-179.5 316,-179.5 310,-179.5 304,-173.5 304,-167.5 304,-167.5 304,-123.5 304,-123.5 304,-117.5 310,-111.5 316,-111.5 316,-111.5 419,-111.5 419,-111.5 425,-111.5 431,-117.5 431,-123.5 431,-123.5 431,-167.5 431,-167.5 431,-173.5 425,-179.5 419,-179.5\"/>\n",
       "<text text-anchor=\"start\" x=\"338.5\" y=\"-164.3\" font-family=\"Helvetica,sans-Serif\" font-size=\"14.00\">gini = 0.0</text>\n",
       "<text text-anchor=\"start\" x=\"328\" y=\"-149.3\" font-family=\"Helvetica,sans-Serif\" font-size=\"14.00\">samples = 2</text>\n",
       "<text text-anchor=\"start\" x=\"319\" y=\"-134.3\" font-family=\"Helvetica,sans-Serif\" font-size=\"14.00\">value = [0, 2, 0]</text>\n",
       "<text text-anchor=\"start\" x=\"312\" y=\"-119.3\" font-family=\"Helvetica,sans-Serif\" font-size=\"14.00\">class = versicolor</text>\n",
       "</g>\n",
       "<!-- 9&#45;&gt;10 -->\n",
       "<g id=\"edge10\" class=\"edge\">\n",
       "<title>9&#45;&gt;10</title>\n",
       "<path fill=\"none\" stroke=\"black\" d=\"M421.47,-222.58C413.81,-211.77 405.51,-200.09 397.78,-189.19\"/>\n",
       "<polygon fill=\"black\" stroke=\"black\" points=\"400.68,-187.23 392.04,-181.1 394.97,-191.28 400.68,-187.23\"/>\n",
       "</g>\n",
       "<!-- 11 -->\n",
       "<g id=\"node12\" class=\"node\">\n",
       "<title>11</title>\n",
       "<path fill=\"#c09cf2\" stroke=\"black\" d=\"M606,-187C606,-187 461,-187 461,-187 455,-187 449,-181 449,-175 449,-175 449,-116 449,-116 449,-110 455,-104 461,-104 461,-104 606,-104 606,-104 612,-104 618,-110 618,-116 618,-116 618,-175 618,-175 618,-181 612,-187 606,-187\"/>\n",
       "<text text-anchor=\"start\" x=\"457\" y=\"-171.8\" font-family=\"Helvetica,sans-Serif\" font-size=\"14.00\">sepal length (cm) ≤ 6.15</text>\n",
       "<text text-anchor=\"start\" x=\"496\" y=\"-156.8\" font-family=\"Helvetica,sans-Serif\" font-size=\"14.00\">gini = 0.444</text>\n",
       "<text text-anchor=\"start\" x=\"494\" y=\"-141.8\" font-family=\"Helvetica,sans-Serif\" font-size=\"14.00\">samples = 3</text>\n",
       "<text text-anchor=\"start\" x=\"485\" y=\"-126.8\" font-family=\"Helvetica,sans-Serif\" font-size=\"14.00\">value = [0, 1, 2]</text>\n",
       "<text text-anchor=\"start\" x=\"483.5\" y=\"-111.8\" font-family=\"Helvetica,sans-Serif\" font-size=\"14.00\">class = virginica</text>\n",
       "</g>\n",
       "<!-- 9&#45;&gt;11 -->\n",
       "<g id=\"edge11\" class=\"edge\">\n",
       "<title>9&#45;&gt;11</title>\n",
       "<path fill=\"none\" stroke=\"black\" d=\"M479.53,-222.58C485.5,-214.16 491.86,-205.2 498.03,-196.5\"/>\n",
       "<polygon fill=\"black\" stroke=\"black\" points=\"500.82,-198.62 503.75,-188.43 495.11,-194.57 500.82,-198.62\"/>\n",
       "</g>\n",
       "<!-- 12 -->\n",
       "<g id=\"node13\" class=\"node\">\n",
       "<title>12</title>\n",
       "<path fill=\"#39e581\" stroke=\"black\" d=\"M515,-68C515,-68 412,-68 412,-68 406,-68 400,-62 400,-56 400,-56 400,-12 400,-12 400,-6 406,0 412,0 412,0 515,0 515,0 521,0 527,-6 527,-12 527,-12 527,-56 527,-56 527,-62 521,-68 515,-68\"/>\n",
       "<text text-anchor=\"start\" x=\"434.5\" y=\"-52.8\" font-family=\"Helvetica,sans-Serif\" font-size=\"14.00\">gini = 0.0</text>\n",
       "<text text-anchor=\"start\" x=\"424\" y=\"-37.8\" font-family=\"Helvetica,sans-Serif\" font-size=\"14.00\">samples = 1</text>\n",
       "<text text-anchor=\"start\" x=\"415\" y=\"-22.8\" font-family=\"Helvetica,sans-Serif\" font-size=\"14.00\">value = [0, 1, 0]</text>\n",
       "<text text-anchor=\"start\" x=\"408\" y=\"-7.8\" font-family=\"Helvetica,sans-Serif\" font-size=\"14.00\">class = versicolor</text>\n",
       "</g>\n",
       "<!-- 11&#45;&gt;12 -->\n",
       "<g id=\"edge12\" class=\"edge\">\n",
       "<title>11&#45;&gt;12</title>\n",
       "<path fill=\"none\" stroke=\"black\" d=\"M507.43,-103.73C502.01,-95.24 496.28,-86.28 490.82,-77.73\"/>\n",
       "<polygon fill=\"black\" stroke=\"black\" points=\"493.94,-76.12 485.6,-69.57 488.04,-79.89 493.94,-76.12\"/>\n",
       "</g>\n",
       "<!-- 13 -->\n",
       "<g id=\"node14\" class=\"node\">\n",
       "<title>13</title>\n",
       "<path fill=\"#8139e5\" stroke=\"black\" d=\"M649.5,-68C649.5,-68 557.5,-68 557.5,-68 551.5,-68 545.5,-62 545.5,-56 545.5,-56 545.5,-12 545.5,-12 545.5,-6 551.5,0 557.5,0 557.5,0 649.5,0 649.5,0 655.5,0 661.5,-6 661.5,-12 661.5,-12 661.5,-56 661.5,-56 661.5,-62 655.5,-68 649.5,-68\"/>\n",
       "<text text-anchor=\"start\" x=\"574.5\" y=\"-52.8\" font-family=\"Helvetica,sans-Serif\" font-size=\"14.00\">gini = 0.0</text>\n",
       "<text text-anchor=\"start\" x=\"564\" y=\"-37.8\" font-family=\"Helvetica,sans-Serif\" font-size=\"14.00\">samples = 2</text>\n",
       "<text text-anchor=\"start\" x=\"555\" y=\"-22.8\" font-family=\"Helvetica,sans-Serif\" font-size=\"14.00\">value = [0, 0, 2]</text>\n",
       "<text text-anchor=\"start\" x=\"553.5\" y=\"-7.8\" font-family=\"Helvetica,sans-Serif\" font-size=\"14.00\">class = virginica</text>\n",
       "</g>\n",
       "<!-- 11&#45;&gt;13 -->\n",
       "<g id=\"edge13\" class=\"edge\">\n",
       "<title>11&#45;&gt;13</title>\n",
       "<path fill=\"none\" stroke=\"black\" d=\"M559.57,-103.73C564.99,-95.24 570.72,-86.28 576.18,-77.73\"/>\n",
       "<polygon fill=\"black\" stroke=\"black\" points=\"578.96,-79.89 581.4,-69.57 573.06,-76.12 578.96,-79.89\"/>\n",
       "</g>\n",
       "</g>\n",
       "</svg>\n"
      ],
      "text/plain": [
       "<graphviz.sources.Source at 0x27d3b7c6a00>"
      ]
     },
     "execution_count": 20,
     "metadata": {},
     "output_type": "execute_result"
    }
   ],
   "source": [
    "dot_data = tree.export_graphviz(clf, out_file=None, \n",
    "                         feature_names=iris.feature_names,  \n",
    "                         class_names=iris.target_names,  \n",
    "                         filled=True, rounded=True,  \n",
    "                         special_characters=True)  \n",
    "graph = graphviz.Source(dot_data)  \n",
    "graph "
   ]
  },
  {
   "cell_type": "markdown",
   "metadata": {},
   "source": [
    "We can also export the tree in Graphviz format and  savethe resulting graph in an output file iris.pdf:"
   ]
  },
  {
   "cell_type": "code",
   "execution_count": 21,
   "metadata": {},
   "outputs": [
    {
     "data": {
      "text/plain": [
       "'iris.pdf'"
      ]
     },
     "execution_count": 21,
     "metadata": {},
     "output_type": "execute_result"
    }
   ],
   "source": [
    "dot_data = tree.export_graphviz(clf, out_file=None) \n",
    "graph = graphviz.Source(dot_data) \n",
    "graph.render(\"iris\") "
   ]
  },
  {
   "cell_type": "markdown",
   "metadata": {},
   "source": [
    "After being fitted, **the model can then be used to predict the class of samples**:"
   ]
  },
  {
   "cell_type": "code",
   "execution_count": 22,
   "metadata": {},
   "outputs": [
    {
     "name": "stderr",
     "output_type": "stream",
     "text": [
      "D:\\anaconda3\\lib\\site-packages\\sklearn\\base.py:450: UserWarning: X does not have valid feature names, but DecisionTreeClassifier was fitted with feature names\n",
      "  warnings.warn(\n"
     ]
    },
    {
     "data": {
      "text/plain": [
       "array([0], dtype=int64)"
      ]
     },
     "execution_count": 22,
     "metadata": {},
     "output_type": "execute_result"
    }
   ],
   "source": [
    "class_pred = clf.predict(iris.data[:1, :])\n",
    "class_pred"
   ]
  },
  {
   "cell_type": "markdown",
   "metadata": {},
   "source": [
    "## Exercise 1\n",
    "1. Train the decision tree on the iris dataset and explain how one should read blocks in `graphviz` representation of the tree.\n",
    "\n",
    "2. Plot the regions of decision with the points of the training set superimposed.\n",
    "\n",
    "*Indication: you may find the function `plt.contourf` useful."
   ]
  },
  {
   "cell_type": "markdown",
   "metadata": {},
   "source": [
    "### The answer of the first question is done before"
   ]
  },
  {
   "cell_type": "code",
   "execution_count": 23,
   "metadata": {},
   "outputs": [],
   "source": [
    "df['is_train'] = np.random.uniform(0, 1, len(df)) <= .75\n",
    "\n",
    "# Create two new dataframes, one with the training rows, one with the test rows\n",
    "train, test = df[df['is_train']==True], df[df['is_train']==False]\n",
    "\n",
    "y_train = pd.factorize(train['species'])[0]\n",
    "y_test = pd.factorize(test['species'])[0]\n",
    "\n",
    "features = df.columns[:4]\n"
   ]
  },
  {
   "cell_type": "code",
   "execution_count": 24,
   "metadata": {},
   "outputs": [],
   "source": [
    "clf = tree.DecisionTreeClassifier()\n",
    "clf = clf.fit(train[features], y_train)"
   ]
  },
  {
   "cell_type": "code",
   "execution_count": 25,
   "metadata": {},
   "outputs": [
    {
     "data": {
      "image/svg+xml": [
       "<?xml version=\"1.0\" encoding=\"UTF-8\" standalone=\"no\"?>\n",
       "<!DOCTYPE svg PUBLIC \"-//W3C//DTD SVG 1.1//EN\"\n",
       " \"http://www.w3.org/Graphics/SVG/1.1/DTD/svg11.dtd\">\n",
       "<!-- Generated by graphviz version 7.0.3 (20221126.0506)\n",
       " -->\n",
       "<!-- Title: Tree Pages: 1 -->\n",
       "<svg width=\"626pt\" height=\"671pt\"\n",
       " viewBox=\"0.00 0.00 626.00 671.00\" xmlns=\"http://www.w3.org/2000/svg\" xmlns:xlink=\"http://www.w3.org/1999/xlink\">\n",
       "<g id=\"graph0\" class=\"graph\" transform=\"scale(1 1) rotate(0) translate(4 667)\">\n",
       "<title>Tree</title>\n",
       "<polygon fill=\"white\" stroke=\"none\" points=\"-4,4 -4,-667 622,-667 622,4 -4,4\"/>\n",
       "<!-- 0 -->\n",
       "<g id=\"node1\" class=\"node\">\n",
       "<title>0</title>\n",
       "<path fill=\"#fcfffd\" stroke=\"black\" d=\"M296,-663C296,-663 169,-663 169,-663 163,-663 157,-657 157,-651 157,-651 157,-592 157,-592 157,-586 163,-580 169,-580 169,-580 296,-580 296,-580 302,-580 308,-586 308,-592 308,-592 308,-651 308,-651 308,-657 302,-663 296,-663\"/>\n",
       "<text text-anchor=\"start\" x=\"165\" y=\"-647.8\" font-family=\"Helvetica,sans-Serif\" font-size=\"14.00\">petal width (cm) ≤ 0.8</text>\n",
       "<text text-anchor=\"start\" x=\"195\" y=\"-632.8\" font-family=\"Helvetica,sans-Serif\" font-size=\"14.00\">gini = 0.667</text>\n",
       "<text text-anchor=\"start\" x=\"185\" y=\"-617.8\" font-family=\"Helvetica,sans-Serif\" font-size=\"14.00\">samples = 111</text>\n",
       "<text text-anchor=\"start\" x=\"172\" y=\"-602.8\" font-family=\"Helvetica,sans-Serif\" font-size=\"14.00\">value = [36, 38, 37]</text>\n",
       "<text text-anchor=\"start\" x=\"177\" y=\"-587.8\" font-family=\"Helvetica,sans-Serif\" font-size=\"14.00\">class = versicolor</text>\n",
       "</g>\n",
       "<!-- 1 -->\n",
       "<g id=\"node2\" class=\"node\">\n",
       "<title>1</title>\n",
       "<path fill=\"#e58139\" stroke=\"black\" d=\"M202,-536.5C202,-536.5 105,-536.5 105,-536.5 99,-536.5 93,-530.5 93,-524.5 93,-524.5 93,-480.5 93,-480.5 93,-474.5 99,-468.5 105,-468.5 105,-468.5 202,-468.5 202,-468.5 208,-468.5 214,-474.5 214,-480.5 214,-480.5 214,-524.5 214,-524.5 214,-530.5 208,-536.5 202,-536.5\"/>\n",
       "<text text-anchor=\"start\" x=\"124.5\" y=\"-521.3\" font-family=\"Helvetica,sans-Serif\" font-size=\"14.00\">gini = 0.0</text>\n",
       "<text text-anchor=\"start\" x=\"110\" y=\"-506.3\" font-family=\"Helvetica,sans-Serif\" font-size=\"14.00\">samples = 36</text>\n",
       "<text text-anchor=\"start\" x=\"101\" y=\"-491.3\" font-family=\"Helvetica,sans-Serif\" font-size=\"14.00\">value = [36, 0, 0]</text>\n",
       "<text text-anchor=\"start\" x=\"107.5\" y=\"-476.3\" font-family=\"Helvetica,sans-Serif\" font-size=\"14.00\">class = setosa</text>\n",
       "</g>\n",
       "<!-- 0&#45;&gt;1 -->\n",
       "<g id=\"edge1\" class=\"edge\">\n",
       "<title>0&#45;&gt;1</title>\n",
       "<path fill=\"none\" stroke=\"black\" d=\"M204.87,-579.58C197.57,-568.77 189.68,-557.09 182.33,-546.19\"/>\n",
       "<polygon fill=\"black\" stroke=\"black\" points=\"185.37,-544.44 176.87,-538.12 179.57,-548.36 185.37,-544.44\"/>\n",
       "<text text-anchor=\"middle\" x=\"171.27\" y=\"-557.7\" font-family=\"Helvetica,sans-Serif\" font-size=\"14.00\">True</text>\n",
       "</g>\n",
       "<!-- 2 -->\n",
       "<g id=\"node3\" class=\"node\">\n",
       "<title>2</title>\n",
       "<path fill=\"#fafefc\" stroke=\"black\" d=\"M379,-544C379,-544 244,-544 244,-544 238,-544 232,-538 232,-532 232,-532 232,-473 232,-473 232,-467 238,-461 244,-461 244,-461 379,-461 379,-461 385,-461 391,-467 391,-473 391,-473 391,-532 391,-532 391,-538 385,-544 379,-544\"/>\n",
       "<text text-anchor=\"start\" x=\"240\" y=\"-528.8\" font-family=\"Helvetica,sans-Serif\" font-size=\"14.00\">petal width (cm) ≤ 1.65</text>\n",
       "<text text-anchor=\"start\" x=\"282.5\" y=\"-513.8\" font-family=\"Helvetica,sans-Serif\" font-size=\"14.00\">gini = 0.5</text>\n",
       "<text text-anchor=\"start\" x=\"268\" y=\"-498.8\" font-family=\"Helvetica,sans-Serif\" font-size=\"14.00\">samples = 75</text>\n",
       "<text text-anchor=\"start\" x=\"255\" y=\"-483.8\" font-family=\"Helvetica,sans-Serif\" font-size=\"14.00\">value = [0, 38, 37]</text>\n",
       "<text text-anchor=\"start\" x=\"256\" y=\"-468.8\" font-family=\"Helvetica,sans-Serif\" font-size=\"14.00\">class = versicolor</text>\n",
       "</g>\n",
       "<!-- 0&#45;&gt;2 -->\n",
       "<g id=\"edge2\" class=\"edge\">\n",
       "<title>0&#45;&gt;2</title>\n",
       "<path fill=\"none\" stroke=\"black\" d=\"M260.13,-579.58C265.82,-571.16 271.86,-562.2 277.74,-553.5\"/>\n",
       "<polygon fill=\"black\" stroke=\"black\" points=\"280.48,-555.7 283.17,-545.45 274.67,-551.78 280.48,-555.7\"/>\n",
       "<text text-anchor=\"middle\" x=\"288.78\" y=\"-565.04\" font-family=\"Helvetica,sans-Serif\" font-size=\"14.00\">False</text>\n",
       "</g>\n",
       "<!-- 3 -->\n",
       "<g id=\"node4\" class=\"node\">\n",
       "<title>3</title>\n",
       "<path fill=\"#44e688\" stroke=\"black\" d=\"M291,-425C291,-425 150,-425 150,-425 144,-425 138,-419 138,-413 138,-413 138,-354 138,-354 138,-348 144,-342 150,-342 150,-342 291,-342 291,-342 297,-342 303,-348 303,-354 303,-354 303,-413 303,-413 303,-419 297,-425 291,-425\"/>\n",
       "<text text-anchor=\"start\" x=\"146\" y=\"-409.8\" font-family=\"Helvetica,sans-Serif\" font-size=\"14.00\">petal length (cm) ≤ 4.95</text>\n",
       "<text text-anchor=\"start\" x=\"183\" y=\"-394.8\" font-family=\"Helvetica,sans-Serif\" font-size=\"14.00\">gini = 0.097</text>\n",
       "<text text-anchor=\"start\" x=\"177\" y=\"-379.8\" font-family=\"Helvetica,sans-Serif\" font-size=\"14.00\">samples = 39</text>\n",
       "<text text-anchor=\"start\" x=\"168\" y=\"-364.8\" font-family=\"Helvetica,sans-Serif\" font-size=\"14.00\">value = [0, 37, 2]</text>\n",
       "<text text-anchor=\"start\" x=\"165\" y=\"-349.8\" font-family=\"Helvetica,sans-Serif\" font-size=\"14.00\">class = versicolor</text>\n",
       "</g>\n",
       "<!-- 2&#45;&gt;3 -->\n",
       "<g id=\"edge3\" class=\"edge\">\n",
       "<title>2&#45;&gt;3</title>\n",
       "<path fill=\"none\" stroke=\"black\" d=\"M279.67,-460.58C273.05,-452.07 266.01,-443.01 259.18,-434.23\"/>\n",
       "<polygon fill=\"black\" stroke=\"black\" points=\"261.99,-432.14 253.08,-426.39 256.46,-436.44 261.99,-432.14\"/>\n",
       "</g>\n",
       "<!-- 10 -->\n",
       "<g id=\"node11\" class=\"node\">\n",
       "<title>10</title>\n",
       "<path fill=\"#853fe6\" stroke=\"black\" d=\"M474,-425C474,-425 333,-425 333,-425 327,-425 321,-419 321,-413 321,-413 321,-354 321,-354 321,-348 327,-342 333,-342 333,-342 474,-342 474,-342 480,-342 486,-348 486,-354 486,-354 486,-413 486,-413 486,-419 480,-425 474,-425\"/>\n",
       "<text text-anchor=\"start\" x=\"329\" y=\"-409.8\" font-family=\"Helvetica,sans-Serif\" font-size=\"14.00\">petal length (cm) ≤ 4.85</text>\n",
       "<text text-anchor=\"start\" x=\"366\" y=\"-394.8\" font-family=\"Helvetica,sans-Serif\" font-size=\"14.00\">gini = 0.054</text>\n",
       "<text text-anchor=\"start\" x=\"360\" y=\"-379.8\" font-family=\"Helvetica,sans-Serif\" font-size=\"14.00\">samples = 36</text>\n",
       "<text text-anchor=\"start\" x=\"351\" y=\"-364.8\" font-family=\"Helvetica,sans-Serif\" font-size=\"14.00\">value = [0, 1, 35]</text>\n",
       "<text text-anchor=\"start\" x=\"353.5\" y=\"-349.8\" font-family=\"Helvetica,sans-Serif\" font-size=\"14.00\">class = virginica</text>\n",
       "</g>\n",
       "<!-- 2&#45;&gt;10 -->\n",
       "<g id=\"edge10\" class=\"edge\">\n",
       "<title>2&#45;&gt;10</title>\n",
       "<path fill=\"none\" stroke=\"black\" d=\"M343.68,-460.58C350.37,-452.07 357.49,-443.01 364.4,-434.23\"/>\n",
       "<polygon fill=\"black\" stroke=\"black\" points=\"367.13,-436.41 370.56,-426.39 361.63,-432.09 367.13,-436.41\"/>\n",
       "</g>\n",
       "<!-- 4 -->\n",
       "<g id=\"node5\" class=\"node\">\n",
       "<title>4</title>\n",
       "<path fill=\"#39e581\" stroke=\"black\" d=\"M115,-298.5C115,-298.5 12,-298.5 12,-298.5 6,-298.5 0,-292.5 0,-286.5 0,-286.5 0,-242.5 0,-242.5 0,-236.5 6,-230.5 12,-230.5 12,-230.5 115,-230.5 115,-230.5 121,-230.5 127,-236.5 127,-242.5 127,-242.5 127,-286.5 127,-286.5 127,-292.5 121,-298.5 115,-298.5\"/>\n",
       "<text text-anchor=\"start\" x=\"34.5\" y=\"-283.3\" font-family=\"Helvetica,sans-Serif\" font-size=\"14.00\">gini = 0.0</text>\n",
       "<text text-anchor=\"start\" x=\"20\" y=\"-268.3\" font-family=\"Helvetica,sans-Serif\" font-size=\"14.00\">samples = 36</text>\n",
       "<text text-anchor=\"start\" x=\"11\" y=\"-253.3\" font-family=\"Helvetica,sans-Serif\" font-size=\"14.00\">value = [0, 36, 0]</text>\n",
       "<text text-anchor=\"start\" x=\"8\" y=\"-238.3\" font-family=\"Helvetica,sans-Serif\" font-size=\"14.00\">class = versicolor</text>\n",
       "</g>\n",
       "<!-- 3&#45;&gt;4 -->\n",
       "<g id=\"edge4\" class=\"edge\">\n",
       "<title>3&#45;&gt;4</title>\n",
       "<path fill=\"none\" stroke=\"black\" d=\"M165.59,-341.58C149.92,-329.9 132.86,-317.19 117.26,-305.57\"/>\n",
       "<polygon fill=\"black\" stroke=\"black\" points=\"119.59,-302.93 109.48,-299.77 115.41,-308.55 119.59,-302.93\"/>\n",
       "</g>\n",
       "<!-- 5 -->\n",
       "<g id=\"node6\" class=\"node\">\n",
       "<title>5</title>\n",
       "<path fill=\"#c09cf2\" stroke=\"black\" d=\"M292,-306C292,-306 157,-306 157,-306 151,-306 145,-300 145,-294 145,-294 145,-235 145,-235 145,-229 151,-223 157,-223 157,-223 292,-223 292,-223 298,-223 304,-229 304,-235 304,-235 304,-294 304,-294 304,-300 298,-306 292,-306\"/>\n",
       "<text text-anchor=\"start\" x=\"153\" y=\"-290.8\" font-family=\"Helvetica,sans-Serif\" font-size=\"14.00\">petal width (cm) ≤ 1.55</text>\n",
       "<text text-anchor=\"start\" x=\"187\" y=\"-275.8\" font-family=\"Helvetica,sans-Serif\" font-size=\"14.00\">gini = 0.444</text>\n",
       "<text text-anchor=\"start\" x=\"185\" y=\"-260.8\" font-family=\"Helvetica,sans-Serif\" font-size=\"14.00\">samples = 3</text>\n",
       "<text text-anchor=\"start\" x=\"176\" y=\"-245.8\" font-family=\"Helvetica,sans-Serif\" font-size=\"14.00\">value = [0, 1, 2]</text>\n",
       "<text text-anchor=\"start\" x=\"174.5\" y=\"-230.8\" font-family=\"Helvetica,sans-Serif\" font-size=\"14.00\">class = virginica</text>\n",
       "</g>\n",
       "<!-- 3&#45;&gt;5 -->\n",
       "<g id=\"edge5\" class=\"edge\">\n",
       "<title>3&#45;&gt;5</title>\n",
       "<path fill=\"none\" stroke=\"black\" d=\"M221.9,-341.58C222.17,-333.79 222.45,-325.53 222.72,-317.45\"/>\n",
       "<polygon fill=\"black\" stroke=\"black\" points=\"226.21,-317.83 223.06,-307.71 219.22,-317.59 226.21,-317.83\"/>\n",
       "</g>\n",
       "<!-- 6 -->\n",
       "<g id=\"node7\" class=\"node\">\n",
       "<title>6</title>\n",
       "<path fill=\"#8139e5\" stroke=\"black\" d=\"M115.5,-179.5C115.5,-179.5 23.5,-179.5 23.5,-179.5 17.5,-179.5 11.5,-173.5 11.5,-167.5 11.5,-167.5 11.5,-123.5 11.5,-123.5 11.5,-117.5 17.5,-111.5 23.5,-111.5 23.5,-111.5 115.5,-111.5 115.5,-111.5 121.5,-111.5 127.5,-117.5 127.5,-123.5 127.5,-123.5 127.5,-167.5 127.5,-167.5 127.5,-173.5 121.5,-179.5 115.5,-179.5\"/>\n",
       "<text text-anchor=\"start\" x=\"40.5\" y=\"-164.3\" font-family=\"Helvetica,sans-Serif\" font-size=\"14.00\">gini = 0.0</text>\n",
       "<text text-anchor=\"start\" x=\"30\" y=\"-149.3\" font-family=\"Helvetica,sans-Serif\" font-size=\"14.00\">samples = 1</text>\n",
       "<text text-anchor=\"start\" x=\"21\" y=\"-134.3\" font-family=\"Helvetica,sans-Serif\" font-size=\"14.00\">value = [0, 0, 1]</text>\n",
       "<text text-anchor=\"start\" x=\"19.5\" y=\"-119.3\" font-family=\"Helvetica,sans-Serif\" font-size=\"14.00\">class = virginica</text>\n",
       "</g>\n",
       "<!-- 5&#45;&gt;6 -->\n",
       "<g id=\"edge6\" class=\"edge\">\n",
       "<title>5&#45;&gt;6</title>\n",
       "<path fill=\"none\" stroke=\"black\" d=\"M170.29,-222.58C154.82,-210.9 137.98,-198.19 122.58,-186.57\"/>\n",
       "<polygon fill=\"black\" stroke=\"black\" points=\"124.99,-184 114.9,-180.77 120.78,-189.59 124.99,-184\"/>\n",
       "</g>\n",
       "<!-- 7 -->\n",
       "<g id=\"node8\" class=\"node\">\n",
       "<title>7</title>\n",
       "<path fill=\"#ffffff\" stroke=\"black\" d=\"M299,-187C299,-187 158,-187 158,-187 152,-187 146,-181 146,-175 146,-175 146,-116 146,-116 146,-110 152,-104 158,-104 158,-104 299,-104 299,-104 305,-104 311,-110 311,-116 311,-116 311,-175 311,-175 311,-181 305,-187 299,-187\"/>\n",
       "<text text-anchor=\"start\" x=\"154\" y=\"-171.8\" font-family=\"Helvetica,sans-Serif\" font-size=\"14.00\">petal length (cm) ≤ 5.45</text>\n",
       "<text text-anchor=\"start\" x=\"199.5\" y=\"-156.8\" font-family=\"Helvetica,sans-Serif\" font-size=\"14.00\">gini = 0.5</text>\n",
       "<text text-anchor=\"start\" x=\"189\" y=\"-141.8\" font-family=\"Helvetica,sans-Serif\" font-size=\"14.00\">samples = 2</text>\n",
       "<text text-anchor=\"start\" x=\"180\" y=\"-126.8\" font-family=\"Helvetica,sans-Serif\" font-size=\"14.00\">value = [0, 1, 1]</text>\n",
       "<text text-anchor=\"start\" x=\"173\" y=\"-111.8\" font-family=\"Helvetica,sans-Serif\" font-size=\"14.00\">class = versicolor</text>\n",
       "</g>\n",
       "<!-- 5&#45;&gt;7 -->\n",
       "<g id=\"edge7\" class=\"edge\">\n",
       "<title>5&#45;&gt;7</title>\n",
       "<path fill=\"none\" stroke=\"black\" d=\"M225.9,-222.58C226.17,-214.79 226.45,-206.53 226.72,-198.45\"/>\n",
       "<polygon fill=\"black\" stroke=\"black\" points=\"230.21,-198.83 227.06,-188.71 223.22,-198.59 230.21,-198.83\"/>\n",
       "</g>\n",
       "<!-- 8 -->\n",
       "<g id=\"node9\" class=\"node\">\n",
       "<title>8</title>\n",
       "<path fill=\"#39e581\" stroke=\"black\" d=\"M210,-68C210,-68 107,-68 107,-68 101,-68 95,-62 95,-56 95,-56 95,-12 95,-12 95,-6 101,0 107,0 107,0 210,0 210,0 216,0 222,-6 222,-12 222,-12 222,-56 222,-56 222,-62 216,-68 210,-68\"/>\n",
       "<text text-anchor=\"start\" x=\"129.5\" y=\"-52.8\" font-family=\"Helvetica,sans-Serif\" font-size=\"14.00\">gini = 0.0</text>\n",
       "<text text-anchor=\"start\" x=\"119\" y=\"-37.8\" font-family=\"Helvetica,sans-Serif\" font-size=\"14.00\">samples = 1</text>\n",
       "<text text-anchor=\"start\" x=\"110\" y=\"-22.8\" font-family=\"Helvetica,sans-Serif\" font-size=\"14.00\">value = [0, 1, 0]</text>\n",
       "<text text-anchor=\"start\" x=\"103\" y=\"-7.8\" font-family=\"Helvetica,sans-Serif\" font-size=\"14.00\">class = versicolor</text>\n",
       "</g>\n",
       "<!-- 7&#45;&gt;8 -->\n",
       "<g id=\"edge8\" class=\"edge\">\n",
       "<title>7&#45;&gt;8</title>\n",
       "<path fill=\"none\" stroke=\"black\" d=\"M202.43,-103.73C197.01,-95.24 191.28,-86.28 185.82,-77.73\"/>\n",
       "<polygon fill=\"black\" stroke=\"black\" points=\"188.94,-76.12 180.6,-69.57 183.04,-79.89 188.94,-76.12\"/>\n",
       "</g>\n",
       "<!-- 9 -->\n",
       "<g id=\"node10\" class=\"node\">\n",
       "<title>9</title>\n",
       "<path fill=\"#8139e5\" stroke=\"black\" d=\"M344.5,-68C344.5,-68 252.5,-68 252.5,-68 246.5,-68 240.5,-62 240.5,-56 240.5,-56 240.5,-12 240.5,-12 240.5,-6 246.5,0 252.5,0 252.5,0 344.5,0 344.5,0 350.5,0 356.5,-6 356.5,-12 356.5,-12 356.5,-56 356.5,-56 356.5,-62 350.5,-68 344.5,-68\"/>\n",
       "<text text-anchor=\"start\" x=\"269.5\" y=\"-52.8\" font-family=\"Helvetica,sans-Serif\" font-size=\"14.00\">gini = 0.0</text>\n",
       "<text text-anchor=\"start\" x=\"259\" y=\"-37.8\" font-family=\"Helvetica,sans-Serif\" font-size=\"14.00\">samples = 1</text>\n",
       "<text text-anchor=\"start\" x=\"250\" y=\"-22.8\" font-family=\"Helvetica,sans-Serif\" font-size=\"14.00\">value = [0, 0, 1]</text>\n",
       "<text text-anchor=\"start\" x=\"248.5\" y=\"-7.8\" font-family=\"Helvetica,sans-Serif\" font-size=\"14.00\">class = virginica</text>\n",
       "</g>\n",
       "<!-- 7&#45;&gt;9 -->\n",
       "<g id=\"edge9\" class=\"edge\">\n",
       "<title>7&#45;&gt;9</title>\n",
       "<path fill=\"none\" stroke=\"black\" d=\"M254.57,-103.73C259.99,-95.24 265.72,-86.28 271.18,-77.73\"/>\n",
       "<polygon fill=\"black\" stroke=\"black\" points=\"273.96,-79.89 276.4,-69.57 268.06,-76.12 273.96,-79.89\"/>\n",
       "</g>\n",
       "<!-- 11 -->\n",
       "<g id=\"node12\" class=\"node\">\n",
       "<title>11</title>\n",
       "<path fill=\"#ab7bee\" stroke=\"black\" d=\"M467,-306C467,-306 336,-306 336,-306 330,-306 324,-300 324,-294 324,-294 324,-235 324,-235 324,-229 330,-223 336,-223 336,-223 467,-223 467,-223 473,-223 479,-229 479,-235 479,-235 479,-294 479,-294 479,-300 473,-306 467,-306\"/>\n",
       "<text text-anchor=\"start\" x=\"332\" y=\"-290.8\" font-family=\"Helvetica,sans-Serif\" font-size=\"14.00\">sepal width (cm) ≤ 3.1</text>\n",
       "<text text-anchor=\"start\" x=\"364\" y=\"-275.8\" font-family=\"Helvetica,sans-Serif\" font-size=\"14.00\">gini = 0.375</text>\n",
       "<text text-anchor=\"start\" x=\"362\" y=\"-260.8\" font-family=\"Helvetica,sans-Serif\" font-size=\"14.00\">samples = 4</text>\n",
       "<text text-anchor=\"start\" x=\"353\" y=\"-245.8\" font-family=\"Helvetica,sans-Serif\" font-size=\"14.00\">value = [0, 1, 3]</text>\n",
       "<text text-anchor=\"start\" x=\"351.5\" y=\"-230.8\" font-family=\"Helvetica,sans-Serif\" font-size=\"14.00\">class = virginica</text>\n",
       "</g>\n",
       "<!-- 10&#45;&gt;11 -->\n",
       "<g id=\"edge11\" class=\"edge\">\n",
       "<title>10&#45;&gt;11</title>\n",
       "<path fill=\"none\" stroke=\"black\" d=\"M402.8,-341.58C402.67,-333.79 402.53,-325.53 402.39,-317.45\"/>\n",
       "<polygon fill=\"black\" stroke=\"black\" points=\"405.89,-317.65 402.22,-307.71 398.89,-317.77 405.89,-317.65\"/>\n",
       "</g>\n",
       "<!-- 14 -->\n",
       "<g id=\"node15\" class=\"node\">\n",
       "<title>14</title>\n",
       "<path fill=\"#8139e5\" stroke=\"black\" d=\"M606,-298.5C606,-298.5 509,-298.5 509,-298.5 503,-298.5 497,-292.5 497,-286.5 497,-286.5 497,-242.5 497,-242.5 497,-236.5 503,-230.5 509,-230.5 509,-230.5 606,-230.5 606,-230.5 612,-230.5 618,-236.5 618,-242.5 618,-242.5 618,-286.5 618,-286.5 618,-292.5 612,-298.5 606,-298.5\"/>\n",
       "<text text-anchor=\"start\" x=\"528.5\" y=\"-283.3\" font-family=\"Helvetica,sans-Serif\" font-size=\"14.00\">gini = 0.0</text>\n",
       "<text text-anchor=\"start\" x=\"514\" y=\"-268.3\" font-family=\"Helvetica,sans-Serif\" font-size=\"14.00\">samples = 32</text>\n",
       "<text text-anchor=\"start\" x=\"505\" y=\"-253.3\" font-family=\"Helvetica,sans-Serif\" font-size=\"14.00\">value = [0, 0, 32]</text>\n",
       "<text text-anchor=\"start\" x=\"507.5\" y=\"-238.3\" font-family=\"Helvetica,sans-Serif\" font-size=\"14.00\">class = virginica</text>\n",
       "</g>\n",
       "<!-- 10&#45;&gt;14 -->\n",
       "<g id=\"edge14\" class=\"edge\">\n",
       "<title>10&#45;&gt;14</title>\n",
       "<path fill=\"none\" stroke=\"black\" d=\"M457.36,-341.58C472.73,-329.9 489.46,-317.19 504.76,-305.57\"/>\n",
       "<polygon fill=\"black\" stroke=\"black\" points=\"506.54,-308.61 512.38,-299.78 502.3,-303.04 506.54,-308.61\"/>\n",
       "</g>\n",
       "<!-- 12 -->\n",
       "<g id=\"node13\" class=\"node\">\n",
       "<title>12</title>\n",
       "<path fill=\"#8139e5\" stroke=\"black\" d=\"M445.5,-179.5C445.5,-179.5 353.5,-179.5 353.5,-179.5 347.5,-179.5 341.5,-173.5 341.5,-167.5 341.5,-167.5 341.5,-123.5 341.5,-123.5 341.5,-117.5 347.5,-111.5 353.5,-111.5 353.5,-111.5 445.5,-111.5 445.5,-111.5 451.5,-111.5 457.5,-117.5 457.5,-123.5 457.5,-123.5 457.5,-167.5 457.5,-167.5 457.5,-173.5 451.5,-179.5 445.5,-179.5\"/>\n",
       "<text text-anchor=\"start\" x=\"370.5\" y=\"-164.3\" font-family=\"Helvetica,sans-Serif\" font-size=\"14.00\">gini = 0.0</text>\n",
       "<text text-anchor=\"start\" x=\"360\" y=\"-149.3\" font-family=\"Helvetica,sans-Serif\" font-size=\"14.00\">samples = 3</text>\n",
       "<text text-anchor=\"start\" x=\"351\" y=\"-134.3\" font-family=\"Helvetica,sans-Serif\" font-size=\"14.00\">value = [0, 0, 3]</text>\n",
       "<text text-anchor=\"start\" x=\"349.5\" y=\"-119.3\" font-family=\"Helvetica,sans-Serif\" font-size=\"14.00\">class = virginica</text>\n",
       "</g>\n",
       "<!-- 11&#45;&gt;12 -->\n",
       "<g id=\"edge12\" class=\"edge\">\n",
       "<title>11&#45;&gt;12</title>\n",
       "<path fill=\"none\" stroke=\"black\" d=\"M400.8,-222.58C400.63,-212.43 400.44,-201.5 400.26,-191.18\"/>\n",
       "<polygon fill=\"black\" stroke=\"black\" points=\"403.77,-191.31 400.1,-181.37 396.77,-191.43 403.77,-191.31\"/>\n",
       "</g>\n",
       "<!-- 13 -->\n",
       "<g id=\"node14\" class=\"node\">\n",
       "<title>13</title>\n",
       "<path fill=\"#39e581\" stroke=\"black\" d=\"M591,-179.5C591,-179.5 488,-179.5 488,-179.5 482,-179.5 476,-173.5 476,-167.5 476,-167.5 476,-123.5 476,-123.5 476,-117.5 482,-111.5 488,-111.5 488,-111.5 591,-111.5 591,-111.5 597,-111.5 603,-117.5 603,-123.5 603,-123.5 603,-167.5 603,-167.5 603,-173.5 597,-179.5 591,-179.5\"/>\n",
       "<text text-anchor=\"start\" x=\"510.5\" y=\"-164.3\" font-family=\"Helvetica,sans-Serif\" font-size=\"14.00\">gini = 0.0</text>\n",
       "<text text-anchor=\"start\" x=\"500\" y=\"-149.3\" font-family=\"Helvetica,sans-Serif\" font-size=\"14.00\">samples = 1</text>\n",
       "<text text-anchor=\"start\" x=\"491\" y=\"-134.3\" font-family=\"Helvetica,sans-Serif\" font-size=\"14.00\">value = [0, 1, 0]</text>\n",
       "<text text-anchor=\"start\" x=\"484\" y=\"-119.3\" font-family=\"Helvetica,sans-Serif\" font-size=\"14.00\">class = versicolor</text>\n",
       "</g>\n",
       "<!-- 11&#45;&gt;13 -->\n",
       "<g id=\"edge13\" class=\"edge\">\n",
       "<title>11&#45;&gt;13</title>\n",
       "<path fill=\"none\" stroke=\"black\" d=\"M449.77,-222.58C463.28,-211.12 477.97,-198.67 491.47,-187.22\"/>\n",
       "<polygon fill=\"black\" stroke=\"black\" points=\"493.63,-189.98 499,-180.84 489.11,-184.64 493.63,-189.98\"/>\n",
       "</g>\n",
       "</g>\n",
       "</svg>\n"
      ],
      "text/plain": [
       "<graphviz.sources.Source at 0x27d3ad4d790>"
      ]
     },
     "execution_count": 25,
     "metadata": {},
     "output_type": "execute_result"
    }
   ],
   "source": [
    "dot_data = tree.export_graphviz(clf, out_file=None, \n",
    "                         feature_names=iris.feature_names,  \n",
    "                         class_names=iris.target_names,  \n",
    "                         filled=True, rounded=True,  \n",
    "                         special_characters=True)  \n",
    "graph = graphviz.Source(dot_data)  \n",
    "graph "
   ]
  },
  {
   "cell_type": "markdown",
   "metadata": {},
   "source": [
    "In the decision tree chart, each internal node has a decision rule that splits the data. Gini referred as Gini ratio, which measures the impurity of the node. \n",
    "\n",
    "You can say a node is pure when all of its records belong to the same class, such nodes known as the leaf node.\n",
    "Here, the resultant tree is pruned."
   ]
  },
  {
   "cell_type": "markdown",
   "metadata": {},
   "source": [
    "on the first node, we notice that we can clearly classify setosa: if petal width <= 0.8, Then in the second layer, petal length is not enough so we use other features to distinguish between versicolor and virginica."
   ]
  },
  {
   "cell_type": "code",
   "execution_count": 26,
   "metadata": {},
   "outputs": [],
   "source": [
    "y_pred = clf.predict(test[features])"
   ]
  },
  {
   "cell_type": "code",
   "execution_count": 27,
   "metadata": {},
   "outputs": [
    {
     "name": "stdout",
     "output_type": "stream",
     "text": [
      "Accuracy: 0.9743589743589743\n"
     ]
    }
   ],
   "source": [
    "# Model Accuracy, how often is the classifier correct?\n",
    "print(\"Accuracy:\", metrics.accuracy_score(y_test, y_pred))"
   ]
  },
  {
   "cell_type": "code",
   "execution_count": 28,
   "metadata": {},
   "outputs": [
    {
     "data": {
      "image/png": "[encoded data removed]",
      "text/plain": [
       "<Figure size 576x360 with 1 Axes>"
      ]
     },
     "metadata": {},
     "output_type": "display_data"
    }
   ],
   "source": [
    "cm = confusion_matrix(y_pred, y_test)\n",
    "plt.figure(figsize=(8, 5), facecolor='white')\n",
    "plt.title(\"LR Confusion Matrix\")\n",
    "sns.heatmap(cm, annot=True, cbar=False)\n",
    "plt.xlabel(\"Truth\")\n",
    "plt.ylabel(\"Predicted\")\n",
    "plt.show()"
   ]
  },
  {
   "cell_type": "markdown",
   "metadata": {},
   "source": [
    "From the confusion matrix and the high value of accuracy, we can say that our model predict well the class."
   ]
  },
  {
   "cell_type": "code",
   "execution_count": 29,
   "metadata": {},
   "outputs": [
    {
     "name": "stdout",
     "output_type": "stream",
     "text": [
      "None\n",
      "None\n",
      "None\n",
      "None\n",
      "None\n",
      "None\n"
     ]
    },
    {
     "data": {
      "text/plain": [
       "<matplotlib.legend.Legend at 0x27d3b85a370>"
      ]
     },
     "execution_count": 29,
     "metadata": {},
     "output_type": "execute_result"
    },
    {
     "data": {
      "image/png": "[encoded data removed]",
      "text/plain": [
       "<Figure size 1080x576 with 6 Axes>"
      ]
     },
     "metadata": {
      "needs_background": "light"
     },
     "output_type": "display_data"
    }
   ],
   "source": [
    "warnings.filterwarnings(\"ignore\")\n",
    "plt.figure(figsize=(15, 8))\n",
    "\n",
    "for indices, attributs in enumerate([[0, 1], [0, 2], [0, 3], [1, 2], [1, 3], [2, 3]]):\n",
    "\n",
    "    X = train.iloc[:, attributs]\n",
    "\n",
    "    clf = tree.DecisionTreeClassifier().fit(X, y_train)\n",
    "    print(clf.max_depth)\n",
    "    \n",
    "    X = np.array(X)\n",
    "    ax = plt.subplot(2, 3, indices + 1)\n",
    "    plt.tight_layout(h_pad=0.5, w_pad=0.5, pad=2.5)\n",
    "    plot_decision_regions(X, y_train, clf=clf, legend=3)\n",
    "    \n",
    "    for i, color in zip(range(3), \"ryb\"):\n",
    "        idx = np.where(y_train == i)\n",
    "        plt.scatter(X[idx, 0],X[idx, 1],c=color,label=train['species'].unique()[i],cmap=plt.cm.RdYlBu,edgecolor=\"black\",s=15)\n",
    "\n",
    "plt.suptitle(\"Frontière de décision entre deux attributs différents du data set Iris\")\n",
    "plt.legend(loc=\"lower right\", borderpad=0, handletextpad=0)"
   ]
  },
  {
   "cell_type": "markdown",
   "metadata": {},
   "source": [
    "## Exercise 2\n",
    "1. Build 2 different trees based on a sepal features (sepal lengths, sepal widths) vs petal features (petal lengths, petal widths) only: which features are the most discriminant?\n",
    "\n",
    "2. Compare performances with those obtained using all features.\n",
    "\n",
    "3. Try the same as above using the various splitting criterion available, Gini's index, classification error or cross-entropy. Comment on your results. "
   ]
  },
  {
   "cell_type": "markdown",
   "metadata": {},
   "source": [
    "### decision tree on sepal features"
   ]
  },
  {
   "cell_type": "code",
   "execution_count": 30,
   "metadata": {},
   "outputs": [],
   "source": [
    "df['is_train'] = np.random.uniform(0, 1, len(df)) <= .75\n",
    "\n",
    "# Create two new dataframes, one with the training rows, one with the test rows\n",
    "train, test = df[df['is_train']==True], df[df['is_train']==False]\n",
    "\n",
    "y_train = pd.factorize(train['species'])[0]\n",
    "y_test = pd.factorize(test['species'])[0]\n"
   ]
  },
  {
   "cell_type": "code",
   "execution_count": 31,
   "metadata": {},
   "outputs": [],
   "source": [
    "features = ['sepal length (cm)', 'sepal width (cm)']\n",
    "clf = tree.DecisionTreeClassifier()\n",
    "clf = clf.fit(train[features], y_train)"
   ]
  },
  {
   "cell_type": "code",
   "execution_count": 32,
   "metadata": {
    "scrolled": false
   },
   "outputs": [
    {
     "data": {
      "image/svg+xml": [
       "<?xml version=\"1.0\" encoding=\"UTF-8\" standalone=\"no\"?>\n",
       "<!DOCTYPE svg PUBLIC \"-//W3C//DTD SVG 1.1//EN\"\n",
       " \"http://www.w3.org/Graphics/SVG/1.1/DTD/svg11.dtd\">\n",
       "<!-- Generated by graphviz version 7.0.3 (20221126.0506)\n",
       " -->\n",
       "<!-- Title: Tree Pages: 1 -->\n",
       "<svg width=\"2176pt\" height=\"1623pt\"\n",
       " viewBox=\"0.00 0.00 2175.50 1623.00\" xmlns=\"http://www.w3.org/2000/svg\" xmlns:xlink=\"http://www.w3.org/1999/xlink\">\n",
       "<g id=\"graph0\" class=\"graph\" transform=\"scale(1 1) rotate(0) translate(4 1619)\">\n",
       "<title>Tree</title>\n",
       "<polygon fill=\"white\" stroke=\"none\" points=\"-4,4 -4,-1619 2171.5,-1619 2171.5,4 -4,4\"/>\n",
       "<!-- 0 -->\n",
       "<g id=\"node1\" class=\"node\">\n",
       "<title>0</title>\n",
       "<path fill=\"#fdf7f2\" stroke=\"black\" d=\"M744,-1615C744,-1615 599,-1615 599,-1615 593,-1615 587,-1609 587,-1603 587,-1603 587,-1544 587,-1544 587,-1538 593,-1532 599,-1532 599,-1532 744,-1532 744,-1532 750,-1532 756,-1538 756,-1544 756,-1544 756,-1603 756,-1603 756,-1609 750,-1615 744,-1615\"/>\n",
       "<text text-anchor=\"start\" x=\"595\" y=\"-1599.8\" font-family=\"Helvetica,sans-Serif\" font-size=\"14.00\">sepal length (cm) ≤ 5.55</text>\n",
       "<text text-anchor=\"start\" x=\"634\" y=\"-1584.8\" font-family=\"Helvetica,sans-Serif\" font-size=\"14.00\">gini = 0.664</text>\n",
       "<text text-anchor=\"start\" x=\"624\" y=\"-1569.8\" font-family=\"Helvetica,sans-Serif\" font-size=\"14.00\">samples = 115</text>\n",
       "<text text-anchor=\"start\" x=\"611\" y=\"-1554.8\" font-family=\"Helvetica,sans-Serif\" font-size=\"14.00\">value = [43, 34, 38]</text>\n",
       "<text text-anchor=\"start\" x=\"625.5\" y=\"-1539.8\" font-family=\"Helvetica,sans-Serif\" font-size=\"14.00\">class = setosa</text>\n",
       "</g>\n",
       "<!-- 1 -->\n",
       "<g id=\"node2\" class=\"node\">\n",
       "<title>1</title>\n",
       "<path fill=\"#e9965a\" stroke=\"black\" d=\"M592,-1496C592,-1496 461,-1496 461,-1496 455,-1496 449,-1490 449,-1484 449,-1484 449,-1425 449,-1425 449,-1419 455,-1413 461,-1413 461,-1413 592,-1413 592,-1413 598,-1413 604,-1419 604,-1425 604,-1425 604,-1484 604,-1484 604,-1490 598,-1496 592,-1496\"/>\n",
       "<text text-anchor=\"start\" x=\"457\" y=\"-1480.8\" font-family=\"Helvetica,sans-Serif\" font-size=\"14.00\">sepal width (cm) ≤ 2.8</text>\n",
       "<text text-anchor=\"start\" x=\"489\" y=\"-1465.8\" font-family=\"Helvetica,sans-Serif\" font-size=\"14.00\">gini = 0.254</text>\n",
       "<text text-anchor=\"start\" x=\"483\" y=\"-1450.8\" font-family=\"Helvetica,sans-Serif\" font-size=\"14.00\">samples = 48</text>\n",
       "<text text-anchor=\"start\" x=\"474\" y=\"-1435.8\" font-family=\"Helvetica,sans-Serif\" font-size=\"14.00\">value = [41, 6, 1]</text>\n",
       "<text text-anchor=\"start\" x=\"480.5\" y=\"-1420.8\" font-family=\"Helvetica,sans-Serif\" font-size=\"14.00\">class = setosa</text>\n",
       "</g>\n",
       "<!-- 0&#45;&gt;1 -->\n",
       "<g id=\"edge1\" class=\"edge\">\n",
       "<title>0&#45;&gt;1</title>\n",
       "<path fill=\"none\" stroke=\"black\" d=\"M620.79,-1531.58C609.46,-1522.44 597.36,-1512.67 585.72,-1503.29\"/>\n",
       "<polygon fill=\"black\" stroke=\"black\" points=\"588.1,-1500.71 578.12,-1497.15 583.7,-1506.15 588.1,-1500.71\"/>\n",
       "<text text-anchor=\"middle\" x=\"579.6\" y=\"-1517.36\" font-family=\"Helvetica,sans-Serif\" font-size=\"14.00\">True</text>\n",
       "</g>\n",
       "<!-- 12 -->\n",
       "<g id=\"node13\" class=\"node\">\n",
       "<title>12</title>\n",
       "<path fill=\"#e2d1f9\" stroke=\"black\" d=\"M835,-1496C835,-1496 690,-1496 690,-1496 684,-1496 678,-1490 678,-1484 678,-1484 678,-1425 678,-1425 678,-1419 684,-1413 690,-1413 690,-1413 835,-1413 835,-1413 841,-1413 847,-1419 847,-1425 847,-1425 847,-1484 847,-1484 847,-1490 841,-1496 835,-1496\"/>\n",
       "<text text-anchor=\"start\" x=\"686\" y=\"-1480.8\" font-family=\"Helvetica,sans-Serif\" font-size=\"14.00\">sepal length (cm) ≤ 7.05</text>\n",
       "<text text-anchor=\"start\" x=\"725\" y=\"-1465.8\" font-family=\"Helvetica,sans-Serif\" font-size=\"14.00\">gini = 0.519</text>\n",
       "<text text-anchor=\"start\" x=\"719\" y=\"-1450.8\" font-family=\"Helvetica,sans-Serif\" font-size=\"14.00\">samples = 67</text>\n",
       "<text text-anchor=\"start\" x=\"706\" y=\"-1435.8\" font-family=\"Helvetica,sans-Serif\" font-size=\"14.00\">value = [2, 28, 37]</text>\n",
       "<text text-anchor=\"start\" x=\"712.5\" y=\"-1420.8\" font-family=\"Helvetica,sans-Serif\" font-size=\"14.00\">class = virginica</text>\n",
       "</g>\n",
       "<!-- 0&#45;&gt;12 -->\n",
       "<g id=\"edge12\" class=\"edge\">\n",
       "<title>0&#45;&gt;12</title>\n",
       "<path fill=\"none\" stroke=\"black\" d=\"M703.33,-1531.58C709.95,-1523.07 716.99,-1514.01 723.82,-1505.23\"/>\n",
       "<polygon fill=\"black\" stroke=\"black\" points=\"726.54,-1507.44 729.92,-1497.39 721.01,-1503.14 726.54,-1507.44\"/>\n",
       "<text text-anchor=\"middle\" x=\"733.95\" y=\"-1517.31\" font-family=\"Helvetica,sans-Serif\" font-size=\"14.00\">False</text>\n",
       "</g>\n",
       "<!-- 2 -->\n",
       "<g id=\"node3\" class=\"node\">\n",
       "<title>2</title>\n",
       "<path fill=\"#7beeab\" stroke=\"black\" d=\"M357,-1377C357,-1377 212,-1377 212,-1377 206,-1377 200,-1371 200,-1365 200,-1365 200,-1306 200,-1306 200,-1300 206,-1294 212,-1294 212,-1294 357,-1294 357,-1294 363,-1294 369,-1300 369,-1306 369,-1306 369,-1365 369,-1365 369,-1371 363,-1377 357,-1377\"/>\n",
       "<text text-anchor=\"start\" x=\"208\" y=\"-1361.8\" font-family=\"Helvetica,sans-Serif\" font-size=\"14.00\">sepal length (cm) ≤ 4.95</text>\n",
       "<text text-anchor=\"start\" x=\"247\" y=\"-1346.8\" font-family=\"Helvetica,sans-Serif\" font-size=\"14.00\">gini = 0.449</text>\n",
       "<text text-anchor=\"start\" x=\"245\" y=\"-1331.8\" font-family=\"Helvetica,sans-Serif\" font-size=\"14.00\">samples = 7</text>\n",
       "<text text-anchor=\"start\" x=\"236\" y=\"-1316.8\" font-family=\"Helvetica,sans-Serif\" font-size=\"14.00\">value = [1, 5, 1]</text>\n",
       "<text text-anchor=\"start\" x=\"229\" y=\"-1301.8\" font-family=\"Helvetica,sans-Serif\" font-size=\"14.00\">class = versicolor</text>\n",
       "</g>\n",
       "<!-- 1&#45;&gt;2 -->\n",
       "<g id=\"edge2\" class=\"edge\">\n",
       "<title>1&#45;&gt;2</title>\n",
       "<path fill=\"none\" stroke=\"black\" d=\"M448.6,-1415.84C426.45,-1405.13 402.09,-1393.35 379.07,-1382.22\"/>\n",
       "<polygon fill=\"black\" stroke=\"black\" points=\"380.84,-1379.19 370.31,-1377.99 377.79,-1385.49 380.84,-1379.19\"/>\n",
       "</g>\n",
       "<!-- 7 -->\n",
       "<g id=\"node8\" class=\"node\">\n",
       "<title>7</title>\n",
       "<path fill=\"#e6843e\" stroke=\"black\" d=\"M599,-1377C599,-1377 454,-1377 454,-1377 448,-1377 442,-1371 442,-1365 442,-1365 442,-1306 442,-1306 442,-1300 448,-1294 454,-1294 454,-1294 599,-1294 599,-1294 605,-1294 611,-1300 611,-1306 611,-1306 611,-1365 611,-1365 611,-1371 605,-1377 599,-1377\"/>\n",
       "<text text-anchor=\"start\" x=\"450\" y=\"-1361.8\" font-family=\"Helvetica,sans-Serif\" font-size=\"14.00\">sepal length (cm) ≤ 5.35</text>\n",
       "<text text-anchor=\"start\" x=\"489\" y=\"-1346.8\" font-family=\"Helvetica,sans-Serif\" font-size=\"14.00\">gini = 0.048</text>\n",
       "<text text-anchor=\"start\" x=\"483\" y=\"-1331.8\" font-family=\"Helvetica,sans-Serif\" font-size=\"14.00\">samples = 41</text>\n",
       "<text text-anchor=\"start\" x=\"474\" y=\"-1316.8\" font-family=\"Helvetica,sans-Serif\" font-size=\"14.00\">value = [40, 1, 0]</text>\n",
       "<text text-anchor=\"start\" x=\"480.5\" y=\"-1301.8\" font-family=\"Helvetica,sans-Serif\" font-size=\"14.00\">class = setosa</text>\n",
       "</g>\n",
       "<!-- 1&#45;&gt;7 -->\n",
       "<g id=\"edge7\" class=\"edge\">\n",
       "<title>1&#45;&gt;7</title>\n",
       "<path fill=\"none\" stroke=\"black\" d=\"M526.5,-1412.58C526.5,-1404.79 526.5,-1396.53 526.5,-1388.45\"/>\n",
       "<polygon fill=\"black\" stroke=\"black\" points=\"530,-1388.71 526.5,-1378.71 523,-1388.71 530,-1388.71\"/>\n",
       "</g>\n",
       "<!-- 3 -->\n",
       "<g id=\"node4\" class=\"node\">\n",
       "<title>3</title>\n",
       "<path fill=\"#ffffff\" stroke=\"black\" d=\"M191,-1258C191,-1258 54,-1258 54,-1258 48,-1258 42,-1252 42,-1246 42,-1246 42,-1187 42,-1187 42,-1181 48,-1175 54,-1175 54,-1175 191,-1175 191,-1175 197,-1175 203,-1181 203,-1187 203,-1187 203,-1246 203,-1246 203,-1252 197,-1258 191,-1258\"/>\n",
       "<text text-anchor=\"start\" x=\"50\" y=\"-1242.8\" font-family=\"Helvetica,sans-Serif\" font-size=\"14.00\">sepal length (cm) ≤ 4.7</text>\n",
       "<text text-anchor=\"start\" x=\"93.5\" y=\"-1227.8\" font-family=\"Helvetica,sans-Serif\" font-size=\"14.00\">gini = 0.5</text>\n",
       "<text text-anchor=\"start\" x=\"83\" y=\"-1212.8\" font-family=\"Helvetica,sans-Serif\" font-size=\"14.00\">samples = 2</text>\n",
       "<text text-anchor=\"start\" x=\"74\" y=\"-1197.8\" font-family=\"Helvetica,sans-Serif\" font-size=\"14.00\">value = [1, 0, 1]</text>\n",
       "<text text-anchor=\"start\" x=\"76.5\" y=\"-1182.8\" font-family=\"Helvetica,sans-Serif\" font-size=\"14.00\">class = setosa</text>\n",
       "</g>\n",
       "<!-- 2&#45;&gt;3 -->\n",
       "<g id=\"edge3\" class=\"edge\">\n",
       "<title>2&#45;&gt;3</title>\n",
       "<path fill=\"none\" stroke=\"black\" d=\"M227.84,-1293.58C215.01,-1284.32 201.29,-1274.41 188.13,-1264.9\"/>\n",
       "<polygon fill=\"black\" stroke=\"black\" points=\"190.51,-1262.3 180.35,-1259.28 186.41,-1267.98 190.51,-1262.3\"/>\n",
       "</g>\n",
       "<!-- 6 -->\n",
       "<g id=\"node7\" class=\"node\">\n",
       "<title>6</title>\n",
       "<path fill=\"#39e581\" stroke=\"black\" d=\"M336,-1250.5C336,-1250.5 233,-1250.5 233,-1250.5 227,-1250.5 221,-1244.5 221,-1238.5 221,-1238.5 221,-1194.5 221,-1194.5 221,-1188.5 227,-1182.5 233,-1182.5 233,-1182.5 336,-1182.5 336,-1182.5 342,-1182.5 348,-1188.5 348,-1194.5 348,-1194.5 348,-1238.5 348,-1238.5 348,-1244.5 342,-1250.5 336,-1250.5\"/>\n",
       "<text text-anchor=\"start\" x=\"255.5\" y=\"-1235.3\" font-family=\"Helvetica,sans-Serif\" font-size=\"14.00\">gini = 0.0</text>\n",
       "<text text-anchor=\"start\" x=\"245\" y=\"-1220.3\" font-family=\"Helvetica,sans-Serif\" font-size=\"14.00\">samples = 5</text>\n",
       "<text text-anchor=\"start\" x=\"236\" y=\"-1205.3\" font-family=\"Helvetica,sans-Serif\" font-size=\"14.00\">value = [0, 5, 0]</text>\n",
       "<text text-anchor=\"start\" x=\"229\" y=\"-1190.3\" font-family=\"Helvetica,sans-Serif\" font-size=\"14.00\">class = versicolor</text>\n",
       "</g>\n",
       "<!-- 2&#45;&gt;6 -->\n",
       "<g id=\"edge6\" class=\"edge\">\n",
       "<title>2&#45;&gt;6</title>\n",
       "<path fill=\"none\" stroke=\"black\" d=\"M284.5,-1293.58C284.5,-1283.43 284.5,-1272.5 284.5,-1262.18\"/>\n",
       "<polygon fill=\"black\" stroke=\"black\" points=\"288,-1262.37 284.5,-1252.37 281,-1262.37 288,-1262.37\"/>\n",
       "</g>\n",
       "<!-- 4 -->\n",
       "<g id=\"node5\" class=\"node\">\n",
       "<title>4</title>\n",
       "<path fill=\"#e58139\" stroke=\"black\" d=\"M101,-1131.5C101,-1131.5 12,-1131.5 12,-1131.5 6,-1131.5 0,-1125.5 0,-1119.5 0,-1119.5 0,-1075.5 0,-1075.5 0,-1069.5 6,-1063.5 12,-1063.5 12,-1063.5 101,-1063.5 101,-1063.5 107,-1063.5 113,-1069.5 113,-1075.5 113,-1075.5 113,-1119.5 113,-1119.5 113,-1125.5 107,-1131.5 101,-1131.5\"/>\n",
       "<text text-anchor=\"start\" x=\"27.5\" y=\"-1116.3\" font-family=\"Helvetica,sans-Serif\" font-size=\"14.00\">gini = 0.0</text>\n",
       "<text text-anchor=\"start\" x=\"17\" y=\"-1101.3\" font-family=\"Helvetica,sans-Serif\" font-size=\"14.00\">samples = 1</text>\n",
       "<text text-anchor=\"start\" x=\"8\" y=\"-1086.3\" font-family=\"Helvetica,sans-Serif\" font-size=\"14.00\">value = [1, 0, 0]</text>\n",
       "<text text-anchor=\"start\" x=\"10.5\" y=\"-1071.3\" font-family=\"Helvetica,sans-Serif\" font-size=\"14.00\">class = setosa</text>\n",
       "</g>\n",
       "<!-- 3&#45;&gt;4 -->\n",
       "<g id=\"edge4\" class=\"edge\">\n",
       "<title>3&#45;&gt;4</title>\n",
       "<path fill=\"none\" stroke=\"black\" d=\"M99.42,-1174.58C93.44,-1163.99 86.99,-1152.56 80.96,-1141.85\"/>\n",
       "<polygon fill=\"black\" stroke=\"black\" points=\"84.02,-1140.17 76.06,-1133.18 77.93,-1143.61 84.02,-1140.17\"/>\n",
       "</g>\n",
       "<!-- 5 -->\n",
       "<g id=\"node6\" class=\"node\">\n",
       "<title>5</title>\n",
       "<path fill=\"#8139e5\" stroke=\"black\" d=\"M235.5,-1131.5C235.5,-1131.5 143.5,-1131.5 143.5,-1131.5 137.5,-1131.5 131.5,-1125.5 131.5,-1119.5 131.5,-1119.5 131.5,-1075.5 131.5,-1075.5 131.5,-1069.5 137.5,-1063.5 143.5,-1063.5 143.5,-1063.5 235.5,-1063.5 235.5,-1063.5 241.5,-1063.5 247.5,-1069.5 247.5,-1075.5 247.5,-1075.5 247.5,-1119.5 247.5,-1119.5 247.5,-1125.5 241.5,-1131.5 235.5,-1131.5\"/>\n",
       "<text text-anchor=\"start\" x=\"160.5\" y=\"-1116.3\" font-family=\"Helvetica,sans-Serif\" font-size=\"14.00\">gini = 0.0</text>\n",
       "<text text-anchor=\"start\" x=\"150\" y=\"-1101.3\" font-family=\"Helvetica,sans-Serif\" font-size=\"14.00\">samples = 1</text>\n",
       "<text text-anchor=\"start\" x=\"141\" y=\"-1086.3\" font-family=\"Helvetica,sans-Serif\" font-size=\"14.00\">value = [0, 0, 1]</text>\n",
       "<text text-anchor=\"start\" x=\"139.5\" y=\"-1071.3\" font-family=\"Helvetica,sans-Serif\" font-size=\"14.00\">class = virginica</text>\n",
       "</g>\n",
       "<!-- 3&#45;&gt;5 -->\n",
       "<g id=\"edge5\" class=\"edge\">\n",
       "<title>3&#45;&gt;5</title>\n",
       "<path fill=\"none\" stroke=\"black\" d=\"M145.93,-1174.58C152,-1163.99 158.54,-1152.56 164.67,-1141.85\"/>\n",
       "<polygon fill=\"black\" stroke=\"black\" points=\"167.71,-1143.59 169.64,-1133.17 161.64,-1140.11 167.71,-1143.59\"/>\n",
       "</g>\n",
       "<!-- 8 -->\n",
       "<g id=\"node9\" class=\"node\">\n",
       "<title>8</title>\n",
       "<path fill=\"#e58139\" stroke=\"black\" d=\"M475,-1250.5C475,-1250.5 378,-1250.5 378,-1250.5 372,-1250.5 366,-1244.5 366,-1238.5 366,-1238.5 366,-1194.5 366,-1194.5 366,-1188.5 372,-1182.5 378,-1182.5 378,-1182.5 475,-1182.5 475,-1182.5 481,-1182.5 487,-1188.5 487,-1194.5 487,-1194.5 487,-1238.5 487,-1238.5 487,-1244.5 481,-1250.5 475,-1250.5\"/>\n",
       "<text text-anchor=\"start\" x=\"397.5\" y=\"-1235.3\" font-family=\"Helvetica,sans-Serif\" font-size=\"14.00\">gini = 0.0</text>\n",
       "<text text-anchor=\"start\" x=\"383\" y=\"-1220.3\" font-family=\"Helvetica,sans-Serif\" font-size=\"14.00\">samples = 34</text>\n",
       "<text text-anchor=\"start\" x=\"374\" y=\"-1205.3\" font-family=\"Helvetica,sans-Serif\" font-size=\"14.00\">value = [34, 0, 0]</text>\n",
       "<text text-anchor=\"start\" x=\"380.5\" y=\"-1190.3\" font-family=\"Helvetica,sans-Serif\" font-size=\"14.00\">class = setosa</text>\n",
       "</g>\n",
       "<!-- 7&#45;&gt;8 -->\n",
       "<g id=\"edge8\" class=\"edge\">\n",
       "<title>7&#45;&gt;8</title>\n",
       "<path fill=\"none\" stroke=\"black\" d=\"M491.52,-1293.58C482.1,-1282.56 471.9,-1270.61 462.42,-1259.53\"/>\n",
       "<polygon fill=\"black\" stroke=\"black\" points=\"465.16,-1257.34 456,-1252.01 459.83,-1261.89 465.16,-1257.34\"/>\n",
       "</g>\n",
       "<!-- 9 -->\n",
       "<g id=\"node10\" class=\"node\">\n",
       "<title>9</title>\n",
       "<path fill=\"#e9965a\" stroke=\"black\" d=\"M648,-1258C648,-1258 517,-1258 517,-1258 511,-1258 505,-1252 505,-1246 505,-1246 505,-1187 505,-1187 505,-1181 511,-1175 517,-1175 517,-1175 648,-1175 648,-1175 654,-1175 660,-1181 660,-1187 660,-1187 660,-1246 660,-1246 660,-1252 654,-1258 648,-1258\"/>\n",
       "<text text-anchor=\"start\" x=\"513\" y=\"-1242.8\" font-family=\"Helvetica,sans-Serif\" font-size=\"14.00\">sepal width (cm) ≤ 3.2</text>\n",
       "<text text-anchor=\"start\" x=\"545\" y=\"-1227.8\" font-family=\"Helvetica,sans-Serif\" font-size=\"14.00\">gini = 0.245</text>\n",
       "<text text-anchor=\"start\" x=\"543\" y=\"-1212.8\" font-family=\"Helvetica,sans-Serif\" font-size=\"14.00\">samples = 7</text>\n",
       "<text text-anchor=\"start\" x=\"534\" y=\"-1197.8\" font-family=\"Helvetica,sans-Serif\" font-size=\"14.00\">value = [6, 1, 0]</text>\n",
       "<text text-anchor=\"start\" x=\"536.5\" y=\"-1182.8\" font-family=\"Helvetica,sans-Serif\" font-size=\"14.00\">class = setosa</text>\n",
       "</g>\n",
       "<!-- 7&#45;&gt;9 -->\n",
       "<g id=\"edge9\" class=\"edge\">\n",
       "<title>7&#45;&gt;9</title>\n",
       "<path fill=\"none\" stroke=\"black\" d=\"M546.09,-1293.58C549.99,-1285.43 554.13,-1276.77 558.17,-1268.34\"/>\n",
       "<polygon fill=\"black\" stroke=\"black\" points=\"561.21,-1270.1 562.37,-1259.57 554.89,-1267.07 561.21,-1270.1\"/>\n",
       "</g>\n",
       "<!-- 10 -->\n",
       "<g id=\"node11\" class=\"node\">\n",
       "<title>10</title>\n",
       "<path fill=\"#39e581\" stroke=\"black\" d=\"M502,-1131.5C502,-1131.5 399,-1131.5 399,-1131.5 393,-1131.5 387,-1125.5 387,-1119.5 387,-1119.5 387,-1075.5 387,-1075.5 387,-1069.5 393,-1063.5 399,-1063.5 399,-1063.5 502,-1063.5 502,-1063.5 508,-1063.5 514,-1069.5 514,-1075.5 514,-1075.5 514,-1119.5 514,-1119.5 514,-1125.5 508,-1131.5 502,-1131.5\"/>\n",
       "<text text-anchor=\"start\" x=\"421.5\" y=\"-1116.3\" font-family=\"Helvetica,sans-Serif\" font-size=\"14.00\">gini = 0.0</text>\n",
       "<text text-anchor=\"start\" x=\"411\" y=\"-1101.3\" font-family=\"Helvetica,sans-Serif\" font-size=\"14.00\">samples = 1</text>\n",
       "<text text-anchor=\"start\" x=\"402\" y=\"-1086.3\" font-family=\"Helvetica,sans-Serif\" font-size=\"14.00\">value = [0, 1, 0]</text>\n",
       "<text text-anchor=\"start\" x=\"395\" y=\"-1071.3\" font-family=\"Helvetica,sans-Serif\" font-size=\"14.00\">class = versicolor</text>\n",
       "</g>\n",
       "<!-- 9&#45;&gt;10 -->\n",
       "<g id=\"edge10\" class=\"edge\">\n",
       "<title>9&#45;&gt;10</title>\n",
       "<path fill=\"none\" stroke=\"black\" d=\"M536.33,-1174.58C523.4,-1163.12 509.36,-1150.67 496.44,-1139.22\"/>\n",
       "<polygon fill=\"black\" stroke=\"black\" points=\"499.08,-1136.88 489.27,-1132.87 494.43,-1142.12 499.08,-1136.88\"/>\n",
       "</g>\n",
       "<!-- 11 -->\n",
       "<g id=\"node12\" class=\"node\">\n",
       "<title>11</title>\n",
       "<path fill=\"#e58139\" stroke=\"black\" d=\"M633,-1131.5C633,-1131.5 544,-1131.5 544,-1131.5 538,-1131.5 532,-1125.5 532,-1119.5 532,-1119.5 532,-1075.5 532,-1075.5 532,-1069.5 538,-1063.5 544,-1063.5 544,-1063.5 633,-1063.5 633,-1063.5 639,-1063.5 645,-1069.5 645,-1075.5 645,-1075.5 645,-1119.5 645,-1119.5 645,-1125.5 639,-1131.5 633,-1131.5\"/>\n",
       "<text text-anchor=\"start\" x=\"559.5\" y=\"-1116.3\" font-family=\"Helvetica,sans-Serif\" font-size=\"14.00\">gini = 0.0</text>\n",
       "<text text-anchor=\"start\" x=\"549\" y=\"-1101.3\" font-family=\"Helvetica,sans-Serif\" font-size=\"14.00\">samples = 6</text>\n",
       "<text text-anchor=\"start\" x=\"540\" y=\"-1086.3\" font-family=\"Helvetica,sans-Serif\" font-size=\"14.00\">value = [6, 0, 0]</text>\n",
       "<text text-anchor=\"start\" x=\"542.5\" y=\"-1071.3\" font-family=\"Helvetica,sans-Serif\" font-size=\"14.00\">class = setosa</text>\n",
       "</g>\n",
       "<!-- 9&#45;&gt;11 -->\n",
       "<g id=\"edge11\" class=\"edge\">\n",
       "<title>9&#45;&gt;11</title>\n",
       "<path fill=\"none\" stroke=\"black\" d=\"M584.6,-1174.58C585.12,-1164.43 585.68,-1153.5 586.21,-1143.18\"/>\n",
       "<polygon fill=\"black\" stroke=\"black\" points=\"589.69,-1143.54 586.71,-1133.37 582.7,-1143.18 589.69,-1143.54\"/>\n",
       "</g>\n",
       "<!-- 13 -->\n",
       "<g id=\"node14\" class=\"node\">\n",
       "<title>13</title>\n",
       "<path fill=\"#f8fefb\" stroke=\"black\" d=\"M828,-1377C828,-1377 697,-1377 697,-1377 691,-1377 685,-1371 685,-1365 685,-1365 685,-1306 685,-1306 685,-1300 691,-1294 697,-1294 697,-1294 828,-1294 828,-1294 834,-1294 840,-1300 840,-1306 840,-1306 840,-1365 840,-1365 840,-1371 834,-1377 828,-1377\"/>\n",
       "<text text-anchor=\"start\" x=\"693\" y=\"-1361.8\" font-family=\"Helvetica,sans-Serif\" font-size=\"14.00\">sepal width (cm) ≤ 3.6</text>\n",
       "<text text-anchor=\"start\" x=\"725\" y=\"-1346.8\" font-family=\"Helvetica,sans-Serif\" font-size=\"14.00\">gini = 0.533</text>\n",
       "<text text-anchor=\"start\" x=\"719\" y=\"-1331.8\" font-family=\"Helvetica,sans-Serif\" font-size=\"14.00\">samples = 57</text>\n",
       "<text text-anchor=\"start\" x=\"706\" y=\"-1316.8\" font-family=\"Helvetica,sans-Serif\" font-size=\"14.00\">value = [2, 28, 27]</text>\n",
       "<text text-anchor=\"start\" x=\"707\" y=\"-1301.8\" font-family=\"Helvetica,sans-Serif\" font-size=\"14.00\">class = versicolor</text>\n",
       "</g>\n",
       "<!-- 12&#45;&gt;13 -->\n",
       "<g id=\"edge13\" class=\"edge\">\n",
       "<title>12&#45;&gt;13</title>\n",
       "<path fill=\"none\" stroke=\"black\" d=\"M762.5,-1412.58C762.5,-1404.79 762.5,-1396.53 762.5,-1388.45\"/>\n",
       "<polygon fill=\"black\" stroke=\"black\" points=\"766,-1388.71 762.5,-1378.71 759,-1388.71 766,-1388.71\"/>\n",
       "</g>\n",
       "<!-- 74 -->\n",
       "<g id=\"node75\" class=\"node\">\n",
       "<title>74</title>\n",
       "<path fill=\"#8139e5\" stroke=\"black\" d=\"M967,-1369.5C967,-1369.5 870,-1369.5 870,-1369.5 864,-1369.5 858,-1363.5 858,-1357.5 858,-1357.5 858,-1313.5 858,-1313.5 858,-1307.5 864,-1301.5 870,-1301.5 870,-1301.5 967,-1301.5 967,-1301.5 973,-1301.5 979,-1307.5 979,-1313.5 979,-1313.5 979,-1357.5 979,-1357.5 979,-1363.5 973,-1369.5 967,-1369.5\"/>\n",
       "<text text-anchor=\"start\" x=\"889.5\" y=\"-1354.3\" font-family=\"Helvetica,sans-Serif\" font-size=\"14.00\">gini = 0.0</text>\n",
       "<text text-anchor=\"start\" x=\"875\" y=\"-1339.3\" font-family=\"Helvetica,sans-Serif\" font-size=\"14.00\">samples = 10</text>\n",
       "<text text-anchor=\"start\" x=\"866\" y=\"-1324.3\" font-family=\"Helvetica,sans-Serif\" font-size=\"14.00\">value = [0, 0, 10]</text>\n",
       "<text text-anchor=\"start\" x=\"868.5\" y=\"-1309.3\" font-family=\"Helvetica,sans-Serif\" font-size=\"14.00\">class = virginica</text>\n",
       "</g>\n",
       "<!-- 12&#45;&gt;74 -->\n",
       "<g id=\"edge74\" class=\"edge\">\n",
       "<title>12&#45;&gt;74</title>\n",
       "<path fill=\"none\" stroke=\"black\" d=\"M817.06,-1412.58C832.63,-1400.9 849.58,-1388.19 865.08,-1376.57\"/>\n",
       "<polygon fill=\"black\" stroke=\"black\" points=\"866.91,-1379.57 872.81,-1370.77 862.71,-1373.97 866.91,-1379.57\"/>\n",
       "</g>\n",
       "<!-- 14 -->\n",
       "<g id=\"node15\" class=\"node\">\n",
       "<title>14</title>\n",
       "<path fill=\"#f8fefa\" stroke=\"black\" d=\"M835,-1258C835,-1258 690,-1258 690,-1258 684,-1258 678,-1252 678,-1246 678,-1246 678,-1187 678,-1187 678,-1181 684,-1175 690,-1175 690,-1175 835,-1175 835,-1175 841,-1175 847,-1181 847,-1187 847,-1187 847,-1246 847,-1246 847,-1252 841,-1258 835,-1258\"/>\n",
       "<text text-anchor=\"start\" x=\"686\" y=\"-1242.8\" font-family=\"Helvetica,sans-Serif\" font-size=\"14.00\">sepal length (cm) ≤ 6.05</text>\n",
       "<text text-anchor=\"start\" x=\"733.5\" y=\"-1227.8\" font-family=\"Helvetica,sans-Serif\" font-size=\"14.00\">gini = 0.5</text>\n",
       "<text text-anchor=\"start\" x=\"719\" y=\"-1212.8\" font-family=\"Helvetica,sans-Serif\" font-size=\"14.00\">samples = 55</text>\n",
       "<text text-anchor=\"start\" x=\"706\" y=\"-1197.8\" font-family=\"Helvetica,sans-Serif\" font-size=\"14.00\">value = [0, 28, 27]</text>\n",
       "<text text-anchor=\"start\" x=\"707\" y=\"-1182.8\" font-family=\"Helvetica,sans-Serif\" font-size=\"14.00\">class = versicolor</text>\n",
       "</g>\n",
       "<!-- 13&#45;&gt;14 -->\n",
       "<g id=\"edge14\" class=\"edge\">\n",
       "<title>13&#45;&gt;14</title>\n",
       "<path fill=\"none\" stroke=\"black\" d=\"M762.5,-1293.58C762.5,-1285.79 762.5,-1277.53 762.5,-1269.45\"/>\n",
       "<polygon fill=\"black\" stroke=\"black\" points=\"766,-1269.71 762.5,-1259.71 759,-1269.71 766,-1269.71\"/>\n",
       "</g>\n",
       "<!-- 73 -->\n",
       "<g id=\"node74\" class=\"node\">\n",
       "<title>73</title>\n",
       "<path fill=\"#e58139\" stroke=\"black\" d=\"M966,-1250.5C966,-1250.5 877,-1250.5 877,-1250.5 871,-1250.5 865,-1244.5 865,-1238.5 865,-1238.5 865,-1194.5 865,-1194.5 865,-1188.5 871,-1182.5 877,-1182.5 877,-1182.5 966,-1182.5 966,-1182.5 972,-1182.5 978,-1188.5 978,-1194.5 978,-1194.5 978,-1238.5 978,-1238.5 978,-1244.5 972,-1250.5 966,-1250.5\"/>\n",
       "<text text-anchor=\"start\" x=\"892.5\" y=\"-1235.3\" font-family=\"Helvetica,sans-Serif\" font-size=\"14.00\">gini = 0.0</text>\n",
       "<text text-anchor=\"start\" x=\"882\" y=\"-1220.3\" font-family=\"Helvetica,sans-Serif\" font-size=\"14.00\">samples = 2</text>\n",
       "<text text-anchor=\"start\" x=\"873\" y=\"-1205.3\" font-family=\"Helvetica,sans-Serif\" font-size=\"14.00\">value = [2, 0, 0]</text>\n",
       "<text text-anchor=\"start\" x=\"875.5\" y=\"-1190.3\" font-family=\"Helvetica,sans-Serif\" font-size=\"14.00\">class = setosa</text>\n",
       "</g>\n",
       "<!-- 13&#45;&gt;73 -->\n",
       "<g id=\"edge73\" class=\"edge\">\n",
       "<title>13&#45;&gt;73</title>\n",
       "<path fill=\"none\" stroke=\"black\" d=\"M818.11,-1293.58C833.98,-1281.9 851.25,-1269.19 867.05,-1257.57\"/>\n",
       "<polygon fill=\"black\" stroke=\"black\" points=\"868.96,-1260.5 874.94,-1251.76 864.82,-1254.87 868.96,-1260.5\"/>\n",
       "</g>\n",
       "<!-- 15 -->\n",
       "<g id=\"node16\" class=\"node\">\n",
       "<title>15</title>\n",
       "<path fill=\"#8ef0b7\" stroke=\"black\" d=\"M826,-1139C826,-1139 687,-1139 687,-1139 681,-1139 675,-1133 675,-1127 675,-1127 675,-1068 675,-1068 675,-1062 681,-1056 687,-1056 687,-1056 826,-1056 826,-1056 832,-1056 838,-1062 838,-1068 838,-1068 838,-1127 838,-1127 838,-1133 832,-1139 826,-1139\"/>\n",
       "<text text-anchor=\"start\" x=\"683\" y=\"-1123.8\" font-family=\"Helvetica,sans-Serif\" font-size=\"14.00\">sepal width (cm) ≤ 2.85</text>\n",
       "<text text-anchor=\"start\" x=\"723\" y=\"-1108.8\" font-family=\"Helvetica,sans-Serif\" font-size=\"14.00\">gini = 0.42</text>\n",
       "<text text-anchor=\"start\" x=\"713\" y=\"-1093.8\" font-family=\"Helvetica,sans-Serif\" font-size=\"14.00\">samples = 20</text>\n",
       "<text text-anchor=\"start\" x=\"704\" y=\"-1078.8\" font-family=\"Helvetica,sans-Serif\" font-size=\"14.00\">value = [0, 14, 6]</text>\n",
       "<text text-anchor=\"start\" x=\"701\" y=\"-1063.8\" font-family=\"Helvetica,sans-Serif\" font-size=\"14.00\">class = versicolor</text>\n",
       "</g>\n",
       "<!-- 14&#45;&gt;15 -->\n",
       "<g id=\"edge15\" class=\"edge\">\n",
       "<title>14&#45;&gt;15</title>\n",
       "<path fill=\"none\" stroke=\"black\" d=\"M760.4,-1174.58C760,-1166.79 759.58,-1158.53 759.16,-1150.45\"/>\n",
       "<polygon fill=\"black\" stroke=\"black\" points=\"762.67,-1150.52 758.66,-1140.71 755.68,-1150.88 762.67,-1150.52\"/>\n",
       "</g>\n",
       "<!-- 36 -->\n",
       "<g id=\"node37\" class=\"node\">\n",
       "<title>36</title>\n",
       "<path fill=\"#d5bdf6\" stroke=\"black\" d=\"M1127,-1139C1127,-1139 988,-1139 988,-1139 982,-1139 976,-1133 976,-1127 976,-1127 976,-1068 976,-1068 976,-1062 982,-1056 988,-1056 988,-1056 1127,-1056 1127,-1056 1133,-1056 1139,-1062 1139,-1068 1139,-1068 1139,-1127 1139,-1127 1139,-1133 1133,-1139 1127,-1139\"/>\n",
       "<text text-anchor=\"start\" x=\"984\" y=\"-1123.8\" font-family=\"Helvetica,sans-Serif\" font-size=\"14.00\">sepal width (cm) ≤ 2.85</text>\n",
       "<text text-anchor=\"start\" x=\"1024\" y=\"-1108.8\" font-family=\"Helvetica,sans-Serif\" font-size=\"14.00\">gini = 0.48</text>\n",
       "<text text-anchor=\"start\" x=\"1014\" y=\"-1093.8\" font-family=\"Helvetica,sans-Serif\" font-size=\"14.00\">samples = 35</text>\n",
       "<text text-anchor=\"start\" x=\"1001\" y=\"-1078.8\" font-family=\"Helvetica,sans-Serif\" font-size=\"14.00\">value = [0, 14, 21]</text>\n",
       "<text text-anchor=\"start\" x=\"1007.5\" y=\"-1063.8\" font-family=\"Helvetica,sans-Serif\" font-size=\"14.00\">class = virginica</text>\n",
       "</g>\n",
       "<!-- 14&#45;&gt;36 -->\n",
       "<g id=\"edge36\" class=\"edge\">\n",
       "<title>14&#45;&gt;36</title>\n",
       "<path fill=\"none\" stroke=\"black\" d=\"M847.32,-1178.36C850.08,-1177.22 852.81,-1176.09 855.5,-1175 891.07,-1160.53 930.51,-1145.39 965.03,-1132.44\"/>\n",
       "<polygon fill=\"black\" stroke=\"black\" points=\"966.01,-1135.81 974.15,-1129.03 963.56,-1129.25 966.01,-1135.81\"/>\n",
       "</g>\n",
       "<!-- 16 -->\n",
       "<g id=\"node17\" class=\"node\">\n",
       "<title>16</title>\n",
       "<path fill=\"#c6f8db\" stroke=\"black\" d=\"M587,-1020C587,-1020 448,-1020 448,-1020 442,-1020 436,-1014 436,-1008 436,-1008 436,-949 436,-949 436,-943 442,-937 448,-937 448,-937 587,-937 587,-937 593,-937 599,-943 599,-949 599,-949 599,-1008 599,-1008 599,-1014 593,-1020 587,-1020\"/>\n",
       "<text text-anchor=\"start\" x=\"444\" y=\"-1004.8\" font-family=\"Helvetica,sans-Serif\" font-size=\"14.00\">sepal width (cm) ≤ 2.75</text>\n",
       "<text text-anchor=\"start\" x=\"480\" y=\"-989.8\" font-family=\"Helvetica,sans-Serif\" font-size=\"14.00\">gini = 0.486</text>\n",
       "<text text-anchor=\"start\" x=\"474\" y=\"-974.8\" font-family=\"Helvetica,sans-Serif\" font-size=\"14.00\">samples = 12</text>\n",
       "<text text-anchor=\"start\" x=\"469\" y=\"-959.8\" font-family=\"Helvetica,sans-Serif\" font-size=\"14.00\">value = [0, 7, 5]</text>\n",
       "<text text-anchor=\"start\" x=\"462\" y=\"-944.8\" font-family=\"Helvetica,sans-Serif\" font-size=\"14.00\">class = versicolor</text>\n",
       "</g>\n",
       "<!-- 15&#45;&gt;16 -->\n",
       "<g id=\"edge16\" class=\"edge\">\n",
       "<title>15&#45;&gt;16</title>\n",
       "<path fill=\"none\" stroke=\"black\" d=\"M674.58,-1056.4C653.59,-1046.12 630.87,-1035 609.4,-1024.49\"/>\n",
       "<polygon fill=\"black\" stroke=\"black\" points=\"611.19,-1021.47 600.67,-1020.21 608.11,-1027.75 611.19,-1021.47\"/>\n",
       "</g>\n",
       "<!-- 31 -->\n",
       "<g id=\"node32\" class=\"node\">\n",
       "<title>31</title>\n",
       "<path fill=\"#55e993\" stroke=\"black\" d=\"M825,-1020C825,-1020 688,-1020 688,-1020 682,-1020 676,-1014 676,-1008 676,-1008 676,-949 676,-949 676,-943 682,-937 688,-937 688,-937 825,-937 825,-937 831,-937 837,-943 837,-949 837,-949 837,-1008 837,-1008 837,-1014 831,-1020 825,-1020\"/>\n",
       "<text text-anchor=\"start\" x=\"684\" y=\"-1004.8\" font-family=\"Helvetica,sans-Serif\" font-size=\"14.00\">sepal length (cm) ≤ 5.8</text>\n",
       "<text text-anchor=\"start\" x=\"719\" y=\"-989.8\" font-family=\"Helvetica,sans-Serif\" font-size=\"14.00\">gini = 0.219</text>\n",
       "<text text-anchor=\"start\" x=\"717\" y=\"-974.8\" font-family=\"Helvetica,sans-Serif\" font-size=\"14.00\">samples = 8</text>\n",
       "<text text-anchor=\"start\" x=\"708\" y=\"-959.8\" font-family=\"Helvetica,sans-Serif\" font-size=\"14.00\">value = [0, 7, 1]</text>\n",
       "<text text-anchor=\"start\" x=\"701\" y=\"-944.8\" font-family=\"Helvetica,sans-Serif\" font-size=\"14.00\">class = versicolor</text>\n",
       "</g>\n",
       "<!-- 15&#45;&gt;31 -->\n",
       "<g id=\"edge31\" class=\"edge\">\n",
       "<title>15&#45;&gt;31</title>\n",
       "<path fill=\"none\" stroke=\"black\" d=\"M756.5,-1055.58C756.5,-1047.79 756.5,-1039.53 756.5,-1031.45\"/>\n",
       "<polygon fill=\"black\" stroke=\"black\" points=\"760,-1031.71 756.5,-1021.71 753,-1031.71 760,-1031.71\"/>\n",
       "</g>\n",
       "<!-- 17 -->\n",
       "<g id=\"node18\" class=\"node\">\n",
       "<title>17</title>\n",
       "<path fill=\"#8ef0b7\" stroke=\"black\" d=\"M429,-901C429,-901 290,-901 290,-901 284,-901 278,-895 278,-889 278,-889 278,-830 278,-830 278,-824 284,-818 290,-818 290,-818 429,-818 429,-818 435,-818 441,-824 441,-830 441,-830 441,-889 441,-889 441,-895 435,-901 429,-901\"/>\n",
       "<text text-anchor=\"start\" x=\"286\" y=\"-885.8\" font-family=\"Helvetica,sans-Serif\" font-size=\"14.00\">sepal width (cm) ≤ 2.55</text>\n",
       "<text text-anchor=\"start\" x=\"326\" y=\"-870.8\" font-family=\"Helvetica,sans-Serif\" font-size=\"14.00\">gini = 0.42</text>\n",
       "<text text-anchor=\"start\" x=\"316\" y=\"-855.8\" font-family=\"Helvetica,sans-Serif\" font-size=\"14.00\">samples = 10</text>\n",
       "<text text-anchor=\"start\" x=\"311\" y=\"-840.8\" font-family=\"Helvetica,sans-Serif\" font-size=\"14.00\">value = [0, 7, 3]</text>\n",
       "<text text-anchor=\"start\" x=\"304\" y=\"-825.8\" font-family=\"Helvetica,sans-Serif\" font-size=\"14.00\">class = versicolor</text>\n",
       "</g>\n",
       "<!-- 16&#45;&gt;17 -->\n",
       "<g id=\"edge17\" class=\"edge\">\n",
       "<title>16&#45;&gt;17</title>\n",
       "<path fill=\"none\" stroke=\"black\" d=\"M462.24,-936.58C449.85,-927.41 436.6,-917.6 423.88,-908.17\"/>\n",
       "<polygon fill=\"black\" stroke=\"black\" points=\"426.07,-905.44 415.95,-902.3 421.9,-911.06 426.07,-905.44\"/>\n",
       "</g>\n",
       "<!-- 30 -->\n",
       "<g id=\"node31\" class=\"node\">\n",
       "<title>30</title>\n",
       "<path fill=\"#8139e5\" stroke=\"black\" d=\"M563.5,-893.5C563.5,-893.5 471.5,-893.5 471.5,-893.5 465.5,-893.5 459.5,-887.5 459.5,-881.5 459.5,-881.5 459.5,-837.5 459.5,-837.5 459.5,-831.5 465.5,-825.5 471.5,-825.5 471.5,-825.5 563.5,-825.5 563.5,-825.5 569.5,-825.5 575.5,-831.5 575.5,-837.5 575.5,-837.5 575.5,-881.5 575.5,-881.5 575.5,-887.5 569.5,-893.5 563.5,-893.5\"/>\n",
       "<text text-anchor=\"start\" x=\"488.5\" y=\"-878.3\" font-family=\"Helvetica,sans-Serif\" font-size=\"14.00\">gini = 0.0</text>\n",
       "<text text-anchor=\"start\" x=\"478\" y=\"-863.3\" font-family=\"Helvetica,sans-Serif\" font-size=\"14.00\">samples = 2</text>\n",
       "<text text-anchor=\"start\" x=\"469\" y=\"-848.3\" font-family=\"Helvetica,sans-Serif\" font-size=\"14.00\">value = [0, 0, 2]</text>\n",
       "<text text-anchor=\"start\" x=\"467.5\" y=\"-833.3\" font-family=\"Helvetica,sans-Serif\" font-size=\"14.00\">class = virginica</text>\n",
       "</g>\n",
       "<!-- 16&#45;&gt;30 -->\n",
       "<g id=\"edge30\" class=\"edge\">\n",
       "<title>16&#45;&gt;30</title>\n",
       "<path fill=\"none\" stroke=\"black\" d=\"M517.5,-936.58C517.5,-926.43 517.5,-915.5 517.5,-905.18\"/>\n",
       "<polygon fill=\"black\" stroke=\"black\" points=\"521,-905.37 517.5,-895.37 514,-905.37 521,-905.37\"/>\n",
       "</g>\n",
       "<!-- 18 -->\n",
       "<g id=\"node19\" class=\"node\">\n",
       "<title>18</title>\n",
       "<path fill=\"#ffffff\" stroke=\"black\" d=\"M397,-782C397,-782 252,-782 252,-782 246,-782 240,-776 240,-770 240,-770 240,-711 240,-711 240,-705 246,-699 252,-699 252,-699 397,-699 397,-699 403,-699 409,-705 409,-711 409,-711 409,-770 409,-770 409,-776 403,-782 397,-782\"/>\n",
       "<text text-anchor=\"start\" x=\"248\" y=\"-766.8\" font-family=\"Helvetica,sans-Serif\" font-size=\"14.00\">sepal length (cm) ≤ 5.65</text>\n",
       "<text text-anchor=\"start\" x=\"295.5\" y=\"-751.8\" font-family=\"Helvetica,sans-Serif\" font-size=\"14.00\">gini = 0.5</text>\n",
       "<text text-anchor=\"start\" x=\"285\" y=\"-736.8\" font-family=\"Helvetica,sans-Serif\" font-size=\"14.00\">samples = 4</text>\n",
       "<text text-anchor=\"start\" x=\"276\" y=\"-721.8\" font-family=\"Helvetica,sans-Serif\" font-size=\"14.00\">value = [0, 2, 2]</text>\n",
       "<text text-anchor=\"start\" x=\"269\" y=\"-706.8\" font-family=\"Helvetica,sans-Serif\" font-size=\"14.00\">class = versicolor</text>\n",
       "</g>\n",
       "<!-- 17&#45;&gt;18 -->\n",
       "<g id=\"edge18\" class=\"edge\">\n",
       "<title>17&#45;&gt;18</title>\n",
       "<path fill=\"none\" stroke=\"black\" d=\"M347.26,-817.58C344.9,-809.7 342.4,-801.34 339.96,-793.17\"/>\n",
       "<polygon fill=\"black\" stroke=\"black\" points=\"343.33,-792.23 337.11,-783.65 336.62,-794.23 343.33,-792.23\"/>\n",
       "</g>\n",
       "<!-- 23 -->\n",
       "<g id=\"node24\" class=\"node\">\n",
       "<title>23</title>\n",
       "<path fill=\"#61ea9a\" stroke=\"black\" d=\"M578,-782C578,-782 439,-782 439,-782 433,-782 427,-776 427,-770 427,-770 427,-711 427,-711 427,-705 433,-699 439,-699 439,-699 578,-699 578,-699 584,-699 590,-705 590,-711 590,-711 590,-770 590,-770 590,-776 584,-782 578,-782\"/>\n",
       "<text text-anchor=\"start\" x=\"435\" y=\"-766.8\" font-family=\"Helvetica,sans-Serif\" font-size=\"14.00\">sepal width (cm) ≤ 2.65</text>\n",
       "<text text-anchor=\"start\" x=\"471\" y=\"-751.8\" font-family=\"Helvetica,sans-Serif\" font-size=\"14.00\">gini = 0.278</text>\n",
       "<text text-anchor=\"start\" x=\"469\" y=\"-736.8\" font-family=\"Helvetica,sans-Serif\" font-size=\"14.00\">samples = 6</text>\n",
       "<text text-anchor=\"start\" x=\"460\" y=\"-721.8\" font-family=\"Helvetica,sans-Serif\" font-size=\"14.00\">value = [0, 5, 1]</text>\n",
       "<text text-anchor=\"start\" x=\"453\" y=\"-706.8\" font-family=\"Helvetica,sans-Serif\" font-size=\"14.00\">class = versicolor</text>\n",
       "</g>\n",
       "<!-- 17&#45;&gt;23 -->\n",
       "<g id=\"edge23\" class=\"edge\">\n",
       "<title>17&#45;&gt;23</title>\n",
       "<path fill=\"none\" stroke=\"black\" d=\"M411.61,-817.58C423.18,-808.49 435.55,-798.79 447.44,-789.45\"/>\n",
       "<polygon fill=\"black\" stroke=\"black\" points=\"449.52,-792.26 455.23,-783.33 445.2,-786.76 449.52,-792.26\"/>\n",
       "</g>\n",
       "<!-- 19 -->\n",
       "<g id=\"node20\" class=\"node\">\n",
       "<title>19</title>\n",
       "<path fill=\"#39e581\" stroke=\"black\" d=\"M221,-655.5C221,-655.5 118,-655.5 118,-655.5 112,-655.5 106,-649.5 106,-643.5 106,-643.5 106,-599.5 106,-599.5 106,-593.5 112,-587.5 118,-587.5 118,-587.5 221,-587.5 221,-587.5 227,-587.5 233,-593.5 233,-599.5 233,-599.5 233,-643.5 233,-643.5 233,-649.5 227,-655.5 221,-655.5\"/>\n",
       "<text text-anchor=\"start\" x=\"140.5\" y=\"-640.3\" font-family=\"Helvetica,sans-Serif\" font-size=\"14.00\">gini = 0.0</text>\n",
       "<text text-anchor=\"start\" x=\"130\" y=\"-625.3\" font-family=\"Helvetica,sans-Serif\" font-size=\"14.00\">samples = 1</text>\n",
       "<text text-anchor=\"start\" x=\"121\" y=\"-610.3\" font-family=\"Helvetica,sans-Serif\" font-size=\"14.00\">value = [0, 1, 0]</text>\n",
       "<text text-anchor=\"start\" x=\"114\" y=\"-595.3\" font-family=\"Helvetica,sans-Serif\" font-size=\"14.00\">class = versicolor</text>\n",
       "</g>\n",
       "<!-- 18&#45;&gt;19 -->\n",
       "<g id=\"edge19\" class=\"edge\">\n",
       "<title>18&#45;&gt;19</title>\n",
       "<path fill=\"none\" stroke=\"black\" d=\"M270.29,-698.58C254.82,-686.9 237.98,-674.19 222.58,-662.57\"/>\n",
       "<polygon fill=\"black\" stroke=\"black\" points=\"224.99,-660 214.9,-656.77 220.78,-665.59 224.99,-660\"/>\n",
       "</g>\n",
       "<!-- 20 -->\n",
       "<g id=\"node21\" class=\"node\">\n",
       "<title>20</title>\n",
       "<path fill=\"#c09cf2\" stroke=\"black\" d=\"M402,-663C402,-663 263,-663 263,-663 257,-663 251,-657 251,-651 251,-651 251,-592 251,-592 251,-586 257,-580 263,-580 263,-580 402,-580 402,-580 408,-580 414,-586 414,-592 414,-592 414,-651 414,-651 414,-657 408,-663 402,-663\"/>\n",
       "<text text-anchor=\"start\" x=\"259\" y=\"-647.8\" font-family=\"Helvetica,sans-Serif\" font-size=\"14.00\">sepal width (cm) ≤ 2.35</text>\n",
       "<text text-anchor=\"start\" x=\"295\" y=\"-632.8\" font-family=\"Helvetica,sans-Serif\" font-size=\"14.00\">gini = 0.444</text>\n",
       "<text text-anchor=\"start\" x=\"293\" y=\"-617.8\" font-family=\"Helvetica,sans-Serif\" font-size=\"14.00\">samples = 3</text>\n",
       "<text text-anchor=\"start\" x=\"284\" y=\"-602.8\" font-family=\"Helvetica,sans-Serif\" font-size=\"14.00\">value = [0, 1, 2]</text>\n",
       "<text text-anchor=\"start\" x=\"282.5\" y=\"-587.8\" font-family=\"Helvetica,sans-Serif\" font-size=\"14.00\">class = virginica</text>\n",
       "</g>\n",
       "<!-- 18&#45;&gt;20 -->\n",
       "<g id=\"edge20\" class=\"edge\">\n",
       "<title>18&#45;&gt;20</title>\n",
       "<path fill=\"none\" stroke=\"black\" d=\"M327.3,-698.58C327.83,-690.79 328.4,-682.53 328.95,-674.45\"/>\n",
       "<polygon fill=\"black\" stroke=\"black\" points=\"332.42,-674.93 329.61,-664.71 325.44,-674.45 332.42,-674.93\"/>\n",
       "</g>\n",
       "<!-- 21 -->\n",
       "<g id=\"node22\" class=\"node\">\n",
       "<title>21</title>\n",
       "<path fill=\"#ffffff\" stroke=\"black\" d=\"M314,-536.5C314,-536.5 211,-536.5 211,-536.5 205,-536.5 199,-530.5 199,-524.5 199,-524.5 199,-480.5 199,-480.5 199,-474.5 205,-468.5 211,-468.5 211,-468.5 314,-468.5 314,-468.5 320,-468.5 326,-474.5 326,-480.5 326,-480.5 326,-524.5 326,-524.5 326,-530.5 320,-536.5 314,-536.5\"/>\n",
       "<text text-anchor=\"start\" x=\"233.5\" y=\"-521.3\" font-family=\"Helvetica,sans-Serif\" font-size=\"14.00\">gini = 0.5</text>\n",
       "<text text-anchor=\"start\" x=\"223\" y=\"-506.3\" font-family=\"Helvetica,sans-Serif\" font-size=\"14.00\">samples = 2</text>\n",
       "<text text-anchor=\"start\" x=\"214\" y=\"-491.3\" font-family=\"Helvetica,sans-Serif\" font-size=\"14.00\">value = [0, 1, 1]</text>\n",
       "<text text-anchor=\"start\" x=\"207\" y=\"-476.3\" font-family=\"Helvetica,sans-Serif\" font-size=\"14.00\">class = versicolor</text>\n",
       "</g>\n",
       "<!-- 20&#45;&gt;21 -->\n",
       "<g id=\"edge21\" class=\"edge\">\n",
       "<title>20&#45;&gt;21</title>\n",
       "<path fill=\"none\" stroke=\"black\" d=\"M308.02,-579.58C301.62,-568.88 294.7,-557.32 288.24,-546.52\"/>\n",
       "<polygon fill=\"black\" stroke=\"black\" points=\"291.37,-544.94 283.24,-538.16 285.37,-548.54 291.37,-544.94\"/>\n",
       "</g>\n",
       "<!-- 22 -->\n",
       "<g id=\"node23\" class=\"node\">\n",
       "<title>22</title>\n",
       "<path fill=\"#8139e5\" stroke=\"black\" d=\"M448.5,-536.5C448.5,-536.5 356.5,-536.5 356.5,-536.5 350.5,-536.5 344.5,-530.5 344.5,-524.5 344.5,-524.5 344.5,-480.5 344.5,-480.5 344.5,-474.5 350.5,-468.5 356.5,-468.5 356.5,-468.5 448.5,-468.5 448.5,-468.5 454.5,-468.5 460.5,-474.5 460.5,-480.5 460.5,-480.5 460.5,-524.5 460.5,-524.5 460.5,-530.5 454.5,-536.5 448.5,-536.5\"/>\n",
       "<text text-anchor=\"start\" x=\"373.5\" y=\"-521.3\" font-family=\"Helvetica,sans-Serif\" font-size=\"14.00\">gini = 0.0</text>\n",
       "<text text-anchor=\"start\" x=\"363\" y=\"-506.3\" font-family=\"Helvetica,sans-Serif\" font-size=\"14.00\">samples = 1</text>\n",
       "<text text-anchor=\"start\" x=\"354\" y=\"-491.3\" font-family=\"Helvetica,sans-Serif\" font-size=\"14.00\">value = [0, 0, 1]</text>\n",
       "<text text-anchor=\"start\" x=\"352.5\" y=\"-476.3\" font-family=\"Helvetica,sans-Serif\" font-size=\"14.00\">class = virginica</text>\n",
       "</g>\n",
       "<!-- 20&#45;&gt;22 -->\n",
       "<g id=\"edge22\" class=\"edge\">\n",
       "<title>20&#45;&gt;22</title>\n",
       "<path fill=\"none\" stroke=\"black\" d=\"M356.98,-579.58C363.38,-568.88 370.3,-557.32 376.76,-546.52\"/>\n",
       "<polygon fill=\"black\" stroke=\"black\" points=\"379.63,-548.54 381.76,-538.16 373.63,-544.94 379.63,-548.54\"/>\n",
       "</g>\n",
       "<!-- 24 -->\n",
       "<g id=\"node25\" class=\"node\">\n",
       "<title>24</title>\n",
       "<path fill=\"#39e581\" stroke=\"black\" d=\"M557,-655.5C557,-655.5 454,-655.5 454,-655.5 448,-655.5 442,-649.5 442,-643.5 442,-643.5 442,-599.5 442,-599.5 442,-593.5 448,-587.5 454,-587.5 454,-587.5 557,-587.5 557,-587.5 563,-587.5 569,-593.5 569,-599.5 569,-599.5 569,-643.5 569,-643.5 569,-649.5 563,-655.5 557,-655.5\"/>\n",
       "<text text-anchor=\"start\" x=\"476.5\" y=\"-640.3\" font-family=\"Helvetica,sans-Serif\" font-size=\"14.00\">gini = 0.0</text>\n",
       "<text text-anchor=\"start\" x=\"466\" y=\"-625.3\" font-family=\"Helvetica,sans-Serif\" font-size=\"14.00\">samples = 2</text>\n",
       "<text text-anchor=\"start\" x=\"457\" y=\"-610.3\" font-family=\"Helvetica,sans-Serif\" font-size=\"14.00\">value = [0, 2, 0]</text>\n",
       "<text text-anchor=\"start\" x=\"450\" y=\"-595.3\" font-family=\"Helvetica,sans-Serif\" font-size=\"14.00\">class = versicolor</text>\n",
       "</g>\n",
       "<!-- 23&#45;&gt;24 -->\n",
       "<g id=\"edge24\" class=\"edge\">\n",
       "<title>23&#45;&gt;24</title>\n",
       "<path fill=\"none\" stroke=\"black\" d=\"M507.45,-698.58C507.19,-688.43 506.91,-677.5 506.65,-667.18\"/>\n",
       "<polygon fill=\"black\" stroke=\"black\" points=\"510.15,-667.28 506.39,-657.37 503.15,-667.46 510.15,-667.28\"/>\n",
       "</g>\n",
       "<!-- 25 -->\n",
       "<g id=\"node26\" class=\"node\">\n",
       "<title>25</title>\n",
       "<path fill=\"#7beeab\" stroke=\"black\" d=\"M736,-663C736,-663 599,-663 599,-663 593,-663 587,-657 587,-651 587,-651 587,-592 587,-592 587,-586 593,-580 599,-580 599,-580 736,-580 736,-580 742,-580 748,-586 748,-592 748,-592 748,-651 748,-651 748,-657 742,-663 736,-663\"/>\n",
       "<text text-anchor=\"start\" x=\"595\" y=\"-647.8\" font-family=\"Helvetica,sans-Serif\" font-size=\"14.00\">sepal length (cm) ≤ 5.7</text>\n",
       "<text text-anchor=\"start\" x=\"630\" y=\"-632.8\" font-family=\"Helvetica,sans-Serif\" font-size=\"14.00\">gini = 0.375</text>\n",
       "<text text-anchor=\"start\" x=\"628\" y=\"-617.8\" font-family=\"Helvetica,sans-Serif\" font-size=\"14.00\">samples = 4</text>\n",
       "<text text-anchor=\"start\" x=\"619\" y=\"-602.8\" font-family=\"Helvetica,sans-Serif\" font-size=\"14.00\">value = [0, 3, 1]</text>\n",
       "<text text-anchor=\"start\" x=\"612\" y=\"-587.8\" font-family=\"Helvetica,sans-Serif\" font-size=\"14.00\">class = versicolor</text>\n",
       "</g>\n",
       "<!-- 23&#45;&gt;25 -->\n",
       "<g id=\"edge25\" class=\"edge\">\n",
       "<title>23&#45;&gt;25</title>\n",
       "<path fill=\"none\" stroke=\"black\" d=\"M564.11,-698.58C576.58,-689.41 589.91,-679.6 602.71,-670.17\"/>\n",
       "<polygon fill=\"black\" stroke=\"black\" points=\"604.72,-673.04 610.7,-664.29 600.57,-667.4 604.72,-673.04\"/>\n",
       "</g>\n",
       "<!-- 26 -->\n",
       "<g id=\"node27\" class=\"node\">\n",
       "<title>26</title>\n",
       "<path fill=\"#39e581\" stroke=\"black\" d=\"M715,-536.5C715,-536.5 612,-536.5 612,-536.5 606,-536.5 600,-530.5 600,-524.5 600,-524.5 600,-480.5 600,-480.5 600,-474.5 606,-468.5 612,-468.5 612,-468.5 715,-468.5 715,-468.5 721,-468.5 727,-474.5 727,-480.5 727,-480.5 727,-524.5 727,-524.5 727,-530.5 721,-536.5 715,-536.5\"/>\n",
       "<text text-anchor=\"start\" x=\"634.5\" y=\"-521.3\" font-family=\"Helvetica,sans-Serif\" font-size=\"14.00\">gini = 0.0</text>\n",
       "<text text-anchor=\"start\" x=\"624\" y=\"-506.3\" font-family=\"Helvetica,sans-Serif\" font-size=\"14.00\">samples = 1</text>\n",
       "<text text-anchor=\"start\" x=\"615\" y=\"-491.3\" font-family=\"Helvetica,sans-Serif\" font-size=\"14.00\">value = [0, 1, 0]</text>\n",
       "<text text-anchor=\"start\" x=\"608\" y=\"-476.3\" font-family=\"Helvetica,sans-Serif\" font-size=\"14.00\">class = versicolor</text>\n",
       "</g>\n",
       "<!-- 25&#45;&gt;26 -->\n",
       "<g id=\"edge26\" class=\"edge\">\n",
       "<title>25&#45;&gt;26</title>\n",
       "<path fill=\"none\" stroke=\"black\" d=\"M666.1,-579.58C665.75,-569.43 665.38,-558.5 665.03,-548.18\"/>\n",
       "<polygon fill=\"black\" stroke=\"black\" points=\"668.53,-548.25 664.69,-538.37 661.54,-548.49 668.53,-548.25\"/>\n",
       "</g>\n",
       "<!-- 27 -->\n",
       "<g id=\"node28\" class=\"node\">\n",
       "<title>27</title>\n",
       "<path fill=\"#9cf2c0\" stroke=\"black\" d=\"M894,-544C894,-544 757,-544 757,-544 751,-544 745,-538 745,-532 745,-532 745,-473 745,-473 745,-467 751,-461 757,-461 757,-461 894,-461 894,-461 900,-461 906,-467 906,-473 906,-473 906,-532 906,-532 906,-538 900,-544 894,-544\"/>\n",
       "<text text-anchor=\"start\" x=\"753\" y=\"-528.8\" font-family=\"Helvetica,sans-Serif\" font-size=\"14.00\">sepal length (cm) ≤ 5.9</text>\n",
       "<text text-anchor=\"start\" x=\"788\" y=\"-513.8\" font-family=\"Helvetica,sans-Serif\" font-size=\"14.00\">gini = 0.444</text>\n",
       "<text text-anchor=\"start\" x=\"786\" y=\"-498.8\" font-family=\"Helvetica,sans-Serif\" font-size=\"14.00\">samples = 3</text>\n",
       "<text text-anchor=\"start\" x=\"777\" y=\"-483.8\" font-family=\"Helvetica,sans-Serif\" font-size=\"14.00\">value = [0, 2, 1]</text>\n",
       "<text text-anchor=\"start\" x=\"770\" y=\"-468.8\" font-family=\"Helvetica,sans-Serif\" font-size=\"14.00\">class = versicolor</text>\n",
       "</g>\n",
       "<!-- 25&#45;&gt;27 -->\n",
       "<g id=\"edge27\" class=\"edge\">\n",
       "<title>25&#45;&gt;27</title>\n",
       "<path fill=\"none\" stroke=\"black\" d=\"M722.76,-579.58C735.15,-570.41 748.4,-560.6 761.12,-551.17\"/>\n",
       "<polygon fill=\"black\" stroke=\"black\" points=\"763.1,-554.06 769.05,-545.3 758.93,-548.44 763.1,-554.06\"/>\n",
       "</g>\n",
       "<!-- 28 -->\n",
       "<g id=\"node29\" class=\"node\">\n",
       "<title>28</title>\n",
       "<path fill=\"#ffffff\" stroke=\"black\" d=\"M805,-417.5C805,-417.5 702,-417.5 702,-417.5 696,-417.5 690,-411.5 690,-405.5 690,-405.5 690,-361.5 690,-361.5 690,-355.5 696,-349.5 702,-349.5 702,-349.5 805,-349.5 805,-349.5 811,-349.5 817,-355.5 817,-361.5 817,-361.5 817,-405.5 817,-405.5 817,-411.5 811,-417.5 805,-417.5\"/>\n",
       "<text text-anchor=\"start\" x=\"724.5\" y=\"-402.3\" font-family=\"Helvetica,sans-Serif\" font-size=\"14.00\">gini = 0.5</text>\n",
       "<text text-anchor=\"start\" x=\"714\" y=\"-387.3\" font-family=\"Helvetica,sans-Serif\" font-size=\"14.00\">samples = 2</text>\n",
       "<text text-anchor=\"start\" x=\"705\" y=\"-372.3\" font-family=\"Helvetica,sans-Serif\" font-size=\"14.00\">value = [0, 1, 1]</text>\n",
       "<text text-anchor=\"start\" x=\"698\" y=\"-357.3\" font-family=\"Helvetica,sans-Serif\" font-size=\"14.00\">class = versicolor</text>\n",
       "</g>\n",
       "<!-- 27&#45;&gt;28 -->\n",
       "<g id=\"edge28\" class=\"edge\">\n",
       "<title>27&#45;&gt;28</title>\n",
       "<path fill=\"none\" stroke=\"black\" d=\"M800.32,-460.58C793.74,-449.88 786.62,-438.32 779.97,-427.52\"/>\n",
       "<polygon fill=\"black\" stroke=\"black\" points=\"783.05,-425.83 774.82,-419.15 777.08,-429.5 783.05,-425.83\"/>\n",
       "</g>\n",
       "<!-- 29 -->\n",
       "<g id=\"node30\" class=\"node\">\n",
       "<title>29</title>\n",
       "<path fill=\"#39e581\" stroke=\"black\" d=\"M950,-417.5C950,-417.5 847,-417.5 847,-417.5 841,-417.5 835,-411.5 835,-405.5 835,-405.5 835,-361.5 835,-361.5 835,-355.5 841,-349.5 847,-349.5 847,-349.5 950,-349.5 950,-349.5 956,-349.5 962,-355.5 962,-361.5 962,-361.5 962,-405.5 962,-405.5 962,-411.5 956,-417.5 950,-417.5\"/>\n",
       "<text text-anchor=\"start\" x=\"869.5\" y=\"-402.3\" font-family=\"Helvetica,sans-Serif\" font-size=\"14.00\">gini = 0.0</text>\n",
       "<text text-anchor=\"start\" x=\"859\" y=\"-387.3\" font-family=\"Helvetica,sans-Serif\" font-size=\"14.00\">samples = 1</text>\n",
       "<text text-anchor=\"start\" x=\"850\" y=\"-372.3\" font-family=\"Helvetica,sans-Serif\" font-size=\"14.00\">value = [0, 1, 0]</text>\n",
       "<text text-anchor=\"start\" x=\"843\" y=\"-357.3\" font-family=\"Helvetica,sans-Serif\" font-size=\"14.00\">class = versicolor</text>\n",
       "</g>\n",
       "<!-- 27&#45;&gt;29 -->\n",
       "<g id=\"edge29\" class=\"edge\">\n",
       "<title>27&#45;&gt;29</title>\n",
       "<path fill=\"none\" stroke=\"black\" d=\"M851.03,-460.58C857.71,-449.88 864.92,-438.32 871.66,-427.52\"/>\n",
       "<polygon fill=\"black\" stroke=\"black\" points=\"874.56,-429.48 876.88,-419.15 868.62,-425.78 874.56,-429.48\"/>\n",
       "</g>\n",
       "<!-- 32 -->\n",
       "<g id=\"node33\" class=\"node\">\n",
       "<title>32</title>\n",
       "<path fill=\"#39e581\" stroke=\"black\" d=\"M709,-893.5C709,-893.5 606,-893.5 606,-893.5 600,-893.5 594,-887.5 594,-881.5 594,-881.5 594,-837.5 594,-837.5 594,-831.5 600,-825.5 606,-825.5 606,-825.5 709,-825.5 709,-825.5 715,-825.5 721,-831.5 721,-837.5 721,-837.5 721,-881.5 721,-881.5 721,-887.5 715,-893.5 709,-893.5\"/>\n",
       "<text text-anchor=\"start\" x=\"628.5\" y=\"-878.3\" font-family=\"Helvetica,sans-Serif\" font-size=\"14.00\">gini = 0.0</text>\n",
       "<text text-anchor=\"start\" x=\"618\" y=\"-863.3\" font-family=\"Helvetica,sans-Serif\" font-size=\"14.00\">samples = 4</text>\n",
       "<text text-anchor=\"start\" x=\"609\" y=\"-848.3\" font-family=\"Helvetica,sans-Serif\" font-size=\"14.00\">value = [0, 4, 0]</text>\n",
       "<text text-anchor=\"start\" x=\"602\" y=\"-833.3\" font-family=\"Helvetica,sans-Serif\" font-size=\"14.00\">class = versicolor</text>\n",
       "</g>\n",
       "<!-- 31&#45;&gt;32 -->\n",
       "<g id=\"edge32\" class=\"edge\">\n",
       "<title>31&#45;&gt;32</title>\n",
       "<path fill=\"none\" stroke=\"black\" d=\"M721.87,-936.58C712.55,-925.56 702.44,-913.61 693.07,-902.53\"/>\n",
       "<polygon fill=\"black\" stroke=\"black\" points=\"695.84,-900.39 686.71,-895.02 690.49,-904.91 695.84,-900.39\"/>\n",
       "</g>\n",
       "<!-- 33 -->\n",
       "<g id=\"node34\" class=\"node\">\n",
       "<title>33</title>\n",
       "<path fill=\"#7beeab\" stroke=\"black\" d=\"M882,-901C882,-901 751,-901 751,-901 745,-901 739,-895 739,-889 739,-889 739,-830 739,-830 739,-824 745,-818 751,-818 751,-818 882,-818 882,-818 888,-818 894,-824 894,-830 894,-830 894,-889 894,-889 894,-895 888,-901 882,-901\"/>\n",
       "<text text-anchor=\"start\" x=\"747\" y=\"-885.8\" font-family=\"Helvetica,sans-Serif\" font-size=\"14.00\">sepal width (cm) ≤ 3.1</text>\n",
       "<text text-anchor=\"start\" x=\"779\" y=\"-870.8\" font-family=\"Helvetica,sans-Serif\" font-size=\"14.00\">gini = 0.375</text>\n",
       "<text text-anchor=\"start\" x=\"777\" y=\"-855.8\" font-family=\"Helvetica,sans-Serif\" font-size=\"14.00\">samples = 4</text>\n",
       "<text text-anchor=\"start\" x=\"768\" y=\"-840.8\" font-family=\"Helvetica,sans-Serif\" font-size=\"14.00\">value = [0, 3, 1]</text>\n",
       "<text text-anchor=\"start\" x=\"761\" y=\"-825.8\" font-family=\"Helvetica,sans-Serif\" font-size=\"14.00\">class = versicolor</text>\n",
       "</g>\n",
       "<!-- 31&#45;&gt;33 -->\n",
       "<g id=\"edge33\" class=\"edge\">\n",
       "<title>31&#45;&gt;33</title>\n",
       "<path fill=\"none\" stroke=\"black\" d=\"M777.49,-936.58C781.67,-928.43 786.1,-919.77 790.43,-911.34\"/>\n",
       "<polygon fill=\"black\" stroke=\"black\" points=\"793.49,-913.04 794.94,-902.55 787.26,-909.85 793.49,-913.04\"/>\n",
       "</g>\n",
       "<!-- 34 -->\n",
       "<g id=\"node35\" class=\"node\">\n",
       "<title>34</title>\n",
       "<path fill=\"#ffffff\" stroke=\"black\" d=\"M737,-774.5C737,-774.5 634,-774.5 634,-774.5 628,-774.5 622,-768.5 622,-762.5 622,-762.5 622,-718.5 622,-718.5 622,-712.5 628,-706.5 634,-706.5 634,-706.5 737,-706.5 737,-706.5 743,-706.5 749,-712.5 749,-718.5 749,-718.5 749,-762.5 749,-762.5 749,-768.5 743,-774.5 737,-774.5\"/>\n",
       "<text text-anchor=\"start\" x=\"656.5\" y=\"-759.3\" font-family=\"Helvetica,sans-Serif\" font-size=\"14.00\">gini = 0.5</text>\n",
       "<text text-anchor=\"start\" x=\"646\" y=\"-744.3\" font-family=\"Helvetica,sans-Serif\" font-size=\"14.00\">samples = 2</text>\n",
       "<text text-anchor=\"start\" x=\"637\" y=\"-729.3\" font-family=\"Helvetica,sans-Serif\" font-size=\"14.00\">value = [0, 1, 1]</text>\n",
       "<text text-anchor=\"start\" x=\"630\" y=\"-714.3\" font-family=\"Helvetica,sans-Serif\" font-size=\"14.00\">class = versicolor</text>\n",
       "</g>\n",
       "<!-- 33&#45;&gt;34 -->\n",
       "<g id=\"edge34\" class=\"edge\">\n",
       "<title>33&#45;&gt;34</title>\n",
       "<path fill=\"none\" stroke=\"black\" d=\"M770.68,-817.58C757.85,-806.12 743.91,-793.67 731.09,-782.22\"/>\n",
       "<polygon fill=\"black\" stroke=\"black\" points=\"733.77,-779.92 723.98,-775.87 729.11,-785.14 733.77,-779.92\"/>\n",
       "</g>\n",
       "<!-- 35 -->\n",
       "<g id=\"node36\" class=\"node\">\n",
       "<title>35</title>\n",
       "<path fill=\"#39e581\" stroke=\"black\" d=\"M882,-774.5C882,-774.5 779,-774.5 779,-774.5 773,-774.5 767,-768.5 767,-762.5 767,-762.5 767,-718.5 767,-718.5 767,-712.5 773,-706.5 779,-706.5 779,-706.5 882,-706.5 882,-706.5 888,-706.5 894,-712.5 894,-718.5 894,-718.5 894,-762.5 894,-762.5 894,-768.5 888,-774.5 882,-774.5\"/>\n",
       "<text text-anchor=\"start\" x=\"801.5\" y=\"-759.3\" font-family=\"Helvetica,sans-Serif\" font-size=\"14.00\">gini = 0.0</text>\n",
       "<text text-anchor=\"start\" x=\"791\" y=\"-744.3\" font-family=\"Helvetica,sans-Serif\" font-size=\"14.00\">samples = 2</text>\n",
       "<text text-anchor=\"start\" x=\"782\" y=\"-729.3\" font-family=\"Helvetica,sans-Serif\" font-size=\"14.00\">value = [0, 2, 0]</text>\n",
       "<text text-anchor=\"start\" x=\"775\" y=\"-714.3\" font-family=\"Helvetica,sans-Serif\" font-size=\"14.00\">class = versicolor</text>\n",
       "</g>\n",
       "<!-- 33&#45;&gt;35 -->\n",
       "<g id=\"edge35\" class=\"edge\">\n",
       "<title>33&#45;&gt;35</title>\n",
       "<path fill=\"none\" stroke=\"black\" d=\"M821.4,-817.58C822.61,-807.43 823.92,-796.5 825.15,-786.18\"/>\n",
       "<polygon fill=\"black\" stroke=\"black\" points=\"828.62,-786.71 826.33,-776.36 821.66,-785.88 828.62,-786.71\"/>\n",
       "</g>\n",
       "<!-- 37 -->\n",
       "<g id=\"node38\" class=\"node\">\n",
       "<title>37</title>\n",
       "<path fill=\"#ab7bee\" stroke=\"black\" d=\"M1123,-1020C1123,-1020 992,-1020 992,-1020 986,-1020 980,-1014 980,-1008 980,-1008 980,-949 980,-949 980,-943 986,-937 992,-937 992,-937 1123,-937 1123,-937 1129,-937 1135,-943 1135,-949 1135,-949 1135,-1008 1135,-1008 1135,-1014 1129,-1020 1123,-1020\"/>\n",
       "<text text-anchor=\"start\" x=\"988\" y=\"-1004.8\" font-family=\"Helvetica,sans-Serif\" font-size=\"14.00\">sepal width (cm) ≤ 2.4</text>\n",
       "<text text-anchor=\"start\" x=\"1020\" y=\"-989.8\" font-family=\"Helvetica,sans-Serif\" font-size=\"14.00\">gini = 0.375</text>\n",
       "<text text-anchor=\"start\" x=\"1014\" y=\"-974.8\" font-family=\"Helvetica,sans-Serif\" font-size=\"14.00\">samples = 12</text>\n",
       "<text text-anchor=\"start\" x=\"1009\" y=\"-959.8\" font-family=\"Helvetica,sans-Serif\" font-size=\"14.00\">value = [0, 3, 9]</text>\n",
       "<text text-anchor=\"start\" x=\"1007.5\" y=\"-944.8\" font-family=\"Helvetica,sans-Serif\" font-size=\"14.00\">class = virginica</text>\n",
       "</g>\n",
       "<!-- 36&#45;&gt;37 -->\n",
       "<g id=\"edge37\" class=\"edge\">\n",
       "<title>36&#45;&gt;37</title>\n",
       "<path fill=\"none\" stroke=\"black\" d=\"M1057.5,-1055.58C1057.5,-1047.79 1057.5,-1039.53 1057.5,-1031.45\"/>\n",
       "<polygon fill=\"black\" stroke=\"black\" points=\"1061,-1031.71 1057.5,-1021.71 1054,-1031.71 1061,-1031.71\"/>\n",
       "</g>\n",
       "<!-- 46 -->\n",
       "<g id=\"node47\" class=\"node\">\n",
       "<title>46</title>\n",
       "<path fill=\"#f5effd\" stroke=\"black\" d=\"M1599,-1020C1599,-1020 1460,-1020 1460,-1020 1454,-1020 1448,-1014 1448,-1008 1448,-1008 1448,-949 1448,-949 1448,-943 1454,-937 1460,-937 1460,-937 1599,-937 1599,-937 1605,-937 1611,-943 1611,-949 1611,-949 1611,-1008 1611,-1008 1611,-1014 1605,-1020 1599,-1020\"/>\n",
       "<text text-anchor=\"start\" x=\"1456\" y=\"-1004.8\" font-family=\"Helvetica,sans-Serif\" font-size=\"14.00\">sepal width (cm) ≤ 3.35</text>\n",
       "<text text-anchor=\"start\" x=\"1492\" y=\"-989.8\" font-family=\"Helvetica,sans-Serif\" font-size=\"14.00\">gini = 0.499</text>\n",
       "<text text-anchor=\"start\" x=\"1486\" y=\"-974.8\" font-family=\"Helvetica,sans-Serif\" font-size=\"14.00\">samples = 23</text>\n",
       "<text text-anchor=\"start\" x=\"1473\" y=\"-959.8\" font-family=\"Helvetica,sans-Serif\" font-size=\"14.00\">value = [0, 11, 12]</text>\n",
       "<text text-anchor=\"start\" x=\"1479.5\" y=\"-944.8\" font-family=\"Helvetica,sans-Serif\" font-size=\"14.00\">class = virginica</text>\n",
       "</g>\n",
       "<!-- 36&#45;&gt;46 -->\n",
       "<g id=\"edge46\" class=\"edge\">\n",
       "<title>36&#45;&gt;46</title>\n",
       "<path fill=\"none\" stroke=\"black\" d=\"M1139.45,-1076.19C1222.27,-1055.66 1350.06,-1023.98 1436.6,-1002.53\"/>\n",
       "<polygon fill=\"black\" stroke=\"black\" points=\"1437.4,-1005.94 1446.27,-1000.13 1435.72,-999.14 1437.4,-1005.94\"/>\n",
       "</g>\n",
       "<!-- 38 -->\n",
       "<g id=\"node39\" class=\"node\">\n",
       "<title>38</title>\n",
       "<path fill=\"#39e581\" stroke=\"black\" d=\"M1027,-893.5C1027,-893.5 924,-893.5 924,-893.5 918,-893.5 912,-887.5 912,-881.5 912,-881.5 912,-837.5 912,-837.5 912,-831.5 918,-825.5 924,-825.5 924,-825.5 1027,-825.5 1027,-825.5 1033,-825.5 1039,-831.5 1039,-837.5 1039,-837.5 1039,-881.5 1039,-881.5 1039,-887.5 1033,-893.5 1027,-893.5\"/>\n",
       "<text text-anchor=\"start\" x=\"946.5\" y=\"-878.3\" font-family=\"Helvetica,sans-Serif\" font-size=\"14.00\">gini = 0.0</text>\n",
       "<text text-anchor=\"start\" x=\"936\" y=\"-863.3\" font-family=\"Helvetica,sans-Serif\" font-size=\"14.00\">samples = 1</text>\n",
       "<text text-anchor=\"start\" x=\"927\" y=\"-848.3\" font-family=\"Helvetica,sans-Serif\" font-size=\"14.00\">value = [0, 1, 0]</text>\n",
       "<text text-anchor=\"start\" x=\"920\" y=\"-833.3\" font-family=\"Helvetica,sans-Serif\" font-size=\"14.00\">class = versicolor</text>\n",
       "</g>\n",
       "<!-- 37&#45;&gt;38 -->\n",
       "<g id=\"edge38\" class=\"edge\">\n",
       "<title>37&#45;&gt;38</title>\n",
       "<path fill=\"none\" stroke=\"black\" d=\"M1028.82,-936.58C1021.25,-925.77 1013.06,-914.09 1005.42,-903.19\"/>\n",
       "<polygon fill=\"black\" stroke=\"black\" points=\"1008.36,-901.28 999.75,-895.1 1002.62,-905.3 1008.36,-901.28\"/>\n",
       "</g>\n",
       "<!-- 39 -->\n",
       "<g id=\"node40\" class=\"node\">\n",
       "<title>39</title>\n",
       "<path fill=\"#9d65eb\" stroke=\"black\" d=\"M1208,-901C1208,-901 1069,-901 1069,-901 1063,-901 1057,-895 1057,-889 1057,-889 1057,-830 1057,-830 1057,-824 1063,-818 1069,-818 1069,-818 1208,-818 1208,-818 1214,-818 1220,-824 1220,-830 1220,-830 1220,-889 1220,-889 1220,-895 1214,-901 1208,-901\"/>\n",
       "<text text-anchor=\"start\" x=\"1065\" y=\"-885.8\" font-family=\"Helvetica,sans-Serif\" font-size=\"14.00\">sepal width (cm) ≤ 2.75</text>\n",
       "<text text-anchor=\"start\" x=\"1101\" y=\"-870.8\" font-family=\"Helvetica,sans-Serif\" font-size=\"14.00\">gini = 0.298</text>\n",
       "<text text-anchor=\"start\" x=\"1095\" y=\"-855.8\" font-family=\"Helvetica,sans-Serif\" font-size=\"14.00\">samples = 11</text>\n",
       "<text text-anchor=\"start\" x=\"1090\" y=\"-840.8\" font-family=\"Helvetica,sans-Serif\" font-size=\"14.00\">value = [0, 2, 9]</text>\n",
       "<text text-anchor=\"start\" x=\"1088.5\" y=\"-825.8\" font-family=\"Helvetica,sans-Serif\" font-size=\"14.00\">class = virginica</text>\n",
       "</g>\n",
       "<!-- 37&#45;&gt;39 -->\n",
       "<g id=\"edge39\" class=\"edge\">\n",
       "<title>37&#45;&gt;39</title>\n",
       "<path fill=\"none\" stroke=\"black\" d=\"M1085.83,-936.58C1091.66,-928.16 1097.86,-919.2 1103.88,-910.5\"/>\n",
       "<polygon fill=\"black\" stroke=\"black\" points=\"1106.65,-912.66 1109.46,-902.44 1100.89,-908.67 1106.65,-912.66\"/>\n",
       "</g>\n",
       "<!-- 40 -->\n",
       "<g id=\"node41\" class=\"node\">\n",
       "<title>40</title>\n",
       "<path fill=\"#8139e5\" stroke=\"black\" d=\"M1023.5,-774.5C1023.5,-774.5 931.5,-774.5 931.5,-774.5 925.5,-774.5 919.5,-768.5 919.5,-762.5 919.5,-762.5 919.5,-718.5 919.5,-718.5 919.5,-712.5 925.5,-706.5 931.5,-706.5 931.5,-706.5 1023.5,-706.5 1023.5,-706.5 1029.5,-706.5 1035.5,-712.5 1035.5,-718.5 1035.5,-718.5 1035.5,-762.5 1035.5,-762.5 1035.5,-768.5 1029.5,-774.5 1023.5,-774.5\"/>\n",
       "<text text-anchor=\"start\" x=\"948.5\" y=\"-759.3\" font-family=\"Helvetica,sans-Serif\" font-size=\"14.00\">gini = 0.0</text>\n",
       "<text text-anchor=\"start\" x=\"938\" y=\"-744.3\" font-family=\"Helvetica,sans-Serif\" font-size=\"14.00\">samples = 5</text>\n",
       "<text text-anchor=\"start\" x=\"929\" y=\"-729.3\" font-family=\"Helvetica,sans-Serif\" font-size=\"14.00\">value = [0, 0, 5]</text>\n",
       "<text text-anchor=\"start\" x=\"927.5\" y=\"-714.3\" font-family=\"Helvetica,sans-Serif\" font-size=\"14.00\">class = virginica</text>\n",
       "</g>\n",
       "<!-- 39&#45;&gt;40 -->\n",
       "<g id=\"edge40\" class=\"edge\">\n",
       "<title>39&#45;&gt;40</title>\n",
       "<path fill=\"none\" stroke=\"black\" d=\"M1082.19,-817.58C1066.12,-805.9 1048.63,-793.19 1032.63,-781.57\"/>\n",
       "<polygon fill=\"black\" stroke=\"black\" points=\"1034.78,-778.8 1024.63,-775.75 1030.66,-784.46 1034.78,-778.8\"/>\n",
       "</g>\n",
       "<!-- 41 -->\n",
       "<g id=\"node42\" class=\"node\">\n",
       "<title>41</title>\n",
       "<path fill=\"#c09cf2\" stroke=\"black\" d=\"M1211,-782C1211,-782 1066,-782 1066,-782 1060,-782 1054,-776 1054,-770 1054,-770 1054,-711 1054,-711 1054,-705 1060,-699 1066,-699 1066,-699 1211,-699 1211,-699 1217,-699 1223,-705 1223,-711 1223,-711 1223,-770 1223,-770 1223,-776 1217,-782 1211,-782\"/>\n",
       "<text text-anchor=\"start\" x=\"1062\" y=\"-766.8\" font-family=\"Helvetica,sans-Serif\" font-size=\"14.00\">sepal length (cm) ≤ 6.15</text>\n",
       "<text text-anchor=\"start\" x=\"1101\" y=\"-751.8\" font-family=\"Helvetica,sans-Serif\" font-size=\"14.00\">gini = 0.444</text>\n",
       "<text text-anchor=\"start\" x=\"1099\" y=\"-736.8\" font-family=\"Helvetica,sans-Serif\" font-size=\"14.00\">samples = 6</text>\n",
       "<text text-anchor=\"start\" x=\"1090\" y=\"-721.8\" font-family=\"Helvetica,sans-Serif\" font-size=\"14.00\">value = [0, 2, 4]</text>\n",
       "<text text-anchor=\"start\" x=\"1088.5\" y=\"-706.8\" font-family=\"Helvetica,sans-Serif\" font-size=\"14.00\">class = virginica</text>\n",
       "</g>\n",
       "<!-- 39&#45;&gt;41 -->\n",
       "<g id=\"edge41\" class=\"edge\">\n",
       "<title>39&#45;&gt;41</title>\n",
       "<path fill=\"none\" stroke=\"black\" d=\"M1138.5,-817.58C1138.5,-809.79 1138.5,-801.53 1138.5,-793.45\"/>\n",
       "<polygon fill=\"black\" stroke=\"black\" points=\"1142,-793.71 1138.5,-783.71 1135,-793.71 1142,-793.71\"/>\n",
       "</g>\n",
       "<!-- 42 -->\n",
       "<g id=\"node43\" class=\"node\">\n",
       "<title>42</title>\n",
       "<path fill=\"#39e581\" stroke=\"black\" d=\"M1024,-655.5C1024,-655.5 921,-655.5 921,-655.5 915,-655.5 909,-649.5 909,-643.5 909,-643.5 909,-599.5 909,-599.5 909,-593.5 915,-587.5 921,-587.5 921,-587.5 1024,-587.5 1024,-587.5 1030,-587.5 1036,-593.5 1036,-599.5 1036,-599.5 1036,-643.5 1036,-643.5 1036,-649.5 1030,-655.5 1024,-655.5\"/>\n",
       "<text text-anchor=\"start\" x=\"943.5\" y=\"-640.3\" font-family=\"Helvetica,sans-Serif\" font-size=\"14.00\">gini = 0.0</text>\n",
       "<text text-anchor=\"start\" x=\"933\" y=\"-625.3\" font-family=\"Helvetica,sans-Serif\" font-size=\"14.00\">samples = 1</text>\n",
       "<text text-anchor=\"start\" x=\"924\" y=\"-610.3\" font-family=\"Helvetica,sans-Serif\" font-size=\"14.00\">value = [0, 1, 0]</text>\n",
       "<text text-anchor=\"start\" x=\"917\" y=\"-595.3\" font-family=\"Helvetica,sans-Serif\" font-size=\"14.00\">class = versicolor</text>\n",
       "</g>\n",
       "<!-- 41&#45;&gt;42 -->\n",
       "<g id=\"edge42\" class=\"edge\">\n",
       "<title>41&#45;&gt;42</title>\n",
       "<path fill=\"none\" stroke=\"black\" d=\"M1080.44,-698.58C1063.72,-686.79 1045.5,-673.95 1028.88,-662.24\"/>\n",
       "<polygon fill=\"black\" stroke=\"black\" points=\"1031.26,-659.63 1021.07,-656.73 1027.23,-665.36 1031.26,-659.63\"/>\n",
       "</g>\n",
       "<!-- 43 -->\n",
       "<g id=\"node44\" class=\"node\">\n",
       "<title>43</title>\n",
       "<path fill=\"#a06aec\" stroke=\"black\" d=\"M1211,-663C1211,-663 1066,-663 1066,-663 1060,-663 1054,-657 1054,-651 1054,-651 1054,-592 1054,-592 1054,-586 1060,-580 1066,-580 1066,-580 1211,-580 1211,-580 1217,-580 1223,-586 1223,-592 1223,-592 1223,-651 1223,-651 1223,-657 1217,-663 1211,-663\"/>\n",
       "<text text-anchor=\"start\" x=\"1062\" y=\"-647.8\" font-family=\"Helvetica,sans-Serif\" font-size=\"14.00\">sepal length (cm) ≤ 6.45</text>\n",
       "<text text-anchor=\"start\" x=\"1105\" y=\"-632.8\" font-family=\"Helvetica,sans-Serif\" font-size=\"14.00\">gini = 0.32</text>\n",
       "<text text-anchor=\"start\" x=\"1099\" y=\"-617.8\" font-family=\"Helvetica,sans-Serif\" font-size=\"14.00\">samples = 5</text>\n",
       "<text text-anchor=\"start\" x=\"1090\" y=\"-602.8\" font-family=\"Helvetica,sans-Serif\" font-size=\"14.00\">value = [0, 1, 4]</text>\n",
       "<text text-anchor=\"start\" x=\"1088.5\" y=\"-587.8\" font-family=\"Helvetica,sans-Serif\" font-size=\"14.00\">class = virginica</text>\n",
       "</g>\n",
       "<!-- 41&#45;&gt;43 -->\n",
       "<g id=\"edge43\" class=\"edge\">\n",
       "<title>41&#45;&gt;43</title>\n",
       "<path fill=\"none\" stroke=\"black\" d=\"M1138.5,-698.58C1138.5,-690.79 1138.5,-682.53 1138.5,-674.45\"/>\n",
       "<polygon fill=\"black\" stroke=\"black\" points=\"1142,-674.71 1138.5,-664.71 1135,-674.71 1142,-674.71\"/>\n",
       "</g>\n",
       "<!-- 44 -->\n",
       "<g id=\"node45\" class=\"node\">\n",
       "<title>44</title>\n",
       "<path fill=\"#8139e5\" stroke=\"black\" d=\"M1044.5,-536.5C1044.5,-536.5 952.5,-536.5 952.5,-536.5 946.5,-536.5 940.5,-530.5 940.5,-524.5 940.5,-524.5 940.5,-480.5 940.5,-480.5 940.5,-474.5 946.5,-468.5 952.5,-468.5 952.5,-468.5 1044.5,-468.5 1044.5,-468.5 1050.5,-468.5 1056.5,-474.5 1056.5,-480.5 1056.5,-480.5 1056.5,-524.5 1056.5,-524.5 1056.5,-530.5 1050.5,-536.5 1044.5,-536.5\"/>\n",
       "<text text-anchor=\"start\" x=\"969.5\" y=\"-521.3\" font-family=\"Helvetica,sans-Serif\" font-size=\"14.00\">gini = 0.0</text>\n",
       "<text text-anchor=\"start\" x=\"959\" y=\"-506.3\" font-family=\"Helvetica,sans-Serif\" font-size=\"14.00\">samples = 4</text>\n",
       "<text text-anchor=\"start\" x=\"950\" y=\"-491.3\" font-family=\"Helvetica,sans-Serif\" font-size=\"14.00\">value = [0, 0, 4]</text>\n",
       "<text text-anchor=\"start\" x=\"948.5\" y=\"-476.3\" font-family=\"Helvetica,sans-Serif\" font-size=\"14.00\">class = virginica</text>\n",
       "</g>\n",
       "<!-- 43&#45;&gt;44 -->\n",
       "<g id=\"edge44\" class=\"edge\">\n",
       "<title>43&#45;&gt;44</title>\n",
       "<path fill=\"none\" stroke=\"black\" d=\"M1089.53,-579.58C1075.82,-568.12 1060.92,-555.67 1047.22,-544.22\"/>\n",
       "<polygon fill=\"black\" stroke=\"black\" points=\"1049.5,-541.56 1039.58,-537.83 1045.01,-546.93 1049.5,-541.56\"/>\n",
       "</g>\n",
       "<!-- 45 -->\n",
       "<g id=\"node46\" class=\"node\">\n",
       "<title>45</title>\n",
       "<path fill=\"#39e581\" stroke=\"black\" d=\"M1190,-536.5C1190,-536.5 1087,-536.5 1087,-536.5 1081,-536.5 1075,-530.5 1075,-524.5 1075,-524.5 1075,-480.5 1075,-480.5 1075,-474.5 1081,-468.5 1087,-468.5 1087,-468.5 1190,-468.5 1190,-468.5 1196,-468.5 1202,-474.5 1202,-480.5 1202,-480.5 1202,-524.5 1202,-524.5 1202,-530.5 1196,-536.5 1190,-536.5\"/>\n",
       "<text text-anchor=\"start\" x=\"1109.5\" y=\"-521.3\" font-family=\"Helvetica,sans-Serif\" font-size=\"14.00\">gini = 0.0</text>\n",
       "<text text-anchor=\"start\" x=\"1099\" y=\"-506.3\" font-family=\"Helvetica,sans-Serif\" font-size=\"14.00\">samples = 1</text>\n",
       "<text text-anchor=\"start\" x=\"1090\" y=\"-491.3\" font-family=\"Helvetica,sans-Serif\" font-size=\"14.00\">value = [0, 1, 0]</text>\n",
       "<text text-anchor=\"start\" x=\"1083\" y=\"-476.3\" font-family=\"Helvetica,sans-Serif\" font-size=\"14.00\">class = versicolor</text>\n",
       "</g>\n",
       "<!-- 43&#45;&gt;45 -->\n",
       "<g id=\"edge45\" class=\"edge\">\n",
       "<title>43&#45;&gt;45</title>\n",
       "<path fill=\"none\" stroke=\"black\" d=\"M1138.5,-579.58C1138.5,-569.43 1138.5,-558.5 1138.5,-548.18\"/>\n",
       "<polygon fill=\"black\" stroke=\"black\" points=\"1142,-548.37 1138.5,-538.37 1135,-548.37 1142,-548.37\"/>\n",
       "</g>\n",
       "<!-- 47 -->\n",
       "<g id=\"node48\" class=\"node\">\n",
       "<title>47</title>\n",
       "<path fill=\"#edfdf4\" stroke=\"black\" d=\"M1602,-901C1602,-901 1457,-901 1457,-901 1451,-901 1445,-895 1445,-889 1445,-889 1445,-830 1445,-830 1445,-824 1451,-818 1457,-818 1457,-818 1602,-818 1602,-818 1608,-818 1614,-824 1614,-830 1614,-830 1614,-889 1614,-889 1614,-895 1608,-901 1602,-901\"/>\n",
       "<text text-anchor=\"start\" x=\"1453\" y=\"-885.8\" font-family=\"Helvetica,sans-Serif\" font-size=\"14.00\">sepal length (cm) ≤ 6.75</text>\n",
       "<text text-anchor=\"start\" x=\"1492\" y=\"-870.8\" font-family=\"Helvetica,sans-Serif\" font-size=\"14.00\">gini = 0.499</text>\n",
       "<text text-anchor=\"start\" x=\"1486\" y=\"-855.8\" font-family=\"Helvetica,sans-Serif\" font-size=\"14.00\">samples = 21</text>\n",
       "<text text-anchor=\"start\" x=\"1473\" y=\"-840.8\" font-family=\"Helvetica,sans-Serif\" font-size=\"14.00\">value = [0, 11, 10]</text>\n",
       "<text text-anchor=\"start\" x=\"1474\" y=\"-825.8\" font-family=\"Helvetica,sans-Serif\" font-size=\"14.00\">class = versicolor</text>\n",
       "</g>\n",
       "<!-- 46&#45;&gt;47 -->\n",
       "<g id=\"edge47\" class=\"edge\">\n",
       "<title>46&#45;&gt;47</title>\n",
       "<path fill=\"none\" stroke=\"black\" d=\"M1529.5,-936.58C1529.5,-928.79 1529.5,-920.53 1529.5,-912.45\"/>\n",
       "<polygon fill=\"black\" stroke=\"black\" points=\"1533,-912.71 1529.5,-902.71 1526,-912.71 1533,-912.71\"/>\n",
       "</g>\n",
       "<!-- 72 -->\n",
       "<g id=\"node73\" class=\"node\">\n",
       "<title>72</title>\n",
       "<path fill=\"#8139e5\" stroke=\"black\" d=\"M1736.5,-893.5C1736.5,-893.5 1644.5,-893.5 1644.5,-893.5 1638.5,-893.5 1632.5,-887.5 1632.5,-881.5 1632.5,-881.5 1632.5,-837.5 1632.5,-837.5 1632.5,-831.5 1638.5,-825.5 1644.5,-825.5 1644.5,-825.5 1736.5,-825.5 1736.5,-825.5 1742.5,-825.5 1748.5,-831.5 1748.5,-837.5 1748.5,-837.5 1748.5,-881.5 1748.5,-881.5 1748.5,-887.5 1742.5,-893.5 1736.5,-893.5\"/>\n",
       "<text text-anchor=\"start\" x=\"1661.5\" y=\"-878.3\" font-family=\"Helvetica,sans-Serif\" font-size=\"14.00\">gini = 0.0</text>\n",
       "<text text-anchor=\"start\" x=\"1651\" y=\"-863.3\" font-family=\"Helvetica,sans-Serif\" font-size=\"14.00\">samples = 2</text>\n",
       "<text text-anchor=\"start\" x=\"1642\" y=\"-848.3\" font-family=\"Helvetica,sans-Serif\" font-size=\"14.00\">value = [0, 0, 2]</text>\n",
       "<text text-anchor=\"start\" x=\"1640.5\" y=\"-833.3\" font-family=\"Helvetica,sans-Serif\" font-size=\"14.00\">class = virginica</text>\n",
       "</g>\n",
       "<!-- 46&#45;&gt;72 -->\n",
       "<g id=\"edge72\" class=\"edge\">\n",
       "<title>46&#45;&gt;72</title>\n",
       "<path fill=\"none\" stroke=\"black\" d=\"M1585.81,-936.58C1601.88,-924.9 1619.37,-912.19 1635.37,-900.57\"/>\n",
       "<polygon fill=\"black\" stroke=\"black\" points=\"1637.34,-903.46 1643.37,-894.75 1633.22,-897.8 1637.34,-903.46\"/>\n",
       "</g>\n",
       "<!-- 48 -->\n",
       "<g id=\"node49\" class=\"node\">\n",
       "<title>48</title>\n",
       "<path fill=\"#bdf6d5\" stroke=\"black\" d=\"M1602,-782C1602,-782 1457,-782 1457,-782 1451,-782 1445,-776 1445,-770 1445,-770 1445,-711 1445,-711 1445,-705 1451,-699 1457,-699 1457,-699 1602,-699 1602,-699 1608,-699 1614,-705 1614,-711 1614,-711 1614,-770 1614,-770 1614,-776 1608,-782 1602,-782\"/>\n",
       "<text text-anchor=\"start\" x=\"1453\" y=\"-766.8\" font-family=\"Helvetica,sans-Serif\" font-size=\"14.00\">sepal length (cm) ≤ 6.55</text>\n",
       "<text text-anchor=\"start\" x=\"1496\" y=\"-751.8\" font-family=\"Helvetica,sans-Serif\" font-size=\"14.00\">gini = 0.48</text>\n",
       "<text text-anchor=\"start\" x=\"1486\" y=\"-736.8\" font-family=\"Helvetica,sans-Serif\" font-size=\"14.00\">samples = 15</text>\n",
       "<text text-anchor=\"start\" x=\"1481\" y=\"-721.8\" font-family=\"Helvetica,sans-Serif\" font-size=\"14.00\">value = [0, 9, 6]</text>\n",
       "<text text-anchor=\"start\" x=\"1474\" y=\"-706.8\" font-family=\"Helvetica,sans-Serif\" font-size=\"14.00\">class = versicolor</text>\n",
       "</g>\n",
       "<!-- 47&#45;&gt;48 -->\n",
       "<g id=\"edge48\" class=\"edge\">\n",
       "<title>47&#45;&gt;48</title>\n",
       "<path fill=\"none\" stroke=\"black\" d=\"M1529.5,-817.58C1529.5,-809.79 1529.5,-801.53 1529.5,-793.45\"/>\n",
       "<polygon fill=\"black\" stroke=\"black\" points=\"1533,-793.71 1529.5,-783.71 1526,-793.71 1533,-793.71\"/>\n",
       "</g>\n",
       "<!-- 65 -->\n",
       "<g id=\"node66\" class=\"node\">\n",
       "<title>65</title>\n",
       "<path fill=\"#c09cf2\" stroke=\"black\" d=\"M1957,-782C1957,-782 1812,-782 1812,-782 1806,-782 1800,-776 1800,-770 1800,-770 1800,-711 1800,-711 1800,-705 1806,-699 1812,-699 1812,-699 1957,-699 1957,-699 1963,-699 1969,-705 1969,-711 1969,-711 1969,-770 1969,-770 1969,-776 1963,-782 1957,-782\"/>\n",
       "<text text-anchor=\"start\" x=\"1808\" y=\"-766.8\" font-family=\"Helvetica,sans-Serif\" font-size=\"14.00\">sepal length (cm) ≤ 6.95</text>\n",
       "<text text-anchor=\"start\" x=\"1847\" y=\"-751.8\" font-family=\"Helvetica,sans-Serif\" font-size=\"14.00\">gini = 0.444</text>\n",
       "<text text-anchor=\"start\" x=\"1845\" y=\"-736.8\" font-family=\"Helvetica,sans-Serif\" font-size=\"14.00\">samples = 6</text>\n",
       "<text text-anchor=\"start\" x=\"1836\" y=\"-721.8\" font-family=\"Helvetica,sans-Serif\" font-size=\"14.00\">value = [0, 2, 4]</text>\n",
       "<text text-anchor=\"start\" x=\"1834.5\" y=\"-706.8\" font-family=\"Helvetica,sans-Serif\" font-size=\"14.00\">class = virginica</text>\n",
       "</g>\n",
       "<!-- 47&#45;&gt;65 -->\n",
       "<g id=\"edge65\" class=\"edge\">\n",
       "<title>47&#45;&gt;65</title>\n",
       "<path fill=\"none\" stroke=\"black\" d=\"M1614.37,-821.38C1617.44,-820.22 1620.49,-819.08 1623.5,-818 1677.39,-798.57 1738.83,-780.38 1788.55,-766.61\"/>\n",
       "<polygon fill=\"black\" stroke=\"black\" points=\"1789.45,-769.99 1798.16,-763.97 1787.59,-763.24 1789.45,-769.99\"/>\n",
       "</g>\n",
       "<!-- 49 -->\n",
       "<g id=\"node50\" class=\"node\">\n",
       "<title>49</title>\n",
       "<path fill=\"#e6d7fa\" stroke=\"black\" d=\"M1510,-663C1510,-663 1365,-663 1365,-663 1359,-663 1353,-657 1353,-651 1353,-651 1353,-592 1353,-592 1353,-586 1359,-580 1365,-580 1365,-580 1510,-580 1510,-580 1516,-580 1522,-586 1522,-592 1522,-592 1522,-651 1522,-651 1522,-657 1516,-663 1510,-663\"/>\n",
       "<text text-anchor=\"start\" x=\"1361\" y=\"-647.8\" font-family=\"Helvetica,sans-Serif\" font-size=\"14.00\">sepal length (cm) ≤ 6.45</text>\n",
       "<text text-anchor=\"start\" x=\"1400\" y=\"-632.8\" font-family=\"Helvetica,sans-Serif\" font-size=\"14.00\">gini = 0.494</text>\n",
       "<text text-anchor=\"start\" x=\"1398\" y=\"-617.8\" font-family=\"Helvetica,sans-Serif\" font-size=\"14.00\">samples = 9</text>\n",
       "<text text-anchor=\"start\" x=\"1389\" y=\"-602.8\" font-family=\"Helvetica,sans-Serif\" font-size=\"14.00\">value = [0, 4, 5]</text>\n",
       "<text text-anchor=\"start\" x=\"1387.5\" y=\"-587.8\" font-family=\"Helvetica,sans-Serif\" font-size=\"14.00\">class = virginica</text>\n",
       "</g>\n",
       "<!-- 48&#45;&gt;49 -->\n",
       "<g id=\"edge49\" class=\"edge\">\n",
       "<title>48&#45;&gt;49</title>\n",
       "<path fill=\"none\" stroke=\"black\" d=\"M1497.32,-698.58C1490.63,-690.07 1483.51,-681.01 1476.6,-672.23\"/>\n",
       "<polygon fill=\"black\" stroke=\"black\" points=\"1479.37,-670.09 1470.44,-664.39 1473.87,-674.41 1479.37,-670.09\"/>\n",
       "</g>\n",
       "<!-- 62 -->\n",
       "<g id=\"node63\" class=\"node\">\n",
       "<title>62</title>\n",
       "<path fill=\"#61ea9a\" stroke=\"black\" d=\"M1691,-663C1691,-663 1552,-663 1552,-663 1546,-663 1540,-657 1540,-651 1540,-651 1540,-592 1540,-592 1540,-586 1546,-580 1552,-580 1552,-580 1691,-580 1691,-580 1697,-580 1703,-586 1703,-592 1703,-592 1703,-651 1703,-651 1703,-657 1697,-663 1691,-663\"/>\n",
       "<text text-anchor=\"start\" x=\"1548\" y=\"-647.8\" font-family=\"Helvetica,sans-Serif\" font-size=\"14.00\">sepal width (cm) ≤ 3.05</text>\n",
       "<text text-anchor=\"start\" x=\"1584\" y=\"-632.8\" font-family=\"Helvetica,sans-Serif\" font-size=\"14.00\">gini = 0.278</text>\n",
       "<text text-anchor=\"start\" x=\"1582\" y=\"-617.8\" font-family=\"Helvetica,sans-Serif\" font-size=\"14.00\">samples = 6</text>\n",
       "<text text-anchor=\"start\" x=\"1573\" y=\"-602.8\" font-family=\"Helvetica,sans-Serif\" font-size=\"14.00\">value = [0, 5, 1]</text>\n",
       "<text text-anchor=\"start\" x=\"1566\" y=\"-587.8\" font-family=\"Helvetica,sans-Serif\" font-size=\"14.00\">class = versicolor</text>\n",
       "</g>\n",
       "<!-- 48&#45;&gt;62 -->\n",
       "<g id=\"edge62\" class=\"edge\">\n",
       "<title>48&#45;&gt;62</title>\n",
       "<path fill=\"none\" stroke=\"black\" d=\"M1561.68,-698.58C1568.37,-690.07 1575.49,-681.01 1582.4,-672.23\"/>\n",
       "<polygon fill=\"black\" stroke=\"black\" points=\"1585.13,-674.41 1588.56,-664.39 1579.63,-670.09 1585.13,-674.41\"/>\n",
       "</g>\n",
       "<!-- 50 -->\n",
       "<g id=\"node51\" class=\"node\">\n",
       "<title>50</title>\n",
       "<path fill=\"#cef8e0\" stroke=\"black\" d=\"M1371,-544C1371,-544 1232,-544 1232,-544 1226,-544 1220,-538 1220,-532 1220,-532 1220,-473 1220,-473 1220,-467 1226,-461 1232,-461 1232,-461 1371,-461 1371,-461 1377,-461 1383,-467 1383,-473 1383,-473 1383,-532 1383,-532 1383,-538 1377,-544 1371,-544\"/>\n",
       "<text text-anchor=\"start\" x=\"1228\" y=\"-528.8\" font-family=\"Helvetica,sans-Serif\" font-size=\"14.00\">sepal width (cm) ≤ 3.25</text>\n",
       "<text text-anchor=\"start\" x=\"1268\" y=\"-513.8\" font-family=\"Helvetica,sans-Serif\" font-size=\"14.00\">gini = 0.49</text>\n",
       "<text text-anchor=\"start\" x=\"1262\" y=\"-498.8\" font-family=\"Helvetica,sans-Serif\" font-size=\"14.00\">samples = 7</text>\n",
       "<text text-anchor=\"start\" x=\"1253\" y=\"-483.8\" font-family=\"Helvetica,sans-Serif\" font-size=\"14.00\">value = [0, 4, 3]</text>\n",
       "<text text-anchor=\"start\" x=\"1246\" y=\"-468.8\" font-family=\"Helvetica,sans-Serif\" font-size=\"14.00\">class = versicolor</text>\n",
       "</g>\n",
       "<!-- 49&#45;&gt;50 -->\n",
       "<g id=\"edge50\" class=\"edge\">\n",
       "<title>49&#45;&gt;50</title>\n",
       "<path fill=\"none\" stroke=\"black\" d=\"M1389.93,-579.58C1379.42,-570.53 1368.18,-560.87 1357.37,-551.56\"/>\n",
       "<polygon fill=\"black\" stroke=\"black\" points=\"1359.82,-549.06 1349.96,-545.19 1355.26,-554.36 1359.82,-549.06\"/>\n",
       "</g>\n",
       "<!-- 61 -->\n",
       "<g id=\"node62\" class=\"node\">\n",
       "<title>61</title>\n",
       "<path fill=\"#8139e5\" stroke=\"black\" d=\"M1505.5,-536.5C1505.5,-536.5 1413.5,-536.5 1413.5,-536.5 1407.5,-536.5 1401.5,-530.5 1401.5,-524.5 1401.5,-524.5 1401.5,-480.5 1401.5,-480.5 1401.5,-474.5 1407.5,-468.5 1413.5,-468.5 1413.5,-468.5 1505.5,-468.5 1505.5,-468.5 1511.5,-468.5 1517.5,-474.5 1517.5,-480.5 1517.5,-480.5 1517.5,-524.5 1517.5,-524.5 1517.5,-530.5 1511.5,-536.5 1505.5,-536.5\"/>\n",
       "<text text-anchor=\"start\" x=\"1430.5\" y=\"-521.3\" font-family=\"Helvetica,sans-Serif\" font-size=\"14.00\">gini = 0.0</text>\n",
       "<text text-anchor=\"start\" x=\"1420\" y=\"-506.3\" font-family=\"Helvetica,sans-Serif\" font-size=\"14.00\">samples = 2</text>\n",
       "<text text-anchor=\"start\" x=\"1411\" y=\"-491.3\" font-family=\"Helvetica,sans-Serif\" font-size=\"14.00\">value = [0, 0, 2]</text>\n",
       "<text text-anchor=\"start\" x=\"1409.5\" y=\"-476.3\" font-family=\"Helvetica,sans-Serif\" font-size=\"14.00\">class = virginica</text>\n",
       "</g>\n",
       "<!-- 49&#45;&gt;61 -->\n",
       "<g id=\"edge61\" class=\"edge\">\n",
       "<title>49&#45;&gt;61</title>\n",
       "<path fill=\"none\" stroke=\"black\" d=\"M1445.19,-579.58C1447.12,-569.32 1449.2,-558.27 1451.16,-547.85\"/>\n",
       "<polygon fill=\"black\" stroke=\"black\" points=\"1454.54,-548.82 1452.95,-538.35 1447.66,-547.53 1454.54,-548.82\"/>\n",
       "</g>\n",
       "<!-- 51 -->\n",
       "<g id=\"node52\" class=\"node\">\n",
       "<title>51</title>\n",
       "<path fill=\"#ffffff\" stroke=\"black\" d=\"M1300,-425C1300,-425 1155,-425 1155,-425 1149,-425 1143,-419 1143,-413 1143,-413 1143,-354 1143,-354 1143,-348 1149,-342 1155,-342 1155,-342 1300,-342 1300,-342 1306,-342 1312,-348 1312,-354 1312,-354 1312,-413 1312,-413 1312,-419 1306,-425 1300,-425\"/>\n",
       "<text text-anchor=\"start\" x=\"1151\" y=\"-409.8\" font-family=\"Helvetica,sans-Serif\" font-size=\"14.00\">sepal length (cm) ≤ 6.35</text>\n",
       "<text text-anchor=\"start\" x=\"1198.5\" y=\"-394.8\" font-family=\"Helvetica,sans-Serif\" font-size=\"14.00\">gini = 0.5</text>\n",
       "<text text-anchor=\"start\" x=\"1188\" y=\"-379.8\" font-family=\"Helvetica,sans-Serif\" font-size=\"14.00\">samples = 6</text>\n",
       "<text text-anchor=\"start\" x=\"1179\" y=\"-364.8\" font-family=\"Helvetica,sans-Serif\" font-size=\"14.00\">value = [0, 3, 3]</text>\n",
       "<text text-anchor=\"start\" x=\"1172\" y=\"-349.8\" font-family=\"Helvetica,sans-Serif\" font-size=\"14.00\">class = versicolor</text>\n",
       "</g>\n",
       "<!-- 50&#45;&gt;51 -->\n",
       "<g id=\"edge51\" class=\"edge\">\n",
       "<title>50&#45;&gt;51</title>\n",
       "<path fill=\"none\" stroke=\"black\" d=\"M1275.62,-460.58C1270.35,-452.25 1264.75,-443.39 1259.3,-434.78\"/>\n",
       "<polygon fill=\"black\" stroke=\"black\" points=\"1262.35,-433.06 1254.05,-426.48 1256.44,-436.8 1262.35,-433.06\"/>\n",
       "</g>\n",
       "<!-- 60 -->\n",
       "<g id=\"node61\" class=\"node\">\n",
       "<title>60</title>\n",
       "<path fill=\"#39e581\" stroke=\"black\" d=\"M1445,-417.5C1445,-417.5 1342,-417.5 1342,-417.5 1336,-417.5 1330,-411.5 1330,-405.5 1330,-405.5 1330,-361.5 1330,-361.5 1330,-355.5 1336,-349.5 1342,-349.5 1342,-349.5 1445,-349.5 1445,-349.5 1451,-349.5 1457,-355.5 1457,-361.5 1457,-361.5 1457,-405.5 1457,-405.5 1457,-411.5 1451,-417.5 1445,-417.5\"/>\n",
       "<text text-anchor=\"start\" x=\"1364.5\" y=\"-402.3\" font-family=\"Helvetica,sans-Serif\" font-size=\"14.00\">gini = 0.0</text>\n",
       "<text text-anchor=\"start\" x=\"1354\" y=\"-387.3\" font-family=\"Helvetica,sans-Serif\" font-size=\"14.00\">samples = 1</text>\n",
       "<text text-anchor=\"start\" x=\"1345\" y=\"-372.3\" font-family=\"Helvetica,sans-Serif\" font-size=\"14.00\">value = [0, 1, 0]</text>\n",
       "<text text-anchor=\"start\" x=\"1338\" y=\"-357.3\" font-family=\"Helvetica,sans-Serif\" font-size=\"14.00\">class = versicolor</text>\n",
       "</g>\n",
       "<!-- 50&#45;&gt;60 -->\n",
       "<g id=\"edge60\" class=\"edge\">\n",
       "<title>50&#45;&gt;60</title>\n",
       "<path fill=\"none\" stroke=\"black\" d=\"M1333.68,-460.58C1342.26,-449.66 1351.55,-437.85 1360.19,-426.86\"/>\n",
       "<polygon fill=\"black\" stroke=\"black\" points=\"1362.9,-429.08 1366.33,-419.05 1357.4,-424.75 1362.9,-429.08\"/>\n",
       "</g>\n",
       "<!-- 52 -->\n",
       "<g id=\"node53\" class=\"node\">\n",
       "<title>52</title>\n",
       "<path fill=\"#c09cf2\" stroke=\"black\" d=\"M1206,-306C1206,-306 1069,-306 1069,-306 1063,-306 1057,-300 1057,-294 1057,-294 1057,-235 1057,-235 1057,-229 1063,-223 1069,-223 1069,-223 1206,-223 1206,-223 1212,-223 1218,-229 1218,-235 1218,-235 1218,-294 1218,-294 1218,-300 1212,-306 1206,-306\"/>\n",
       "<text text-anchor=\"start\" x=\"1065\" y=\"-290.8\" font-family=\"Helvetica,sans-Serif\" font-size=\"14.00\">sepal length (cm) ≤ 6.2</text>\n",
       "<text text-anchor=\"start\" x=\"1100\" y=\"-275.8\" font-family=\"Helvetica,sans-Serif\" font-size=\"14.00\">gini = 0.444</text>\n",
       "<text text-anchor=\"start\" x=\"1098\" y=\"-260.8\" font-family=\"Helvetica,sans-Serif\" font-size=\"14.00\">samples = 3</text>\n",
       "<text text-anchor=\"start\" x=\"1089\" y=\"-245.8\" font-family=\"Helvetica,sans-Serif\" font-size=\"14.00\">value = [0, 1, 2]</text>\n",
       "<text text-anchor=\"start\" x=\"1087.5\" y=\"-230.8\" font-family=\"Helvetica,sans-Serif\" font-size=\"14.00\">class = virginica</text>\n",
       "</g>\n",
       "<!-- 51&#45;&gt;52 -->\n",
       "<g id=\"edge52\" class=\"edge\">\n",
       "<title>51&#45;&gt;52</title>\n",
       "<path fill=\"none\" stroke=\"black\" d=\"M1196.02,-341.58C1189.48,-333.07 1182.51,-324.01 1175.75,-315.23\"/>\n",
       "<polygon fill=\"black\" stroke=\"black\" points=\"1178.6,-313.19 1169.73,-307.4 1173.05,-317.46 1178.6,-313.19\"/>\n",
       "</g>\n",
       "<!-- 57 -->\n",
       "<g id=\"node58\" class=\"node\">\n",
       "<title>57</title>\n",
       "<path fill=\"#9cf2c0\" stroke=\"black\" d=\"M1387,-306C1387,-306 1248,-306 1248,-306 1242,-306 1236,-300 1236,-294 1236,-294 1236,-235 1236,-235 1236,-229 1242,-223 1248,-223 1248,-223 1387,-223 1387,-223 1393,-223 1399,-229 1399,-235 1399,-235 1399,-294 1399,-294 1399,-300 1393,-306 1387,-306\"/>\n",
       "<text text-anchor=\"start\" x=\"1244\" y=\"-290.8\" font-family=\"Helvetica,sans-Serif\" font-size=\"14.00\">sepal width (cm) ≤ 3.05</text>\n",
       "<text text-anchor=\"start\" x=\"1280\" y=\"-275.8\" font-family=\"Helvetica,sans-Serif\" font-size=\"14.00\">gini = 0.444</text>\n",
       "<text text-anchor=\"start\" x=\"1278\" y=\"-260.8\" font-family=\"Helvetica,sans-Serif\" font-size=\"14.00\">samples = 3</text>\n",
       "<text text-anchor=\"start\" x=\"1269\" y=\"-245.8\" font-family=\"Helvetica,sans-Serif\" font-size=\"14.00\">value = [0, 2, 1]</text>\n",
       "<text text-anchor=\"start\" x=\"1262\" y=\"-230.8\" font-family=\"Helvetica,sans-Serif\" font-size=\"14.00\">class = versicolor</text>\n",
       "</g>\n",
       "<!-- 51&#45;&gt;57 -->\n",
       "<g id=\"edge57\" class=\"edge\">\n",
       "<title>51&#45;&gt;57</title>\n",
       "<path fill=\"none\" stroke=\"black\" d=\"M1258.98,-341.58C1265.52,-333.07 1272.49,-324.01 1279.25,-315.23\"/>\n",
       "<polygon fill=\"black\" stroke=\"black\" points=\"1281.95,-317.46 1285.27,-307.4 1276.4,-313.19 1281.95,-317.46\"/>\n",
       "</g>\n",
       "<!-- 53 -->\n",
       "<g id=\"node54\" class=\"node\">\n",
       "<title>53</title>\n",
       "<path fill=\"#ffffff\" stroke=\"black\" d=\"M1059,-187C1059,-187 920,-187 920,-187 914,-187 908,-181 908,-175 908,-175 908,-116 908,-116 908,-110 914,-104 920,-104 920,-104 1059,-104 1059,-104 1065,-104 1071,-110 1071,-116 1071,-116 1071,-175 1071,-175 1071,-181 1065,-187 1059,-187\"/>\n",
       "<text text-anchor=\"start\" x=\"916\" y=\"-171.8\" font-family=\"Helvetica,sans-Serif\" font-size=\"14.00\">sepal width (cm) ≤ 2.95</text>\n",
       "<text text-anchor=\"start\" x=\"960.5\" y=\"-156.8\" font-family=\"Helvetica,sans-Serif\" font-size=\"14.00\">gini = 0.5</text>\n",
       "<text text-anchor=\"start\" x=\"950\" y=\"-141.8\" font-family=\"Helvetica,sans-Serif\" font-size=\"14.00\">samples = 2</text>\n",
       "<text text-anchor=\"start\" x=\"941\" y=\"-126.8\" font-family=\"Helvetica,sans-Serif\" font-size=\"14.00\">value = [0, 1, 1]</text>\n",
       "<text text-anchor=\"start\" x=\"934\" y=\"-111.8\" font-family=\"Helvetica,sans-Serif\" font-size=\"14.00\">class = versicolor</text>\n",
       "</g>\n",
       "<!-- 52&#45;&gt;53 -->\n",
       "<g id=\"edge53\" class=\"edge\">\n",
       "<title>52&#45;&gt;53</title>\n",
       "<path fill=\"none\" stroke=\"black\" d=\"M1085.74,-222.58C1074.25,-213.49 1061.96,-203.79 1050.15,-194.45\"/>\n",
       "<polygon fill=\"black\" stroke=\"black\" points=\"1052.44,-191.79 1042.42,-188.34 1048.1,-197.28 1052.44,-191.79\"/>\n",
       "</g>\n",
       "<!-- 56 -->\n",
       "<g id=\"node57\" class=\"node\">\n",
       "<title>56</title>\n",
       "<path fill=\"#8139e5\" stroke=\"black\" d=\"M1193.5,-179.5C1193.5,-179.5 1101.5,-179.5 1101.5,-179.5 1095.5,-179.5 1089.5,-173.5 1089.5,-167.5 1089.5,-167.5 1089.5,-123.5 1089.5,-123.5 1089.5,-117.5 1095.5,-111.5 1101.5,-111.5 1101.5,-111.5 1193.5,-111.5 1193.5,-111.5 1199.5,-111.5 1205.5,-117.5 1205.5,-123.5 1205.5,-123.5 1205.5,-167.5 1205.5,-167.5 1205.5,-173.5 1199.5,-179.5 1193.5,-179.5\"/>\n",
       "<text text-anchor=\"start\" x=\"1118.5\" y=\"-164.3\" font-family=\"Helvetica,sans-Serif\" font-size=\"14.00\">gini = 0.0</text>\n",
       "<text text-anchor=\"start\" x=\"1108\" y=\"-149.3\" font-family=\"Helvetica,sans-Serif\" font-size=\"14.00\">samples = 1</text>\n",
       "<text text-anchor=\"start\" x=\"1099\" y=\"-134.3\" font-family=\"Helvetica,sans-Serif\" font-size=\"14.00\">value = [0, 0, 1]</text>\n",
       "<text text-anchor=\"start\" x=\"1097.5\" y=\"-119.3\" font-family=\"Helvetica,sans-Serif\" font-size=\"14.00\">class = virginica</text>\n",
       "</g>\n",
       "<!-- 52&#45;&gt;56 -->\n",
       "<g id=\"edge56\" class=\"edge\">\n",
       "<title>52&#45;&gt;56</title>\n",
       "<path fill=\"none\" stroke=\"black\" d=\"M1141,-222.58C1141.87,-212.43 1142.8,-201.5 1143.68,-191.18\"/>\n",
       "<polygon fill=\"black\" stroke=\"black\" points=\"1147.16,-191.63 1144.52,-181.37 1140.18,-191.03 1147.16,-191.63\"/>\n",
       "</g>\n",
       "<!-- 54 -->\n",
       "<g id=\"node55\" class=\"node\">\n",
       "<title>54</title>\n",
       "<path fill=\"#39e581\" stroke=\"black\" d=\"M971,-68C971,-68 868,-68 868,-68 862,-68 856,-62 856,-56 856,-56 856,-12 856,-12 856,-6 862,0 868,0 868,0 971,0 971,0 977,0 983,-6 983,-12 983,-12 983,-56 983,-56 983,-62 977,-68 971,-68\"/>\n",
       "<text text-anchor=\"start\" x=\"890.5\" y=\"-52.8\" font-family=\"Helvetica,sans-Serif\" font-size=\"14.00\">gini = 0.0</text>\n",
       "<text text-anchor=\"start\" x=\"880\" y=\"-37.8\" font-family=\"Helvetica,sans-Serif\" font-size=\"14.00\">samples = 1</text>\n",
       "<text text-anchor=\"start\" x=\"871\" y=\"-22.8\" font-family=\"Helvetica,sans-Serif\" font-size=\"14.00\">value = [0, 1, 0]</text>\n",
       "<text text-anchor=\"start\" x=\"864\" y=\"-7.8\" font-family=\"Helvetica,sans-Serif\" font-size=\"14.00\">class = versicolor</text>\n",
       "</g>\n",
       "<!-- 53&#45;&gt;54 -->\n",
       "<g id=\"edge54\" class=\"edge\">\n",
       "<title>53&#45;&gt;54</title>\n",
       "<path fill=\"none\" stroke=\"black\" d=\"M963.43,-103.73C958.01,-95.24 952.28,-86.28 946.82,-77.73\"/>\n",
       "<polygon fill=\"black\" stroke=\"black\" points=\"949.94,-76.12 941.6,-69.57 944.04,-79.89 949.94,-76.12\"/>\n",
       "</g>\n",
       "<!-- 55 -->\n",
       "<g id=\"node56\" class=\"node\">\n",
       "<title>55</title>\n",
       "<path fill=\"#8139e5\" stroke=\"black\" d=\"M1105.5,-68C1105.5,-68 1013.5,-68 1013.5,-68 1007.5,-68 1001.5,-62 1001.5,-56 1001.5,-56 1001.5,-12 1001.5,-12 1001.5,-6 1007.5,0 1013.5,0 1013.5,0 1105.5,0 1105.5,0 1111.5,0 1117.5,-6 1117.5,-12 1117.5,-12 1117.5,-56 1117.5,-56 1117.5,-62 1111.5,-68 1105.5,-68\"/>\n",
       "<text text-anchor=\"start\" x=\"1030.5\" y=\"-52.8\" font-family=\"Helvetica,sans-Serif\" font-size=\"14.00\">gini = 0.0</text>\n",
       "<text text-anchor=\"start\" x=\"1020\" y=\"-37.8\" font-family=\"Helvetica,sans-Serif\" font-size=\"14.00\">samples = 1</text>\n",
       "<text text-anchor=\"start\" x=\"1011\" y=\"-22.8\" font-family=\"Helvetica,sans-Serif\" font-size=\"14.00\">value = [0, 0, 1]</text>\n",
       "<text text-anchor=\"start\" x=\"1009.5\" y=\"-7.8\" font-family=\"Helvetica,sans-Serif\" font-size=\"14.00\">class = virginica</text>\n",
       "</g>\n",
       "<!-- 53&#45;&gt;55 -->\n",
       "<g id=\"edge55\" class=\"edge\">\n",
       "<title>53&#45;&gt;55</title>\n",
       "<path fill=\"none\" stroke=\"black\" d=\"M1015.57,-103.73C1020.99,-95.24 1026.72,-86.28 1032.18,-77.73\"/>\n",
       "<polygon fill=\"black\" stroke=\"black\" points=\"1034.96,-79.89 1037.4,-69.57 1029.06,-76.12 1034.96,-79.89\"/>\n",
       "</g>\n",
       "<!-- 58 -->\n",
       "<g id=\"node59\" class=\"node\">\n",
       "<title>58</title>\n",
       "<path fill=\"#39e581\" stroke=\"black\" d=\"M1359,-179.5C1359,-179.5 1256,-179.5 1256,-179.5 1250,-179.5 1244,-173.5 1244,-167.5 1244,-167.5 1244,-123.5 1244,-123.5 1244,-117.5 1250,-111.5 1256,-111.5 1256,-111.5 1359,-111.5 1359,-111.5 1365,-111.5 1371,-117.5 1371,-123.5 1371,-123.5 1371,-167.5 1371,-167.5 1371,-173.5 1365,-179.5 1359,-179.5\"/>\n",
       "<text text-anchor=\"start\" x=\"1278.5\" y=\"-164.3\" font-family=\"Helvetica,sans-Serif\" font-size=\"14.00\">gini = 0.0</text>\n",
       "<text text-anchor=\"start\" x=\"1268\" y=\"-149.3\" font-family=\"Helvetica,sans-Serif\" font-size=\"14.00\">samples = 1</text>\n",
       "<text text-anchor=\"start\" x=\"1259\" y=\"-134.3\" font-family=\"Helvetica,sans-Serif\" font-size=\"14.00\">value = [0, 1, 0]</text>\n",
       "<text text-anchor=\"start\" x=\"1252\" y=\"-119.3\" font-family=\"Helvetica,sans-Serif\" font-size=\"14.00\">class = versicolor</text>\n",
       "</g>\n",
       "<!-- 57&#45;&gt;58 -->\n",
       "<g id=\"edge58\" class=\"edge\">\n",
       "<title>57&#45;&gt;58</title>\n",
       "<path fill=\"none\" stroke=\"black\" d=\"M1314,-222.58C1313.13,-212.43 1312.2,-201.5 1311.32,-191.18\"/>\n",
       "<polygon fill=\"black\" stroke=\"black\" points=\"1314.82,-191.03 1310.48,-181.37 1307.84,-191.63 1314.82,-191.03\"/>\n",
       "</g>\n",
       "<!-- 59 -->\n",
       "<g id=\"node60\" class=\"node\">\n",
       "<title>59</title>\n",
       "<path fill=\"#ffffff\" stroke=\"black\" d=\"M1504,-179.5C1504,-179.5 1401,-179.5 1401,-179.5 1395,-179.5 1389,-173.5 1389,-167.5 1389,-167.5 1389,-123.5 1389,-123.5 1389,-117.5 1395,-111.5 1401,-111.5 1401,-111.5 1504,-111.5 1504,-111.5 1510,-111.5 1516,-117.5 1516,-123.5 1516,-123.5 1516,-167.5 1516,-167.5 1516,-173.5 1510,-179.5 1504,-179.5\"/>\n",
       "<text text-anchor=\"start\" x=\"1423.5\" y=\"-164.3\" font-family=\"Helvetica,sans-Serif\" font-size=\"14.00\">gini = 0.5</text>\n",
       "<text text-anchor=\"start\" x=\"1413\" y=\"-149.3\" font-family=\"Helvetica,sans-Serif\" font-size=\"14.00\">samples = 2</text>\n",
       "<text text-anchor=\"start\" x=\"1404\" y=\"-134.3\" font-family=\"Helvetica,sans-Serif\" font-size=\"14.00\">value = [0, 1, 1]</text>\n",
       "<text text-anchor=\"start\" x=\"1397\" y=\"-119.3\" font-family=\"Helvetica,sans-Serif\" font-size=\"14.00\">class = versicolor</text>\n",
       "</g>\n",
       "<!-- 57&#45;&gt;59 -->\n",
       "<g id=\"edge59\" class=\"edge\">\n",
       "<title>57&#45;&gt;59</title>\n",
       "<path fill=\"none\" stroke=\"black\" d=\"M1364.72,-222.58C1377.94,-211.12 1392.31,-198.67 1405.52,-187.22\"/>\n",
       "<polygon fill=\"black\" stroke=\"black\" points=\"1407.6,-190.05 1412.86,-180.85 1403.01,-184.76 1407.6,-190.05\"/>\n",
       "</g>\n",
       "<!-- 63 -->\n",
       "<g id=\"node64\" class=\"node\">\n",
       "<title>63</title>\n",
       "<path fill=\"#39e581\" stroke=\"black\" d=\"M1651,-536.5C1651,-536.5 1548,-536.5 1548,-536.5 1542,-536.5 1536,-530.5 1536,-524.5 1536,-524.5 1536,-480.5 1536,-480.5 1536,-474.5 1542,-468.5 1548,-468.5 1548,-468.5 1651,-468.5 1651,-468.5 1657,-468.5 1663,-474.5 1663,-480.5 1663,-480.5 1663,-524.5 1663,-524.5 1663,-530.5 1657,-536.5 1651,-536.5\"/>\n",
       "<text text-anchor=\"start\" x=\"1570.5\" y=\"-521.3\" font-family=\"Helvetica,sans-Serif\" font-size=\"14.00\">gini = 0.0</text>\n",
       "<text text-anchor=\"start\" x=\"1560\" y=\"-506.3\" font-family=\"Helvetica,sans-Serif\" font-size=\"14.00\">samples = 3</text>\n",
       "<text text-anchor=\"start\" x=\"1551\" y=\"-491.3\" font-family=\"Helvetica,sans-Serif\" font-size=\"14.00\">value = [0, 3, 0]</text>\n",
       "<text text-anchor=\"start\" x=\"1544\" y=\"-476.3\" font-family=\"Helvetica,sans-Serif\" font-size=\"14.00\">class = versicolor</text>\n",
       "</g>\n",
       "<!-- 62&#45;&gt;63 -->\n",
       "<g id=\"edge63\" class=\"edge\">\n",
       "<title>62&#45;&gt;63</title>\n",
       "<path fill=\"none\" stroke=\"black\" d=\"M1613.81,-579.58C1611.88,-569.32 1609.8,-558.27 1607.84,-547.85\"/>\n",
       "<polygon fill=\"black\" stroke=\"black\" points=\"1611.34,-547.53 1606.05,-538.35 1604.46,-548.82 1611.34,-547.53\"/>\n",
       "</g>\n",
       "<!-- 64 -->\n",
       "<g id=\"node65\" class=\"node\">\n",
       "<title>64</title>\n",
       "<path fill=\"#9cf2c0\" stroke=\"black\" d=\"M1796,-536.5C1796,-536.5 1693,-536.5 1693,-536.5 1687,-536.5 1681,-530.5 1681,-524.5 1681,-524.5 1681,-480.5 1681,-480.5 1681,-474.5 1687,-468.5 1693,-468.5 1693,-468.5 1796,-468.5 1796,-468.5 1802,-468.5 1808,-474.5 1808,-480.5 1808,-480.5 1808,-524.5 1808,-524.5 1808,-530.5 1802,-536.5 1796,-536.5\"/>\n",
       "<text text-anchor=\"start\" x=\"1707\" y=\"-521.3\" font-family=\"Helvetica,sans-Serif\" font-size=\"14.00\">gini = 0.444</text>\n",
       "<text text-anchor=\"start\" x=\"1705\" y=\"-506.3\" font-family=\"Helvetica,sans-Serif\" font-size=\"14.00\">samples = 3</text>\n",
       "<text text-anchor=\"start\" x=\"1696\" y=\"-491.3\" font-family=\"Helvetica,sans-Serif\" font-size=\"14.00\">value = [0, 2, 1]</text>\n",
       "<text text-anchor=\"start\" x=\"1689\" y=\"-476.3\" font-family=\"Helvetica,sans-Serif\" font-size=\"14.00\">class = versicolor</text>\n",
       "</g>\n",
       "<!-- 62&#45;&gt;64 -->\n",
       "<g id=\"edge64\" class=\"edge\">\n",
       "<title>62&#45;&gt;64</title>\n",
       "<path fill=\"none\" stroke=\"black\" d=\"M1664.52,-579.58C1676.45,-568.23 1689.41,-555.9 1701.35,-544.55\"/>\n",
       "<polygon fill=\"black\" stroke=\"black\" points=\"1703.5,-547.33 1708.33,-537.9 1698.67,-542.26 1703.5,-547.33\"/>\n",
       "</g>\n",
       "<!-- 66 -->\n",
       "<g id=\"node67\" class=\"node\">\n",
       "<title>66</title>\n",
       "<path fill=\"#a06aec\" stroke=\"black\" d=\"M1957,-663C1957,-663 1812,-663 1812,-663 1806,-663 1800,-657 1800,-651 1800,-651 1800,-592 1800,-592 1800,-586 1806,-580 1812,-580 1812,-580 1957,-580 1957,-580 1963,-580 1969,-586 1969,-592 1969,-592 1969,-651 1969,-651 1969,-657 1963,-663 1957,-663\"/>\n",
       "<text text-anchor=\"start\" x=\"1808\" y=\"-647.8\" font-family=\"Helvetica,sans-Serif\" font-size=\"14.00\">sepal length (cm) ≤ 6.85</text>\n",
       "<text text-anchor=\"start\" x=\"1851\" y=\"-632.8\" font-family=\"Helvetica,sans-Serif\" font-size=\"14.00\">gini = 0.32</text>\n",
       "<text text-anchor=\"start\" x=\"1845\" y=\"-617.8\" font-family=\"Helvetica,sans-Serif\" font-size=\"14.00\">samples = 5</text>\n",
       "<text text-anchor=\"start\" x=\"1836\" y=\"-602.8\" font-family=\"Helvetica,sans-Serif\" font-size=\"14.00\">value = [0, 1, 4]</text>\n",
       "<text text-anchor=\"start\" x=\"1834.5\" y=\"-587.8\" font-family=\"Helvetica,sans-Serif\" font-size=\"14.00\">class = virginica</text>\n",
       "</g>\n",
       "<!-- 65&#45;&gt;66 -->\n",
       "<g id=\"edge66\" class=\"edge\">\n",
       "<title>65&#45;&gt;66</title>\n",
       "<path fill=\"none\" stroke=\"black\" d=\"M1884.5,-698.58C1884.5,-690.79 1884.5,-682.53 1884.5,-674.45\"/>\n",
       "<polygon fill=\"black\" stroke=\"black\" points=\"1888,-674.71 1884.5,-664.71 1881,-674.71 1888,-674.71\"/>\n",
       "</g>\n",
       "<!-- 71 -->\n",
       "<g id=\"node72\" class=\"node\">\n",
       "<title>71</title>\n",
       "<path fill=\"#39e581\" stroke=\"black\" d=\"M2102,-655.5C2102,-655.5 1999,-655.5 1999,-655.5 1993,-655.5 1987,-649.5 1987,-643.5 1987,-643.5 1987,-599.5 1987,-599.5 1987,-593.5 1993,-587.5 1999,-587.5 1999,-587.5 2102,-587.5 2102,-587.5 2108,-587.5 2114,-593.5 2114,-599.5 2114,-599.5 2114,-643.5 2114,-643.5 2114,-649.5 2108,-655.5 2102,-655.5\"/>\n",
       "<text text-anchor=\"start\" x=\"2021.5\" y=\"-640.3\" font-family=\"Helvetica,sans-Serif\" font-size=\"14.00\">gini = 0.0</text>\n",
       "<text text-anchor=\"start\" x=\"2011\" y=\"-625.3\" font-family=\"Helvetica,sans-Serif\" font-size=\"14.00\">samples = 1</text>\n",
       "<text text-anchor=\"start\" x=\"2002\" y=\"-610.3\" font-family=\"Helvetica,sans-Serif\" font-size=\"14.00\">value = [0, 1, 0]</text>\n",
       "<text text-anchor=\"start\" x=\"1995\" y=\"-595.3\" font-family=\"Helvetica,sans-Serif\" font-size=\"14.00\">class = versicolor</text>\n",
       "</g>\n",
       "<!-- 65&#45;&gt;71 -->\n",
       "<g id=\"edge71\" class=\"edge\">\n",
       "<title>65&#45;&gt;71</title>\n",
       "<path fill=\"none\" stroke=\"black\" d=\"M1942.56,-698.58C1959.28,-686.79 1977.5,-673.95 1994.12,-662.24\"/>\n",
       "<polygon fill=\"black\" stroke=\"black\" points=\"1995.77,-665.36 2001.93,-656.73 1991.74,-659.63 1995.77,-665.36\"/>\n",
       "</g>\n",
       "<!-- 67 -->\n",
       "<g id=\"node68\" class=\"node\">\n",
       "<title>67</title>\n",
       "<path fill=\"#8139e5\" stroke=\"black\" d=\"M1930.5,-536.5C1930.5,-536.5 1838.5,-536.5 1838.5,-536.5 1832.5,-536.5 1826.5,-530.5 1826.5,-524.5 1826.5,-524.5 1826.5,-480.5 1826.5,-480.5 1826.5,-474.5 1832.5,-468.5 1838.5,-468.5 1838.5,-468.5 1930.5,-468.5 1930.5,-468.5 1936.5,-468.5 1942.5,-474.5 1942.5,-480.5 1942.5,-480.5 1942.5,-524.5 1942.5,-524.5 1942.5,-530.5 1936.5,-536.5 1930.5,-536.5\"/>\n",
       "<text text-anchor=\"start\" x=\"1855.5\" y=\"-521.3\" font-family=\"Helvetica,sans-Serif\" font-size=\"14.00\">gini = 0.0</text>\n",
       "<text text-anchor=\"start\" x=\"1845\" y=\"-506.3\" font-family=\"Helvetica,sans-Serif\" font-size=\"14.00\">samples = 1</text>\n",
       "<text text-anchor=\"start\" x=\"1836\" y=\"-491.3\" font-family=\"Helvetica,sans-Serif\" font-size=\"14.00\">value = [0, 0, 1]</text>\n",
       "<text text-anchor=\"start\" x=\"1834.5\" y=\"-476.3\" font-family=\"Helvetica,sans-Serif\" font-size=\"14.00\">class = virginica</text>\n",
       "</g>\n",
       "<!-- 66&#45;&gt;67 -->\n",
       "<g id=\"edge67\" class=\"edge\">\n",
       "<title>66&#45;&gt;67</title>\n",
       "<path fill=\"none\" stroke=\"black\" d=\"M1884.5,-579.58C1884.5,-569.43 1884.5,-558.5 1884.5,-548.18\"/>\n",
       "<polygon fill=\"black\" stroke=\"black\" points=\"1888,-548.37 1884.5,-538.37 1881,-548.37 1888,-548.37\"/>\n",
       "</g>\n",
       "<!-- 68 -->\n",
       "<g id=\"node69\" class=\"node\">\n",
       "<title>68</title>\n",
       "<path fill=\"#ab7bee\" stroke=\"black\" d=\"M2112,-544C2112,-544 1973,-544 1973,-544 1967,-544 1961,-538 1961,-532 1961,-532 1961,-473 1961,-473 1961,-467 1967,-461 1973,-461 1973,-461 2112,-461 2112,-461 2118,-461 2124,-467 2124,-473 2124,-473 2124,-532 2124,-532 2124,-538 2118,-544 2112,-544\"/>\n",
       "<text text-anchor=\"start\" x=\"1969\" y=\"-528.8\" font-family=\"Helvetica,sans-Serif\" font-size=\"14.00\">sepal width (cm) ≤ 3.15</text>\n",
       "<text text-anchor=\"start\" x=\"2005\" y=\"-513.8\" font-family=\"Helvetica,sans-Serif\" font-size=\"14.00\">gini = 0.375</text>\n",
       "<text text-anchor=\"start\" x=\"2003\" y=\"-498.8\" font-family=\"Helvetica,sans-Serif\" font-size=\"14.00\">samples = 4</text>\n",
       "<text text-anchor=\"start\" x=\"1994\" y=\"-483.8\" font-family=\"Helvetica,sans-Serif\" font-size=\"14.00\">value = [0, 1, 3]</text>\n",
       "<text text-anchor=\"start\" x=\"1992.5\" y=\"-468.8\" font-family=\"Helvetica,sans-Serif\" font-size=\"14.00\">class = virginica</text>\n",
       "</g>\n",
       "<!-- 66&#45;&gt;68 -->\n",
       "<g id=\"edge68\" class=\"edge\">\n",
       "<title>66&#45;&gt;68</title>\n",
       "<path fill=\"none\" stroke=\"black\" d=\"M1939.76,-579.58C1952.15,-570.41 1965.4,-560.6 1978.12,-551.17\"/>\n",
       "<polygon fill=\"black\" stroke=\"black\" points=\"1980.1,-554.06 1986.05,-545.3 1975.93,-548.44 1980.1,-554.06\"/>\n",
       "</g>\n",
       "<!-- 69 -->\n",
       "<g id=\"node70\" class=\"node\">\n",
       "<title>69</title>\n",
       "<path fill=\"#c09cf2\" stroke=\"black\" d=\"M2021.5,-417.5C2021.5,-417.5 1929.5,-417.5 1929.5,-417.5 1923.5,-417.5 1917.5,-411.5 1917.5,-405.5 1917.5,-405.5 1917.5,-361.5 1917.5,-361.5 1917.5,-355.5 1923.5,-349.5 1929.5,-349.5 1929.5,-349.5 2021.5,-349.5 2021.5,-349.5 2027.5,-349.5 2033.5,-355.5 2033.5,-361.5 2033.5,-361.5 2033.5,-405.5 2033.5,-405.5 2033.5,-411.5 2027.5,-417.5 2021.5,-417.5\"/>\n",
       "<text text-anchor=\"start\" x=\"1938\" y=\"-402.3\" font-family=\"Helvetica,sans-Serif\" font-size=\"14.00\">gini = 0.444</text>\n",
       "<text text-anchor=\"start\" x=\"1936\" y=\"-387.3\" font-family=\"Helvetica,sans-Serif\" font-size=\"14.00\">samples = 3</text>\n",
       "<text text-anchor=\"start\" x=\"1927\" y=\"-372.3\" font-family=\"Helvetica,sans-Serif\" font-size=\"14.00\">value = [0, 1, 2]</text>\n",
       "<text text-anchor=\"start\" x=\"1925.5\" y=\"-357.3\" font-family=\"Helvetica,sans-Serif\" font-size=\"14.00\">class = virginica</text>\n",
       "</g>\n",
       "<!-- 68&#45;&gt;69 -->\n",
       "<g id=\"edge69\" class=\"edge\">\n",
       "<title>68&#45;&gt;69</title>\n",
       "<path fill=\"none\" stroke=\"black\" d=\"M2019.07,-460.58C2013,-449.99 2006.46,-438.56 2000.33,-427.85\"/>\n",
       "<polygon fill=\"black\" stroke=\"black\" points=\"2003.36,-426.11 1995.36,-419.17 1997.29,-429.59 2003.36,-426.11\"/>\n",
       "</g>\n",
       "<!-- 70 -->\n",
       "<g id=\"node71\" class=\"node\">\n",
       "<title>70</title>\n",
       "<path fill=\"#8139e5\" stroke=\"black\" d=\"M2155.5,-417.5C2155.5,-417.5 2063.5,-417.5 2063.5,-417.5 2057.5,-417.5 2051.5,-411.5 2051.5,-405.5 2051.5,-405.5 2051.5,-361.5 2051.5,-361.5 2051.5,-355.5 2057.5,-349.5 2063.5,-349.5 2063.5,-349.5 2155.5,-349.5 2155.5,-349.5 2161.5,-349.5 2167.5,-355.5 2167.5,-361.5 2167.5,-361.5 2167.5,-405.5 2167.5,-405.5 2167.5,-411.5 2161.5,-417.5 2155.5,-417.5\"/>\n",
       "<text text-anchor=\"start\" x=\"2080.5\" y=\"-402.3\" font-family=\"Helvetica,sans-Serif\" font-size=\"14.00\">gini = 0.0</text>\n",
       "<text text-anchor=\"start\" x=\"2070\" y=\"-387.3\" font-family=\"Helvetica,sans-Serif\" font-size=\"14.00\">samples = 1</text>\n",
       "<text text-anchor=\"start\" x=\"2061\" y=\"-372.3\" font-family=\"Helvetica,sans-Serif\" font-size=\"14.00\">value = [0, 0, 1]</text>\n",
       "<text text-anchor=\"start\" x=\"2059.5\" y=\"-357.3\" font-family=\"Helvetica,sans-Serif\" font-size=\"14.00\">class = virginica</text>\n",
       "</g>\n",
       "<!-- 68&#45;&gt;70 -->\n",
       "<g id=\"edge70\" class=\"edge\">\n",
       "<title>68&#45;&gt;70</title>\n",
       "<path fill=\"none\" stroke=\"black\" d=\"M2065.93,-460.58C2072,-449.99 2078.54,-438.56 2084.67,-427.85\"/>\n",
       "<polygon fill=\"black\" stroke=\"black\" points=\"2087.71,-429.59 2089.64,-419.17 2081.64,-426.11 2087.71,-429.59\"/>\n",
       "</g>\n",
       "</g>\n",
       "</svg>\n"
      ],
      "text/plain": [
       "<graphviz.sources.Source at 0x27d3b7ff880>"
      ]
     },
     "execution_count": 32,
     "metadata": {},
     "output_type": "execute_result"
    }
   ],
   "source": [
    "dot_data = tree.export_graphviz(clf, out_file=None, \n",
    "                         feature_names=features,  \n",
    "                         class_names=iris.target_names,  \n",
    "                         filled=True, rounded=True,  \n",
    "                         special_characters=True)  \n",
    "graph = graphviz.Source(dot_data)  \n",
    "graph "
   ]
  },
  {
   "cell_type": "code",
   "execution_count": 33,
   "metadata": {
    "scrolled": true
   },
   "outputs": [],
   "source": [
    "y_pred = clf.predict(test[features])"
   ]
  },
  {
   "cell_type": "code",
   "execution_count": 34,
   "metadata": {},
   "outputs": [
    {
     "name": "stdout",
     "output_type": "stream",
     "text": [
      "Accuracy: 0.6571428571428571\n"
     ]
    }
   ],
   "source": [
    "# Model Accuracy, how often is the classifier correct?\n",
    "print(\"Accuracy:\", metrics.accuracy_score(y_test, y_pred))"
   ]
  },
  {
   "cell_type": "code",
   "execution_count": 35,
   "metadata": {},
   "outputs": [
    {
     "data": {
      "image/png": "[encoded data removed]",
      "text/plain": [
       "<Figure size 576x360 with 1 Axes>"
      ]
     },
     "metadata": {},
     "output_type": "display_data"
    }
   ],
   "source": [
    "cm = confusion_matrix(y_pred, y_test)\n",
    "plt.figure(figsize=(8, 5), facecolor='white')\n",
    "plt.title(\"LR Confusion Matrix\")\n",
    "sns.heatmap(cm, annot=True, cbar=False)\n",
    "plt.xlabel(\"Truth\")\n",
    "plt.ylabel(\"Predicted\")\n",
    "plt.show()"
   ]
  },
  {
   "cell_type": "markdown",
   "metadata": {},
   "source": [
    "### decision tree on petal features"
   ]
  },
  {
   "cell_type": "code",
   "execution_count": 36,
   "metadata": {},
   "outputs": [],
   "source": [
    "df['is_train'] = np.random.uniform(0, 1, len(df)) <= .75\n",
    "\n",
    "# Create two new dataframes, one with the training rows, one with the test rows\n",
    "train, test = df[df['is_train']==True], df[df['is_train']==False]\n",
    "\n",
    "y_train = pd.factorize(train['species'])[0]\n",
    "y_test = pd.factorize(test['species'])[0]\n"
   ]
  },
  {
   "cell_type": "code",
   "execution_count": 37,
   "metadata": {},
   "outputs": [],
   "source": [
    "features = ['petal length (cm)', 'petal width (cm)']\n",
    "clf = tree.DecisionTreeClassifier()\n",
    "clf = clf.fit(train[features], y_train)"
   ]
  },
  {
   "cell_type": "code",
   "execution_count": 38,
   "metadata": {},
   "outputs": [
    {
     "data": {
      "image/svg+xml": [
       "<?xml version=\"1.0\" encoding=\"UTF-8\" standalone=\"no\"?>\n",
       "<!DOCTYPE svg PUBLIC \"-//W3C//DTD SVG 1.1//EN\"\n",
       " \"http://www.w3.org/Graphics/SVG/1.1/DTD/svg11.dtd\">\n",
       "<!-- Generated by graphviz version 7.0.3 (20221126.0506)\n",
       " -->\n",
       "<!-- Title: Tree Pages: 1 -->\n",
       "<svg width=\"635pt\" height=\"671pt\"\n",
       " viewBox=\"0.00 0.00 635.00 671.00\" xmlns=\"http://www.w3.org/2000/svg\" xmlns:xlink=\"http://www.w3.org/1999/xlink\">\n",
       "<g id=\"graph0\" class=\"graph\" transform=\"scale(1 1) rotate(0) translate(4 667)\">\n",
       "<title>Tree</title>\n",
       "<polygon fill=\"white\" stroke=\"none\" points=\"-4,4 -4,-667 631,-667 631,4 -4,4\"/>\n",
       "<!-- 0 -->\n",
       "<g id=\"node1\" class=\"node\">\n",
       "<title>0</title>\n",
       "<path fill=\"#fdfcff\" stroke=\"black\" d=\"M299,-663C299,-663 172,-663 172,-663 166,-663 160,-657 160,-651 160,-651 160,-592 160,-592 160,-586 166,-580 172,-580 172,-580 299,-580 299,-580 305,-580 311,-586 311,-592 311,-592 311,-651 311,-651 311,-657 305,-663 299,-663\"/>\n",
       "<text text-anchor=\"start\" x=\"168\" y=\"-647.8\" font-family=\"Helvetica,sans-Serif\" font-size=\"14.00\">petal width (cm) ≤ 0.8</text>\n",
       "<text text-anchor=\"start\" x=\"198\" y=\"-632.8\" font-family=\"Helvetica,sans-Serif\" font-size=\"14.00\">gini = 0.666</text>\n",
       "<text text-anchor=\"start\" x=\"188\" y=\"-617.8\" font-family=\"Helvetica,sans-Serif\" font-size=\"14.00\">samples = 118</text>\n",
       "<text text-anchor=\"start\" x=\"175\" y=\"-602.8\" font-family=\"Helvetica,sans-Serif\" font-size=\"14.00\">value = [40, 37, 41]</text>\n",
       "<text text-anchor=\"start\" x=\"185.5\" y=\"-587.8\" font-family=\"Helvetica,sans-Serif\" font-size=\"14.00\">class = virginica</text>\n",
       "</g>\n",
       "<!-- 1 -->\n",
       "<g id=\"node2\" class=\"node\">\n",
       "<title>1</title>\n",
       "<path fill=\"#e58139\" stroke=\"black\" d=\"M205,-536.5C205,-536.5 108,-536.5 108,-536.5 102,-536.5 96,-530.5 96,-524.5 96,-524.5 96,-480.5 96,-480.5 96,-474.5 102,-468.5 108,-468.5 108,-468.5 205,-468.5 205,-468.5 211,-468.5 217,-474.5 217,-480.5 217,-480.5 217,-524.5 217,-524.5 217,-530.5 211,-536.5 205,-536.5\"/>\n",
       "<text text-anchor=\"start\" x=\"127.5\" y=\"-521.3\" font-family=\"Helvetica,sans-Serif\" font-size=\"14.00\">gini = 0.0</text>\n",
       "<text text-anchor=\"start\" x=\"113\" y=\"-506.3\" font-family=\"Helvetica,sans-Serif\" font-size=\"14.00\">samples = 40</text>\n",
       "<text text-anchor=\"start\" x=\"104\" y=\"-491.3\" font-family=\"Helvetica,sans-Serif\" font-size=\"14.00\">value = [40, 0, 0]</text>\n",
       "<text text-anchor=\"start\" x=\"110.5\" y=\"-476.3\" font-family=\"Helvetica,sans-Serif\" font-size=\"14.00\">class = setosa</text>\n",
       "</g>\n",
       "<!-- 0&#45;&gt;1 -->\n",
       "<g id=\"edge1\" class=\"edge\">\n",
       "<title>0&#45;&gt;1</title>\n",
       "<path fill=\"none\" stroke=\"black\" d=\"M207.87,-579.58C200.57,-568.77 192.68,-557.09 185.33,-546.19\"/>\n",
       "<polygon fill=\"black\" stroke=\"black\" points=\"188.37,-544.44 179.87,-538.12 182.57,-548.36 188.37,-544.44\"/>\n",
       "<text text-anchor=\"middle\" x=\"174.27\" y=\"-557.7\" font-family=\"Helvetica,sans-Serif\" font-size=\"14.00\">True</text>\n",
       "</g>\n",
       "<!-- 2 -->\n",
       "<g id=\"node3\" class=\"node\">\n",
       "<title>2</title>\n",
       "<path fill=\"#f3ecfc\" stroke=\"black\" d=\"M382,-544C382,-544 247,-544 247,-544 241,-544 235,-538 235,-532 235,-532 235,-473 235,-473 235,-467 241,-461 247,-461 247,-461 382,-461 382,-461 388,-461 394,-467 394,-473 394,-473 394,-532 394,-532 394,-538 388,-544 382,-544\"/>\n",
       "<text text-anchor=\"start\" x=\"243\" y=\"-528.8\" font-family=\"Helvetica,sans-Serif\" font-size=\"14.00\">petal width (cm) ≤ 1.65</text>\n",
       "<text text-anchor=\"start\" x=\"277\" y=\"-513.8\" font-family=\"Helvetica,sans-Serif\" font-size=\"14.00\">gini = 0.499</text>\n",
       "<text text-anchor=\"start\" x=\"271\" y=\"-498.8\" font-family=\"Helvetica,sans-Serif\" font-size=\"14.00\">samples = 78</text>\n",
       "<text text-anchor=\"start\" x=\"258\" y=\"-483.8\" font-family=\"Helvetica,sans-Serif\" font-size=\"14.00\">value = [0, 37, 41]</text>\n",
       "<text text-anchor=\"start\" x=\"264.5\" y=\"-468.8\" font-family=\"Helvetica,sans-Serif\" font-size=\"14.00\">class = virginica</text>\n",
       "</g>\n",
       "<!-- 0&#45;&gt;2 -->\n",
       "<g id=\"edge2\" class=\"edge\">\n",
       "<title>0&#45;&gt;2</title>\n",
       "<path fill=\"none\" stroke=\"black\" d=\"M263.13,-579.58C268.82,-571.16 274.86,-562.2 280.74,-553.5\"/>\n",
       "<polygon fill=\"black\" stroke=\"black\" points=\"283.48,-555.7 286.17,-545.45 277.67,-551.78 283.48,-555.7\"/>\n",
       "<text text-anchor=\"middle\" x=\"291.78\" y=\"-565.04\" font-family=\"Helvetica,sans-Serif\" font-size=\"14.00\">False</text>\n",
       "</g>\n",
       "<!-- 3 -->\n",
       "<g id=\"node4\" class=\"node\">\n",
       "<title>3</title>\n",
       "<path fill=\"#4fe88f\" stroke=\"black\" d=\"M294,-425C294,-425 153,-425 153,-425 147,-425 141,-419 141,-413 141,-413 141,-354 141,-354 141,-348 147,-342 153,-342 153,-342 294,-342 294,-342 300,-342 306,-348 306,-354 306,-354 306,-413 306,-413 306,-419 300,-425 294,-425\"/>\n",
       "<text text-anchor=\"start\" x=\"149\" y=\"-409.8\" font-family=\"Helvetica,sans-Serif\" font-size=\"14.00\">petal length (cm) ≤ 4.95</text>\n",
       "<text text-anchor=\"start\" x=\"190\" y=\"-394.8\" font-family=\"Helvetica,sans-Serif\" font-size=\"14.00\">gini = 0.18</text>\n",
       "<text text-anchor=\"start\" x=\"180\" y=\"-379.8\" font-family=\"Helvetica,sans-Serif\" font-size=\"14.00\">samples = 40</text>\n",
       "<text text-anchor=\"start\" x=\"171\" y=\"-364.8\" font-family=\"Helvetica,sans-Serif\" font-size=\"14.00\">value = [0, 36, 4]</text>\n",
       "<text text-anchor=\"start\" x=\"168\" y=\"-349.8\" font-family=\"Helvetica,sans-Serif\" font-size=\"14.00\">class = versicolor</text>\n",
       "</g>\n",
       "<!-- 2&#45;&gt;3 -->\n",
       "<g id=\"edge3\" class=\"edge\">\n",
       "<title>2&#45;&gt;3</title>\n",
       "<path fill=\"none\" stroke=\"black\" d=\"M282.67,-460.58C276.05,-452.07 269.01,-443.01 262.18,-434.23\"/>\n",
       "<polygon fill=\"black\" stroke=\"black\" points=\"264.99,-432.14 256.08,-426.39 259.46,-436.44 264.99,-432.14\"/>\n",
       "</g>\n",
       "<!-- 10 -->\n",
       "<g id=\"node11\" class=\"node\">\n",
       "<title>10</title>\n",
       "<path fill=\"#843ee6\" stroke=\"black\" d=\"M477,-425C477,-425 336,-425 336,-425 330,-425 324,-419 324,-413 324,-413 324,-354 324,-354 324,-348 330,-342 336,-342 336,-342 477,-342 477,-342 483,-342 489,-348 489,-354 489,-354 489,-413 489,-413 489,-419 483,-425 477,-425\"/>\n",
       "<text text-anchor=\"start\" x=\"332\" y=\"-409.8\" font-family=\"Helvetica,sans-Serif\" font-size=\"14.00\">petal length (cm) ≤ 4.85</text>\n",
       "<text text-anchor=\"start\" x=\"369\" y=\"-394.8\" font-family=\"Helvetica,sans-Serif\" font-size=\"14.00\">gini = 0.051</text>\n",
       "<text text-anchor=\"start\" x=\"363\" y=\"-379.8\" font-family=\"Helvetica,sans-Serif\" font-size=\"14.00\">samples = 38</text>\n",
       "<text text-anchor=\"start\" x=\"354\" y=\"-364.8\" font-family=\"Helvetica,sans-Serif\" font-size=\"14.00\">value = [0, 1, 37]</text>\n",
       "<text text-anchor=\"start\" x=\"356.5\" y=\"-349.8\" font-family=\"Helvetica,sans-Serif\" font-size=\"14.00\">class = virginica</text>\n",
       "</g>\n",
       "<!-- 2&#45;&gt;10 -->\n",
       "<g id=\"edge10\" class=\"edge\">\n",
       "<title>2&#45;&gt;10</title>\n",
       "<path fill=\"none\" stroke=\"black\" d=\"M346.68,-460.58C353.37,-452.07 360.49,-443.01 367.4,-434.23\"/>\n",
       "<polygon fill=\"black\" stroke=\"black\" points=\"370.13,-436.41 373.56,-426.39 364.63,-432.09 370.13,-436.41\"/>\n",
       "</g>\n",
       "<!-- 4 -->\n",
       "<g id=\"node5\" class=\"node\">\n",
       "<title>4</title>\n",
       "<path fill=\"#39e581\" stroke=\"black\" d=\"M115,-298.5C115,-298.5 12,-298.5 12,-298.5 6,-298.5 0,-292.5 0,-286.5 0,-286.5 0,-242.5 0,-242.5 0,-236.5 6,-230.5 12,-230.5 12,-230.5 115,-230.5 115,-230.5 121,-230.5 127,-236.5 127,-242.5 127,-242.5 127,-286.5 127,-286.5 127,-292.5 121,-298.5 115,-298.5\"/>\n",
       "<text text-anchor=\"start\" x=\"34.5\" y=\"-283.3\" font-family=\"Helvetica,sans-Serif\" font-size=\"14.00\">gini = 0.0</text>\n",
       "<text text-anchor=\"start\" x=\"20\" y=\"-268.3\" font-family=\"Helvetica,sans-Serif\" font-size=\"14.00\">samples = 35</text>\n",
       "<text text-anchor=\"start\" x=\"11\" y=\"-253.3\" font-family=\"Helvetica,sans-Serif\" font-size=\"14.00\">value = [0, 35, 0]</text>\n",
       "<text text-anchor=\"start\" x=\"8\" y=\"-238.3\" font-family=\"Helvetica,sans-Serif\" font-size=\"14.00\">class = versicolor</text>\n",
       "</g>\n",
       "<!-- 3&#45;&gt;4 -->\n",
       "<g id=\"edge4\" class=\"edge\">\n",
       "<title>3&#45;&gt;4</title>\n",
       "<path fill=\"none\" stroke=\"black\" d=\"M167.54,-341.58C151.57,-329.9 134.19,-317.19 118.29,-305.57\"/>\n",
       "<polygon fill=\"black\" stroke=\"black\" points=\"120.48,-302.83 110.34,-299.75 116.35,-308.48 120.48,-302.83\"/>\n",
       "</g>\n",
       "<!-- 5 -->\n",
       "<g id=\"node6\" class=\"node\">\n",
       "<title>5</title>\n",
       "<path fill=\"#a06aec\" stroke=\"black\" d=\"M292,-306C292,-306 157,-306 157,-306 151,-306 145,-300 145,-294 145,-294 145,-235 145,-235 145,-229 151,-223 157,-223 157,-223 292,-223 292,-223 298,-223 304,-229 304,-235 304,-235 304,-294 304,-294 304,-300 298,-306 292,-306\"/>\n",
       "<text text-anchor=\"start\" x=\"153\" y=\"-290.8\" font-family=\"Helvetica,sans-Serif\" font-size=\"14.00\">petal width (cm) ≤ 1.55</text>\n",
       "<text text-anchor=\"start\" x=\"191\" y=\"-275.8\" font-family=\"Helvetica,sans-Serif\" font-size=\"14.00\">gini = 0.32</text>\n",
       "<text text-anchor=\"start\" x=\"185\" y=\"-260.8\" font-family=\"Helvetica,sans-Serif\" font-size=\"14.00\">samples = 5</text>\n",
       "<text text-anchor=\"start\" x=\"176\" y=\"-245.8\" font-family=\"Helvetica,sans-Serif\" font-size=\"14.00\">value = [0, 1, 4]</text>\n",
       "<text text-anchor=\"start\" x=\"174.5\" y=\"-230.8\" font-family=\"Helvetica,sans-Serif\" font-size=\"14.00\">class = virginica</text>\n",
       "</g>\n",
       "<!-- 3&#45;&gt;5 -->\n",
       "<g id=\"edge5\" class=\"edge\">\n",
       "<title>3&#45;&gt;5</title>\n",
       "<path fill=\"none\" stroke=\"black\" d=\"M223.85,-341.58C223.92,-333.79 223.99,-325.53 224.06,-317.45\"/>\n",
       "<polygon fill=\"black\" stroke=\"black\" points=\"227.55,-317.74 224.14,-307.71 220.55,-317.68 227.55,-317.74\"/>\n",
       "</g>\n",
       "<!-- 6 -->\n",
       "<g id=\"node7\" class=\"node\">\n",
       "<title>6</title>\n",
       "<path fill=\"#8139e5\" stroke=\"black\" d=\"M116.5,-179.5C116.5,-179.5 24.5,-179.5 24.5,-179.5 18.5,-179.5 12.5,-173.5 12.5,-167.5 12.5,-167.5 12.5,-123.5 12.5,-123.5 12.5,-117.5 18.5,-111.5 24.5,-111.5 24.5,-111.5 116.5,-111.5 116.5,-111.5 122.5,-111.5 128.5,-117.5 128.5,-123.5 128.5,-123.5 128.5,-167.5 128.5,-167.5 128.5,-173.5 122.5,-179.5 116.5,-179.5\"/>\n",
       "<text text-anchor=\"start\" x=\"41.5\" y=\"-164.3\" font-family=\"Helvetica,sans-Serif\" font-size=\"14.00\">gini = 0.0</text>\n",
       "<text text-anchor=\"start\" x=\"31\" y=\"-149.3\" font-family=\"Helvetica,sans-Serif\" font-size=\"14.00\">samples = 3</text>\n",
       "<text text-anchor=\"start\" x=\"22\" y=\"-134.3\" font-family=\"Helvetica,sans-Serif\" font-size=\"14.00\">value = [0, 0, 3]</text>\n",
       "<text text-anchor=\"start\" x=\"20.5\" y=\"-119.3\" font-family=\"Helvetica,sans-Serif\" font-size=\"14.00\">class = virginica</text>\n",
       "</g>\n",
       "<!-- 5&#45;&gt;6 -->\n",
       "<g id=\"edge6\" class=\"edge\">\n",
       "<title>5&#45;&gt;6</title>\n",
       "<path fill=\"none\" stroke=\"black\" d=\"M170.64,-222.58C155.27,-210.9 138.54,-198.19 123.24,-186.57\"/>\n",
       "<polygon fill=\"black\" stroke=\"black\" points=\"125.7,-184.04 115.62,-180.78 121.46,-189.61 125.7,-184.04\"/>\n",
       "</g>\n",
       "<!-- 7 -->\n",
       "<g id=\"node8\" class=\"node\">\n",
       "<title>7</title>\n",
       "<path fill=\"#ffffff\" stroke=\"black\" d=\"M300,-187C300,-187 159,-187 159,-187 153,-187 147,-181 147,-175 147,-175 147,-116 147,-116 147,-110 153,-104 159,-104 159,-104 300,-104 300,-104 306,-104 312,-110 312,-116 312,-116 312,-175 312,-175 312,-181 306,-187 300,-187\"/>\n",
       "<text text-anchor=\"start\" x=\"155\" y=\"-171.8\" font-family=\"Helvetica,sans-Serif\" font-size=\"14.00\">petal length (cm) ≤ 5.45</text>\n",
       "<text text-anchor=\"start\" x=\"200.5\" y=\"-156.8\" font-family=\"Helvetica,sans-Serif\" font-size=\"14.00\">gini = 0.5</text>\n",
       "<text text-anchor=\"start\" x=\"190\" y=\"-141.8\" font-family=\"Helvetica,sans-Serif\" font-size=\"14.00\">samples = 2</text>\n",
       "<text text-anchor=\"start\" x=\"181\" y=\"-126.8\" font-family=\"Helvetica,sans-Serif\" font-size=\"14.00\">value = [0, 1, 1]</text>\n",
       "<text text-anchor=\"start\" x=\"174\" y=\"-111.8\" font-family=\"Helvetica,sans-Serif\" font-size=\"14.00\">class = versicolor</text>\n",
       "</g>\n",
       "<!-- 5&#45;&gt;7 -->\n",
       "<g id=\"edge7\" class=\"edge\">\n",
       "<title>5&#45;&gt;7</title>\n",
       "<path fill=\"none\" stroke=\"black\" d=\"M226.25,-222.58C226.58,-214.79 226.93,-206.53 227.28,-198.45\"/>\n",
       "<polygon fill=\"black\" stroke=\"black\" points=\"230.77,-198.85 227.7,-188.71 223.77,-198.55 230.77,-198.85\"/>\n",
       "</g>\n",
       "<!-- 8 -->\n",
       "<g id=\"node9\" class=\"node\">\n",
       "<title>8</title>\n",
       "<path fill=\"#39e581\" stroke=\"black\" d=\"M211,-68C211,-68 108,-68 108,-68 102,-68 96,-62 96,-56 96,-56 96,-12 96,-12 96,-6 102,0 108,0 108,0 211,0 211,0 217,0 223,-6 223,-12 223,-12 223,-56 223,-56 223,-62 217,-68 211,-68\"/>\n",
       "<text text-anchor=\"start\" x=\"130.5\" y=\"-52.8\" font-family=\"Helvetica,sans-Serif\" font-size=\"14.00\">gini = 0.0</text>\n",
       "<text text-anchor=\"start\" x=\"120\" y=\"-37.8\" font-family=\"Helvetica,sans-Serif\" font-size=\"14.00\">samples = 1</text>\n",
       "<text text-anchor=\"start\" x=\"111\" y=\"-22.8\" font-family=\"Helvetica,sans-Serif\" font-size=\"14.00\">value = [0, 1, 0]</text>\n",
       "<text text-anchor=\"start\" x=\"104\" y=\"-7.8\" font-family=\"Helvetica,sans-Serif\" font-size=\"14.00\">class = versicolor</text>\n",
       "</g>\n",
       "<!-- 7&#45;&gt;8 -->\n",
       "<g id=\"edge8\" class=\"edge\">\n",
       "<title>7&#45;&gt;8</title>\n",
       "<path fill=\"none\" stroke=\"black\" d=\"M203.43,-103.73C198.01,-95.24 192.28,-86.28 186.82,-77.73\"/>\n",
       "<polygon fill=\"black\" stroke=\"black\" points=\"189.94,-76.12 181.6,-69.57 184.04,-79.89 189.94,-76.12\"/>\n",
       "</g>\n",
       "<!-- 9 -->\n",
       "<g id=\"node10\" class=\"node\">\n",
       "<title>9</title>\n",
       "<path fill=\"#8139e5\" stroke=\"black\" d=\"M345.5,-68C345.5,-68 253.5,-68 253.5,-68 247.5,-68 241.5,-62 241.5,-56 241.5,-56 241.5,-12 241.5,-12 241.5,-6 247.5,0 253.5,0 253.5,0 345.5,0 345.5,0 351.5,0 357.5,-6 357.5,-12 357.5,-12 357.5,-56 357.5,-56 357.5,-62 351.5,-68 345.5,-68\"/>\n",
       "<text text-anchor=\"start\" x=\"270.5\" y=\"-52.8\" font-family=\"Helvetica,sans-Serif\" font-size=\"14.00\">gini = 0.0</text>\n",
       "<text text-anchor=\"start\" x=\"260\" y=\"-37.8\" font-family=\"Helvetica,sans-Serif\" font-size=\"14.00\">samples = 1</text>\n",
       "<text text-anchor=\"start\" x=\"251\" y=\"-22.8\" font-family=\"Helvetica,sans-Serif\" font-size=\"14.00\">value = [0, 0, 1]</text>\n",
       "<text text-anchor=\"start\" x=\"249.5\" y=\"-7.8\" font-family=\"Helvetica,sans-Serif\" font-size=\"14.00\">class = virginica</text>\n",
       "</g>\n",
       "<!-- 7&#45;&gt;9 -->\n",
       "<g id=\"edge9\" class=\"edge\">\n",
       "<title>7&#45;&gt;9</title>\n",
       "<path fill=\"none\" stroke=\"black\" d=\"M255.57,-103.73C260.99,-95.24 266.72,-86.28 272.18,-77.73\"/>\n",
       "<polygon fill=\"black\" stroke=\"black\" points=\"274.96,-79.89 277.4,-69.57 269.06,-76.12 274.96,-79.89\"/>\n",
       "</g>\n",
       "<!-- 11 -->\n",
       "<g id=\"node12\" class=\"node\">\n",
       "<title>11</title>\n",
       "<path fill=\"#ab7bee\" stroke=\"black\" d=\"M476,-306C476,-306 335,-306 335,-306 329,-306 323,-300 323,-294 323,-294 323,-235 323,-235 323,-229 329,-223 335,-223 335,-223 476,-223 476,-223 482,-223 488,-229 488,-235 488,-235 488,-294 488,-294 488,-300 482,-306 476,-306\"/>\n",
       "<text text-anchor=\"start\" x=\"331\" y=\"-290.8\" font-family=\"Helvetica,sans-Serif\" font-size=\"14.00\">petal length (cm) ≤ 4.65</text>\n",
       "<text text-anchor=\"start\" x=\"368\" y=\"-275.8\" font-family=\"Helvetica,sans-Serif\" font-size=\"14.00\">gini = 0.375</text>\n",
       "<text text-anchor=\"start\" x=\"366\" y=\"-260.8\" font-family=\"Helvetica,sans-Serif\" font-size=\"14.00\">samples = 4</text>\n",
       "<text text-anchor=\"start\" x=\"357\" y=\"-245.8\" font-family=\"Helvetica,sans-Serif\" font-size=\"14.00\">value = [0, 1, 3]</text>\n",
       "<text text-anchor=\"start\" x=\"355.5\" y=\"-230.8\" font-family=\"Helvetica,sans-Serif\" font-size=\"14.00\">class = virginica</text>\n",
       "</g>\n",
       "<!-- 10&#45;&gt;11 -->\n",
       "<g id=\"edge11\" class=\"edge\">\n",
       "<title>10&#45;&gt;11</title>\n",
       "<path fill=\"none\" stroke=\"black\" d=\"M406.15,-341.58C406.08,-333.79 406.01,-325.53 405.94,-317.45\"/>\n",
       "<polygon fill=\"black\" stroke=\"black\" points=\"409.45,-317.68 405.86,-307.71 402.45,-317.74 409.45,-317.68\"/>\n",
       "</g>\n",
       "<!-- 14 -->\n",
       "<g id=\"node15\" class=\"node\">\n",
       "<title>14</title>\n",
       "<path fill=\"#8139e5\" stroke=\"black\" d=\"M615,-298.5C615,-298.5 518,-298.5 518,-298.5 512,-298.5 506,-292.5 506,-286.5 506,-286.5 506,-242.5 506,-242.5 506,-236.5 512,-230.5 518,-230.5 518,-230.5 615,-230.5 615,-230.5 621,-230.5 627,-236.5 627,-242.5 627,-242.5 627,-286.5 627,-286.5 627,-292.5 621,-298.5 615,-298.5\"/>\n",
       "<text text-anchor=\"start\" x=\"537.5\" y=\"-283.3\" font-family=\"Helvetica,sans-Serif\" font-size=\"14.00\">gini = 0.0</text>\n",
       "<text text-anchor=\"start\" x=\"523\" y=\"-268.3\" font-family=\"Helvetica,sans-Serif\" font-size=\"14.00\">samples = 34</text>\n",
       "<text text-anchor=\"start\" x=\"514\" y=\"-253.3\" font-family=\"Helvetica,sans-Serif\" font-size=\"14.00\">value = [0, 0, 34]</text>\n",
       "<text text-anchor=\"start\" x=\"516.5\" y=\"-238.3\" font-family=\"Helvetica,sans-Serif\" font-size=\"14.00\">class = virginica</text>\n",
       "</g>\n",
       "<!-- 10&#45;&gt;14 -->\n",
       "<g id=\"edge14\" class=\"edge\">\n",
       "<title>10&#45;&gt;14</title>\n",
       "<path fill=\"none\" stroke=\"black\" d=\"M462.46,-341.58C478.43,-329.9 495.81,-317.19 511.71,-305.57\"/>\n",
       "<polygon fill=\"black\" stroke=\"black\" points=\"513.65,-308.48 519.66,-299.75 509.52,-302.83 513.65,-308.48\"/>\n",
       "</g>\n",
       "<!-- 12 -->\n",
       "<g id=\"node13\" class=\"node\">\n",
       "<title>12</title>\n",
       "<path fill=\"#8139e5\" stroke=\"black\" d=\"M446.5,-179.5C446.5,-179.5 354.5,-179.5 354.5,-179.5 348.5,-179.5 342.5,-173.5 342.5,-167.5 342.5,-167.5 342.5,-123.5 342.5,-123.5 342.5,-117.5 348.5,-111.5 354.5,-111.5 354.5,-111.5 446.5,-111.5 446.5,-111.5 452.5,-111.5 458.5,-117.5 458.5,-123.5 458.5,-123.5 458.5,-167.5 458.5,-167.5 458.5,-173.5 452.5,-179.5 446.5,-179.5\"/>\n",
       "<text text-anchor=\"start\" x=\"371.5\" y=\"-164.3\" font-family=\"Helvetica,sans-Serif\" font-size=\"14.00\">gini = 0.0</text>\n",
       "<text text-anchor=\"start\" x=\"361\" y=\"-149.3\" font-family=\"Helvetica,sans-Serif\" font-size=\"14.00\">samples = 1</text>\n",
       "<text text-anchor=\"start\" x=\"352\" y=\"-134.3\" font-family=\"Helvetica,sans-Serif\" font-size=\"14.00\">value = [0, 0, 1]</text>\n",
       "<text text-anchor=\"start\" x=\"350.5\" y=\"-119.3\" font-family=\"Helvetica,sans-Serif\" font-size=\"14.00\">class = virginica</text>\n",
       "</g>\n",
       "<!-- 11&#45;&gt;12 -->\n",
       "<g id=\"edge12\" class=\"edge\">\n",
       "<title>11&#45;&gt;12</title>\n",
       "<path fill=\"none\" stroke=\"black\" d=\"M403.75,-222.58C403.32,-212.43 402.85,-201.5 402.41,-191.18\"/>\n",
       "<polygon fill=\"black\" stroke=\"black\" points=\"405.91,-191.21 401.99,-181.37 398.92,-191.51 405.91,-191.21\"/>\n",
       "</g>\n",
       "<!-- 13 -->\n",
       "<g id=\"node14\" class=\"node\">\n",
       "<title>13</title>\n",
       "<path fill=\"#c09cf2\" stroke=\"black\" d=\"M580.5,-179.5C580.5,-179.5 488.5,-179.5 488.5,-179.5 482.5,-179.5 476.5,-173.5 476.5,-167.5 476.5,-167.5 476.5,-123.5 476.5,-123.5 476.5,-117.5 482.5,-111.5 488.5,-111.5 488.5,-111.5 580.5,-111.5 580.5,-111.5 586.5,-111.5 592.5,-117.5 592.5,-123.5 592.5,-123.5 592.5,-167.5 592.5,-167.5 592.5,-173.5 586.5,-179.5 580.5,-179.5\"/>\n",
       "<text text-anchor=\"start\" x=\"497\" y=\"-164.3\" font-family=\"Helvetica,sans-Serif\" font-size=\"14.00\">gini = 0.444</text>\n",
       "<text text-anchor=\"start\" x=\"495\" y=\"-149.3\" font-family=\"Helvetica,sans-Serif\" font-size=\"14.00\">samples = 3</text>\n",
       "<text text-anchor=\"start\" x=\"486\" y=\"-134.3\" font-family=\"Helvetica,sans-Serif\" font-size=\"14.00\">value = [0, 1, 2]</text>\n",
       "<text text-anchor=\"start\" x=\"484.5\" y=\"-119.3\" font-family=\"Helvetica,sans-Serif\" font-size=\"14.00\">class = virginica</text>\n",
       "</g>\n",
       "<!-- 11&#45;&gt;13 -->\n",
       "<g id=\"edge13\" class=\"edge\">\n",
       "<title>11&#45;&gt;13</title>\n",
       "<path fill=\"none\" stroke=\"black\" d=\"M450.62,-222.58C463.13,-211.23 476.72,-198.9 489.24,-187.55\"/>\n",
       "<polygon fill=\"black\" stroke=\"black\" points=\"491.54,-190.19 496.6,-180.88 486.84,-185 491.54,-190.19\"/>\n",
       "</g>\n",
       "</g>\n",
       "</svg>\n"
      ],
      "text/plain": [
       "<graphviz.sources.Source at 0x27d3b514850>"
      ]
     },
     "execution_count": 38,
     "metadata": {},
     "output_type": "execute_result"
    }
   ],
   "source": [
    "dot_data = tree.export_graphviz(clf, out_file=None, \n",
    "                         feature_names=features,  \n",
    "                         class_names=iris.target_names,  \n",
    "                         filled=True, rounded=True,  \n",
    "                         special_characters=True)  \n",
    "graph = graphviz.Source(dot_data)  \n",
    "graph "
   ]
  },
  {
   "cell_type": "code",
   "execution_count": 39,
   "metadata": {},
   "outputs": [],
   "source": [
    "y_pred = clf.predict(test[features])"
   ]
  },
  {
   "cell_type": "code",
   "execution_count": 40,
   "metadata": {},
   "outputs": [
    {
     "name": "stdout",
     "output_type": "stream",
     "text": [
      "Accuracy: 0.96875\n"
     ]
    }
   ],
   "source": [
    "# Model Accuracy, how often is the classifier correct?\n",
    "print(\"Accuracy:\", metrics.accuracy_score(y_test, y_pred))"
   ]
  },
  {
   "cell_type": "code",
   "execution_count": 41,
   "metadata": {},
   "outputs": [
    {
     "data": {
      "image/png": "[encoded data removed]",
      "text/plain": [
       "<Figure size 576x360 with 1 Axes>"
      ]
     },
     "metadata": {},
     "output_type": "display_data"
    }
   ],
   "source": [
    "cm = confusion_matrix(y_pred, y_test)\n",
    "plt.figure(figsize=(8, 5), facecolor='white')\n",
    "plt.title(\"LR Confusion Matrix\")\n",
    "sns.heatmap(cm, annot=True, cbar=False)\n",
    "plt.xlabel(\"Truth\")\n",
    "plt.ylabel(\"Predicted\")\n",
    "plt.show()"
   ]
  },
  {
   "cell_type": "markdown",
   "metadata": {},
   "source": [
    "#### We can see clearly that petal features allow us to well classify and it is better that using all features"
   ]
  },
  {
   "cell_type": "markdown",
   "metadata": {},
   "source": [
    "### Classification using the various splitting criterion available, Gini's index, classification error or cross-entropy."
   ]
  },
  {
   "cell_type": "code",
   "execution_count": 42,
   "metadata": {},
   "outputs": [],
   "source": [
    "df['is_train'] = np.random.uniform(0, 1, len(df)) <= .75\n",
    "\n",
    "# Create two new dataframes, one with the training rows, one with the test rows\n",
    "train, test = df[df['is_train']==True], df[df['is_train']==False]\n",
    "\n",
    "y_train = pd.factorize(train['species'])[0]\n",
    "y_test = pd.factorize(test['species'])[0]\n",
    "features = df.columns[:4]\n"
   ]
  },
  {
   "cell_type": "code",
   "execution_count": 43,
   "metadata": {},
   "outputs": [
    {
     "name": "stdout",
     "output_type": "stream",
     "text": [
      "Accuracy with gini criterion : 0.96875\n",
      "Accuracy with entropy criterion : 0.96875\n",
      "Accuracy with log_loss criterion : 0.96875\n"
     ]
    }
   ],
   "source": [
    "criterion = [\"gini\", \"entropy\", \"log_loss\"]\n",
    "\n",
    "for crit in criterion:\n",
    "    clf = tree.DecisionTreeClassifier(criterion=crit)\n",
    "    clf = clf.fit(train[features], y_train)\n",
    "    y_pred = clf.predict(test[features])\n",
    "    print(f\"Accuracy with {crit} criterion :\", metrics.accuracy_score(y_test, y_pred))"
   ]
  },
  {
   "cell_type": "code",
   "execution_count": null,
   "metadata": {},
   "outputs": [],
   "source": []
  },
  {
   "cell_type": "code",
   "execution_count": null,
   "metadata": {},
   "outputs": [],
   "source": []
  },
  {
   "cell_type": "code",
   "execution_count": null,
   "metadata": {},
   "outputs": [],
   "source": []
  },
  {
   "cell_type": "code",
   "execution_count": null,
   "metadata": {},
   "outputs": [],
   "source": []
  },
  {
   "cell_type": "code",
   "execution_count": null,
   "metadata": {},
   "outputs": [],
   "source": []
  },
  {
   "cell_type": "markdown",
   "metadata": {},
   "source": [
    "### Going further ahead (not mandatory) \n",
    "Try the same approach adapted to another toy dataset from `scikit-learn` described at:\n",
    "http://scikit-learn.org/stable/datasets/index.html\n",
    "\n",
    "Play with another dataset available at:\n",
    "http://archive.ics.uci.edu/ml/datasets.html"
   ]
  },
  {
   "cell_type": "markdown",
   "metadata": {},
   "source": [
    "## Step 4: Random forests\n",
    "Go to \n",
    "\n",
    "http://scikit-learn.org/stable/modules/generated/sklearn.ensemble.RandomForestClassifier.html \n",
    "\n",
    "for a documentation about the `RandomForestClassifier` provided by `scikit-learn`.\n",
    "\n",
    "Since target values must be integers, we first need to transform labels into numbers as below."
   ]
  },
  {
   "cell_type": "code",
   "execution_count": 44,
   "metadata": {},
   "outputs": [
    {
     "data": {
      "text/plain": [
       "array([0, 0, 0, 0, 0, 0, 0, 0, 0, 0, 0, 0, 0, 0, 0, 0, 0, 0, 0, 0, 0, 0,\n",
       "       0, 0, 0, 0, 0, 0, 0, 0, 0, 0, 0, 0, 0, 0, 0, 1, 1, 1, 1, 1, 1, 1,\n",
       "       1, 1, 1, 1, 1, 1, 1, 1, 1, 1, 1, 1, 1, 1, 1, 1, 1, 1, 1, 1, 1, 1,\n",
       "       1, 1, 1, 1, 1, 1, 1, 1, 1, 1, 1, 1, 1, 1, 1, 2, 2, 2, 2, 2, 2, 2,\n",
       "       2, 2, 2, 2, 2, 2, 2, 2, 2, 2, 2, 2, 2, 2, 2, 2, 2, 2, 2, 2, 2, 2,\n",
       "       2, 2, 2, 2, 2, 2, 2, 2], dtype=int64)"
      ]
     },
     "execution_count": 44,
     "metadata": {},
     "output_type": "execute_result"
    }
   ],
   "source": [
    "# train['species'] contains the actual species names. Before we can use it,\n",
    "# we need to convert each species name into a digit. So, in this case there\n",
    "# are three species, which have been coded as 0, 1, or 2.\n",
    "y = pd.factorize(train['species'])[0]\n",
    "\n",
    "# View target\n",
    "y"
   ]
  },
  {
   "cell_type": "code",
   "execution_count": 45,
   "metadata": {},
   "outputs": [
    {
     "data": {
      "text/html": [
       "<style>#sk-container-id-1 {color: black;background-color: white;}#sk-container-id-1 pre{padding: 0;}#sk-container-id-1 div.sk-toggleable {background-color: white;}#sk-container-id-1 label.sk-toggleable__label {cursor: pointer;display: block;width: 100%;margin-bottom: 0;padding: 0.3em;box-sizing: border-box;text-align: center;}#sk-container-id-1 label.sk-toggleable__label-arrow:before {content: \"▸\";float: left;margin-right: 0.25em;color: #696969;}#sk-container-id-1 label.sk-toggleable__label-arrow:hover:before {color: black;}#sk-container-id-1 div.sk-estimator:hover label.sk-toggleable__label-arrow:before {color: black;}#sk-container-id-1 div.sk-toggleable__content {max-height: 0;max-width: 0;overflow: hidden;text-align: left;background-color: #f0f8ff;}#sk-container-id-1 div.sk-toggleable__content pre {margin: 0.2em;color: black;border-radius: 0.25em;background-color: #f0f8ff;}#sk-container-id-1 input.sk-toggleable__control:checked~div.sk-toggleable__content {max-height: 200px;max-width: 100%;overflow: auto;}#sk-container-id-1 input.sk-toggleable__control:checked~label.sk-toggleable__label-arrow:before {content: \"▾\";}#sk-container-id-1 div.sk-estimator input.sk-toggleable__control:checked~label.sk-toggleable__label {background-color: #d4ebff;}#sk-container-id-1 div.sk-label input.sk-toggleable__control:checked~label.sk-toggleable__label {background-color: #d4ebff;}#sk-container-id-1 input.sk-hidden--visually {border: 0;clip: rect(1px 1px 1px 1px);clip: rect(1px, 1px, 1px, 1px);height: 1px;margin: -1px;overflow: hidden;padding: 0;position: absolute;width: 1px;}#sk-container-id-1 div.sk-estimator {font-family: monospace;background-color: #f0f8ff;border: 1px dotted black;border-radius: 0.25em;box-sizing: border-box;margin-bottom: 0.5em;}#sk-container-id-1 div.sk-estimator:hover {background-color: #d4ebff;}#sk-container-id-1 div.sk-parallel-item::after {content: \"\";width: 100%;border-bottom: 1px solid gray;flex-grow: 1;}#sk-container-id-1 div.sk-label:hover label.sk-toggleable__label {background-color: #d4ebff;}#sk-container-id-1 div.sk-serial::before {content: \"\";position: absolute;border-left: 1px solid gray;box-sizing: border-box;top: 0;bottom: 0;left: 50%;z-index: 0;}#sk-container-id-1 div.sk-serial {display: flex;flex-direction: column;align-items: center;background-color: white;padding-right: 0.2em;padding-left: 0.2em;position: relative;}#sk-container-id-1 div.sk-item {position: relative;z-index: 1;}#sk-container-id-1 div.sk-parallel {display: flex;align-items: stretch;justify-content: center;background-color: white;position: relative;}#sk-container-id-1 div.sk-item::before, #sk-container-id-1 div.sk-parallel-item::before {content: \"\";position: absolute;border-left: 1px solid gray;box-sizing: border-box;top: 0;bottom: 0;left: 50%;z-index: -1;}#sk-container-id-1 div.sk-parallel-item {display: flex;flex-direction: column;z-index: 1;position: relative;background-color: white;}#sk-container-id-1 div.sk-parallel-item:first-child::after {align-self: flex-end;width: 50%;}#sk-container-id-1 div.sk-parallel-item:last-child::after {align-self: flex-start;width: 50%;}#sk-container-id-1 div.sk-parallel-item:only-child::after {width: 0;}#sk-container-id-1 div.sk-dashed-wrapped {border: 1px dashed gray;margin: 0 0.4em 0.5em 0.4em;box-sizing: border-box;padding-bottom: 0.4em;background-color: white;}#sk-container-id-1 div.sk-label label {font-family: monospace;font-weight: bold;display: inline-block;line-height: 1.2em;}#sk-container-id-1 div.sk-label-container {text-align: center;}#sk-container-id-1 div.sk-container {/* jupyter's `normalize.less` sets `[hidden] { display: none; }` but bootstrap.min.css set `[hidden] { display: none !important; }` so we also need the `!important` here to be able to override the default hidden behavior on the sphinx rendered scikit-learn.org. See: https://github.com/scikit-learn/scikit-learn/issues/21755 */display: inline-block !important;position: relative;}#sk-container-id-1 div.sk-text-repr-fallback {display: none;}</style><div id=\"sk-container-id-1\" class=\"sk-top-container\"><div class=\"sk-text-repr-fallback\"><pre>RandomForestClassifier(n_jobs=2, random_state=0)</pre><b>In a Jupyter environment, please rerun this cell to show the HTML representation or trust the notebook. <br />On GitHub, the HTML representation is unable to render, please try loading this page with nbviewer.org.</b></div><div class=\"sk-container\" hidden><div class=\"sk-item\"><div class=\"sk-estimator sk-toggleable\"><input class=\"sk-toggleable__control sk-hidden--visually\" id=\"sk-estimator-id-1\" type=\"checkbox\" checked><label for=\"sk-estimator-id-1\" class=\"sk-toggleable__label sk-toggleable__label-arrow\">RandomForestClassifier</label><div class=\"sk-toggleable__content\"><pre>RandomForestClassifier(n_jobs=2, random_state=0)</pre></div></div></div></div></div>"
      ],
      "text/plain": [
       "RandomForestClassifier(n_jobs=2, random_state=0)"
      ]
     },
     "execution_count": 45,
     "metadata": {},
     "output_type": "execute_result"
    }
   ],
   "source": [
    "# Create a random forest Classifier. By convention, clf means 'Classifier'\n",
    "rf = RandomForestClassifier(n_jobs=2, random_state=0)\n",
    "\n",
    "# Train the Classifier to take the training features and learn how they relate\n",
    "# to the training y (the species)\n",
    "rf.fit(train[features], y)"
   ]
  },
  {
   "cell_type": "markdown",
   "metadata": {},
   "source": [
    "**Make predictions** and create actual english names for the plants for each predicted plant class:"
   ]
  },
  {
   "cell_type": "code",
   "execution_count": 46,
   "metadata": {},
   "outputs": [
    {
     "data": {
      "text/plain": [
       "['setosa', 'setosa', 'setosa', 'setosa', 'setosa', ..., 'virginica', 'virginica', 'virginica', 'virginica', 'virginica']\n",
       "Length: 32\n",
       "Categories (3, object): ['setosa', 'versicolor', 'virginica']"
      ]
     },
     "execution_count": 46,
     "metadata": {},
     "output_type": "execute_result"
    }
   ],
   "source": [
    "preds = rf.predict(test[features])\n",
    "preds_names = pd.Categorical.from_codes(preds, iris.target_names)\n",
    "preds_names"
   ]
  },
  {
   "cell_type": "markdown",
   "metadata": {},
   "source": [
    "### Create a confusion matrix"
   ]
  },
  {
   "cell_type": "code",
   "execution_count": 47,
   "metadata": {},
   "outputs": [
    {
     "data": {
      "text/html": [
       "<div>\n",
       "<style scoped>\n",
       "    .dataframe tbody tr th:only-of-type {\n",
       "        vertical-align: middle;\n",
       "    }\n",
       "\n",
       "    .dataframe tbody tr th {\n",
       "        vertical-align: top;\n",
       "    }\n",
       "\n",
       "    .dataframe thead th {\n",
       "        text-align: right;\n",
       "    }\n",
       "</style>\n",
       "<table border=\"1\" class=\"dataframe\">\n",
       "  <thead>\n",
       "    <tr style=\"text-align: right;\">\n",
       "      <th>Predicted Species</th>\n",
       "      <th>0</th>\n",
       "      <th>1</th>\n",
       "      <th>2</th>\n",
       "    </tr>\n",
       "    <tr>\n",
       "      <th>Actual Species</th>\n",
       "      <th></th>\n",
       "      <th></th>\n",
       "      <th></th>\n",
       "    </tr>\n",
       "  </thead>\n",
       "  <tbody>\n",
       "    <tr>\n",
       "      <th>setosa</th>\n",
       "      <td>13</td>\n",
       "      <td>0</td>\n",
       "      <td>0</td>\n",
       "    </tr>\n",
       "    <tr>\n",
       "      <th>versicolor</th>\n",
       "      <td>0</td>\n",
       "      <td>5</td>\n",
       "      <td>1</td>\n",
       "    </tr>\n",
       "    <tr>\n",
       "      <th>virginica</th>\n",
       "      <td>0</td>\n",
       "      <td>0</td>\n",
       "      <td>13</td>\n",
       "    </tr>\n",
       "  </tbody>\n",
       "</table>\n",
       "</div>"
      ],
      "text/plain": [
       "Predicted Species   0  1   2\n",
       "Actual Species              \n",
       "setosa             13  0   0\n",
       "versicolor          0  5   1\n",
       "virginica           0  0  13"
      ]
     },
     "execution_count": 47,
     "metadata": {},
     "output_type": "execute_result"
    }
   ],
   "source": [
    "# Create confusion matrix unsing pandas:\n",
    "pd.crosstab(test['species'], preds, rownames=['Actual Species'], colnames=['Predicted Species'])"
   ]
  },
  {
   "cell_type": "markdown",
   "metadata": {},
   "source": [
    "## Feature selection using random forests byproducts\n",
    "\n",
    "One of the interesting use cases for random forest is feature selection. One of the byproducts of trying lots of decision tree variations is that you can examine which variables are working best/worst in each tree.\n",
    "\n",
    "When a certain tree uses one variable and another doesn't, you can compare the value lost or gained from the inclusion/exclusion of that variable. The good random forest implementations are going to do that for you, so all you need to do is know which method or variable to look at."
   ]
  },
  {
   "cell_type": "markdown",
   "metadata": {},
   "source": [
    "### View feature importance\n",
    "While we don't get regression coefficients like with ordinary least squares (OLS), we do get a score telling us how important each feature was in classifying. This is one of the most powerful parts of random forests, because we can clearly see that petal width was more important in classification than sepal width.\n"
   ]
  },
  {
   "cell_type": "code",
   "execution_count": 48,
   "metadata": {},
   "outputs": [
    {
     "data": {
      "text/plain": [
       "[('sepal length (cm)', 0.0909570063581438),\n",
       " ('sepal width (cm)', 0.031193288952653747),\n",
       " ('petal length (cm)', 0.44960239465060586),\n",
       " ('petal width (cm)', 0.4282473100385967)]"
      ]
     },
     "execution_count": 48,
     "metadata": {},
     "output_type": "execute_result"
    }
   ],
   "source": [
    "# View a list of the features and their importance scores\n",
    "list(zip(train[features], rf.feature_importances_))"
   ]
  },
  {
   "cell_type": "markdown",
   "metadata": {},
   "source": [
    "## Exercise 3\n",
    "1. Comment on the feature importances with respect to your previous observations on decision trees above.\n",
    "\n",
    "2. Extract and visualize 5 trees belonging to the random forest using the attribute `estimators_` of the trained random forest classifier. Compare them. *Note that you may code a loop on extracted trees.*\n",
    "\n",
    "3. Study the influence of parameters like `max_depth`, `min_samples_leaf` and `min_samples_split`. Try to optimize them and explain your approach and choices.\n",
    "\n",
    "4. How is estimated the prediction error of a random forest ?\n",
    "*Indication: have a look at parameter `oob_score`.*\n",
    "What are out-of-bag samples ?\n",
    "\n",
    "5. What should you do when classes are not balanced in the dataset ? (that is when there are much more examples of one class than another)"
   ]
  },
  {
   "cell_type": "markdown",
   "metadata": {},
   "source": [
    "##### Answers"
   ]
  },
  {
   "cell_type": "markdown",
   "metadata": {},
   "source": [
    "1: The importance scores confirms well our previous results. In fact, petal features are enough to well classify."
   ]
  },
  {
   "cell_type": "code",
   "execution_count": 49,
   "metadata": {},
   "outputs": [],
   "source": [
    "trees=[]\n",
    "for i in range (0,5) :\n",
    "    trees.append(export_graphviz(rf.estimators_[i],\n",
    "                             feature_names=iris.feature_names,\n",
    "                             class_names=iris.target_names,\n",
    "                            filled=True, impurity=True,\n",
    "                            rounded=True))\n",
    "graphs=[]\n",
    "for tree_ in trees :\n",
    "    graphs.append(graphviz.Source(tree_, format='png'))"
   ]
  },
  {
   "cell_type": "code",
   "execution_count": 50,
   "metadata": {},
   "outputs": [
    {
     "data": {
      "image/svg+xml": [
       "<?xml version=\"1.0\" encoding=\"UTF-8\" standalone=\"no\"?>\n",
       "<!DOCTYPE svg PUBLIC \"-//W3C//DTD SVG 1.1//EN\"\n",
       " \"http://www.w3.org/Graphics/SVG/1.1/DTD/svg11.dtd\">\n",
       "<!-- Generated by graphviz version 7.0.3 (20221126.0506)\n",
       " -->\n",
       "<!-- Title: Tree Pages: 1 -->\n",
       "<svg width=\"702pt\" height=\"552pt\"\n",
       " viewBox=\"0.00 0.00 701.50 552.00\" xmlns=\"http://www.w3.org/2000/svg\" xmlns:xlink=\"http://www.w3.org/1999/xlink\">\n",
       "<g id=\"graph0\" class=\"graph\" transform=\"scale(1 1) rotate(0) translate(4 548)\">\n",
       "<title>Tree</title>\n",
       "<polygon fill=\"white\" stroke=\"none\" points=\"-4,4 -4,-548 697.5,-548 697.5,4 -4,4\"/>\n",
       "<!-- 0 -->\n",
       "<g id=\"node1\" class=\"node\">\n",
       "<title>0</title>\n",
       "<path fill=\"#f5f0fd\" stroke=\"black\" d=\"M383.5,-544C383.5,-544 239.5,-544 239.5,-544 233.5,-544 227.5,-538 227.5,-532 227.5,-532 227.5,-473 227.5,-473 227.5,-467 233.5,-461 239.5,-461 239.5,-461 383.5,-461 383.5,-461 389.5,-461 395.5,-467 395.5,-473 395.5,-473 395.5,-532 395.5,-532 395.5,-538 389.5,-544 383.5,-544\"/>\n",
       "<text text-anchor=\"middle\" x=\"311.5\" y=\"-528.8\" font-family=\"Helvetica,sans-Serif\" font-size=\"14.00\">petal width (cm) &lt;= 1.55</text>\n",
       "<text text-anchor=\"middle\" x=\"311.5\" y=\"-513.8\" font-family=\"Helvetica,sans-Serif\" font-size=\"14.00\">gini = 0.656</text>\n",
       "<text text-anchor=\"middle\" x=\"311.5\" y=\"-498.8\" font-family=\"Helvetica,sans-Serif\" font-size=\"14.00\">samples = 71</text>\n",
       "<text text-anchor=\"middle\" x=\"311.5\" y=\"-483.8\" font-family=\"Helvetica,sans-Serif\" font-size=\"14.00\">value = [30, 41, 47]</text>\n",
       "<text text-anchor=\"middle\" x=\"311.5\" y=\"-468.8\" font-family=\"Helvetica,sans-Serif\" font-size=\"14.00\">class = virginica</text>\n",
       "</g>\n",
       "<!-- 1 -->\n",
       "<g id=\"node2\" class=\"node\">\n",
       "<title>1</title>\n",
       "<path fill=\"#d4f9e3\" stroke=\"black\" d=\"M291.5,-425C291.5,-425 141.5,-425 141.5,-425 135.5,-425 129.5,-419 129.5,-413 129.5,-413 129.5,-354 129.5,-354 129.5,-348 135.5,-342 141.5,-342 141.5,-342 291.5,-342 291.5,-342 297.5,-342 303.5,-348 303.5,-354 303.5,-354 303.5,-413 303.5,-413 303.5,-419 297.5,-425 291.5,-425\"/>\n",
       "<text text-anchor=\"middle\" x=\"216.5\" y=\"-409.8\" font-family=\"Helvetica,sans-Serif\" font-size=\"14.00\">petal length (cm) &lt;= 2.45</text>\n",
       "<text text-anchor=\"middle\" x=\"216.5\" y=\"-394.8\" font-family=\"Helvetica,sans-Serif\" font-size=\"14.00\">gini = 0.519</text>\n",
       "<text text-anchor=\"middle\" x=\"216.5\" y=\"-379.8\" font-family=\"Helvetica,sans-Serif\" font-size=\"14.00\">samples = 48</text>\n",
       "<text text-anchor=\"middle\" x=\"216.5\" y=\"-364.8\" font-family=\"Helvetica,sans-Serif\" font-size=\"14.00\">value = [30, 39, 2]</text>\n",
       "<text text-anchor=\"middle\" x=\"216.5\" y=\"-349.8\" font-family=\"Helvetica,sans-Serif\" font-size=\"14.00\">class = versicolor</text>\n",
       "</g>\n",
       "<!-- 0&#45;&gt;1 -->\n",
       "<g id=\"edge1\" class=\"edge\">\n",
       "<title>0&#45;&gt;1</title>\n",
       "<path fill=\"none\" stroke=\"black\" d=\"M278.27,-460.58C271.29,-451.98 263.85,-442.82 256.65,-433.95\"/>\n",
       "<polygon fill=\"black\" stroke=\"black\" points=\"259.52,-431.93 250.5,-426.38 254.09,-436.34 259.52,-431.93\"/>\n",
       "<text text-anchor=\"middle\" x=\"246.97\" y=\"-446.37\" font-family=\"Helvetica,sans-Serif\" font-size=\"14.00\">True</text>\n",
       "</g>\n",
       "<!-- 8 -->\n",
       "<g id=\"node9\" class=\"node\">\n",
       "<title>8</title>\n",
       "<path fill=\"#8742e6\" stroke=\"black\" d=\"M481.5,-425C481.5,-425 333.5,-425 333.5,-425 327.5,-425 321.5,-419 321.5,-413 321.5,-413 321.5,-354 321.5,-354 321.5,-348 327.5,-342 333.5,-342 333.5,-342 481.5,-342 481.5,-342 487.5,-342 493.5,-348 493.5,-354 493.5,-354 493.5,-413 493.5,-413 493.5,-419 487.5,-425 481.5,-425\"/>\n",
       "<text text-anchor=\"middle\" x=\"407.5\" y=\"-409.8\" font-family=\"Helvetica,sans-Serif\" font-size=\"14.00\">sepal width (cm) &lt;= 3.15</text>\n",
       "<text text-anchor=\"middle\" x=\"407.5\" y=\"-394.8\" font-family=\"Helvetica,sans-Serif\" font-size=\"14.00\">gini = 0.081</text>\n",
       "<text text-anchor=\"middle\" x=\"407.5\" y=\"-379.8\" font-family=\"Helvetica,sans-Serif\" font-size=\"14.00\">samples = 23</text>\n",
       "<text text-anchor=\"middle\" x=\"407.5\" y=\"-364.8\" font-family=\"Helvetica,sans-Serif\" font-size=\"14.00\">value = [0, 2, 45]</text>\n",
       "<text text-anchor=\"middle\" x=\"407.5\" y=\"-349.8\" font-family=\"Helvetica,sans-Serif\" font-size=\"14.00\">class = virginica</text>\n",
       "</g>\n",
       "<!-- 0&#45;&gt;8 -->\n",
       "<g id=\"edge8\" class=\"edge\">\n",
       "<title>0&#45;&gt;8</title>\n",
       "<path fill=\"none\" stroke=\"black\" d=\"M345.08,-460.58C352.13,-451.98 359.65,-442.82 366.93,-433.95\"/>\n",
       "<polygon fill=\"black\" stroke=\"black\" points=\"369.51,-436.32 373.14,-426.37 364.1,-431.88 369.51,-436.32\"/>\n",
       "<text text-anchor=\"middle\" x=\"376.56\" y=\"-446.38\" font-family=\"Helvetica,sans-Serif\" font-size=\"14.00\">False</text>\n",
       "</g>\n",
       "<!-- 2 -->\n",
       "<g id=\"node3\" class=\"node\">\n",
       "<title>2</title>\n",
       "<path fill=\"#e58139\" stroke=\"black\" d=\"M109,-298.5C109,-298.5 12,-298.5 12,-298.5 6,-298.5 0,-292.5 0,-286.5 0,-286.5 0,-242.5 0,-242.5 0,-236.5 6,-230.5 12,-230.5 12,-230.5 109,-230.5 109,-230.5 115,-230.5 121,-236.5 121,-242.5 121,-242.5 121,-286.5 121,-286.5 121,-292.5 115,-298.5 109,-298.5\"/>\n",
       "<text text-anchor=\"middle\" x=\"60.5\" y=\"-283.3\" font-family=\"Helvetica,sans-Serif\" font-size=\"14.00\">gini = 0.0</text>\n",
       "<text text-anchor=\"middle\" x=\"60.5\" y=\"-268.3\" font-family=\"Helvetica,sans-Serif\" font-size=\"14.00\">samples = 20</text>\n",
       "<text text-anchor=\"middle\" x=\"60.5\" y=\"-253.3\" font-family=\"Helvetica,sans-Serif\" font-size=\"14.00\">value = [30, 0, 0]</text>\n",
       "<text text-anchor=\"middle\" x=\"60.5\" y=\"-238.3\" font-family=\"Helvetica,sans-Serif\" font-size=\"14.00\">class = setosa</text>\n",
       "</g>\n",
       "<!-- 1&#45;&gt;2 -->\n",
       "<g id=\"edge2\" class=\"edge\">\n",
       "<title>1&#45;&gt;2</title>\n",
       "<path fill=\"none\" stroke=\"black\" d=\"M161.94,-341.58C146.37,-329.9 129.42,-317.19 113.92,-305.57\"/>\n",
       "<polygon fill=\"black\" stroke=\"black\" points=\"116.29,-302.97 106.19,-299.77 112.09,-308.57 116.29,-302.97\"/>\n",
       "</g>\n",
       "<!-- 3 -->\n",
       "<g id=\"node4\" class=\"node\">\n",
       "<title>3</title>\n",
       "<path fill=\"#43e687\" stroke=\"black\" d=\"M295.5,-306C295.5,-306 151.5,-306 151.5,-306 145.5,-306 139.5,-300 139.5,-294 139.5,-294 139.5,-235 139.5,-235 139.5,-229 145.5,-223 151.5,-223 151.5,-223 295.5,-223 295.5,-223 301.5,-223 307.5,-229 307.5,-235 307.5,-235 307.5,-294 307.5,-294 307.5,-300 301.5,-306 295.5,-306\"/>\n",
       "<text text-anchor=\"middle\" x=\"223.5\" y=\"-290.8\" font-family=\"Helvetica,sans-Serif\" font-size=\"14.00\">petal width (cm) &lt;= 1.35</text>\n",
       "<text text-anchor=\"middle\" x=\"223.5\" y=\"-275.8\" font-family=\"Helvetica,sans-Serif\" font-size=\"14.00\">gini = 0.093</text>\n",
       "<text text-anchor=\"middle\" x=\"223.5\" y=\"-260.8\" font-family=\"Helvetica,sans-Serif\" font-size=\"14.00\">samples = 28</text>\n",
       "<text text-anchor=\"middle\" x=\"223.5\" y=\"-245.8\" font-family=\"Helvetica,sans-Serif\" font-size=\"14.00\">value = [0, 39, 2]</text>\n",
       "<text text-anchor=\"middle\" x=\"223.5\" y=\"-230.8\" font-family=\"Helvetica,sans-Serif\" font-size=\"14.00\">class = versicolor</text>\n",
       "</g>\n",
       "<!-- 1&#45;&gt;3 -->\n",
       "<g id=\"edge3\" class=\"edge\">\n",
       "<title>1&#45;&gt;3</title>\n",
       "<path fill=\"none\" stroke=\"black\" d=\"M218.95,-341.58C219.41,-333.79 219.91,-325.53 220.39,-317.45\"/>\n",
       "<polygon fill=\"black\" stroke=\"black\" points=\"223.87,-317.9 220.97,-307.71 216.88,-317.48 223.87,-317.9\"/>\n",
       "</g>\n",
       "<!-- 4 -->\n",
       "<g id=\"node5\" class=\"node\">\n",
       "<title>4</title>\n",
       "<path fill=\"#39e581\" stroke=\"black\" d=\"M205,-179.5C205,-179.5 102,-179.5 102,-179.5 96,-179.5 90,-173.5 90,-167.5 90,-167.5 90,-123.5 90,-123.5 90,-117.5 96,-111.5 102,-111.5 102,-111.5 205,-111.5 205,-111.5 211,-111.5 217,-117.5 217,-123.5 217,-123.5 217,-167.5 217,-167.5 217,-173.5 211,-179.5 205,-179.5\"/>\n",
       "<text text-anchor=\"middle\" x=\"153.5\" y=\"-164.3\" font-family=\"Helvetica,sans-Serif\" font-size=\"14.00\">gini = 0.0</text>\n",
       "<text text-anchor=\"middle\" x=\"153.5\" y=\"-149.3\" font-family=\"Helvetica,sans-Serif\" font-size=\"14.00\">samples = 15</text>\n",
       "<text text-anchor=\"middle\" x=\"153.5\" y=\"-134.3\" font-family=\"Helvetica,sans-Serif\" font-size=\"14.00\">value = [0, 24, 0]</text>\n",
       "<text text-anchor=\"middle\" x=\"153.5\" y=\"-119.3\" font-family=\"Helvetica,sans-Serif\" font-size=\"14.00\">class = versicolor</text>\n",
       "</g>\n",
       "<!-- 3&#45;&gt;4 -->\n",
       "<g id=\"edge4\" class=\"edge\">\n",
       "<title>3&#45;&gt;4</title>\n",
       "<path fill=\"none\" stroke=\"black\" d=\"M199.02,-222.58C192.62,-211.88 185.7,-200.32 179.24,-189.52\"/>\n",
       "<polygon fill=\"black\" stroke=\"black\" points=\"182.37,-187.94 174.24,-181.16 176.37,-191.54 182.37,-187.94\"/>\n",
       "</g>\n",
       "<!-- 5 -->\n",
       "<g id=\"node6\" class=\"node\">\n",
       "<title>5</title>\n",
       "<path fill=\"#53e892\" stroke=\"black\" d=\"M389.5,-187C389.5,-187 247.5,-187 247.5,-187 241.5,-187 235.5,-181 235.5,-175 235.5,-175 235.5,-116 235.5,-116 235.5,-110 241.5,-104 247.5,-104 247.5,-104 389.5,-104 389.5,-104 395.5,-104 401.5,-110 401.5,-116 401.5,-116 401.5,-175 401.5,-175 401.5,-181 395.5,-187 389.5,-187\"/>\n",
       "<text text-anchor=\"middle\" x=\"318.5\" y=\"-171.8\" font-family=\"Helvetica,sans-Serif\" font-size=\"14.00\">petal length (cm) &lt;= 5.0</text>\n",
       "<text text-anchor=\"middle\" x=\"318.5\" y=\"-156.8\" font-family=\"Helvetica,sans-Serif\" font-size=\"14.00\">gini = 0.208</text>\n",
       "<text text-anchor=\"middle\" x=\"318.5\" y=\"-141.8\" font-family=\"Helvetica,sans-Serif\" font-size=\"14.00\">samples = 13</text>\n",
       "<text text-anchor=\"middle\" x=\"318.5\" y=\"-126.8\" font-family=\"Helvetica,sans-Serif\" font-size=\"14.00\">value = [0, 15, 2]</text>\n",
       "<text text-anchor=\"middle\" x=\"318.5\" y=\"-111.8\" font-family=\"Helvetica,sans-Serif\" font-size=\"14.00\">class = versicolor</text>\n",
       "</g>\n",
       "<!-- 3&#45;&gt;5 -->\n",
       "<g id=\"edge5\" class=\"edge\">\n",
       "<title>3&#45;&gt;5</title>\n",
       "<path fill=\"none\" stroke=\"black\" d=\"M256.73,-222.58C263.71,-213.98 271.15,-204.82 278.35,-195.95\"/>\n",
       "<polygon fill=\"black\" stroke=\"black\" points=\"280.91,-198.34 284.5,-188.38 275.48,-193.93 280.91,-198.34\"/>\n",
       "</g>\n",
       "<!-- 6 -->\n",
       "<g id=\"node7\" class=\"node\">\n",
       "<title>6</title>\n",
       "<path fill=\"#39e581\" stroke=\"black\" d=\"M300,-68C300,-68 197,-68 197,-68 191,-68 185,-62 185,-56 185,-56 185,-12 185,-12 185,-6 191,0 197,0 197,0 300,0 300,0 306,0 312,-6 312,-12 312,-12 312,-56 312,-56 312,-62 306,-68 300,-68\"/>\n",
       "<text text-anchor=\"middle\" x=\"248.5\" y=\"-52.8\" font-family=\"Helvetica,sans-Serif\" font-size=\"14.00\">gini = 0.0</text>\n",
       "<text text-anchor=\"middle\" x=\"248.5\" y=\"-37.8\" font-family=\"Helvetica,sans-Serif\" font-size=\"14.00\">samples = 11</text>\n",
       "<text text-anchor=\"middle\" x=\"248.5\" y=\"-22.8\" font-family=\"Helvetica,sans-Serif\" font-size=\"14.00\">value = [0, 15, 0]</text>\n",
       "<text text-anchor=\"middle\" x=\"248.5\" y=\"-7.8\" font-family=\"Helvetica,sans-Serif\" font-size=\"14.00\">class = versicolor</text>\n",
       "</g>\n",
       "<!-- 5&#45;&gt;6 -->\n",
       "<g id=\"edge6\" class=\"edge\">\n",
       "<title>5&#45;&gt;6</title>\n",
       "<path fill=\"none\" stroke=\"black\" d=\"M292.43,-103.73C287.01,-95.24 281.28,-86.28 275.82,-77.73\"/>\n",
       "<polygon fill=\"black\" stroke=\"black\" points=\"278.94,-76.12 270.6,-69.57 273.04,-79.89 278.94,-76.12\"/>\n",
       "</g>\n",
       "<!-- 7 -->\n",
       "<g id=\"node8\" class=\"node\">\n",
       "<title>7</title>\n",
       "<path fill=\"#8139e5\" stroke=\"black\" d=\"M434.5,-68C434.5,-68 342.5,-68 342.5,-68 336.5,-68 330.5,-62 330.5,-56 330.5,-56 330.5,-12 330.5,-12 330.5,-6 336.5,0 342.5,0 342.5,0 434.5,0 434.5,0 440.5,0 446.5,-6 446.5,-12 446.5,-12 446.5,-56 446.5,-56 446.5,-62 440.5,-68 434.5,-68\"/>\n",
       "<text text-anchor=\"middle\" x=\"388.5\" y=\"-52.8\" font-family=\"Helvetica,sans-Serif\" font-size=\"14.00\">gini = 0.0</text>\n",
       "<text text-anchor=\"middle\" x=\"388.5\" y=\"-37.8\" font-family=\"Helvetica,sans-Serif\" font-size=\"14.00\">samples = 2</text>\n",
       "<text text-anchor=\"middle\" x=\"388.5\" y=\"-22.8\" font-family=\"Helvetica,sans-Serif\" font-size=\"14.00\">value = [0, 0, 2]</text>\n",
       "<text text-anchor=\"middle\" x=\"388.5\" y=\"-7.8\" font-family=\"Helvetica,sans-Serif\" font-size=\"14.00\">class = virginica</text>\n",
       "</g>\n",
       "<!-- 5&#45;&gt;7 -->\n",
       "<g id=\"edge7\" class=\"edge\">\n",
       "<title>5&#45;&gt;7</title>\n",
       "<path fill=\"none\" stroke=\"black\" d=\"M344.57,-103.73C349.99,-95.24 355.72,-86.28 361.18,-77.73\"/>\n",
       "<polygon fill=\"black\" stroke=\"black\" points=\"363.96,-79.89 366.4,-69.57 358.06,-76.12 363.96,-79.89\"/>\n",
       "</g>\n",
       "<!-- 9 -->\n",
       "<g id=\"node10\" class=\"node\">\n",
       "<title>9</title>\n",
       "<path fill=\"#8139e5\" stroke=\"black\" d=\"M449,-298.5C449,-298.5 352,-298.5 352,-298.5 346,-298.5 340,-292.5 340,-286.5 340,-286.5 340,-242.5 340,-242.5 340,-236.5 346,-230.5 352,-230.5 352,-230.5 449,-230.5 449,-230.5 455,-230.5 461,-236.5 461,-242.5 461,-242.5 461,-286.5 461,-286.5 461,-292.5 455,-298.5 449,-298.5\"/>\n",
       "<text text-anchor=\"middle\" x=\"400.5\" y=\"-283.3\" font-family=\"Helvetica,sans-Serif\" font-size=\"14.00\">gini = 0.0</text>\n",
       "<text text-anchor=\"middle\" x=\"400.5\" y=\"-268.3\" font-family=\"Helvetica,sans-Serif\" font-size=\"14.00\">samples = 16</text>\n",
       "<text text-anchor=\"middle\" x=\"400.5\" y=\"-253.3\" font-family=\"Helvetica,sans-Serif\" font-size=\"14.00\">value = [0, 0, 37]</text>\n",
       "<text text-anchor=\"middle\" x=\"400.5\" y=\"-238.3\" font-family=\"Helvetica,sans-Serif\" font-size=\"14.00\">class = virginica</text>\n",
       "</g>\n",
       "<!-- 8&#45;&gt;9 -->\n",
       "<g id=\"edge9\" class=\"edge\">\n",
       "<title>8&#45;&gt;9</title>\n",
       "<path fill=\"none\" stroke=\"black\" d=\"M405.05,-341.58C404.44,-331.43 403.79,-320.5 403.17,-310.18\"/>\n",
       "<polygon fill=\"black\" stroke=\"black\" points=\"406.68,-310.15 402.59,-300.37 399.69,-310.56 406.68,-310.15\"/>\n",
       "</g>\n",
       "<!-- 10 -->\n",
       "<g id=\"node11\" class=\"node\">\n",
       "<title>10</title>\n",
       "<path fill=\"#a06aec\" stroke=\"black\" d=\"M641.5,-306C641.5,-306 491.5,-306 491.5,-306 485.5,-306 479.5,-300 479.5,-294 479.5,-294 479.5,-235 479.5,-235 479.5,-229 485.5,-223 491.5,-223 491.5,-223 641.5,-223 641.5,-223 647.5,-223 653.5,-229 653.5,-235 653.5,-235 653.5,-294 653.5,-294 653.5,-300 647.5,-306 641.5,-306\"/>\n",
       "<text text-anchor=\"middle\" x=\"566.5\" y=\"-290.8\" font-family=\"Helvetica,sans-Serif\" font-size=\"14.00\">petal length (cm) &lt;= 4.95</text>\n",
       "<text text-anchor=\"middle\" x=\"566.5\" y=\"-275.8\" font-family=\"Helvetica,sans-Serif\" font-size=\"14.00\">gini = 0.32</text>\n",
       "<text text-anchor=\"middle\" x=\"566.5\" y=\"-260.8\" font-family=\"Helvetica,sans-Serif\" font-size=\"14.00\">samples = 7</text>\n",
       "<text text-anchor=\"middle\" x=\"566.5\" y=\"-245.8\" font-family=\"Helvetica,sans-Serif\" font-size=\"14.00\">value = [0, 2, 8]</text>\n",
       "<text text-anchor=\"middle\" x=\"566.5\" y=\"-230.8\" font-family=\"Helvetica,sans-Serif\" font-size=\"14.00\">class = virginica</text>\n",
       "</g>\n",
       "<!-- 8&#45;&gt;10 -->\n",
       "<g id=\"edge10\" class=\"edge\">\n",
       "<title>8&#45;&gt;10</title>\n",
       "<path fill=\"none\" stroke=\"black\" d=\"M463.11,-341.58C475.58,-332.41 488.91,-322.6 501.71,-313.17\"/>\n",
       "<polygon fill=\"black\" stroke=\"black\" points=\"503.72,-316.04 509.7,-307.29 499.57,-310.4 503.72,-316.04\"/>\n",
       "</g>\n",
       "<!-- 11 -->\n",
       "<g id=\"node12\" class=\"node\">\n",
       "<title>11</title>\n",
       "<path fill=\"#39e581\" stroke=\"black\" d=\"M547,-179.5C547,-179.5 444,-179.5 444,-179.5 438,-179.5 432,-173.5 432,-167.5 432,-167.5 432,-123.5 432,-123.5 432,-117.5 438,-111.5 444,-111.5 444,-111.5 547,-111.5 547,-111.5 553,-111.5 559,-117.5 559,-123.5 559,-123.5 559,-167.5 559,-167.5 559,-173.5 553,-179.5 547,-179.5\"/>\n",
       "<text text-anchor=\"middle\" x=\"495.5\" y=\"-164.3\" font-family=\"Helvetica,sans-Serif\" font-size=\"14.00\">gini = 0.0</text>\n",
       "<text text-anchor=\"middle\" x=\"495.5\" y=\"-149.3\" font-family=\"Helvetica,sans-Serif\" font-size=\"14.00\">samples = 1</text>\n",
       "<text text-anchor=\"middle\" x=\"495.5\" y=\"-134.3\" font-family=\"Helvetica,sans-Serif\" font-size=\"14.00\">value = [0, 2, 0]</text>\n",
       "<text text-anchor=\"middle\" x=\"495.5\" y=\"-119.3\" font-family=\"Helvetica,sans-Serif\" font-size=\"14.00\">class = versicolor</text>\n",
       "</g>\n",
       "<!-- 10&#45;&gt;11 -->\n",
       "<g id=\"edge11\" class=\"edge\">\n",
       "<title>10&#45;&gt;11</title>\n",
       "<path fill=\"none\" stroke=\"black\" d=\"M541.67,-222.58C535.18,-211.88 528.16,-200.32 521.61,-189.52\"/>\n",
       "<polygon fill=\"black\" stroke=\"black\" points=\"524.71,-187.89 516.53,-181.16 518.73,-191.52 524.71,-187.89\"/>\n",
       "</g>\n",
       "<!-- 12 -->\n",
       "<g id=\"node13\" class=\"node\">\n",
       "<title>12</title>\n",
       "<path fill=\"#8139e5\" stroke=\"black\" d=\"M681.5,-179.5C681.5,-179.5 589.5,-179.5 589.5,-179.5 583.5,-179.5 577.5,-173.5 577.5,-167.5 577.5,-167.5 577.5,-123.5 577.5,-123.5 577.5,-117.5 583.5,-111.5 589.5,-111.5 589.5,-111.5 681.5,-111.5 681.5,-111.5 687.5,-111.5 693.5,-117.5 693.5,-123.5 693.5,-123.5 693.5,-167.5 693.5,-167.5 693.5,-173.5 687.5,-179.5 681.5,-179.5\"/>\n",
       "<text text-anchor=\"middle\" x=\"635.5\" y=\"-164.3\" font-family=\"Helvetica,sans-Serif\" font-size=\"14.00\">gini = 0.0</text>\n",
       "<text text-anchor=\"middle\" x=\"635.5\" y=\"-149.3\" font-family=\"Helvetica,sans-Serif\" font-size=\"14.00\">samples = 6</text>\n",
       "<text text-anchor=\"middle\" x=\"635.5\" y=\"-134.3\" font-family=\"Helvetica,sans-Serif\" font-size=\"14.00\">value = [0, 0, 8]</text>\n",
       "<text text-anchor=\"middle\" x=\"635.5\" y=\"-119.3\" font-family=\"Helvetica,sans-Serif\" font-size=\"14.00\">class = virginica</text>\n",
       "</g>\n",
       "<!-- 10&#45;&gt;12 -->\n",
       "<g id=\"edge12\" class=\"edge\">\n",
       "<title>10&#45;&gt;12</title>\n",
       "<path fill=\"none\" stroke=\"black\" d=\"M590.63,-222.58C596.94,-211.88 603.76,-200.32 610.13,-189.52\"/>\n",
       "<polygon fill=\"black\" stroke=\"black\" points=\"612.99,-191.56 615.06,-181.16 606.96,-188 612.99,-191.56\"/>\n",
       "</g>\n",
       "</g>\n",
       "</svg>\n"
      ],
      "text/plain": [
       "<graphviz.sources.Source at 0x27d3b539b20>"
      ]
     },
     "execution_count": 50,
     "metadata": {},
     "output_type": "execute_result"
    }
   ],
   "source": [
    "graphs[0]"
   ]
  },
  {
   "cell_type": "code",
   "execution_count": 51,
   "metadata": {},
   "outputs": [
    {
     "data": {
      "image/svg+xml": [
       "<?xml version=\"1.0\" encoding=\"UTF-8\" standalone=\"no\"?>\n",
       "<!DOCTYPE svg PUBLIC \"-//W3C//DTD SVG 1.1//EN\"\n",
       " \"http://www.w3.org/Graphics/SVG/1.1/DTD/svg11.dtd\">\n",
       "<!-- Generated by graphviz version 7.0.3 (20221126.0506)\n",
       " -->\n",
       "<!-- Title: Tree Pages: 1 -->\n",
       "<svg width=\"380pt\" height=\"552pt\"\n",
       " viewBox=\"0.00 0.00 380.00 552.00\" xmlns=\"http://www.w3.org/2000/svg\" xmlns:xlink=\"http://www.w3.org/1999/xlink\">\n",
       "<g id=\"graph0\" class=\"graph\" transform=\"scale(1 1) rotate(0) translate(4 548)\">\n",
       "<title>Tree</title>\n",
       "<polygon fill=\"white\" stroke=\"none\" points=\"-4,4 -4,-548 376,-548 376,4 -4,4\"/>\n",
       "<!-- 0 -->\n",
       "<g id=\"node1\" class=\"node\">\n",
       "<title>0</title>\n",
       "<path fill=\"#e9fcf1\" stroke=\"black\" d=\"M218.5,-544C218.5,-544 74.5,-544 74.5,-544 68.5,-544 62.5,-538 62.5,-532 62.5,-532 62.5,-473 62.5,-473 62.5,-467 68.5,-461 74.5,-461 74.5,-461 218.5,-461 218.5,-461 224.5,-461 230.5,-467 230.5,-473 230.5,-473 230.5,-532 230.5,-532 230.5,-538 224.5,-544 218.5,-544\"/>\n",
       "<text text-anchor=\"middle\" x=\"146.5\" y=\"-528.8\" font-family=\"Helvetica,sans-Serif\" font-size=\"14.00\">petal width (cm) &lt;= 0.75</text>\n",
       "<text text-anchor=\"middle\" x=\"146.5\" y=\"-513.8\" font-family=\"Helvetica,sans-Serif\" font-size=\"14.00\">gini = 0.662</text>\n",
       "<text text-anchor=\"middle\" x=\"146.5\" y=\"-498.8\" font-family=\"Helvetica,sans-Serif\" font-size=\"14.00\">samples = 75</text>\n",
       "<text text-anchor=\"middle\" x=\"146.5\" y=\"-483.8\" font-family=\"Helvetica,sans-Serif\" font-size=\"14.00\">value = [35, 46, 37]</text>\n",
       "<text text-anchor=\"middle\" x=\"146.5\" y=\"-468.8\" font-family=\"Helvetica,sans-Serif\" font-size=\"14.00\">class = versicolor</text>\n",
       "</g>\n",
       "<!-- 1 -->\n",
       "<g id=\"node2\" class=\"node\">\n",
       "<title>1</title>\n",
       "<path fill=\"#e58139\" stroke=\"black\" d=\"M114,-417.5C114,-417.5 17,-417.5 17,-417.5 11,-417.5 5,-411.5 5,-405.5 5,-405.5 5,-361.5 5,-361.5 5,-355.5 11,-349.5 17,-349.5 17,-349.5 114,-349.5 114,-349.5 120,-349.5 126,-355.5 126,-361.5 126,-361.5 126,-405.5 126,-405.5 126,-411.5 120,-417.5 114,-417.5\"/>\n",
       "<text text-anchor=\"middle\" x=\"65.5\" y=\"-402.3\" font-family=\"Helvetica,sans-Serif\" font-size=\"14.00\">gini = 0.0</text>\n",
       "<text text-anchor=\"middle\" x=\"65.5\" y=\"-387.3\" font-family=\"Helvetica,sans-Serif\" font-size=\"14.00\">samples = 27</text>\n",
       "<text text-anchor=\"middle\" x=\"65.5\" y=\"-372.3\" font-family=\"Helvetica,sans-Serif\" font-size=\"14.00\">value = [35, 0, 0]</text>\n",
       "<text text-anchor=\"middle\" x=\"65.5\" y=\"-357.3\" font-family=\"Helvetica,sans-Serif\" font-size=\"14.00\">class = setosa</text>\n",
       "</g>\n",
       "<!-- 0&#45;&gt;1 -->\n",
       "<g id=\"edge1\" class=\"edge\">\n",
       "<title>0&#45;&gt;1</title>\n",
       "<path fill=\"none\" stroke=\"black\" d=\"M118.17,-460.58C110.69,-449.77 102.6,-438.09 95.06,-427.19\"/>\n",
       "<polygon fill=\"black\" stroke=\"black\" points=\"98.03,-425.34 89.46,-419.11 92.27,-429.32 98.03,-425.34\"/>\n",
       "<text text-anchor=\"middle\" x=\"84.12\" y=\"-438.76\" font-family=\"Helvetica,sans-Serif\" font-size=\"14.00\">True</text>\n",
       "</g>\n",
       "<!-- 2 -->\n",
       "<g id=\"node3\" class=\"node\">\n",
       "<title>2</title>\n",
       "<path fill=\"#d8fae6\" stroke=\"black\" d=\"M300.5,-425C300.5,-425 156.5,-425 156.5,-425 150.5,-425 144.5,-419 144.5,-413 144.5,-413 144.5,-354 144.5,-354 144.5,-348 150.5,-342 156.5,-342 156.5,-342 300.5,-342 300.5,-342 306.5,-342 312.5,-348 312.5,-354 312.5,-354 312.5,-413 312.5,-413 312.5,-419 306.5,-425 300.5,-425\"/>\n",
       "<text text-anchor=\"middle\" x=\"228.5\" y=\"-409.8\" font-family=\"Helvetica,sans-Serif\" font-size=\"14.00\">petal width (cm) &lt;= 1.75</text>\n",
       "<text text-anchor=\"middle\" x=\"228.5\" y=\"-394.8\" font-family=\"Helvetica,sans-Serif\" font-size=\"14.00\">gini = 0.494</text>\n",
       "<text text-anchor=\"middle\" x=\"228.5\" y=\"-379.8\" font-family=\"Helvetica,sans-Serif\" font-size=\"14.00\">samples = 48</text>\n",
       "<text text-anchor=\"middle\" x=\"228.5\" y=\"-364.8\" font-family=\"Helvetica,sans-Serif\" font-size=\"14.00\">value = [0, 46, 37]</text>\n",
       "<text text-anchor=\"middle\" x=\"228.5\" y=\"-349.8\" font-family=\"Helvetica,sans-Serif\" font-size=\"14.00\">class = versicolor</text>\n",
       "</g>\n",
       "<!-- 0&#45;&gt;2 -->\n",
       "<g id=\"edge2\" class=\"edge\">\n",
       "<title>0&#45;&gt;2</title>\n",
       "<path fill=\"none\" stroke=\"black\" d=\"M175.18,-460.58C181.08,-452.16 187.36,-443.2 193.46,-434.5\"/>\n",
       "<polygon fill=\"black\" stroke=\"black\" points=\"196.23,-436.64 199.11,-426.44 190.5,-432.62 196.23,-436.64\"/>\n",
       "<text text-anchor=\"middle\" x=\"204.31\" y=\"-446.12\" font-family=\"Helvetica,sans-Serif\" font-size=\"14.00\">False</text>\n",
       "</g>\n",
       "<!-- 3 -->\n",
       "<g id=\"node4\" class=\"node\">\n",
       "<title>3</title>\n",
       "<path fill=\"#4ae78c\" stroke=\"black\" d=\"M220.5,-306C220.5,-306 70.5,-306 70.5,-306 64.5,-306 58.5,-300 58.5,-294 58.5,-294 58.5,-235 58.5,-235 58.5,-229 64.5,-223 70.5,-223 70.5,-223 220.5,-223 220.5,-223 226.5,-223 232.5,-229 232.5,-235 232.5,-235 232.5,-294 232.5,-294 232.5,-300 226.5,-306 220.5,-306\"/>\n",
       "<text text-anchor=\"middle\" x=\"145.5\" y=\"-290.8\" font-family=\"Helvetica,sans-Serif\" font-size=\"14.00\">petal length (cm) &lt;= 4.95</text>\n",
       "<text text-anchor=\"middle\" x=\"145.5\" y=\"-275.8\" font-family=\"Helvetica,sans-Serif\" font-size=\"14.00\">gini = 0.147</text>\n",
       "<text text-anchor=\"middle\" x=\"145.5\" y=\"-260.8\" font-family=\"Helvetica,sans-Serif\" font-size=\"14.00\">samples = 27</text>\n",
       "<text text-anchor=\"middle\" x=\"145.5\" y=\"-245.8\" font-family=\"Helvetica,sans-Serif\" font-size=\"14.00\">value = [0, 46, 4]</text>\n",
       "<text text-anchor=\"middle\" x=\"145.5\" y=\"-230.8\" font-family=\"Helvetica,sans-Serif\" font-size=\"14.00\">class = versicolor</text>\n",
       "</g>\n",
       "<!-- 2&#45;&gt;3 -->\n",
       "<g id=\"edge3\" class=\"edge\">\n",
       "<title>2&#45;&gt;3</title>\n",
       "<path fill=\"none\" stroke=\"black\" d=\"M199.47,-341.58C193.5,-333.16 187.14,-324.2 180.97,-315.5\"/>\n",
       "<polygon fill=\"black\" stroke=\"black\" points=\"183.89,-313.57 175.25,-307.43 178.18,-317.62 183.89,-313.57\"/>\n",
       "</g>\n",
       "<!-- 8 -->\n",
       "<g id=\"node9\" class=\"node\">\n",
       "<title>8</title>\n",
       "<path fill=\"#8139e5\" stroke=\"black\" d=\"M360,-298.5C360,-298.5 263,-298.5 263,-298.5 257,-298.5 251,-292.5 251,-286.5 251,-286.5 251,-242.5 251,-242.5 251,-236.5 257,-230.5 263,-230.5 263,-230.5 360,-230.5 360,-230.5 366,-230.5 372,-236.5 372,-242.5 372,-242.5 372,-286.5 372,-286.5 372,-292.5 366,-298.5 360,-298.5\"/>\n",
       "<text text-anchor=\"middle\" x=\"311.5\" y=\"-283.3\" font-family=\"Helvetica,sans-Serif\" font-size=\"14.00\">gini = 0.0</text>\n",
       "<text text-anchor=\"middle\" x=\"311.5\" y=\"-268.3\" font-family=\"Helvetica,sans-Serif\" font-size=\"14.00\">samples = 21</text>\n",
       "<text text-anchor=\"middle\" x=\"311.5\" y=\"-253.3\" font-family=\"Helvetica,sans-Serif\" font-size=\"14.00\">value = [0, 0, 33]</text>\n",
       "<text text-anchor=\"middle\" x=\"311.5\" y=\"-238.3\" font-family=\"Helvetica,sans-Serif\" font-size=\"14.00\">class = virginica</text>\n",
       "</g>\n",
       "<!-- 2&#45;&gt;8 -->\n",
       "<g id=\"edge8\" class=\"edge\">\n",
       "<title>2&#45;&gt;8</title>\n",
       "<path fill=\"none\" stroke=\"black\" d=\"M257.53,-341.58C265.19,-330.77 273.49,-319.09 281.22,-308.19\"/>\n",
       "<polygon fill=\"black\" stroke=\"black\" points=\"284.03,-310.28 286.96,-300.1 278.32,-306.23 284.03,-310.28\"/>\n",
       "</g>\n",
       "<!-- 4 -->\n",
       "<g id=\"node5\" class=\"node\">\n",
       "<title>4</title>\n",
       "<path fill=\"#39e581\" stroke=\"black\" d=\"M115,-179.5C115,-179.5 12,-179.5 12,-179.5 6,-179.5 0,-173.5 0,-167.5 0,-167.5 0,-123.5 0,-123.5 0,-117.5 6,-111.5 12,-111.5 12,-111.5 115,-111.5 115,-111.5 121,-111.5 127,-117.5 127,-123.5 127,-123.5 127,-167.5 127,-167.5 127,-173.5 121,-179.5 115,-179.5\"/>\n",
       "<text text-anchor=\"middle\" x=\"63.5\" y=\"-164.3\" font-family=\"Helvetica,sans-Serif\" font-size=\"14.00\">gini = 0.0</text>\n",
       "<text text-anchor=\"middle\" x=\"63.5\" y=\"-149.3\" font-family=\"Helvetica,sans-Serif\" font-size=\"14.00\">samples = 24</text>\n",
       "<text text-anchor=\"middle\" x=\"63.5\" y=\"-134.3\" font-family=\"Helvetica,sans-Serif\" font-size=\"14.00\">value = [0, 41, 0]</text>\n",
       "<text text-anchor=\"middle\" x=\"63.5\" y=\"-119.3\" font-family=\"Helvetica,sans-Serif\" font-size=\"14.00\">class = versicolor</text>\n",
       "</g>\n",
       "<!-- 3&#45;&gt;4 -->\n",
       "<g id=\"edge4\" class=\"edge\">\n",
       "<title>3&#45;&gt;4</title>\n",
       "<path fill=\"none\" stroke=\"black\" d=\"M116.82,-222.58C109.25,-211.77 101.06,-200.09 93.42,-189.19\"/>\n",
       "<polygon fill=\"black\" stroke=\"black\" points=\"96.36,-187.28 87.75,-181.1 90.62,-191.3 96.36,-187.28\"/>\n",
       "</g>\n",
       "<!-- 5 -->\n",
       "<g id=\"node6\" class=\"node\">\n",
       "<title>5</title>\n",
       "<path fill=\"#d7fae6\" stroke=\"black\" d=\"M297.5,-187C297.5,-187 157.5,-187 157.5,-187 151.5,-187 145.5,-181 145.5,-175 145.5,-175 145.5,-116 145.5,-116 145.5,-110 151.5,-104 157.5,-104 157.5,-104 297.5,-104 297.5,-104 303.5,-104 309.5,-110 309.5,-116 309.5,-116 309.5,-175 309.5,-175 309.5,-181 303.5,-187 297.5,-187\"/>\n",
       "<text text-anchor=\"middle\" x=\"227.5\" y=\"-171.8\" font-family=\"Helvetica,sans-Serif\" font-size=\"14.00\">sepal width (cm) &lt;= 2.8</text>\n",
       "<text text-anchor=\"middle\" x=\"227.5\" y=\"-156.8\" font-family=\"Helvetica,sans-Serif\" font-size=\"14.00\">gini = 0.494</text>\n",
       "<text text-anchor=\"middle\" x=\"227.5\" y=\"-141.8\" font-family=\"Helvetica,sans-Serif\" font-size=\"14.00\">samples = 3</text>\n",
       "<text text-anchor=\"middle\" x=\"227.5\" y=\"-126.8\" font-family=\"Helvetica,sans-Serif\" font-size=\"14.00\">value = [0, 5, 4]</text>\n",
       "<text text-anchor=\"middle\" x=\"227.5\" y=\"-111.8\" font-family=\"Helvetica,sans-Serif\" font-size=\"14.00\">class = versicolor</text>\n",
       "</g>\n",
       "<!-- 3&#45;&gt;5 -->\n",
       "<g id=\"edge5\" class=\"edge\">\n",
       "<title>3&#45;&gt;5</title>\n",
       "<path fill=\"none\" stroke=\"black\" d=\"M174.18,-222.58C180.08,-214.16 186.36,-205.2 192.46,-196.5\"/>\n",
       "<polygon fill=\"black\" stroke=\"black\" points=\"195.23,-198.64 198.11,-188.44 189.5,-194.62 195.23,-198.64\"/>\n",
       "</g>\n",
       "<!-- 6 -->\n",
       "<g id=\"node7\" class=\"node\">\n",
       "<title>6</title>\n",
       "<path fill=\"#8139e5\" stroke=\"black\" d=\"M203.5,-68C203.5,-68 111.5,-68 111.5,-68 105.5,-68 99.5,-62 99.5,-56 99.5,-56 99.5,-12 99.5,-12 99.5,-6 105.5,0 111.5,0 111.5,0 203.5,0 203.5,0 209.5,0 215.5,-6 215.5,-12 215.5,-12 215.5,-56 215.5,-56 215.5,-62 209.5,-68 203.5,-68\"/>\n",
       "<text text-anchor=\"middle\" x=\"157.5\" y=\"-52.8\" font-family=\"Helvetica,sans-Serif\" font-size=\"14.00\">gini = 0.0</text>\n",
       "<text text-anchor=\"middle\" x=\"157.5\" y=\"-37.8\" font-family=\"Helvetica,sans-Serif\" font-size=\"14.00\">samples = 2</text>\n",
       "<text text-anchor=\"middle\" x=\"157.5\" y=\"-22.8\" font-family=\"Helvetica,sans-Serif\" font-size=\"14.00\">value = [0, 0, 4]</text>\n",
       "<text text-anchor=\"middle\" x=\"157.5\" y=\"-7.8\" font-family=\"Helvetica,sans-Serif\" font-size=\"14.00\">class = virginica</text>\n",
       "</g>\n",
       "<!-- 5&#45;&gt;6 -->\n",
       "<g id=\"edge6\" class=\"edge\">\n",
       "<title>5&#45;&gt;6</title>\n",
       "<path fill=\"none\" stroke=\"black\" d=\"M201.43,-103.73C196.01,-95.24 190.28,-86.28 184.82,-77.73\"/>\n",
       "<polygon fill=\"black\" stroke=\"black\" points=\"187.94,-76.12 179.6,-69.57 182.04,-79.89 187.94,-76.12\"/>\n",
       "</g>\n",
       "<!-- 7 -->\n",
       "<g id=\"node8\" class=\"node\">\n",
       "<title>7</title>\n",
       "<path fill=\"#39e581\" stroke=\"black\" d=\"M349,-68C349,-68 246,-68 246,-68 240,-68 234,-62 234,-56 234,-56 234,-12 234,-12 234,-6 240,0 246,0 246,0 349,0 349,0 355,0 361,-6 361,-12 361,-12 361,-56 361,-56 361,-62 355,-68 349,-68\"/>\n",
       "<text text-anchor=\"middle\" x=\"297.5\" y=\"-52.8\" font-family=\"Helvetica,sans-Serif\" font-size=\"14.00\">gini = 0.0</text>\n",
       "<text text-anchor=\"middle\" x=\"297.5\" y=\"-37.8\" font-family=\"Helvetica,sans-Serif\" font-size=\"14.00\">samples = 1</text>\n",
       "<text text-anchor=\"middle\" x=\"297.5\" y=\"-22.8\" font-family=\"Helvetica,sans-Serif\" font-size=\"14.00\">value = [0, 5, 0]</text>\n",
       "<text text-anchor=\"middle\" x=\"297.5\" y=\"-7.8\" font-family=\"Helvetica,sans-Serif\" font-size=\"14.00\">class = versicolor</text>\n",
       "</g>\n",
       "<!-- 5&#45;&gt;7 -->\n",
       "<g id=\"edge7\" class=\"edge\">\n",
       "<title>5&#45;&gt;7</title>\n",
       "<path fill=\"none\" stroke=\"black\" d=\"M253.57,-103.73C258.99,-95.24 264.72,-86.28 270.18,-77.73\"/>\n",
       "<polygon fill=\"black\" stroke=\"black\" points=\"272.96,-79.89 275.4,-69.57 267.06,-76.12 272.96,-79.89\"/>\n",
       "</g>\n",
       "</g>\n",
       "</svg>\n"
      ],
      "text/plain": [
       "<graphviz.sources.Source at 0x27d3b79db50>"
      ]
     },
     "execution_count": 51,
     "metadata": {},
     "output_type": "execute_result"
    }
   ],
   "source": [
    "graphs[1]"
   ]
  },
  {
   "cell_type": "code",
   "execution_count": 52,
   "metadata": {},
   "outputs": [],
   "source": [
    "df['is_train'] = np.random.uniform(0, 1, len(df)) <= .75\n",
    "\n",
    "# Create two new dataframes, one with the training rows, one with the test rows\n",
    "train, test = df[df['is_train']==True], df[df['is_train']==False]\n",
    "\n",
    "y_train = pd.factorize(train['species'])[0]\n",
    "y_test = pd.factorize(test['species'])[0]\n",
    "features = df.columns[:4]\n"
   ]
  },
  {
   "cell_type": "markdown",
   "metadata": {},
   "source": [
    "#### max_depth"
   ]
  },
  {
   "cell_type": "code",
   "execution_count": 53,
   "metadata": {},
   "outputs": [],
   "source": [
    "max_depth_ = 10\n",
    "accuracy_list = []\n",
    "\n",
    "for n in range(1, max_depth_):\n",
    "    clf = tree.DecisionTreeClassifier(max_depth=n)\n",
    "    clf = clf.fit(train[features], y_train)\n",
    "    y_pred = clf.predict(test[features])\n",
    "    accuracy_list.append(metrics.accuracy_score(y_test, y_pred))\n"
   ]
  },
  {
   "cell_type": "code",
   "execution_count": 54,
   "metadata": {},
   "outputs": [
    {
     "data": {
      "image/png": "[encoded data removed]",
      "text/plain": [
       "<Figure size 576x576 with 1 Axes>"
      ]
     },
     "metadata": {
      "needs_background": "light"
     },
     "output_type": "display_data"
    }
   ],
   "source": [
    "plt.figure(figsize=(8, 8))\n",
    "plt.plot(np.linspace(1,max_depth_,max_depth_-1),accuracy_list)\n",
    "plt.title(\"Accuracy w.r.t depth\")\n",
    "plt.xlabel(\"Max depth\")\n",
    "plt.ylabel(\"Accuracy\")\n",
    "plt.show()"
   ]
  },
  {
   "cell_type": "markdown",
   "metadata": {},
   "source": [
    "#### min_samples_leaf"
   ]
  },
  {
   "cell_type": "code",
   "execution_count": 55,
   "metadata": {},
   "outputs": [],
   "source": [
    "df['is_train'] = np.random.uniform(0, 1, len(df)) <= .75\n",
    "\n",
    "# Create two new dataframes, one with the training rows, one with the test rows\n",
    "train, test = df[df['is_train']==True], df[df['is_train']==False]\n",
    "\n",
    "y_train = pd.factorize(train['species'])[0]\n",
    "y_test = pd.factorize(test['species'])[0]\n",
    "features = df.columns[:4]\n"
   ]
  },
  {
   "cell_type": "code",
   "execution_count": 56,
   "metadata": {},
   "outputs": [],
   "source": [
    "min_samples_leaf_ = 60\n",
    "accuracy_list = []\n",
    "\n",
    "for n in range(1, min_samples_leaf_):\n",
    "    clf = tree.DecisionTreeClassifier(min_samples_leaf=n)\n",
    "    clf = clf.fit(train[features], y_train)\n",
    "    y_pred = clf.predict(test[features])\n",
    "    accuracy_list.append(metrics.accuracy_score(y_test, y_pred))"
   ]
  },
  {
   "cell_type": "code",
   "execution_count": 57,
   "metadata": {},
   "outputs": [
    {
     "data": {
      "image/png": "[encoded data removed]",
      "text/plain": [
       "<Figure size 576x576 with 1 Axes>"
      ]
     },
     "metadata": {
      "needs_background": "light"
     },
     "output_type": "display_data"
    }
   ],
   "source": [
    "plt.figure(figsize=(8, 8))\n",
    "\n",
    "plt.plot(np.linspace(1,min_samples_leaf_,min_samples_leaf_-1),accuracy_list)\n",
    "plt.title(\"Accuracy w.r.t min_samples_leaf\")\n",
    "plt.xlabel(\"Min samples leaf\")\n",
    "plt.ylabel(\"Accuracy\")\n",
    "plt.show()"
   ]
  },
  {
   "cell_type": "markdown",
   "metadata": {},
   "source": [
    "#### min_samples_split"
   ]
  },
  {
   "cell_type": "code",
   "execution_count": 58,
   "metadata": {},
   "outputs": [],
   "source": [
    "df['is_train'] = np.random.uniform(0, 1, len(df)) <= .75\n",
    "\n",
    "# Create two new dataframes, one with the training rows, one with the test rows\n",
    "train, test = df[df['is_train']==True], df[df['is_train']==False]\n",
    "\n",
    "y_train = pd.factorize(train['species'])[0]\n",
    "y_test = pd.factorize(test['species'])[0]\n",
    "features = df.columns[:4]\n"
   ]
  },
  {
   "cell_type": "code",
   "execution_count": 59,
   "metadata": {},
   "outputs": [],
   "source": [
    "min_samples_split_ = 200\n",
    "accuracy_list = []\n",
    "\n",
    "for n in range(2, min_samples_split_ + 1):\n",
    "    clf = tree.DecisionTreeClassifier(min_samples_split=n)\n",
    "    clf = clf.fit(train[features], y_train)\n",
    "    y_pred = clf.predict(test[features])\n",
    "    accuracy_list.append(metrics.accuracy_score(y_test, y_pred))"
   ]
  },
  {
   "cell_type": "code",
   "execution_count": 60,
   "metadata": {},
   "outputs": [
    {
     "data": {
      "image/png": "[encoded data removed]",
      "text/plain": [
       "<Figure size 576x576 with 1 Axes>"
      ]
     },
     "metadata": {
      "needs_background": "light"
     },
     "output_type": "display_data"
    }
   ],
   "source": [
    "plt.figure(figsize=(8, 8))\n",
    "\n",
    "plt.plot(np.linspace(1, min_samples_split_, min_samples_split_-1), accuracy_list)\n",
    "plt.title(\"Accuracy w.r.t min samples split\")\n",
    "plt.xlabel(\"Min samples split\")\n",
    "plt.ylabel(\"Accuracy\")\n",
    "plt.show()"
   ]
  },
  {
   "cell_type": "code",
   "execution_count": 61,
   "metadata": {},
   "outputs": [
    {
     "data": {
      "text/plain": [
       "{'max_depth': 2}"
      ]
     },
     "execution_count": 61,
     "metadata": {},
     "output_type": "execute_result"
    }
   ],
   "source": [
    "from sklearn.model_selection import GridSearchCV\n",
    "\n",
    "max_depth_list = [i for i in range(1, 20)]\n",
    "min_samples_leaf_list = [i for i in range(1, 60)]\n",
    "min_samples_split_list = [i for i in range(2, 100)]\n",
    "\n",
    "params = {\"max_depth\": max_depth_list} #, \"min_samples_leaf\": min_samples_leaf_list, \"min_samples_split\": min_samples_split_list}\n",
    "clf_finetuned = tree.DecisionTreeClassifier()\n",
    "clf_cv = GridSearchCV(clf_finetuned, params)\n",
    "clf_cv.fit(train[features], y_train)\n",
    "clf_cv.best_params_\n"
   ]
  },
  {
   "cell_type": "code",
   "execution_count": 62,
   "metadata": {},
   "outputs": [
    {
     "data": {
      "text/plain": [
       "{'min_samples_leaf': 1}"
      ]
     },
     "execution_count": 62,
     "metadata": {},
     "output_type": "execute_result"
    }
   ],
   "source": [
    "from sklearn.model_selection import GridSearchCV\n",
    "\n",
    "max_depth_list = [i for i in range(1, 20)]\n",
    "min_samples_leaf_list = [i for i in range(1, 60)]\n",
    "min_samples_split_list = [i for i in range(2, 100)]\n",
    "\n",
    "params = {\"min_samples_leaf\": min_samples_leaf_list} #, \"min_samples_split\": min_samples_split_list}\n",
    "clf_finetuned = tree.DecisionTreeClassifier()\n",
    "clf_cv = GridSearchCV(clf_finetuned, params)\n",
    "clf_cv.fit(train[features], y_train)\n",
    "clf_cv.best_params_\n"
   ]
  },
  {
   "cell_type": "code",
   "execution_count": 63,
   "metadata": {},
   "outputs": [
    {
     "data": {
      "text/plain": [
       "{'min_samples_split': 2}"
      ]
     },
     "execution_count": 63,
     "metadata": {},
     "output_type": "execute_result"
    }
   ],
   "source": [
    "from sklearn.model_selection import GridSearchCV\n",
    "\n",
    "max_depth_list = [i for i in range(1, 20)]\n",
    "min_samples_leaf_list = [i for i in range(1, 60)]\n",
    "min_samples_split_list = [i for i in range(2, 100)]\n",
    "\n",
    "params = {\"min_samples_split\": min_samples_split_list}\n",
    "clf_finetuned = tree.DecisionTreeClassifier()\n",
    "clf_cv = GridSearchCV(clf_finetuned, params)\n",
    "clf_cv.fit(train[features], y_train)\n",
    "clf_cv.best_params_\n"
   ]
  },
  {
   "cell_type": "code",
   "execution_count": null,
   "metadata": {},
   "outputs": [],
   "source": [
    "clf = tree.DecisionTreeClassifier(max_depth=clf_cv.best_params_[\"max_depth\"],\n",
    "                                  min_samples_leaf=clf_cv.best_params_[\"min_samples_leaf\"], \n",
    "                                  min_samples_split=clf_cv.best_params_[\"min_samples_split\"])\n",
    "clf = clf.fit(train[features], y_train)\n",
    "y_pred = clf.predict(test[features])\n",
    "print(\"the accuracy = \", metrics.accuracy_score(y_test, y_pred)"
   ]
  },
  {
   "cell_type": "code",
   "execution_count": 62,
   "metadata": {},
   "outputs": [],
   "source": [
    "max_depth_ = 10\n",
    "min_samples_leaf_ = 60\n",
    "min_samples_split_ = 200\n",
    "\n",
    "accuracy_dict = {}\n",
    "\n",
    "for max_dep in range(1, max_depth_):\n",
    "    for min_samples_lea in range(1, min_samples_leaf_):\n",
    "        for min_samples_spl in range(2, min_samples_split_ + 1):\n",
    "            clf = tree.DecisionTreeClassifier(max_depth=max_dep, min_samples_leaf=min_samples_lea, min_samples_split=min_samples_spl)\n",
    "            clf = clf.fit(train[features], y_train)\n",
    "            y_pred = clf.predict(test[features])\n",
    "            accuracy_dict[str(max_dep) + '_' + str(min_samples_lea) + \"_\" + str(min_samples_spl)] = metrics.accuracy_score(y_test, y_pred)"
   ]
  },
  {
   "cell_type": "code",
   "execution_count": 72,
   "metadata": {},
   "outputs": [
    {
     "name": "stdout",
     "output_type": "stream",
     "text": [
      "With max_depth = 3, min samples_leaf = 1 and min_samples_split = 2 we got the maximum accuracy 0.9534883720930233\n"
     ]
    }
   ],
   "source": [
    "max_combination = max(accuracy_dict, key=accuracy_dict.get)\n",
    "print(f\"With max_depth = {max_combination.split('_')[0]}, min samples_leaf = {max_combination.split('_')[1]} and min_samples_split = {max_combination.split('_')[2]} we got the maximum accuracy {max(accuracy_dict.values())}\")"
   ]
  },
  {
   "cell_type": "code",
   "execution_count": 70,
   "metadata": {},
   "outputs": [
    {
     "data": {
      "text/plain": [
       "'3_1_2'"
      ]
     },
     "execution_count": 70,
     "metadata": {},
     "output_type": "execute_result"
    }
   ],
   "source": [
    "max_combination"
   ]
  },
  {
   "cell_type": "markdown",
   "metadata": {},
   "source": [
    "###### How is estimated the prediction error of a random forest ?"
   ]
  },
  {
   "cell_type": "markdown",
   "metadata": {},
   "source": [
    "OOB samples are those samples that are not included in the bootstrap samples. OOB samples are unique to Bagging, or any bootstrap-aggregated methods."
   ]
  },
  {
   "cell_type": "code",
   "execution_count": 75,
   "metadata": {},
   "outputs": [],
   "source": [
    "df['is_train'] = np.random.uniform(0, 1, len(df)) <= .75\n",
    "\n",
    "# Create two new dataframes, one with the training rows, one with the test rows\n",
    "train, test = df[df['is_train']==True], df[df['is_train']==False]\n",
    "\n",
    "y_train = pd.factorize(train['species'])[0]\n",
    "y_test = pd.factorize(test['species'])[0]\n",
    "features = df.columns[:4]\n",
    "y = pd.factorize(train['species'])[0]\n",
    "\n"
   ]
  },
  {
   "cell_type": "code",
   "execution_count": 76,
   "metadata": {},
   "outputs": [
    {
     "data": {
      "text/html": [
       "<style>#sk-container-id-2 {color: black;background-color: white;}#sk-container-id-2 pre{padding: 0;}#sk-container-id-2 div.sk-toggleable {background-color: white;}#sk-container-id-2 label.sk-toggleable__label {cursor: pointer;display: block;width: 100%;margin-bottom: 0;padding: 0.3em;box-sizing: border-box;text-align: center;}#sk-container-id-2 label.sk-toggleable__label-arrow:before {content: \"▸\";float: left;margin-right: 0.25em;color: #696969;}#sk-container-id-2 label.sk-toggleable__label-arrow:hover:before {color: black;}#sk-container-id-2 div.sk-estimator:hover label.sk-toggleable__label-arrow:before {color: black;}#sk-container-id-2 div.sk-toggleable__content {max-height: 0;max-width: 0;overflow: hidden;text-align: left;background-color: #f0f8ff;}#sk-container-id-2 div.sk-toggleable__content pre {margin: 0.2em;color: black;border-radius: 0.25em;background-color: #f0f8ff;}#sk-container-id-2 input.sk-toggleable__control:checked~div.sk-toggleable__content {max-height: 200px;max-width: 100%;overflow: auto;}#sk-container-id-2 input.sk-toggleable__control:checked~label.sk-toggleable__label-arrow:before {content: \"▾\";}#sk-container-id-2 div.sk-estimator input.sk-toggleable__control:checked~label.sk-toggleable__label {background-color: #d4ebff;}#sk-container-id-2 div.sk-label input.sk-toggleable__control:checked~label.sk-toggleable__label {background-color: #d4ebff;}#sk-container-id-2 input.sk-hidden--visually {border: 0;clip: rect(1px 1px 1px 1px);clip: rect(1px, 1px, 1px, 1px);height: 1px;margin: -1px;overflow: hidden;padding: 0;position: absolute;width: 1px;}#sk-container-id-2 div.sk-estimator {font-family: monospace;background-color: #f0f8ff;border: 1px dotted black;border-radius: 0.25em;box-sizing: border-box;margin-bottom: 0.5em;}#sk-container-id-2 div.sk-estimator:hover {background-color: #d4ebff;}#sk-container-id-2 div.sk-parallel-item::after {content: \"\";width: 100%;border-bottom: 1px solid gray;flex-grow: 1;}#sk-container-id-2 div.sk-label:hover label.sk-toggleable__label {background-color: #d4ebff;}#sk-container-id-2 div.sk-serial::before {content: \"\";position: absolute;border-left: 1px solid gray;box-sizing: border-box;top: 0;bottom: 0;left: 50%;z-index: 0;}#sk-container-id-2 div.sk-serial {display: flex;flex-direction: column;align-items: center;background-color: white;padding-right: 0.2em;padding-left: 0.2em;position: relative;}#sk-container-id-2 div.sk-item {position: relative;z-index: 1;}#sk-container-id-2 div.sk-parallel {display: flex;align-items: stretch;justify-content: center;background-color: white;position: relative;}#sk-container-id-2 div.sk-item::before, #sk-container-id-2 div.sk-parallel-item::before {content: \"\";position: absolute;border-left: 1px solid gray;box-sizing: border-box;top: 0;bottom: 0;left: 50%;z-index: -1;}#sk-container-id-2 div.sk-parallel-item {display: flex;flex-direction: column;z-index: 1;position: relative;background-color: white;}#sk-container-id-2 div.sk-parallel-item:first-child::after {align-self: flex-end;width: 50%;}#sk-container-id-2 div.sk-parallel-item:last-child::after {align-self: flex-start;width: 50%;}#sk-container-id-2 div.sk-parallel-item:only-child::after {width: 0;}#sk-container-id-2 div.sk-dashed-wrapped {border: 1px dashed gray;margin: 0 0.4em 0.5em 0.4em;box-sizing: border-box;padding-bottom: 0.4em;background-color: white;}#sk-container-id-2 div.sk-label label {font-family: monospace;font-weight: bold;display: inline-block;line-height: 1.2em;}#sk-container-id-2 div.sk-label-container {text-align: center;}#sk-container-id-2 div.sk-container {/* jupyter's `normalize.less` sets `[hidden] { display: none; }` but bootstrap.min.css set `[hidden] { display: none !important; }` so we also need the `!important` here to be able to override the default hidden behavior on the sphinx rendered scikit-learn.org. See: https://github.com/scikit-learn/scikit-learn/issues/21755 */display: inline-block !important;position: relative;}#sk-container-id-2 div.sk-text-repr-fallback {display: none;}</style><div id=\"sk-container-id-2\" class=\"sk-top-container\"><div class=\"sk-text-repr-fallback\"><pre>RandomForestClassifier(n_jobs=2, oob_score=True, random_state=0)</pre><b>In a Jupyter environment, please rerun this cell to show the HTML representation or trust the notebook. <br />On GitHub, the HTML representation is unable to render, please try loading this page with nbviewer.org.</b></div><div class=\"sk-container\" hidden><div class=\"sk-item\"><div class=\"sk-estimator sk-toggleable\"><input class=\"sk-toggleable__control sk-hidden--visually\" id=\"sk-estimator-id-2\" type=\"checkbox\" checked><label for=\"sk-estimator-id-2\" class=\"sk-toggleable__label sk-toggleable__label-arrow\">RandomForestClassifier</label><div class=\"sk-toggleable__content\"><pre>RandomForestClassifier(n_jobs=2, oob_score=True, random_state=0)</pre></div></div></div></div></div>"
      ],
      "text/plain": [
       "RandomForestClassifier(n_jobs=2, oob_score=True, random_state=0)"
      ]
     },
     "execution_count": 76,
     "metadata": {},
     "output_type": "execute_result"
    }
   ],
   "source": [
    "# Create a random forest Classifier. By convention, clf means 'Classifier'\n",
    "rf = RandomForestClassifier(n_jobs=2, random_state=0, oob_score=True)\n",
    "\n",
    "# Train the Classifier to take the training features and learn how they relate\n",
    "# to the training y (the species)\n",
    "rf.fit(train[features], y)"
   ]
  },
  {
   "cell_type": "code",
   "execution_count": 80,
   "metadata": {},
   "outputs": [
    {
     "name": "stdout",
     "output_type": "stream",
     "text": [
      "The oob_error = 0.0535714285714286\n"
     ]
    }
   ],
   "source": [
    "oob_error = 1 - rf.oob_score_\n",
    "print(f\"The oob_error = {oob_error}\")"
   ]
  },
  {
   "cell_type": "markdown",
   "metadata": {},
   "source": [
    "The oob error is quite small so our classifier classifis well the data."
   ]
  },
  {
   "cell_type": "markdown",
   "metadata": {},
   "source": [
    "##### What should you do when classes are not balanced in the dataset ?"
   ]
  },
  {
   "cell_type": "markdown",
   "metadata": {},
   "source": [
    "* Try to increase the data of the sample of the minority class with data augmentation\n",
    "\n",
    "* When boosting, try to choose samples from the classes fairly"
   ]
  },
  {
   "cell_type": "markdown",
   "metadata": {},
   "source": [
    "## Step 5: a small example of regression using random forests\n",
    "Random forest is capable of learning without carefully crafted data transformations. Take the the $f(x) = \\sin(x)$ function for example.\n",
    "\n",
    "Create some fake data and add a little noise."
   ]
  },
  {
   "cell_type": "code",
   "execution_count": 81,
   "metadata": {},
   "outputs": [
    {
     "data": {
      "image/png": "[encoded data removed]",
      "text/plain": [
       "<Figure size 432x288 with 1 Axes>"
      ]
     },
     "metadata": {
      "needs_background": "light"
     },
     "output_type": "display_data"
    }
   ],
   "source": [
    "x = np.random.uniform(-2.5, 2.5, 1000)\n",
    "y = np.sin(x) + np.random.normal(0, .1, 1000)\n",
    "\n",
    "plt.plot(x,y,'ko',markersize=1,label='data')\n",
    "plt.plot(np.arange(-2.5,2.5,0.1),np.sin(np.arange(-2.5,2.5,0.1)),'r-',label='ref')\n",
    "plt.show()"
   ]
  },
  {
   "cell_type": "markdown",
   "metadata": {},
   "source": [
    "If we try and build a basic linear model to predict y using x we end up with a straight line that sort of bisects the sin(x) function. Whereas if we use a random forest, it does a much better job of approximating the sin(x) curve and we get something that looks much more like the true function.\n",
    "\n",
    "Based on this example, we will illustrate how the random forest isn't bound by linear constraints."
   ]
  },
  {
   "cell_type": "markdown",
   "metadata": {},
   "source": [
    "## Exercise 4\n",
    "1. Apply random forests on this dataset for regression and compare performances with ordinary least squares regression.\n",
    "*Note that ordinay least square regression is available thanks to:\n",
    "from sklearn.linear_model import LinearRegression*\n",
    "\n",
    "2. Comment on your results."
   ]
  },
  {
   "cell_type": "markdown",
   "metadata": {},
   "source": [
    "### Indications:\n",
    "You may use half of points for training and others to test predictions. Then you will have an idea of how far the random forest predictor fits the sinus curve.\n",
    "\n",
    "To this aim, you will need to use the model `RandomForestRegressor`. Be careful that when only 1 feature `x` is used as an input, you will need to reshape it by `x.reshape(-1,1)` when using methods `fit` and `predict`."
   ]
  },
  {
   "cell_type": "code",
   "execution_count": null,
   "metadata": {},
   "outputs": [],
   "source": []
  },
  {
   "cell_type": "code",
   "execution_count": 94,
   "metadata": {},
   "outputs": [
    {
     "data": {
      "text/html": [
       "<style>#sk-container-id-4 {color: black;background-color: white;}#sk-container-id-4 pre{padding: 0;}#sk-container-id-4 div.sk-toggleable {background-color: white;}#sk-container-id-4 label.sk-toggleable__label {cursor: pointer;display: block;width: 100%;margin-bottom: 0;padding: 0.3em;box-sizing: border-box;text-align: center;}#sk-container-id-4 label.sk-toggleable__label-arrow:before {content: \"▸\";float: left;margin-right: 0.25em;color: #696969;}#sk-container-id-4 label.sk-toggleable__label-arrow:hover:before {color: black;}#sk-container-id-4 div.sk-estimator:hover label.sk-toggleable__label-arrow:before {color: black;}#sk-container-id-4 div.sk-toggleable__content {max-height: 0;max-width: 0;overflow: hidden;text-align: left;background-color: #f0f8ff;}#sk-container-id-4 div.sk-toggleable__content pre {margin: 0.2em;color: black;border-radius: 0.25em;background-color: #f0f8ff;}#sk-container-id-4 input.sk-toggleable__control:checked~div.sk-toggleable__content {max-height: 200px;max-width: 100%;overflow: auto;}#sk-container-id-4 input.sk-toggleable__control:checked~label.sk-toggleable__label-arrow:before {content: \"▾\";}#sk-container-id-4 div.sk-estimator input.sk-toggleable__control:checked~label.sk-toggleable__label {background-color: #d4ebff;}#sk-container-id-4 div.sk-label input.sk-toggleable__control:checked~label.sk-toggleable__label {background-color: #d4ebff;}#sk-container-id-4 input.sk-hidden--visually {border: 0;clip: rect(1px 1px 1px 1px);clip: rect(1px, 1px, 1px, 1px);height: 1px;margin: -1px;overflow: hidden;padding: 0;position: absolute;width: 1px;}#sk-container-id-4 div.sk-estimator {font-family: monospace;background-color: #f0f8ff;border: 1px dotted black;border-radius: 0.25em;box-sizing: border-box;margin-bottom: 0.5em;}#sk-container-id-4 div.sk-estimator:hover {background-color: #d4ebff;}#sk-container-id-4 div.sk-parallel-item::after {content: \"\";width: 100%;border-bottom: 1px solid gray;flex-grow: 1;}#sk-container-id-4 div.sk-label:hover label.sk-toggleable__label {background-color: #d4ebff;}#sk-container-id-4 div.sk-serial::before {content: \"\";position: absolute;border-left: 1px solid gray;box-sizing: border-box;top: 0;bottom: 0;left: 50%;z-index: 0;}#sk-container-id-4 div.sk-serial {display: flex;flex-direction: column;align-items: center;background-color: white;padding-right: 0.2em;padding-left: 0.2em;position: relative;}#sk-container-id-4 div.sk-item {position: relative;z-index: 1;}#sk-container-id-4 div.sk-parallel {display: flex;align-items: stretch;justify-content: center;background-color: white;position: relative;}#sk-container-id-4 div.sk-item::before, #sk-container-id-4 div.sk-parallel-item::before {content: \"\";position: absolute;border-left: 1px solid gray;box-sizing: border-box;top: 0;bottom: 0;left: 50%;z-index: -1;}#sk-container-id-4 div.sk-parallel-item {display: flex;flex-direction: column;z-index: 1;position: relative;background-color: white;}#sk-container-id-4 div.sk-parallel-item:first-child::after {align-self: flex-end;width: 50%;}#sk-container-id-4 div.sk-parallel-item:last-child::after {align-self: flex-start;width: 50%;}#sk-container-id-4 div.sk-parallel-item:only-child::after {width: 0;}#sk-container-id-4 div.sk-dashed-wrapped {border: 1px dashed gray;margin: 0 0.4em 0.5em 0.4em;box-sizing: border-box;padding-bottom: 0.4em;background-color: white;}#sk-container-id-4 div.sk-label label {font-family: monospace;font-weight: bold;display: inline-block;line-height: 1.2em;}#sk-container-id-4 div.sk-label-container {text-align: center;}#sk-container-id-4 div.sk-container {/* jupyter's `normalize.less` sets `[hidden] { display: none; }` but bootstrap.min.css set `[hidden] { display: none !important; }` so we also need the `!important` here to be able to override the default hidden behavior on the sphinx rendered scikit-learn.org. See: https://github.com/scikit-learn/scikit-learn/issues/21755 */display: inline-block !important;position: relative;}#sk-container-id-4 div.sk-text-repr-fallback {display: none;}</style><div id=\"sk-container-id-4\" class=\"sk-top-container\"><div class=\"sk-text-repr-fallback\"><pre>RandomForestRegressor(max_depth=4, n_estimators=30)</pre><b>In a Jupyter environment, please rerun this cell to show the HTML representation or trust the notebook. <br />On GitHub, the HTML representation is unable to render, please try loading this page with nbviewer.org.</b></div><div class=\"sk-container\" hidden><div class=\"sk-item\"><div class=\"sk-estimator sk-toggleable\"><input class=\"sk-toggleable__control sk-hidden--visually\" id=\"sk-estimator-id-4\" type=\"checkbox\" checked><label for=\"sk-estimator-id-4\" class=\"sk-toggleable__label sk-toggleable__label-arrow\">RandomForestRegressor</label><div class=\"sk-toggleable__content\"><pre>RandomForestRegressor(max_depth=4, n_estimators=30)</pre></div></div></div></div></div>"
      ],
      "text/plain": [
       "RandomForestRegressor(max_depth=4, n_estimators=30)"
      ]
     },
     "execution_count": 94,
     "metadata": {},
     "output_type": "execute_result"
    }
   ],
   "source": [
    "regrf = RandomForestRegressor(n_estimators=30, max_depth=4)\n",
    "regrf.fit(x[0::2].reshape(-1, 1),y[0::2])\n"
   ]
  },
  {
   "cell_type": "code",
   "execution_count": 95,
   "metadata": {},
   "outputs": [
    {
     "data": {
      "text/html": [
       "<style>#sk-container-id-5 {color: black;background-color: white;}#sk-container-id-5 pre{padding: 0;}#sk-container-id-5 div.sk-toggleable {background-color: white;}#sk-container-id-5 label.sk-toggleable__label {cursor: pointer;display: block;width: 100%;margin-bottom: 0;padding: 0.3em;box-sizing: border-box;text-align: center;}#sk-container-id-5 label.sk-toggleable__label-arrow:before {content: \"▸\";float: left;margin-right: 0.25em;color: #696969;}#sk-container-id-5 label.sk-toggleable__label-arrow:hover:before {color: black;}#sk-container-id-5 div.sk-estimator:hover label.sk-toggleable__label-arrow:before {color: black;}#sk-container-id-5 div.sk-toggleable__content {max-height: 0;max-width: 0;overflow: hidden;text-align: left;background-color: #f0f8ff;}#sk-container-id-5 div.sk-toggleable__content pre {margin: 0.2em;color: black;border-radius: 0.25em;background-color: #f0f8ff;}#sk-container-id-5 input.sk-toggleable__control:checked~div.sk-toggleable__content {max-height: 200px;max-width: 100%;overflow: auto;}#sk-container-id-5 input.sk-toggleable__control:checked~label.sk-toggleable__label-arrow:before {content: \"▾\";}#sk-container-id-5 div.sk-estimator input.sk-toggleable__control:checked~label.sk-toggleable__label {background-color: #d4ebff;}#sk-container-id-5 div.sk-label input.sk-toggleable__control:checked~label.sk-toggleable__label {background-color: #d4ebff;}#sk-container-id-5 input.sk-hidden--visually {border: 0;clip: rect(1px 1px 1px 1px);clip: rect(1px, 1px, 1px, 1px);height: 1px;margin: -1px;overflow: hidden;padding: 0;position: absolute;width: 1px;}#sk-container-id-5 div.sk-estimator {font-family: monospace;background-color: #f0f8ff;border: 1px dotted black;border-radius: 0.25em;box-sizing: border-box;margin-bottom: 0.5em;}#sk-container-id-5 div.sk-estimator:hover {background-color: #d4ebff;}#sk-container-id-5 div.sk-parallel-item::after {content: \"\";width: 100%;border-bottom: 1px solid gray;flex-grow: 1;}#sk-container-id-5 div.sk-label:hover label.sk-toggleable__label {background-color: #d4ebff;}#sk-container-id-5 div.sk-serial::before {content: \"\";position: absolute;border-left: 1px solid gray;box-sizing: border-box;top: 0;bottom: 0;left: 50%;z-index: 0;}#sk-container-id-5 div.sk-serial {display: flex;flex-direction: column;align-items: center;background-color: white;padding-right: 0.2em;padding-left: 0.2em;position: relative;}#sk-container-id-5 div.sk-item {position: relative;z-index: 1;}#sk-container-id-5 div.sk-parallel {display: flex;align-items: stretch;justify-content: center;background-color: white;position: relative;}#sk-container-id-5 div.sk-item::before, #sk-container-id-5 div.sk-parallel-item::before {content: \"\";position: absolute;border-left: 1px solid gray;box-sizing: border-box;top: 0;bottom: 0;left: 50%;z-index: -1;}#sk-container-id-5 div.sk-parallel-item {display: flex;flex-direction: column;z-index: 1;position: relative;background-color: white;}#sk-container-id-5 div.sk-parallel-item:first-child::after {align-self: flex-end;width: 50%;}#sk-container-id-5 div.sk-parallel-item:last-child::after {align-self: flex-start;width: 50%;}#sk-container-id-5 div.sk-parallel-item:only-child::after {width: 0;}#sk-container-id-5 div.sk-dashed-wrapped {border: 1px dashed gray;margin: 0 0.4em 0.5em 0.4em;box-sizing: border-box;padding-bottom: 0.4em;background-color: white;}#sk-container-id-5 div.sk-label label {font-family: monospace;font-weight: bold;display: inline-block;line-height: 1.2em;}#sk-container-id-5 div.sk-label-container {text-align: center;}#sk-container-id-5 div.sk-container {/* jupyter's `normalize.less` sets `[hidden] { display: none; }` but bootstrap.min.css set `[hidden] { display: none !important; }` so we also need the `!important` here to be able to override the default hidden behavior on the sphinx rendered scikit-learn.org. See: https://github.com/scikit-learn/scikit-learn/issues/21755 */display: inline-block !important;position: relative;}#sk-container-id-5 div.sk-text-repr-fallback {display: none;}</style><div id=\"sk-container-id-5\" class=\"sk-top-container\"><div class=\"sk-text-repr-fallback\"><pre>LinearRegression()</pre><b>In a Jupyter environment, please rerun this cell to show the HTML representation or trust the notebook. <br />On GitHub, the HTML representation is unable to render, please try loading this page with nbviewer.org.</b></div><div class=\"sk-container\" hidden><div class=\"sk-item\"><div class=\"sk-estimator sk-toggleable\"><input class=\"sk-toggleable__control sk-hidden--visually\" id=\"sk-estimator-id-5\" type=\"checkbox\" checked><label for=\"sk-estimator-id-5\" class=\"sk-toggleable__label sk-toggleable__label-arrow\">LinearRegression</label><div class=\"sk-toggleable__content\"><pre>LinearRegression()</pre></div></div></div></div></div>"
      ],
      "text/plain": [
       "LinearRegression()"
      ]
     },
     "execution_count": 95,
     "metadata": {},
     "output_type": "execute_result"
    }
   ],
   "source": [
    "from sklearn.linear_model import LinearRegression\n",
    "linear_reg = LinearRegression()\n",
    "linear_reg.fit(x[0::2].reshape(-1, 1),y[0::2])"
   ]
  },
  {
   "cell_type": "code",
   "execution_count": 96,
   "metadata": {},
   "outputs": [],
   "source": [
    "regrf_preds = regrf.predict(x[1::2].reshape(-1, 1))\n",
    "linear_reg_preds = linear_reg.predict(x[1::2].reshape(-1, 1))\n"
   ]
  },
  {
   "cell_type": "code",
   "execution_count": 99,
   "metadata": {},
   "outputs": [
    {
     "name": "stdout",
     "output_type": "stream",
     "text": [
      "score of the random forest regressor on the test set: 0.9807\n",
      "score of the least square regressor on the test set: 0.8628\n"
     ]
    }
   ],
   "source": [
    "print(\"score of the random forest regressor on the test set:\", round(regrf.score(x[1::2].reshape(-1, 1), y[1::2]), 4))\n",
    "print(\"score of the least square regressor on the test set:\", round(linear_reg.score(x[1::2].reshape(-1, 1), y[1::2]), 4))"
   ]
  },
  {
   "cell_type": "code",
   "execution_count": 97,
   "metadata": {},
   "outputs": [
    {
     "data": {
      "image/png": "[encoded data removed]",
      "text/plain": [
       "<Figure size 576x360 with 1 Axes>"
      ]
     },
     "metadata": {},
     "output_type": "display_data"
    }
   ],
   "source": [
    "plt.figure(figsize=(8, 5), facecolor=\"white\")\n",
    "plt.plot(x[1::2], regrf_preds, 'o', markersize=1, label='random forest', color=\"green\")\n",
    "plt.plot(x[1::2], linear_reg_preds, 'o', markersize=1, label='LS regression', color=\"blue\")\n",
    "plt.plot(np.arange(-2.5,2.5,0.1),np.sin(np.arange(-2.5,2.5,0.1)),'r-',label='ref')\n",
    "plt.legend()\n",
    "plt.title(\"Predictions of both models\")\n",
    "plt.show()\n"
   ]
  },
  {
   "cell_type": "markdown",
   "metadata": {},
   "source": [
    "From the plot, we can see that random forest fits well the data compared to the Linear regression.\n",
    "Random forest is able to fit non linear function."
   ]
  },
  {
   "cell_type": "markdown",
   "metadata": {},
   "source": [
    "# FineTuning the model"
   ]
  },
  {
   "cell_type": "markdown",
   "metadata": {},
   "source": [
    "Here we will finetune the random forest regressor on parameters we have not talked about yet: n_estimators, max_depth, ccriterions and ccp_alpha where we evaluate the complexity (it ranges bewteen 0 and 0.35 as per the keras documentation). The poisson criterion doesn't allow negative values, so it won't be visited."
   ]
  },
  {
   "cell_type": "code",
   "execution_count": 102,
   "metadata": {},
   "outputs": [
    {
     "data": {
      "text/plain": [
       "{'n_estimators': 50}"
      ]
     },
     "execution_count": 102,
     "metadata": {},
     "output_type": "execute_result"
    }
   ],
   "source": [
    "from sklearn.model_selection import GridSearchCV\n",
    "\n",
    "x_train = x[0::2].reshape(-1, 1)\n",
    "y_train = y[0::2]\n",
    "\n",
    "params = {\"n_estimators\": [10, 30, 50, 100]}\n",
    "rf_finetuned = RandomForestRegressor()\n",
    "gridcv = GridSearchCV(rf_finetuned, params, cv=10)\n",
    "gridcv.fit(x_train, y_train)\n",
    "gridcv.best_params_"
   ]
  },
  {
   "cell_type": "code",
   "execution_count": 103,
   "metadata": {},
   "outputs": [
    {
     "data": {
      "text/plain": [
       "{'criterion': 'squared_error'}"
      ]
     },
     "execution_count": 103,
     "metadata": {},
     "output_type": "execute_result"
    }
   ],
   "source": [
    "params = {\"criterion\":[\"squared_error\", \"absolute_error\"]}\n",
    "rf_finetuned = RandomForestRegressor(n_estimators=100)\n",
    "gridcv = GridSearchCV(rf_finetuned, params, cv=10)\n",
    "gridcv.fit(x_train, y_train)\n",
    "gridcv.best_params_\n"
   ]
  },
  {
   "cell_type": "code",
   "execution_count": 105,
   "metadata": {},
   "outputs": [
    {
     "data": {
      "text/plain": [
       "{'ccp_alpha': 0.0}"
      ]
     },
     "execution_count": 105,
     "metadata": {},
     "output_type": "execute_result"
    }
   ],
   "source": [
    "params = {\"ccp_alpha\": np.linspace(0, 0.5, 10)}\n",
    "rf_finetuned = RandomForestRegressor(n_estimators=100, criterion=\"absolute_error\")\n",
    "gridcv = GridSearchCV(rf_finetuned, params, cv=10)\n",
    "gridcv.fit(x_train, y_train)\n",
    "\n",
    "gridcv.best_params_"
   ]
  },
  {
   "cell_type": "code",
   "execution_count": 106,
   "metadata": {},
   "outputs": [
    {
     "data": {
      "text/plain": [
       "{'max_depth': 5}"
      ]
     },
     "execution_count": 106,
     "metadata": {},
     "output_type": "execute_result"
    }
   ],
   "source": [
    "\n",
    "params = {\"max_depth\": [5, 10, 20, 50]}\n",
    "rf_finetuned = RandomForestRegressor(n_estimators=100, criterion=\"absolute_error\")\n",
    "gridcv = GridSearchCV(rf_finetuned, params, cv=10)\n",
    "gridcv.fit(x_train, y_train)\n",
    "gridcv.best_params_\n"
   ]
  },
  {
   "cell_type": "markdown",
   "metadata": {},
   "source": [
    "Our best estimator has a maximum depth of only 5, which confirms the assumption that we were overfitting. Reducing the max_depth to 5 will result in less fluctuations as we will later:"
   ]
  },
  {
   "cell_type": "code",
   "execution_count": 107,
   "metadata": {},
   "outputs": [],
   "source": [
    "best_finetuned = gridcv.best_estimator_\n"
   ]
  },
  {
   "cell_type": "markdown",
   "metadata": {},
   "source": [
    "Now that we have our finetuned model, we can plot the new predicted function and compare it to our ground truth:"
   ]
  },
  {
   "cell_type": "code",
   "execution_count": 109,
   "metadata": {},
   "outputs": [
    {
     "data": {
      "image/png": "[encoded data removed]",
      "text/plain": [
       "<Figure size 648x360 with 1 Axes>"
      ]
     },
     "metadata": {},
     "output_type": "display_data"
    }
   ],
   "source": [
    "plt.figure(figsize=(9, 5), facecolor=\"white\")\n",
    "X_grid = np.arange(min(x_train), max(x_train), 0.01)\n",
    "X_grid = X_grid.reshape((len(X_grid), 1))\n",
    "# plt.plot(x_test, y_test, 'o', color = 'black')\n",
    "plt.plot(np.arange(-2.5,2.5,0.1),np.sin(np.arange(-2.5,2.5,0.1)),'r-',label='ref')\n",
    "plt.plot(X_grid, regrf.predict(X_grid), alpha=.7, color = 'green', label=\"prediction\")\n",
    "plt.plot(X_grid, best_finetuned.predict(X_grid), color = 'black', label=\"new prediction\")\n",
    "\n",
    "plt.title('Random Forest Regression Model')\n",
    "plt.xlabel('Y')\n",
    "plt.ylabel('X')\n",
    "plt.legend()\n",
    "plt.show()\n"
   ]
  },
  {
   "cell_type": "markdown",
   "metadata": {},
   "source": [
    "## Documentation\n",
    "\n",
    "### Decision trees\n",
    "http://scikit-learn.org/stable/modules/tree.html\n",
    "\n",
    "### Random forests\n",
    "http://scikit-learn.org/stable/modules/generated/sklearn.ensemble.RandomForestClassifier.html\n",
    "\n",
    "### Plot decision surface : using `plt.contourf`\n",
    "http://scikit-learn.org/stable/auto_examples/tree/plot_iris.html#sphx-glr-auto-examples-tree-plot-iris-py\n"
   ]
  },
  {
   "cell_type": "markdown",
   "metadata": {},
   "source": [
    "## Pruning trees: not available in scikit-learn.\n",
    "Since post-pruning of tree is not implemented in scikit-learn, you may think of coding your own pruning function. For instance, taking into account the numer of samples per leaf as proposed below:"
   ]
  },
  {
   "cell_type": "code",
   "execution_count": null,
   "metadata": {},
   "outputs": [],
   "source": [
    "# Pruning function (useful ?)\n",
    "def prune(decisiontree, min_samples_leaf = 1):\n",
    "    if decisiontree.min_samples_leaf >= min_samples_leaf:\n",
    "        raise Exception('Tree already more pruned')\n",
    "    else:\n",
    "        decisiontree.min_samples_leaf = min_samples_leaf\n",
    "        tree = decisiontree.tree_\n",
    "        for i in range(tree.node_count):\n",
    "            n_samples = tree.n_node_samples[i]\n",
    "            if n_samples <= min_samples_leaf:\n",
    "                tree.children_left[i]=-1\n",
    "                tree.children_right[i]=-1\n",
    "                "
   ]
  }
 ],
 "metadata": {
  "kernelspec": {
   "display_name": "Python 3",
   "language": "python",
   "name": "python3"
  },
  "language_info": {
   "codemirror_mode": {
    "name": "ipython",
    "version": 3
   },
   "file_extension": ".py",
   "mimetype": "text/x-python",
   "name": "python",
   "nbconvert_exporter": "python",
   "pygments_lexer": "ipython3",
   "version": "3.8.8"
  }
 },
 "nbformat": 4,
 "nbformat_minor": 2
}
